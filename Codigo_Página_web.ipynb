{
  "nbformat": 4,
  "nbformat_minor": 0,
  "metadata": {
    "colab": {
      "name": "Codigo Página web.ipynb",
      "provenance": [],
      "collapsed_sections": [
        "KHnxfjoX6KUD",
        "0qHTq25Q6NzG",
        "g-VTM27U-969",
        "78sonw_j7Udt",
        "JwyN39RzHBTW"
      ]
    },
    "kernelspec": {
      "name": "python3",
      "display_name": "Python 3"
    },
    "language_info": {
      "name": "python"
    }
  },
  "cells": [
    {
      "cell_type": "markdown",
      "metadata": {
        "id": "ukjbpQRvK22N"
      },
      "source": [
        "# Entregable Etapa 4: Análisis preliminar de los datos\n"
      ]
    },
    {
      "cell_type": "markdown",
      "metadata": {
        "id": "KHnxfjoX6KUD"
      },
      "source": [
        "# Importar Librerías"
      ]
    },
    {
      "cell_type": "code",
      "metadata": {
        "id": "eWyEPgLGrl9c"
      },
      "source": [
        "import pandas as pd\n",
        "import numpy as np\n",
        "import seaborn as sn\n",
        "import matplotlib.pyplot as plt"
      ],
      "execution_count": 1,
      "outputs": []
    },
    {
      "cell_type": "markdown",
      "metadata": {
        "id": "0qHTq25Q6NzG"
      },
      "source": [
        "# Lectura de Datos"
      ]
    },
    {
      "cell_type": "code",
      "metadata": {
        "id": "PrjxR8JiscCM",
        "colab": {
          "base_uri": "https://localhost:8080/"
        },
        "outputId": "baf73b5d-6766-478e-bb23-b3f489ddcae0"
      },
      "source": [
        "from google.colab import drive \n",
        "drive.mount('/content/gdrive')"
      ],
      "execution_count": 2,
      "outputs": [
        {
          "output_type": "stream",
          "text": [
            "Drive already mounted at /content/gdrive; to attempt to forcibly remount, call drive.mount(\"/content/gdrive\", force_remount=True).\n"
          ],
          "name": "stdout"
        }
      ]
    },
    {
      "cell_type": "code",
      "metadata": {
        "id": "WjxfuYM9se55"
      },
      "source": [
        "df = pd.read_csv('/content/gdrive/Shareddrives/Reto Equipo 2/datos_tec.csv')"
      ],
      "execution_count": 3,
      "outputs": []
    },
    {
      "cell_type": "code",
      "metadata": {
        "id": "ga5212CBsp-T",
        "colab": {
          "base_uri": "https://localhost:8080/",
          "height": 0
        },
        "outputId": "33747a83-69d1-42e6-e6ad-a1a768376ad2"
      },
      "source": [
        "df.head()"
      ],
      "execution_count": 4,
      "outputs": [
        {
          "output_type": "execute_result",
          "data": {
            "text/html": [
              "<div>\n",
              "<style scoped>\n",
              "    .dataframe tbody tr th:only-of-type {\n",
              "        vertical-align: middle;\n",
              "    }\n",
              "\n",
              "    .dataframe tbody tr th {\n",
              "        vertical-align: top;\n",
              "    }\n",
              "\n",
              "    .dataframe thead th {\n",
              "        text-align: right;\n",
              "    }\n",
              "</style>\n",
              "<table border=\"1\" class=\"dataframe\">\n",
              "  <thead>\n",
              "    <tr style=\"text-align: right;\">\n",
              "      <th></th>\n",
              "      <th>TIME</th>\n",
              "      <th>Dureza</th>\n",
              "      <th>Tasa_Prod</th>\n",
              "      <th>Asp</th>\n",
              "      <th>EC</th>\n",
              "      <th>EE</th>\n",
              "      <th>Calidad</th>\n",
              "    </tr>\n",
              "  </thead>\n",
              "  <tbody>\n",
              "    <tr>\n",
              "      <th>0</th>\n",
              "      <td>01/01/1995 0:00</td>\n",
              "      <td>100.0</td>\n",
              "      <td>368</td>\n",
              "      <td>2.78</td>\n",
              "      <td>15.1</td>\n",
              "      <td>29.7</td>\n",
              "      <td>0.053</td>\n",
              "    </tr>\n",
              "    <tr>\n",
              "      <th>1</th>\n",
              "      <td>02/01/1995 0:00</td>\n",
              "      <td>100.0</td>\n",
              "      <td>426</td>\n",
              "      <td>3.00</td>\n",
              "      <td>26.9</td>\n",
              "      <td>0.0</td>\n",
              "      <td>0.108</td>\n",
              "    </tr>\n",
              "    <tr>\n",
              "      <th>2</th>\n",
              "      <td>03/01/1995 0:00</td>\n",
              "      <td>101.0</td>\n",
              "      <td>446</td>\n",
              "      <td>3.00</td>\n",
              "      <td>29.5</td>\n",
              "      <td>0.0</td>\n",
              "      <td>0.098</td>\n",
              "    </tr>\n",
              "    <tr>\n",
              "      <th>3</th>\n",
              "      <td>04/01/1995 0:00</td>\n",
              "      <td>99.0</td>\n",
              "      <td>395</td>\n",
              "      <td>3.00</td>\n",
              "      <td>18.9</td>\n",
              "      <td>25.4</td>\n",
              "      <td>0.056</td>\n",
              "    </tr>\n",
              "    <tr>\n",
              "      <th>4</th>\n",
              "      <td>05/01/1995 0:00</td>\n",
              "      <td>102.0</td>\n",
              "      <td>380</td>\n",
              "      <td>3.00</td>\n",
              "      <td>17.5</td>\n",
              "      <td>26.6</td>\n",
              "      <td>0.051</td>\n",
              "    </tr>\n",
              "  </tbody>\n",
              "</table>\n",
              "</div>"
            ],
            "text/plain": [
              "              TIME  Dureza  Tasa_Prod   Asp    EC    EE  Calidad\n",
              "0  01/01/1995 0:00   100.0        368  2.78  15.1  29.7    0.053\n",
              "1  02/01/1995 0:00   100.0        426  3.00  26.9   0.0    0.108\n",
              "2  03/01/1995 0:00   101.0        446  3.00  29.5   0.0    0.098\n",
              "3  04/01/1995 0:00    99.0        395  3.00  18.9  25.4    0.056\n",
              "4  05/01/1995 0:00   102.0        380  3.00  17.5  26.6    0.051"
            ]
          },
          "metadata": {
            "tags": []
          },
          "execution_count": 4
        }
      ]
    },
    {
      "cell_type": "code",
      "metadata": {
        "id": "POTlbjCWt8LZ",
        "colab": {
          "base_uri": "https://localhost:8080/",
          "height": 0
        },
        "outputId": "7ebaa3e7-24a3-4eea-8a11-dde67b629a7e"
      },
      "source": [
        "df.tail()"
      ],
      "execution_count": 5,
      "outputs": [
        {
          "output_type": "execute_result",
          "data": {
            "text/html": [
              "<div>\n",
              "<style scoped>\n",
              "    .dataframe tbody tr th:only-of-type {\n",
              "        vertical-align: middle;\n",
              "    }\n",
              "\n",
              "    .dataframe tbody tr th {\n",
              "        vertical-align: top;\n",
              "    }\n",
              "\n",
              "    .dataframe thead th {\n",
              "        text-align: right;\n",
              "    }\n",
              "</style>\n",
              "<table border=\"1\" class=\"dataframe\">\n",
              "  <thead>\n",
              "    <tr style=\"text-align: right;\">\n",
              "      <th></th>\n",
              "      <th>TIME</th>\n",
              "      <th>Dureza</th>\n",
              "      <th>Tasa_Prod</th>\n",
              "      <th>Asp</th>\n",
              "      <th>EC</th>\n",
              "      <th>EE</th>\n",
              "      <th>Calidad</th>\n",
              "    </tr>\n",
              "  </thead>\n",
              "  <tbody>\n",
              "    <tr>\n",
              "      <th>9387</th>\n",
              "      <td>13/09/2020 0:00</td>\n",
              "      <td>104.0</td>\n",
              "      <td>413</td>\n",
              "      <td>3.52</td>\n",
              "      <td>16.9</td>\n",
              "      <td>24.8</td>\n",
              "      <td>0.108</td>\n",
              "    </tr>\n",
              "    <tr>\n",
              "      <th>9388</th>\n",
              "      <td>14/09/2020 0:00</td>\n",
              "      <td>101.0</td>\n",
              "      <td>408</td>\n",
              "      <td>3.52</td>\n",
              "      <td>21.7</td>\n",
              "      <td>13.9</td>\n",
              "      <td>0.061</td>\n",
              "    </tr>\n",
              "    <tr>\n",
              "      <th>9389</th>\n",
              "      <td>15/09/2020 0:00</td>\n",
              "      <td>100.0</td>\n",
              "      <td>352</td>\n",
              "      <td>3.52</td>\n",
              "      <td>15.6</td>\n",
              "      <td>17.6</td>\n",
              "      <td>0.031</td>\n",
              "    </tr>\n",
              "    <tr>\n",
              "      <th>9390</th>\n",
              "      <td>16/09/2020 0:00</td>\n",
              "      <td>100.0</td>\n",
              "      <td>399</td>\n",
              "      <td>3.52</td>\n",
              "      <td>17.0</td>\n",
              "      <td>22.8</td>\n",
              "      <td>0.059</td>\n",
              "    </tr>\n",
              "    <tr>\n",
              "      <th>9391</th>\n",
              "      <td>17/09/2020 0:00</td>\n",
              "      <td>101.0</td>\n",
              "      <td>413</td>\n",
              "      <td>2.03</td>\n",
              "      <td>18.8</td>\n",
              "      <td>18.7</td>\n",
              "      <td>0.058</td>\n",
              "    </tr>\n",
              "  </tbody>\n",
              "</table>\n",
              "</div>"
            ],
            "text/plain": [
              "                 TIME  Dureza  Tasa_Prod   Asp    EC    EE  Calidad\n",
              "9387  13/09/2020 0:00   104.0        413  3.52  16.9  24.8    0.108\n",
              "9388  14/09/2020 0:00   101.0        408  3.52  21.7  13.9    0.061\n",
              "9389  15/09/2020 0:00   100.0        352  3.52  15.6  17.6    0.031\n",
              "9390  16/09/2020 0:00   100.0        399  3.52  17.0  22.8    0.059\n",
              "9391  17/09/2020 0:00   101.0        413  2.03  18.8  18.7    0.058"
            ]
          },
          "metadata": {
            "tags": []
          },
          "execution_count": 5
        }
      ]
    },
    {
      "cell_type": "code",
      "metadata": {
        "id": "4zJsBJZTu9G6",
        "colab": {
          "base_uri": "https://localhost:8080/"
        },
        "outputId": "ac8bb1b0-4d59-43fd-9db1-1ba4f76c1712"
      },
      "source": [
        "df.info()"
      ],
      "execution_count": 6,
      "outputs": [
        {
          "output_type": "stream",
          "text": [
            "<class 'pandas.core.frame.DataFrame'>\n",
            "RangeIndex: 9392 entries, 0 to 9391\n",
            "Data columns (total 7 columns):\n",
            " #   Column     Non-Null Count  Dtype  \n",
            "---  ------     --------------  -----  \n",
            " 0   TIME       9392 non-null   object \n",
            " 1   Dureza     9391 non-null   float64\n",
            " 2   Tasa_Prod  9392 non-null   int64  \n",
            " 3   Asp        9391 non-null   float64\n",
            " 4   EC         9392 non-null   float64\n",
            " 5   EE         9392 non-null   float64\n",
            " 6   Calidad    9392 non-null   float64\n",
            "dtypes: float64(5), int64(1), object(1)\n",
            "memory usage: 513.8+ KB\n"
          ],
          "name": "stdout"
        }
      ]
    },
    {
      "cell_type": "code",
      "metadata": {
        "id": "0Q9OYwbRtTy1",
        "colab": {
          "base_uri": "https://localhost:8080/"
        },
        "outputId": "0448aa91-6b77-40f2-a0f7-eca858e0b152"
      },
      "source": [
        "df.shape"
      ],
      "execution_count": 7,
      "outputs": [
        {
          "output_type": "execute_result",
          "data": {
            "text/plain": [
              "(9392, 7)"
            ]
          },
          "metadata": {
            "tags": []
          },
          "execution_count": 7
        }
      ]
    },
    {
      "cell_type": "markdown",
      "metadata": {
        "id": "hwwb_OOV7MLg"
      },
      "source": [
        "### Valores ausentes"
      ]
    },
    {
      "cell_type": "code",
      "metadata": {
        "id": "k8QY2rFNtynZ",
        "colab": {
          "base_uri": "https://localhost:8080/",
          "height": 0
        },
        "outputId": "5ac9d1ca-4ad5-42a3-f1c3-09ce022c47c3"
      },
      "source": [
        "null=df[df.isnull().any(1)]\n",
        "null"
      ],
      "execution_count": 8,
      "outputs": [
        {
          "output_type": "execute_result",
          "data": {
            "text/html": [
              "<div>\n",
              "<style scoped>\n",
              "    .dataframe tbody tr th:only-of-type {\n",
              "        vertical-align: middle;\n",
              "    }\n",
              "\n",
              "    .dataframe tbody tr th {\n",
              "        vertical-align: top;\n",
              "    }\n",
              "\n",
              "    .dataframe thead th {\n",
              "        text-align: right;\n",
              "    }\n",
              "</style>\n",
              "<table border=\"1\" class=\"dataframe\">\n",
              "  <thead>\n",
              "    <tr style=\"text-align: right;\">\n",
              "      <th></th>\n",
              "      <th>TIME</th>\n",
              "      <th>Dureza</th>\n",
              "      <th>Tasa_Prod</th>\n",
              "      <th>Asp</th>\n",
              "      <th>EC</th>\n",
              "      <th>EE</th>\n",
              "      <th>Calidad</th>\n",
              "    </tr>\n",
              "  </thead>\n",
              "  <tbody>\n",
              "    <tr>\n",
              "      <th>60</th>\n",
              "      <td>02/03/1995 0:00</td>\n",
              "      <td>NaN</td>\n",
              "      <td>402</td>\n",
              "      <td>2.93</td>\n",
              "      <td>26.7</td>\n",
              "      <td>15.8</td>\n",
              "      <td>0.093</td>\n",
              "    </tr>\n",
              "    <tr>\n",
              "      <th>62</th>\n",
              "      <td>04/03/1995 0:00</td>\n",
              "      <td>103.0</td>\n",
              "      <td>391</td>\n",
              "      <td>NaN</td>\n",
              "      <td>20.3</td>\n",
              "      <td>20.3</td>\n",
              "      <td>0.093</td>\n",
              "    </tr>\n",
              "  </tbody>\n",
              "</table>\n",
              "</div>"
            ],
            "text/plain": [
              "               TIME  Dureza  Tasa_Prod   Asp    EC    EE  Calidad\n",
              "60  02/03/1995 0:00     NaN        402  2.93  26.7  15.8    0.093\n",
              "62  04/03/1995 0:00   103.0        391   NaN  20.3  20.3    0.093"
            ]
          },
          "metadata": {
            "tags": []
          },
          "execution_count": 8
        }
      ]
    },
    {
      "cell_type": "code",
      "metadata": {
        "id": "tTmI4WK9yWff"
      },
      "source": [
        "#Eliminar las filas con valores nulos\n",
        "df=df.drop([60,62])"
      ],
      "execution_count": 9,
      "outputs": []
    },
    {
      "cell_type": "code",
      "metadata": {
        "id": "0sbmmA0RKFW1",
        "colab": {
          "base_uri": "https://localhost:8080/",
          "height": 0
        },
        "outputId": "a4f63654-b5f7-4ea7-89ae-58239ce75a6a"
      },
      "source": [
        "df['Tasa_Prod']=df['Tasa_Prod'].fillna(0)\n",
        "df=df.drop(df[df['Tasa_Prod']==0].index)\n",
        "df"
      ],
      "execution_count": 10,
      "outputs": [
        {
          "output_type": "execute_result",
          "data": {
            "text/html": [
              "<div>\n",
              "<style scoped>\n",
              "    .dataframe tbody tr th:only-of-type {\n",
              "        vertical-align: middle;\n",
              "    }\n",
              "\n",
              "    .dataframe tbody tr th {\n",
              "        vertical-align: top;\n",
              "    }\n",
              "\n",
              "    .dataframe thead th {\n",
              "        text-align: right;\n",
              "    }\n",
              "</style>\n",
              "<table border=\"1\" class=\"dataframe\">\n",
              "  <thead>\n",
              "    <tr style=\"text-align: right;\">\n",
              "      <th></th>\n",
              "      <th>TIME</th>\n",
              "      <th>Dureza</th>\n",
              "      <th>Tasa_Prod</th>\n",
              "      <th>Asp</th>\n",
              "      <th>EC</th>\n",
              "      <th>EE</th>\n",
              "      <th>Calidad</th>\n",
              "    </tr>\n",
              "  </thead>\n",
              "  <tbody>\n",
              "    <tr>\n",
              "      <th>0</th>\n",
              "      <td>01/01/1995 0:00</td>\n",
              "      <td>100.0</td>\n",
              "      <td>368</td>\n",
              "      <td>2.78</td>\n",
              "      <td>15.1</td>\n",
              "      <td>29.7</td>\n",
              "      <td>0.053</td>\n",
              "    </tr>\n",
              "    <tr>\n",
              "      <th>1</th>\n",
              "      <td>02/01/1995 0:00</td>\n",
              "      <td>100.0</td>\n",
              "      <td>426</td>\n",
              "      <td>3.00</td>\n",
              "      <td>26.9</td>\n",
              "      <td>0.0</td>\n",
              "      <td>0.108</td>\n",
              "    </tr>\n",
              "    <tr>\n",
              "      <th>2</th>\n",
              "      <td>03/01/1995 0:00</td>\n",
              "      <td>101.0</td>\n",
              "      <td>446</td>\n",
              "      <td>3.00</td>\n",
              "      <td>29.5</td>\n",
              "      <td>0.0</td>\n",
              "      <td>0.098</td>\n",
              "    </tr>\n",
              "    <tr>\n",
              "      <th>3</th>\n",
              "      <td>04/01/1995 0:00</td>\n",
              "      <td>99.0</td>\n",
              "      <td>395</td>\n",
              "      <td>3.00</td>\n",
              "      <td>18.9</td>\n",
              "      <td>25.4</td>\n",
              "      <td>0.056</td>\n",
              "    </tr>\n",
              "    <tr>\n",
              "      <th>4</th>\n",
              "      <td>05/01/1995 0:00</td>\n",
              "      <td>102.0</td>\n",
              "      <td>380</td>\n",
              "      <td>3.00</td>\n",
              "      <td>17.5</td>\n",
              "      <td>26.6</td>\n",
              "      <td>0.051</td>\n",
              "    </tr>\n",
              "    <tr>\n",
              "      <th>...</th>\n",
              "      <td>...</td>\n",
              "      <td>...</td>\n",
              "      <td>...</td>\n",
              "      <td>...</td>\n",
              "      <td>...</td>\n",
              "      <td>...</td>\n",
              "      <td>...</td>\n",
              "    </tr>\n",
              "    <tr>\n",
              "      <th>9387</th>\n",
              "      <td>13/09/2020 0:00</td>\n",
              "      <td>104.0</td>\n",
              "      <td>413</td>\n",
              "      <td>3.52</td>\n",
              "      <td>16.9</td>\n",
              "      <td>24.8</td>\n",
              "      <td>0.108</td>\n",
              "    </tr>\n",
              "    <tr>\n",
              "      <th>9388</th>\n",
              "      <td>14/09/2020 0:00</td>\n",
              "      <td>101.0</td>\n",
              "      <td>408</td>\n",
              "      <td>3.52</td>\n",
              "      <td>21.7</td>\n",
              "      <td>13.9</td>\n",
              "      <td>0.061</td>\n",
              "    </tr>\n",
              "    <tr>\n",
              "      <th>9389</th>\n",
              "      <td>15/09/2020 0:00</td>\n",
              "      <td>100.0</td>\n",
              "      <td>352</td>\n",
              "      <td>3.52</td>\n",
              "      <td>15.6</td>\n",
              "      <td>17.6</td>\n",
              "      <td>0.031</td>\n",
              "    </tr>\n",
              "    <tr>\n",
              "      <th>9390</th>\n",
              "      <td>16/09/2020 0:00</td>\n",
              "      <td>100.0</td>\n",
              "      <td>399</td>\n",
              "      <td>3.52</td>\n",
              "      <td>17.0</td>\n",
              "      <td>22.8</td>\n",
              "      <td>0.059</td>\n",
              "    </tr>\n",
              "    <tr>\n",
              "      <th>9391</th>\n",
              "      <td>17/09/2020 0:00</td>\n",
              "      <td>101.0</td>\n",
              "      <td>413</td>\n",
              "      <td>2.03</td>\n",
              "      <td>18.8</td>\n",
              "      <td>18.7</td>\n",
              "      <td>0.058</td>\n",
              "    </tr>\n",
              "  </tbody>\n",
              "</table>\n",
              "<p>9322 rows × 7 columns</p>\n",
              "</div>"
            ],
            "text/plain": [
              "                 TIME  Dureza  Tasa_Prod   Asp    EC    EE  Calidad\n",
              "0     01/01/1995 0:00   100.0        368  2.78  15.1  29.7    0.053\n",
              "1     02/01/1995 0:00   100.0        426  3.00  26.9   0.0    0.108\n",
              "2     03/01/1995 0:00   101.0        446  3.00  29.5   0.0    0.098\n",
              "3     04/01/1995 0:00    99.0        395  3.00  18.9  25.4    0.056\n",
              "4     05/01/1995 0:00   102.0        380  3.00  17.5  26.6    0.051\n",
              "...               ...     ...        ...   ...   ...   ...      ...\n",
              "9387  13/09/2020 0:00   104.0        413  3.52  16.9  24.8    0.108\n",
              "9388  14/09/2020 0:00   101.0        408  3.52  21.7  13.9    0.061\n",
              "9389  15/09/2020 0:00   100.0        352  3.52  15.6  17.6    0.031\n",
              "9390  16/09/2020 0:00   100.0        399  3.52  17.0  22.8    0.059\n",
              "9391  17/09/2020 0:00   101.0        413  2.03  18.8  18.7    0.058\n",
              "\n",
              "[9322 rows x 7 columns]"
            ]
          },
          "metadata": {
            "tags": []
          },
          "execution_count": 10
        }
      ]
    },
    {
      "cell_type": "markdown",
      "metadata": {
        "id": "tgyU-j607Pnv"
      },
      "source": [
        "### Atributos vs Tiempo"
      ]
    },
    {
      "cell_type": "code",
      "metadata": {
        "id": "KSegEdZu4nbr",
        "colab": {
          "base_uri": "https://localhost:8080/",
          "height": 0
        },
        "outputId": "cc99025c-85dc-45c1-cd6e-0904ef265e98"
      },
      "source": [
        "'''fig, ax = plt.subplots(figsize=(15,8))\n",
        "ax.scatter(df['TIME'], df['Dureza'])\n",
        "plt.show()'''"
      ],
      "execution_count": 11,
      "outputs": [
        {
          "output_type": "execute_result",
          "data": {
            "application/vnd.google.colaboratory.intrinsic+json": {
              "type": "string"
            },
            "text/plain": [
              "\"fig, ax = plt.subplots(figsize=(15,8))\\nax.scatter(df['TIME'], df['Dureza'])\\nplt.show()\""
            ]
          },
          "metadata": {
            "tags": []
          },
          "execution_count": 11
        }
      ]
    },
    {
      "cell_type": "code",
      "metadata": {
        "id": "8FVWakLN6VFu",
        "colab": {
          "base_uri": "https://localhost:8080/",
          "height": 0
        },
        "outputId": "406c89da-ff1e-401f-a8b0-a81ff7c1f070"
      },
      "source": [
        "'''fig, ax = plt.subplots(figsize=(15,8))\n",
        "ax.scatter(df['TIME'], df['Tasa_Prod'])\n",
        "plt.show()'''"
      ],
      "execution_count": 12,
      "outputs": [
        {
          "output_type": "execute_result",
          "data": {
            "application/vnd.google.colaboratory.intrinsic+json": {
              "type": "string"
            },
            "text/plain": [
              "\"fig, ax = plt.subplots(figsize=(15,8))\\nax.scatter(df['TIME'], df['Tasa_Prod'])\\nplt.show()\""
            ]
          },
          "metadata": {
            "tags": []
          },
          "execution_count": 12
        }
      ]
    },
    {
      "cell_type": "code",
      "metadata": {
        "id": "ko292QYR6VJX",
        "colab": {
          "base_uri": "https://localhost:8080/",
          "height": 0
        },
        "outputId": "d7f6fb59-f755-4845-bbde-c89ee6d4b75b"
      },
      "source": [
        "'''fig, ax = plt.subplots(figsize=(15,8))\n",
        "ax.scatter(df['TIME'], df['Asp'])\n",
        "plt.show()'''"
      ],
      "execution_count": 13,
      "outputs": [
        {
          "output_type": "execute_result",
          "data": {
            "application/vnd.google.colaboratory.intrinsic+json": {
              "type": "string"
            },
            "text/plain": [
              "\"fig, ax = plt.subplots(figsize=(15,8))\\nax.scatter(df['TIME'], df['Asp'])\\nplt.show()\""
            ]
          },
          "metadata": {
            "tags": []
          },
          "execution_count": 13
        }
      ]
    },
    {
      "cell_type": "code",
      "metadata": {
        "id": "oEL0WXxj6VNg",
        "colab": {
          "base_uri": "https://localhost:8080/",
          "height": 0
        },
        "outputId": "ebb8e4e2-95af-435c-ed66-b34d07ef8a85"
      },
      "source": [
        "'''fig, ax = plt.subplots(figsize=(15,8))\n",
        "ax.scatter(df['TIME'], df['EC'])\n",
        "plt.show()'''"
      ],
      "execution_count": 14,
      "outputs": [
        {
          "output_type": "execute_result",
          "data": {
            "application/vnd.google.colaboratory.intrinsic+json": {
              "type": "string"
            },
            "text/plain": [
              "\"fig, ax = plt.subplots(figsize=(15,8))\\nax.scatter(df['TIME'], df['EC'])\\nplt.show()\""
            ]
          },
          "metadata": {
            "tags": []
          },
          "execution_count": 14
        }
      ]
    },
    {
      "cell_type": "code",
      "metadata": {
        "id": "5QZApnru6jnq",
        "colab": {
          "base_uri": "https://localhost:8080/",
          "height": 0
        },
        "outputId": "28d4cb62-4ebf-44d7-b244-af91d6de35b0"
      },
      "source": [
        "'''fig, ax = plt.subplots(figsize=(15,8))\n",
        "ax.scatter(df['TIME'], df['EE'])\n",
        "plt.show()'''"
      ],
      "execution_count": 15,
      "outputs": [
        {
          "output_type": "execute_result",
          "data": {
            "application/vnd.google.colaboratory.intrinsic+json": {
              "type": "string"
            },
            "text/plain": [
              "\"fig, ax = plt.subplots(figsize=(15,8))\\nax.scatter(df['TIME'], df['EE'])\\nplt.show()\""
            ]
          },
          "metadata": {
            "tags": []
          },
          "execution_count": 15
        }
      ]
    },
    {
      "cell_type": "code",
      "metadata": {
        "id": "Q3cfauGw8dmQ",
        "colab": {
          "base_uri": "https://localhost:8080/",
          "height": 0
        },
        "outputId": "7ee32357-7c03-4a3a-b6f0-0d9b5e36a23c"
      },
      "source": [
        "'''fig, ax = plt.subplots(figsize=(15,8))\n",
        "ax.scatter(df['TIME'], df['Calidad'])\n",
        "plt.show()'''"
      ],
      "execution_count": 16,
      "outputs": [
        {
          "output_type": "execute_result",
          "data": {
            "application/vnd.google.colaboratory.intrinsic+json": {
              "type": "string"
            },
            "text/plain": [
              "\"fig, ax = plt.subplots(figsize=(15,8))\\nax.scatter(df['TIME'], df['Calidad'])\\nplt.show()\""
            ]
          },
          "metadata": {
            "tags": []
          },
          "execution_count": 16
        }
      ]
    },
    {
      "cell_type": "markdown",
      "metadata": {
        "id": "g-VTM27U-969"
      },
      "source": [
        "# Detección de Outliers"
      ]
    },
    {
      "cell_type": "code",
      "metadata": {
        "id": "yYLiLAlyMsO7",
        "colab": {
          "base_uri": "https://localhost:8080/",
          "height": 0
        },
        "outputId": "a700a702-78e9-4434-b04b-bc5eaf38c078"
      },
      "source": [
        "df.describe()"
      ],
      "execution_count": 17,
      "outputs": [
        {
          "output_type": "execute_result",
          "data": {
            "text/html": [
              "<div>\n",
              "<style scoped>\n",
              "    .dataframe tbody tr th:only-of-type {\n",
              "        vertical-align: middle;\n",
              "    }\n",
              "\n",
              "    .dataframe tbody tr th {\n",
              "        vertical-align: top;\n",
              "    }\n",
              "\n",
              "    .dataframe thead th {\n",
              "        text-align: right;\n",
              "    }\n",
              "</style>\n",
              "<table border=\"1\" class=\"dataframe\">\n",
              "  <thead>\n",
              "    <tr style=\"text-align: right;\">\n",
              "      <th></th>\n",
              "      <th>Dureza</th>\n",
              "      <th>Tasa_Prod</th>\n",
              "      <th>Asp</th>\n",
              "      <th>EC</th>\n",
              "      <th>EE</th>\n",
              "      <th>Calidad</th>\n",
              "    </tr>\n",
              "  </thead>\n",
              "  <tbody>\n",
              "    <tr>\n",
              "      <th>count</th>\n",
              "      <td>9322.000000</td>\n",
              "      <td>9322.000000</td>\n",
              "      <td>9322.000000</td>\n",
              "      <td>9322.000000</td>\n",
              "      <td>9322.000000</td>\n",
              "      <td>9322.000000</td>\n",
              "    </tr>\n",
              "    <tr>\n",
              "      <th>mean</th>\n",
              "      <td>104.033040</td>\n",
              "      <td>393.856147</td>\n",
              "      <td>3.152711</td>\n",
              "      <td>19.449507</td>\n",
              "      <td>19.140474</td>\n",
              "      <td>0.090004</td>\n",
              "    </tr>\n",
              "    <tr>\n",
              "      <th>std</th>\n",
              "      <td>2.052937</td>\n",
              "      <td>27.750413</td>\n",
              "      <td>0.371904</td>\n",
              "      <td>6.577180</td>\n",
              "      <td>7.991757</td>\n",
              "      <td>0.048889</td>\n",
              "    </tr>\n",
              "    <tr>\n",
              "      <th>min</th>\n",
              "      <td>80.000000</td>\n",
              "      <td>184.000000</td>\n",
              "      <td>0.350000</td>\n",
              "      <td>0.000000</td>\n",
              "      <td>0.000000</td>\n",
              "      <td>0.000000</td>\n",
              "    </tr>\n",
              "    <tr>\n",
              "      <th>25%</th>\n",
              "      <td>103.000000</td>\n",
              "      <td>384.000000</td>\n",
              "      <td>3.040000</td>\n",
              "      <td>16.000000</td>\n",
              "      <td>14.400000</td>\n",
              "      <td>0.061000</td>\n",
              "    </tr>\n",
              "    <tr>\n",
              "      <th>50%</th>\n",
              "      <td>104.000000</td>\n",
              "      <td>398.000000</td>\n",
              "      <td>3.260000</td>\n",
              "      <td>19.200000</td>\n",
              "      <td>20.100000</td>\n",
              "      <td>0.081000</td>\n",
              "    </tr>\n",
              "    <tr>\n",
              "      <th>75%</th>\n",
              "      <td>105.000000</td>\n",
              "      <td>409.000000</td>\n",
              "      <td>3.380000</td>\n",
              "      <td>23.500000</td>\n",
              "      <td>25.300000</td>\n",
              "      <td>0.107000</td>\n",
              "    </tr>\n",
              "    <tr>\n",
              "      <th>max</th>\n",
              "      <td>112.000000</td>\n",
              "      <td>480.000000</td>\n",
              "      <td>3.520000</td>\n",
              "      <td>40.400000</td>\n",
              "      <td>35.300000</td>\n",
              "      <td>1.000000</td>\n",
              "    </tr>\n",
              "  </tbody>\n",
              "</table>\n",
              "</div>"
            ],
            "text/plain": [
              "            Dureza    Tasa_Prod  ...           EE      Calidad\n",
              "count  9322.000000  9322.000000  ...  9322.000000  9322.000000\n",
              "mean    104.033040   393.856147  ...    19.140474     0.090004\n",
              "std       2.052937    27.750413  ...     7.991757     0.048889\n",
              "min      80.000000   184.000000  ...     0.000000     0.000000\n",
              "25%     103.000000   384.000000  ...    14.400000     0.061000\n",
              "50%     104.000000   398.000000  ...    20.100000     0.081000\n",
              "75%     105.000000   409.000000  ...    25.300000     0.107000\n",
              "max     112.000000   480.000000  ...    35.300000     1.000000\n",
              "\n",
              "[8 rows x 6 columns]"
            ]
          },
          "metadata": {
            "tags": []
          },
          "execution_count": 17
        }
      ]
    },
    {
      "cell_type": "code",
      "metadata": {
        "id": "QQGEEQt8WmBS",
        "colab": {
          "base_uri": "https://localhost:8080/",
          "height": 0
        },
        "outputId": "06497159-861f-4007-a336-27678ee73be4"
      },
      "source": [
        "Q1_Prod = df['Tasa_Prod'].quantile(0.3)\n",
        "Q3_Prod = df['Tasa_Prod'].quantile(0.7)\n",
        "IQR_Prod = Q3_Prod - Q1_Prod\n",
        "\n",
        "clf = df[~(df['Tasa_Prod'] < (Q1_Prod - 1.5 * IQR_Prod))]\n",
        "\n",
        "Q1_Calidad = clf['Calidad'].quantile(0.3)\n",
        "Q3_Calidad = clf['Calidad'].quantile(0.7)\n",
        "IQR_Calidad = Q3_Calidad - Q1_Calidad\n",
        "\n",
        "clf = clf[~(clf['Calidad'] < (Q1_Calidad - 0.75 * IQR_Calidad))]\n",
        "clf"
      ],
      "execution_count": 18,
      "outputs": [
        {
          "output_type": "execute_result",
          "data": {
            "text/html": [
              "<div>\n",
              "<style scoped>\n",
              "    .dataframe tbody tr th:only-of-type {\n",
              "        vertical-align: middle;\n",
              "    }\n",
              "\n",
              "    .dataframe tbody tr th {\n",
              "        vertical-align: top;\n",
              "    }\n",
              "\n",
              "    .dataframe thead th {\n",
              "        text-align: right;\n",
              "    }\n",
              "</style>\n",
              "<table border=\"1\" class=\"dataframe\">\n",
              "  <thead>\n",
              "    <tr style=\"text-align: right;\">\n",
              "      <th></th>\n",
              "      <th>TIME</th>\n",
              "      <th>Dureza</th>\n",
              "      <th>Tasa_Prod</th>\n",
              "      <th>Asp</th>\n",
              "      <th>EC</th>\n",
              "      <th>EE</th>\n",
              "      <th>Calidad</th>\n",
              "    </tr>\n",
              "  </thead>\n",
              "  <tbody>\n",
              "    <tr>\n",
              "      <th>0</th>\n",
              "      <td>01/01/1995 0:00</td>\n",
              "      <td>100.0</td>\n",
              "      <td>368</td>\n",
              "      <td>2.78</td>\n",
              "      <td>15.1</td>\n",
              "      <td>29.7</td>\n",
              "      <td>0.053</td>\n",
              "    </tr>\n",
              "    <tr>\n",
              "      <th>1</th>\n",
              "      <td>02/01/1995 0:00</td>\n",
              "      <td>100.0</td>\n",
              "      <td>426</td>\n",
              "      <td>3.00</td>\n",
              "      <td>26.9</td>\n",
              "      <td>0.0</td>\n",
              "      <td>0.108</td>\n",
              "    </tr>\n",
              "    <tr>\n",
              "      <th>2</th>\n",
              "      <td>03/01/1995 0:00</td>\n",
              "      <td>101.0</td>\n",
              "      <td>446</td>\n",
              "      <td>3.00</td>\n",
              "      <td>29.5</td>\n",
              "      <td>0.0</td>\n",
              "      <td>0.098</td>\n",
              "    </tr>\n",
              "    <tr>\n",
              "      <th>3</th>\n",
              "      <td>04/01/1995 0:00</td>\n",
              "      <td>99.0</td>\n",
              "      <td>395</td>\n",
              "      <td>3.00</td>\n",
              "      <td>18.9</td>\n",
              "      <td>25.4</td>\n",
              "      <td>0.056</td>\n",
              "    </tr>\n",
              "    <tr>\n",
              "      <th>4</th>\n",
              "      <td>05/01/1995 0:00</td>\n",
              "      <td>102.0</td>\n",
              "      <td>380</td>\n",
              "      <td>3.00</td>\n",
              "      <td>17.5</td>\n",
              "      <td>26.6</td>\n",
              "      <td>0.051</td>\n",
              "    </tr>\n",
              "    <tr>\n",
              "      <th>...</th>\n",
              "      <td>...</td>\n",
              "      <td>...</td>\n",
              "      <td>...</td>\n",
              "      <td>...</td>\n",
              "      <td>...</td>\n",
              "      <td>...</td>\n",
              "      <td>...</td>\n",
              "    </tr>\n",
              "    <tr>\n",
              "      <th>9386</th>\n",
              "      <td>12/09/2020 0:00</td>\n",
              "      <td>103.0</td>\n",
              "      <td>409</td>\n",
              "      <td>3.52</td>\n",
              "      <td>23.0</td>\n",
              "      <td>9.1</td>\n",
              "      <td>0.103</td>\n",
              "    </tr>\n",
              "    <tr>\n",
              "      <th>9387</th>\n",
              "      <td>13/09/2020 0:00</td>\n",
              "      <td>104.0</td>\n",
              "      <td>413</td>\n",
              "      <td>3.52</td>\n",
              "      <td>16.9</td>\n",
              "      <td>24.8</td>\n",
              "      <td>0.108</td>\n",
              "    </tr>\n",
              "    <tr>\n",
              "      <th>9388</th>\n",
              "      <td>14/09/2020 0:00</td>\n",
              "      <td>101.0</td>\n",
              "      <td>408</td>\n",
              "      <td>3.52</td>\n",
              "      <td>21.7</td>\n",
              "      <td>13.9</td>\n",
              "      <td>0.061</td>\n",
              "    </tr>\n",
              "    <tr>\n",
              "      <th>9390</th>\n",
              "      <td>16/09/2020 0:00</td>\n",
              "      <td>100.0</td>\n",
              "      <td>399</td>\n",
              "      <td>3.52</td>\n",
              "      <td>17.0</td>\n",
              "      <td>22.8</td>\n",
              "      <td>0.059</td>\n",
              "    </tr>\n",
              "    <tr>\n",
              "      <th>9391</th>\n",
              "      <td>17/09/2020 0:00</td>\n",
              "      <td>101.0</td>\n",
              "      <td>413</td>\n",
              "      <td>2.03</td>\n",
              "      <td>18.8</td>\n",
              "      <td>18.7</td>\n",
              "      <td>0.058</td>\n",
              "    </tr>\n",
              "  </tbody>\n",
              "</table>\n",
              "<p>8057 rows × 7 columns</p>\n",
              "</div>"
            ],
            "text/plain": [
              "                 TIME  Dureza  Tasa_Prod   Asp    EC    EE  Calidad\n",
              "0     01/01/1995 0:00   100.0        368  2.78  15.1  29.7    0.053\n",
              "1     02/01/1995 0:00   100.0        426  3.00  26.9   0.0    0.108\n",
              "2     03/01/1995 0:00   101.0        446  3.00  29.5   0.0    0.098\n",
              "3     04/01/1995 0:00    99.0        395  3.00  18.9  25.4    0.056\n",
              "4     05/01/1995 0:00   102.0        380  3.00  17.5  26.6    0.051\n",
              "...               ...     ...        ...   ...   ...   ...      ...\n",
              "9386  12/09/2020 0:00   103.0        409  3.52  23.0   9.1    0.103\n",
              "9387  13/09/2020 0:00   104.0        413  3.52  16.9  24.8    0.108\n",
              "9388  14/09/2020 0:00   101.0        408  3.52  21.7  13.9    0.061\n",
              "9390  16/09/2020 0:00   100.0        399  3.52  17.0  22.8    0.059\n",
              "9391  17/09/2020 0:00   101.0        413  2.03  18.8  18.7    0.058\n",
              "\n",
              "[8057 rows x 7 columns]"
            ]
          },
          "metadata": {
            "tags": []
          },
          "execution_count": 18
        }
      ]
    },
    {
      "cell_type": "code",
      "metadata": {
        "id": "k_tacqOHMxnK",
        "colab": {
          "base_uri": "https://localhost:8080/",
          "height": 0
        },
        "outputId": "c02812ea-2cfd-4dda-f6b7-8d4122e23ec1"
      },
      "source": [
        "clf.describe()"
      ],
      "execution_count": 19,
      "outputs": [
        {
          "output_type": "execute_result",
          "data": {
            "text/html": [
              "<div>\n",
              "<style scoped>\n",
              "    .dataframe tbody tr th:only-of-type {\n",
              "        vertical-align: middle;\n",
              "    }\n",
              "\n",
              "    .dataframe tbody tr th {\n",
              "        vertical-align: top;\n",
              "    }\n",
              "\n",
              "    .dataframe thead th {\n",
              "        text-align: right;\n",
              "    }\n",
              "</style>\n",
              "<table border=\"1\" class=\"dataframe\">\n",
              "  <thead>\n",
              "    <tr style=\"text-align: right;\">\n",
              "      <th></th>\n",
              "      <th>Dureza</th>\n",
              "      <th>Tasa_Prod</th>\n",
              "      <th>Asp</th>\n",
              "      <th>EC</th>\n",
              "      <th>EE</th>\n",
              "      <th>Calidad</th>\n",
              "    </tr>\n",
              "  </thead>\n",
              "  <tbody>\n",
              "    <tr>\n",
              "      <th>count</th>\n",
              "      <td>8057.000000</td>\n",
              "      <td>8057.000000</td>\n",
              "      <td>8057.000000</td>\n",
              "      <td>8057.000000</td>\n",
              "      <td>8057.000000</td>\n",
              "      <td>8057.000000</td>\n",
              "    </tr>\n",
              "    <tr>\n",
              "      <th>mean</th>\n",
              "      <td>104.106243</td>\n",
              "      <td>400.245377</td>\n",
              "      <td>3.204921</td>\n",
              "      <td>19.790791</td>\n",
              "      <td>19.555405</td>\n",
              "      <td>0.093814</td>\n",
              "    </tr>\n",
              "    <tr>\n",
              "      <th>std</th>\n",
              "      <td>2.057365</td>\n",
              "      <td>17.016625</td>\n",
              "      <td>0.285065</td>\n",
              "      <td>6.433309</td>\n",
              "      <td>7.746881</td>\n",
              "      <td>0.045528</td>\n",
              "    </tr>\n",
              "    <tr>\n",
              "      <th>min</th>\n",
              "      <td>80.000000</td>\n",
              "      <td>363.000000</td>\n",
              "      <td>1.110000</td>\n",
              "      <td>0.000000</td>\n",
              "      <td>0.000000</td>\n",
              "      <td>0.040000</td>\n",
              "    </tr>\n",
              "    <tr>\n",
              "      <th>25%</th>\n",
              "      <td>103.000000</td>\n",
              "      <td>389.000000</td>\n",
              "      <td>3.140000</td>\n",
              "      <td>16.400000</td>\n",
              "      <td>14.900000</td>\n",
              "      <td>0.066000</td>\n",
              "    </tr>\n",
              "    <tr>\n",
              "      <th>50%</th>\n",
              "      <td>104.000000</td>\n",
              "      <td>400.000000</td>\n",
              "      <td>3.270000</td>\n",
              "      <td>19.400000</td>\n",
              "      <td>20.300000</td>\n",
              "      <td>0.085000</td>\n",
              "    </tr>\n",
              "    <tr>\n",
              "      <th>75%</th>\n",
              "      <td>105.000000</td>\n",
              "      <td>410.000000</td>\n",
              "      <td>3.390000</td>\n",
              "      <td>23.800000</td>\n",
              "      <td>25.500000</td>\n",
              "      <td>0.109000</td>\n",
              "    </tr>\n",
              "    <tr>\n",
              "      <th>max</th>\n",
              "      <td>112.000000</td>\n",
              "      <td>480.000000</td>\n",
              "      <td>3.520000</td>\n",
              "      <td>40.400000</td>\n",
              "      <td>34.500000</td>\n",
              "      <td>0.887000</td>\n",
              "    </tr>\n",
              "  </tbody>\n",
              "</table>\n",
              "</div>"
            ],
            "text/plain": [
              "            Dureza    Tasa_Prod  ...           EE      Calidad\n",
              "count  8057.000000  8057.000000  ...  8057.000000  8057.000000\n",
              "mean    104.106243   400.245377  ...    19.555405     0.093814\n",
              "std       2.057365    17.016625  ...     7.746881     0.045528\n",
              "min      80.000000   363.000000  ...     0.000000     0.040000\n",
              "25%     103.000000   389.000000  ...    14.900000     0.066000\n",
              "50%     104.000000   400.000000  ...    20.300000     0.085000\n",
              "75%     105.000000   410.000000  ...    25.500000     0.109000\n",
              "max     112.000000   480.000000  ...    34.500000     0.887000\n",
              "\n",
              "[8 rows x 6 columns]"
            ]
          },
          "metadata": {
            "tags": []
          },
          "execution_count": 19
        }
      ]
    },
    {
      "cell_type": "markdown",
      "metadata": {
        "id": "S9117HTrOz4m"
      },
      "source": [
        "**Dureza**"
      ]
    },
    {
      "cell_type": "code",
      "metadata": {
        "id": "TqNupqCV4_cM",
        "colab": {
          "base_uri": "https://localhost:8080/",
          "height": 0
        },
        "outputId": "100a6ea4-5518-4336-ccd8-7419a05da623"
      },
      "source": [
        "plt.title('Calidad')\n",
        "plt.boxplot(df.Calidad) "
      ],
      "execution_count": 20,
      "outputs": [
        {
          "output_type": "execute_result",
          "data": {
            "text/plain": [
              "{'boxes': [<matplotlib.lines.Line2D at 0x7ffa955d5b50>],\n",
              " 'caps': [<matplotlib.lines.Line2D at 0x7ffa95561c10>,\n",
              "  <matplotlib.lines.Line2D at 0x7ffa95567190>],\n",
              " 'fliers': [<matplotlib.lines.Line2D at 0x7ffa95567c50>],\n",
              " 'means': [],\n",
              " 'medians': [<matplotlib.lines.Line2D at 0x7ffa95567710>],\n",
              " 'whiskers': [<matplotlib.lines.Line2D at 0x7ffa95561190>,\n",
              "  <matplotlib.lines.Line2D at 0x7ffa955616d0>]}"
            ]
          },
          "metadata": {
            "tags": []
          },
          "execution_count": 20
        },
        {
          "output_type": "display_data",
          "data": {
            "image/png": "[encoded data removed]",
            "text/plain": [
              "<Figure size 432x288 with 1 Axes>"
            ]
          },
          "metadata": {
            "tags": [],
            "needs_background": "light"
          }
        }
      ]
    },
    {
      "cell_type": "code",
      "metadata": {
        "id": "qz4JUMWQ-1Em",
        "colab": {
          "base_uri": "https://localhost:8080/",
          "height": 0
        },
        "outputId": "a51af8e3-86ac-42f1-e7f6-1179ef8da860"
      },
      "source": [
        "plt.title('Calidad')\n",
        "plt.boxplot(clf.Calidad) "
      ],
      "execution_count": 21,
      "outputs": [
        {
          "output_type": "execute_result",
          "data": {
            "text/plain": [
              "{'boxes': [<matplotlib.lines.Line2D at 0x7ffa950b2690>],\n",
              " 'caps': [<matplotlib.lines.Line2D at 0x7ffa950b6690>,\n",
              "  <matplotlib.lines.Line2D at 0x7ffa950b6bd0>],\n",
              " 'fliers': [<matplotlib.lines.Line2D at 0x7ffa950be6d0>],\n",
              " 'means': [],\n",
              " 'medians': [<matplotlib.lines.Line2D at 0x7ffa950be190>],\n",
              " 'whiskers': [<matplotlib.lines.Line2D at 0x7ffa950b2bd0>,\n",
              "  <matplotlib.lines.Line2D at 0x7ffa950b6150>]}"
            ]
          },
          "metadata": {
            "tags": []
          },
          "execution_count": 21
        },
        {
          "output_type": "display_data",
          "data": {
            "image/png": "[encoded data removed]",
            "text/plain": [
              "<Figure size 432x288 with 1 Axes>"
            ]
          },
          "metadata": {
            "tags": [],
            "needs_background": "light"
          }
        }
      ]
    },
    {
      "cell_type": "markdown",
      "metadata": {
        "id": "bb-Ia_oDO6Cb"
      },
      "source": [
        "**Tasa de Producción**"
      ]
    },
    {
      "cell_type": "code",
      "metadata": {
        "id": "6HTOtpU3O87W",
        "colab": {
          "base_uri": "https://localhost:8080/",
          "height": 0
        },
        "outputId": "5bc62fa2-9852-413c-da12-fb6fb8db0229"
      },
      "source": [
        "plt.title('Tasa de Producción')\n",
        "plt.boxplot(df.Tasa_Prod)"
      ],
      "execution_count": 22,
      "outputs": [
        {
          "output_type": "execute_result",
          "data": {
            "text/plain": [
              "{'boxes': [<matplotlib.lines.Line2D at 0x7ffa9501ce50>],\n",
              " 'caps': [<matplotlib.lines.Line2D at 0x7ffa95022e50>,\n",
              "  <matplotlib.lines.Line2D at 0x7ffa950283d0>],\n",
              " 'fliers': [<matplotlib.lines.Line2D at 0x7ffa95028ed0>],\n",
              " 'means': [],\n",
              " 'medians': [<matplotlib.lines.Line2D at 0x7ffa95028950>],\n",
              " 'whiskers': [<matplotlib.lines.Line2D at 0x7ffa950223d0>,\n",
              "  <matplotlib.lines.Line2D at 0x7ffa95022910>]}"
            ]
          },
          "metadata": {
            "tags": []
          },
          "execution_count": 22
        },
        {
          "output_type": "display_data",
          "data": {
            "image/png": "[encoded data removed]",
            "text/plain": [
              "<Figure size 432x288 with 1 Axes>"
            ]
          },
          "metadata": {
            "tags": [],
            "needs_background": "light"
          }
        }
      ]
    },
    {
      "cell_type": "code",
      "metadata": {
        "id": "mHOIr2oxPACp",
        "colab": {
          "base_uri": "https://localhost:8080/",
          "height": 0
        },
        "outputId": "79400a96-8e60-4891-fe93-8ef600a0737d"
      },
      "source": [
        "plt.title('Tasa de Producción')\n",
        "plt.boxplot(clf.Tasa_Prod)"
      ],
      "execution_count": 23,
      "outputs": [
        {
          "output_type": "execute_result",
          "data": {
            "text/plain": [
              "{'boxes': [<matplotlib.lines.Line2D at 0x7ffa94f98050>],\n",
              " 'caps': [<matplotlib.lines.Line2D at 0x7ffa94f98e90>,\n",
              "  <matplotlib.lines.Line2D at 0x7ffa94f9e410>],\n",
              " 'fliers': [<matplotlib.lines.Line2D at 0x7ffa94f9eed0>],\n",
              " 'means': [],\n",
              " 'medians': [<matplotlib.lines.Line2D at 0x7ffa94f9e990>],\n",
              " 'whiskers': [<matplotlib.lines.Line2D at 0x7ffa94f98490>,\n",
              "  <matplotlib.lines.Line2D at 0x7ffa94f98a50>]}"
            ]
          },
          "metadata": {
            "tags": []
          },
          "execution_count": 23
        },
        {
          "output_type": "display_data",
          "data": {
            "image/png": "[encoded data removed]",
            "text/plain": [
              "<Figure size 432x288 with 1 Axes>"
            ]
          },
          "metadata": {
            "tags": [],
            "needs_background": "light"
          }
        }
      ]
    },
    {
      "cell_type": "code",
      "metadata": {
        "id": "F2ZOxogAQHmg",
        "colab": {
          "base_uri": "https://localhost:8080/",
          "height": 0
        },
        "outputId": "ea1069a6-2485-4d16-a737-c04d6e6c398a"
      },
      "source": [
        "clf.boxplot(column=['Dureza', 'Tasa_Prod', 'Asp', 'EC', 'EE', 'Calidad'])"
      ],
      "execution_count": 24,
      "outputs": [
        {
          "output_type": "execute_result",
          "data": {
            "text/plain": [
              "<matplotlib.axes._subplots.AxesSubplot at 0x7ffa95546190>"
            ]
          },
          "metadata": {
            "tags": []
          },
          "execution_count": 24
        },
        {
          "output_type": "display_data",
          "data": {
            "image/png": "[encoded data removed]",
            "text/plain": [
              "<Figure size 432x288 with 1 Axes>"
            ]
          },
          "metadata": {
            "tags": [],
            "needs_background": "light"
          }
        }
      ]
    },
    {
      "cell_type": "markdown",
      "metadata": {
        "id": "78sonw_j7Udt"
      },
      "source": [
        "# Correlación"
      ]
    },
    {
      "cell_type": "code",
      "metadata": {
        "id": "0l5Q3-9y19n9",
        "colab": {
          "base_uri": "https://localhost:8080/",
          "height": 0
        },
        "outputId": "edec7002-a327-4093-eaaa-24444436bfa7"
      },
      "source": [
        "clf.set_index('TIME', inplace=True)   \n",
        "clf   "
      ],
      "execution_count": 25,
      "outputs": [
        {
          "output_type": "execute_result",
          "data": {
            "text/html": [
              "<div>\n",
              "<style scoped>\n",
              "    .dataframe tbody tr th:only-of-type {\n",
              "        vertical-align: middle;\n",
              "    }\n",
              "\n",
              "    .dataframe tbody tr th {\n",
              "        vertical-align: top;\n",
              "    }\n",
              "\n",
              "    .dataframe thead th {\n",
              "        text-align: right;\n",
              "    }\n",
              "</style>\n",
              "<table border=\"1\" class=\"dataframe\">\n",
              "  <thead>\n",
              "    <tr style=\"text-align: right;\">\n",
              "      <th></th>\n",
              "      <th>Dureza</th>\n",
              "      <th>Tasa_Prod</th>\n",
              "      <th>Asp</th>\n",
              "      <th>EC</th>\n",
              "      <th>EE</th>\n",
              "      <th>Calidad</th>\n",
              "    </tr>\n",
              "    <tr>\n",
              "      <th>TIME</th>\n",
              "      <th></th>\n",
              "      <th></th>\n",
              "      <th></th>\n",
              "      <th></th>\n",
              "      <th></th>\n",
              "      <th></th>\n",
              "    </tr>\n",
              "  </thead>\n",
              "  <tbody>\n",
              "    <tr>\n",
              "      <th>01/01/1995 0:00</th>\n",
              "      <td>100.0</td>\n",
              "      <td>368</td>\n",
              "      <td>2.78</td>\n",
              "      <td>15.1</td>\n",
              "      <td>29.7</td>\n",
              "      <td>0.053</td>\n",
              "    </tr>\n",
              "    <tr>\n",
              "      <th>02/01/1995 0:00</th>\n",
              "      <td>100.0</td>\n",
              "      <td>426</td>\n",
              "      <td>3.00</td>\n",
              "      <td>26.9</td>\n",
              "      <td>0.0</td>\n",
              "      <td>0.108</td>\n",
              "    </tr>\n",
              "    <tr>\n",
              "      <th>03/01/1995 0:00</th>\n",
              "      <td>101.0</td>\n",
              "      <td>446</td>\n",
              "      <td>3.00</td>\n",
              "      <td>29.5</td>\n",
              "      <td>0.0</td>\n",
              "      <td>0.098</td>\n",
              "    </tr>\n",
              "    <tr>\n",
              "      <th>04/01/1995 0:00</th>\n",
              "      <td>99.0</td>\n",
              "      <td>395</td>\n",
              "      <td>3.00</td>\n",
              "      <td>18.9</td>\n",
              "      <td>25.4</td>\n",
              "      <td>0.056</td>\n",
              "    </tr>\n",
              "    <tr>\n",
              "      <th>05/01/1995 0:00</th>\n",
              "      <td>102.0</td>\n",
              "      <td>380</td>\n",
              "      <td>3.00</td>\n",
              "      <td>17.5</td>\n",
              "      <td>26.6</td>\n",
              "      <td>0.051</td>\n",
              "    </tr>\n",
              "    <tr>\n",
              "      <th>...</th>\n",
              "      <td>...</td>\n",
              "      <td>...</td>\n",
              "      <td>...</td>\n",
              "      <td>...</td>\n",
              "      <td>...</td>\n",
              "      <td>...</td>\n",
              "    </tr>\n",
              "    <tr>\n",
              "      <th>12/09/2020 0:00</th>\n",
              "      <td>103.0</td>\n",
              "      <td>409</td>\n",
              "      <td>3.52</td>\n",
              "      <td>23.0</td>\n",
              "      <td>9.1</td>\n",
              "      <td>0.103</td>\n",
              "    </tr>\n",
              "    <tr>\n",
              "      <th>13/09/2020 0:00</th>\n",
              "      <td>104.0</td>\n",
              "      <td>413</td>\n",
              "      <td>3.52</td>\n",
              "      <td>16.9</td>\n",
              "      <td>24.8</td>\n",
              "      <td>0.108</td>\n",
              "    </tr>\n",
              "    <tr>\n",
              "      <th>14/09/2020 0:00</th>\n",
              "      <td>101.0</td>\n",
              "      <td>408</td>\n",
              "      <td>3.52</td>\n",
              "      <td>21.7</td>\n",
              "      <td>13.9</td>\n",
              "      <td>0.061</td>\n",
              "    </tr>\n",
              "    <tr>\n",
              "      <th>16/09/2020 0:00</th>\n",
              "      <td>100.0</td>\n",
              "      <td>399</td>\n",
              "      <td>3.52</td>\n",
              "      <td>17.0</td>\n",
              "      <td>22.8</td>\n",
              "      <td>0.059</td>\n",
              "    </tr>\n",
              "    <tr>\n",
              "      <th>17/09/2020 0:00</th>\n",
              "      <td>101.0</td>\n",
              "      <td>413</td>\n",
              "      <td>2.03</td>\n",
              "      <td>18.8</td>\n",
              "      <td>18.7</td>\n",
              "      <td>0.058</td>\n",
              "    </tr>\n",
              "  </tbody>\n",
              "</table>\n",
              "<p>8057 rows × 6 columns</p>\n",
              "</div>"
            ],
            "text/plain": [
              "                 Dureza  Tasa_Prod   Asp    EC    EE  Calidad\n",
              "TIME                                                         \n",
              "01/01/1995 0:00   100.0        368  2.78  15.1  29.7    0.053\n",
              "02/01/1995 0:00   100.0        426  3.00  26.9   0.0    0.108\n",
              "03/01/1995 0:00   101.0        446  3.00  29.5   0.0    0.098\n",
              "04/01/1995 0:00    99.0        395  3.00  18.9  25.4    0.056\n",
              "05/01/1995 0:00   102.0        380  3.00  17.5  26.6    0.051\n",
              "...                 ...        ...   ...   ...   ...      ...\n",
              "12/09/2020 0:00   103.0        409  3.52  23.0   9.1    0.103\n",
              "13/09/2020 0:00   104.0        413  3.52  16.9  24.8    0.108\n",
              "14/09/2020 0:00   101.0        408  3.52  21.7  13.9    0.061\n",
              "16/09/2020 0:00   100.0        399  3.52  17.0  22.8    0.059\n",
              "17/09/2020 0:00   101.0        413  2.03  18.8  18.7    0.058\n",
              "\n",
              "[8057 rows x 6 columns]"
            ]
          },
          "metadata": {
            "tags": []
          },
          "execution_count": 25
        }
      ]
    },
    {
      "cell_type": "code",
      "metadata": {
        "id": "FkRLslevwtVy",
        "colab": {
          "base_uri": "https://localhost:8080/",
          "height": 0
        },
        "outputId": "ea880e83-2e2b-4d79-faac-52d373e2d6b7"
      },
      "source": [
        "clf = clf.select_dtypes(include=['float64','int']) \n",
        "corr_matrix = clf.corr(method = 'pearson') \n",
        "sn.heatmap(corr_matrix, annot = True) \n",
        "plt.show() "
      ],
      "execution_count": 26,
      "outputs": [
        {
          "output_type": "display_data",
          "data": {
            "image/png": "[encoded data removed]",
            "text/plain": [
              "<Figure size 432x288 with 2 Axes>"
            ]
          },
          "metadata": {
            "tags": [],
            "needs_background": "light"
          }
        }
      ]
    },
    {
      "cell_type": "markdown",
      "metadata": {
        "id": "Y1Wy02JwwaNH"
      },
      "source": [
        "#Costo"
      ]
    },
    {
      "cell_type": "code",
      "metadata": {
        "id": "t1VSz_kBxHxE",
        "colab": {
          "base_uri": "https://localhost:8080/",
          "height": 0
        },
        "outputId": "8a18452c-0d3a-46ca-dc85-283f6f451fc4"
      },
      "source": [
        "clf"
      ],
      "execution_count": 27,
      "outputs": [
        {
          "output_type": "execute_result",
          "data": {
            "text/html": [
              "<div>\n",
              "<style scoped>\n",
              "    .dataframe tbody tr th:only-of-type {\n",
              "        vertical-align: middle;\n",
              "    }\n",
              "\n",
              "    .dataframe tbody tr th {\n",
              "        vertical-align: top;\n",
              "    }\n",
              "\n",
              "    .dataframe thead th {\n",
              "        text-align: right;\n",
              "    }\n",
              "</style>\n",
              "<table border=\"1\" class=\"dataframe\">\n",
              "  <thead>\n",
              "    <tr style=\"text-align: right;\">\n",
              "      <th></th>\n",
              "      <th>Dureza</th>\n",
              "      <th>Tasa_Prod</th>\n",
              "      <th>Asp</th>\n",
              "      <th>EC</th>\n",
              "      <th>EE</th>\n",
              "      <th>Calidad</th>\n",
              "    </tr>\n",
              "    <tr>\n",
              "      <th>TIME</th>\n",
              "      <th></th>\n",
              "      <th></th>\n",
              "      <th></th>\n",
              "      <th></th>\n",
              "      <th></th>\n",
              "      <th></th>\n",
              "    </tr>\n",
              "  </thead>\n",
              "  <tbody>\n",
              "    <tr>\n",
              "      <th>01/01/1995 0:00</th>\n",
              "      <td>100.0</td>\n",
              "      <td>368</td>\n",
              "      <td>2.78</td>\n",
              "      <td>15.1</td>\n",
              "      <td>29.7</td>\n",
              "      <td>0.053</td>\n",
              "    </tr>\n",
              "    <tr>\n",
              "      <th>02/01/1995 0:00</th>\n",
              "      <td>100.0</td>\n",
              "      <td>426</td>\n",
              "      <td>3.00</td>\n",
              "      <td>26.9</td>\n",
              "      <td>0.0</td>\n",
              "      <td>0.108</td>\n",
              "    </tr>\n",
              "    <tr>\n",
              "      <th>03/01/1995 0:00</th>\n",
              "      <td>101.0</td>\n",
              "      <td>446</td>\n",
              "      <td>3.00</td>\n",
              "      <td>29.5</td>\n",
              "      <td>0.0</td>\n",
              "      <td>0.098</td>\n",
              "    </tr>\n",
              "    <tr>\n",
              "      <th>04/01/1995 0:00</th>\n",
              "      <td>99.0</td>\n",
              "      <td>395</td>\n",
              "      <td>3.00</td>\n",
              "      <td>18.9</td>\n",
              "      <td>25.4</td>\n",
              "      <td>0.056</td>\n",
              "    </tr>\n",
              "    <tr>\n",
              "      <th>05/01/1995 0:00</th>\n",
              "      <td>102.0</td>\n",
              "      <td>380</td>\n",
              "      <td>3.00</td>\n",
              "      <td>17.5</td>\n",
              "      <td>26.6</td>\n",
              "      <td>0.051</td>\n",
              "    </tr>\n",
              "    <tr>\n",
              "      <th>...</th>\n",
              "      <td>...</td>\n",
              "      <td>...</td>\n",
              "      <td>...</td>\n",
              "      <td>...</td>\n",
              "      <td>...</td>\n",
              "      <td>...</td>\n",
              "    </tr>\n",
              "    <tr>\n",
              "      <th>12/09/2020 0:00</th>\n",
              "      <td>103.0</td>\n",
              "      <td>409</td>\n",
              "      <td>3.52</td>\n",
              "      <td>23.0</td>\n",
              "      <td>9.1</td>\n",
              "      <td>0.103</td>\n",
              "    </tr>\n",
              "    <tr>\n",
              "      <th>13/09/2020 0:00</th>\n",
              "      <td>104.0</td>\n",
              "      <td>413</td>\n",
              "      <td>3.52</td>\n",
              "      <td>16.9</td>\n",
              "      <td>24.8</td>\n",
              "      <td>0.108</td>\n",
              "    </tr>\n",
              "    <tr>\n",
              "      <th>14/09/2020 0:00</th>\n",
              "      <td>101.0</td>\n",
              "      <td>408</td>\n",
              "      <td>3.52</td>\n",
              "      <td>21.7</td>\n",
              "      <td>13.9</td>\n",
              "      <td>0.061</td>\n",
              "    </tr>\n",
              "    <tr>\n",
              "      <th>16/09/2020 0:00</th>\n",
              "      <td>100.0</td>\n",
              "      <td>399</td>\n",
              "      <td>3.52</td>\n",
              "      <td>17.0</td>\n",
              "      <td>22.8</td>\n",
              "      <td>0.059</td>\n",
              "    </tr>\n",
              "    <tr>\n",
              "      <th>17/09/2020 0:00</th>\n",
              "      <td>101.0</td>\n",
              "      <td>413</td>\n",
              "      <td>2.03</td>\n",
              "      <td>18.8</td>\n",
              "      <td>18.7</td>\n",
              "      <td>0.058</td>\n",
              "    </tr>\n",
              "  </tbody>\n",
              "</table>\n",
              "<p>8057 rows × 6 columns</p>\n",
              "</div>"
            ],
            "text/plain": [
              "                 Dureza  Tasa_Prod   Asp    EC    EE  Calidad\n",
              "TIME                                                         \n",
              "01/01/1995 0:00   100.0        368  2.78  15.1  29.7    0.053\n",
              "02/01/1995 0:00   100.0        426  3.00  26.9   0.0    0.108\n",
              "03/01/1995 0:00   101.0        446  3.00  29.5   0.0    0.098\n",
              "04/01/1995 0:00    99.0        395  3.00  18.9  25.4    0.056\n",
              "05/01/1995 0:00   102.0        380  3.00  17.5  26.6    0.051\n",
              "...                 ...        ...   ...   ...   ...      ...\n",
              "12/09/2020 0:00   103.0        409  3.52  23.0   9.1    0.103\n",
              "13/09/2020 0:00   104.0        413  3.52  16.9  24.8    0.108\n",
              "14/09/2020 0:00   101.0        408  3.52  21.7  13.9    0.061\n",
              "16/09/2020 0:00   100.0        399  3.52  17.0  22.8    0.059\n",
              "17/09/2020 0:00   101.0        413  2.03  18.8  18.7    0.058\n",
              "\n",
              "[8057 rows x 6 columns]"
            ]
          },
          "metadata": {
            "tags": []
          },
          "execution_count": 27
        }
      ]
    },
    {
      "cell_type": "code",
      "metadata": {
        "id": "6fwoDE7s0WiY",
        "colab": {
          "base_uri": "https://localhost:8080/",
          "height": 0
        },
        "outputId": "8013fcd1-d0ca-4d56-e0b6-d583bcd1ab99"
      },
      "source": [
        "clf['Costo_Total'] = pd.Series(clf['EE'] + (.724 * clf['EC']))\n",
        "clf['Costo_Ponderado'] = pd.Series(clf['Costo_Total'] / clf['Tasa_Prod']) \n",
        "clf['EE_Ponderado'] = pd.Series(clf['EE'] / clf['Tasa_Prod'])\n",
        "clf['EC_Ponderado'] = pd.Series(clf['EC'] / clf['Tasa_Prod']) \n",
        "clf"
      ],
      "execution_count": 28,
      "outputs": [
        {
          "output_type": "execute_result",
          "data": {
            "text/html": [
              "<div>\n",
              "<style scoped>\n",
              "    .dataframe tbody tr th:only-of-type {\n",
              "        vertical-align: middle;\n",
              "    }\n",
              "\n",
              "    .dataframe tbody tr th {\n",
              "        vertical-align: top;\n",
              "    }\n",
              "\n",
              "    .dataframe thead th {\n",
              "        text-align: right;\n",
              "    }\n",
              "</style>\n",
              "<table border=\"1\" class=\"dataframe\">\n",
              "  <thead>\n",
              "    <tr style=\"text-align: right;\">\n",
              "      <th></th>\n",
              "      <th>Dureza</th>\n",
              "      <th>Tasa_Prod</th>\n",
              "      <th>Asp</th>\n",
              "      <th>EC</th>\n",
              "      <th>EE</th>\n",
              "      <th>Calidad</th>\n",
              "      <th>Costo_Total</th>\n",
              "      <th>Costo_Ponderado</th>\n",
              "      <th>EE_Ponderado</th>\n",
              "      <th>EC_Ponderado</th>\n",
              "    </tr>\n",
              "    <tr>\n",
              "      <th>TIME</th>\n",
              "      <th></th>\n",
              "      <th></th>\n",
              "      <th></th>\n",
              "      <th></th>\n",
              "      <th></th>\n",
              "      <th></th>\n",
              "      <th></th>\n",
              "      <th></th>\n",
              "      <th></th>\n",
              "      <th></th>\n",
              "    </tr>\n",
              "  </thead>\n",
              "  <tbody>\n",
              "    <tr>\n",
              "      <th>01/01/1995 0:00</th>\n",
              "      <td>100.0</td>\n",
              "      <td>368</td>\n",
              "      <td>2.78</td>\n",
              "      <td>15.1</td>\n",
              "      <td>29.7</td>\n",
              "      <td>0.053</td>\n",
              "      <td>40.6324</td>\n",
              "      <td>0.110414</td>\n",
              "      <td>0.080707</td>\n",
              "      <td>0.041033</td>\n",
              "    </tr>\n",
              "    <tr>\n",
              "      <th>02/01/1995 0:00</th>\n",
              "      <td>100.0</td>\n",
              "      <td>426</td>\n",
              "      <td>3.00</td>\n",
              "      <td>26.9</td>\n",
              "      <td>0.0</td>\n",
              "      <td>0.108</td>\n",
              "      <td>19.4756</td>\n",
              "      <td>0.045717</td>\n",
              "      <td>0.000000</td>\n",
              "      <td>0.063146</td>\n",
              "    </tr>\n",
              "    <tr>\n",
              "      <th>03/01/1995 0:00</th>\n",
              "      <td>101.0</td>\n",
              "      <td>446</td>\n",
              "      <td>3.00</td>\n",
              "      <td>29.5</td>\n",
              "      <td>0.0</td>\n",
              "      <td>0.098</td>\n",
              "      <td>21.3580</td>\n",
              "      <td>0.047888</td>\n",
              "      <td>0.000000</td>\n",
              "      <td>0.066143</td>\n",
              "    </tr>\n",
              "    <tr>\n",
              "      <th>04/01/1995 0:00</th>\n",
              "      <td>99.0</td>\n",
              "      <td>395</td>\n",
              "      <td>3.00</td>\n",
              "      <td>18.9</td>\n",
              "      <td>25.4</td>\n",
              "      <td>0.056</td>\n",
              "      <td>39.0836</td>\n",
              "      <td>0.098946</td>\n",
              "      <td>0.064304</td>\n",
              "      <td>0.047848</td>\n",
              "    </tr>\n",
              "    <tr>\n",
              "      <th>05/01/1995 0:00</th>\n",
              "      <td>102.0</td>\n",
              "      <td>380</td>\n",
              "      <td>3.00</td>\n",
              "      <td>17.5</td>\n",
              "      <td>26.6</td>\n",
              "      <td>0.051</td>\n",
              "      <td>39.2700</td>\n",
              "      <td>0.103342</td>\n",
              "      <td>0.070000</td>\n",
              "      <td>0.046053</td>\n",
              "    </tr>\n",
              "    <tr>\n",
              "      <th>...</th>\n",
              "      <td>...</td>\n",
              "      <td>...</td>\n",
              "      <td>...</td>\n",
              "      <td>...</td>\n",
              "      <td>...</td>\n",
              "      <td>...</td>\n",
              "      <td>...</td>\n",
              "      <td>...</td>\n",
              "      <td>...</td>\n",
              "      <td>...</td>\n",
              "    </tr>\n",
              "    <tr>\n",
              "      <th>12/09/2020 0:00</th>\n",
              "      <td>103.0</td>\n",
              "      <td>409</td>\n",
              "      <td>3.52</td>\n",
              "      <td>23.0</td>\n",
              "      <td>9.1</td>\n",
              "      <td>0.103</td>\n",
              "      <td>25.7520</td>\n",
              "      <td>0.062963</td>\n",
              "      <td>0.022249</td>\n",
              "      <td>0.056235</td>\n",
              "    </tr>\n",
              "    <tr>\n",
              "      <th>13/09/2020 0:00</th>\n",
              "      <td>104.0</td>\n",
              "      <td>413</td>\n",
              "      <td>3.52</td>\n",
              "      <td>16.9</td>\n",
              "      <td>24.8</td>\n",
              "      <td>0.108</td>\n",
              "      <td>37.0356</td>\n",
              "      <td>0.089675</td>\n",
              "      <td>0.060048</td>\n",
              "      <td>0.040920</td>\n",
              "    </tr>\n",
              "    <tr>\n",
              "      <th>14/09/2020 0:00</th>\n",
              "      <td>101.0</td>\n",
              "      <td>408</td>\n",
              "      <td>3.52</td>\n",
              "      <td>21.7</td>\n",
              "      <td>13.9</td>\n",
              "      <td>0.061</td>\n",
              "      <td>29.6108</td>\n",
              "      <td>0.072575</td>\n",
              "      <td>0.034069</td>\n",
              "      <td>0.053186</td>\n",
              "    </tr>\n",
              "    <tr>\n",
              "      <th>16/09/2020 0:00</th>\n",
              "      <td>100.0</td>\n",
              "      <td>399</td>\n",
              "      <td>3.52</td>\n",
              "      <td>17.0</td>\n",
              "      <td>22.8</td>\n",
              "      <td>0.059</td>\n",
              "      <td>35.1080</td>\n",
              "      <td>0.087990</td>\n",
              "      <td>0.057143</td>\n",
              "      <td>0.042607</td>\n",
              "    </tr>\n",
              "    <tr>\n",
              "      <th>17/09/2020 0:00</th>\n",
              "      <td>101.0</td>\n",
              "      <td>413</td>\n",
              "      <td>2.03</td>\n",
              "      <td>18.8</td>\n",
              "      <td>18.7</td>\n",
              "      <td>0.058</td>\n",
              "      <td>32.3112</td>\n",
              "      <td>0.078235</td>\n",
              "      <td>0.045278</td>\n",
              "      <td>0.045521</td>\n",
              "    </tr>\n",
              "  </tbody>\n",
              "</table>\n",
              "<p>8057 rows × 10 columns</p>\n",
              "</div>"
            ],
            "text/plain": [
              "                 Dureza  Tasa_Prod  ...  EE_Ponderado  EC_Ponderado\n",
              "TIME                                ...                            \n",
              "01/01/1995 0:00   100.0        368  ...      0.080707      0.041033\n",
              "02/01/1995 0:00   100.0        426  ...      0.000000      0.063146\n",
              "03/01/1995 0:00   101.0        446  ...      0.000000      0.066143\n",
              "04/01/1995 0:00    99.0        395  ...      0.064304      0.047848\n",
              "05/01/1995 0:00   102.0        380  ...      0.070000      0.046053\n",
              "...                 ...        ...  ...           ...           ...\n",
              "12/09/2020 0:00   103.0        409  ...      0.022249      0.056235\n",
              "13/09/2020 0:00   104.0        413  ...      0.060048      0.040920\n",
              "14/09/2020 0:00   101.0        408  ...      0.034069      0.053186\n",
              "16/09/2020 0:00   100.0        399  ...      0.057143      0.042607\n",
              "17/09/2020 0:00   101.0        413  ...      0.045278      0.045521\n",
              "\n",
              "[8057 rows x 10 columns]"
            ]
          },
          "metadata": {
            "tags": []
          },
          "execution_count": 28
        }
      ]
    },
    {
      "cell_type": "code",
      "metadata": {
        "id": "dlbXQV-X8lUK",
        "colab": {
          "base_uri": "https://localhost:8080/"
        },
        "outputId": "412e6f89-4cd9-4b67-df4d-a7a0632b7a54"
      },
      "source": [
        "clf['Costo_Ponderado'].mean()"
      ],
      "execution_count": 29,
      "outputs": [
        {
          "output_type": "execute_result",
          "data": {
            "text/plain": [
              "0.08489429080665893"
            ]
          },
          "metadata": {
            "tags": []
          },
          "execution_count": 29
        }
      ]
    },
    {
      "cell_type": "code",
      "metadata": {
        "id": "1Z8-vBX58scj",
        "colab": {
          "base_uri": "https://localhost:8080/",
          "height": 0
        },
        "outputId": "c89bbd61-cad6-4117-f9ef-544099a78141"
      },
      "source": [
        "clf.describe()"
      ],
      "execution_count": 30,
      "outputs": [
        {
          "output_type": "execute_result",
          "data": {
            "text/html": [
              "<div>\n",
              "<style scoped>\n",
              "    .dataframe tbody tr th:only-of-type {\n",
              "        vertical-align: middle;\n",
              "    }\n",
              "\n",
              "    .dataframe tbody tr th {\n",
              "        vertical-align: top;\n",
              "    }\n",
              "\n",
              "    .dataframe thead th {\n",
              "        text-align: right;\n",
              "    }\n",
              "</style>\n",
              "<table border=\"1\" class=\"dataframe\">\n",
              "  <thead>\n",
              "    <tr style=\"text-align: right;\">\n",
              "      <th></th>\n",
              "      <th>Dureza</th>\n",
              "      <th>Tasa_Prod</th>\n",
              "      <th>Asp</th>\n",
              "      <th>EC</th>\n",
              "      <th>EE</th>\n",
              "      <th>Calidad</th>\n",
              "      <th>Costo_Total</th>\n",
              "      <th>Costo_Ponderado</th>\n",
              "      <th>EE_Ponderado</th>\n",
              "      <th>EC_Ponderado</th>\n",
              "    </tr>\n",
              "  </thead>\n",
              "  <tbody>\n",
              "    <tr>\n",
              "      <th>count</th>\n",
              "      <td>8057.000000</td>\n",
              "      <td>8057.000000</td>\n",
              "      <td>8057.000000</td>\n",
              "      <td>8057.000000</td>\n",
              "      <td>8057.000000</td>\n",
              "      <td>8057.000000</td>\n",
              "      <td>8057.000000</td>\n",
              "      <td>8057.000000</td>\n",
              "      <td>8057.000000</td>\n",
              "      <td>8057.000000</td>\n",
              "    </tr>\n",
              "    <tr>\n",
              "      <th>mean</th>\n",
              "      <td>104.106243</td>\n",
              "      <td>400.245377</td>\n",
              "      <td>3.204921</td>\n",
              "      <td>19.790791</td>\n",
              "      <td>19.555405</td>\n",
              "      <td>0.093814</td>\n",
              "      <td>33.883938</td>\n",
              "      <td>0.084894</td>\n",
              "      <td>0.049156</td>\n",
              "      <td>0.049362</td>\n",
              "    </tr>\n",
              "    <tr>\n",
              "      <th>std</th>\n",
              "      <td>2.057365</td>\n",
              "      <td>17.016625</td>\n",
              "      <td>0.285065</td>\n",
              "      <td>6.433309</td>\n",
              "      <td>7.746881</td>\n",
              "      <td>0.045528</td>\n",
              "      <td>6.872697</td>\n",
              "      <td>0.017977</td>\n",
              "      <td>0.019904</td>\n",
              "      <td>0.015694</td>\n",
              "    </tr>\n",
              "    <tr>\n",
              "      <th>min</th>\n",
              "      <td>80.000000</td>\n",
              "      <td>363.000000</td>\n",
              "      <td>1.110000</td>\n",
              "      <td>0.000000</td>\n",
              "      <td>0.000000</td>\n",
              "      <td>0.040000</td>\n",
              "      <td>0.000000</td>\n",
              "      <td>0.000000</td>\n",
              "      <td>0.000000</td>\n",
              "      <td>0.000000</td>\n",
              "    </tr>\n",
              "    <tr>\n",
              "      <th>25%</th>\n",
              "      <td>103.000000</td>\n",
              "      <td>389.000000</td>\n",
              "      <td>3.140000</td>\n",
              "      <td>16.400000</td>\n",
              "      <td>14.900000</td>\n",
              "      <td>0.066000</td>\n",
              "      <td>30.156800</td>\n",
              "      <td>0.074167</td>\n",
              "      <td>0.036675</td>\n",
              "      <td>0.041397</td>\n",
              "    </tr>\n",
              "    <tr>\n",
              "      <th>50%</th>\n",
              "      <td>104.000000</td>\n",
              "      <td>400.000000</td>\n",
              "      <td>3.270000</td>\n",
              "      <td>19.400000</td>\n",
              "      <td>20.300000</td>\n",
              "      <td>0.085000</td>\n",
              "      <td>34.618000</td>\n",
              "      <td>0.086383</td>\n",
              "      <td>0.051000</td>\n",
              "      <td>0.048628</td>\n",
              "    </tr>\n",
              "    <tr>\n",
              "      <th>75%</th>\n",
              "      <td>105.000000</td>\n",
              "      <td>410.000000</td>\n",
              "      <td>3.390000</td>\n",
              "      <td>23.800000</td>\n",
              "      <td>25.500000</td>\n",
              "      <td>0.109000</td>\n",
              "      <td>38.828800</td>\n",
              "      <td>0.098497</td>\n",
              "      <td>0.064573</td>\n",
              "      <td>0.059326</td>\n",
              "    </tr>\n",
              "    <tr>\n",
              "      <th>max</th>\n",
              "      <td>112.000000</td>\n",
              "      <td>480.000000</td>\n",
              "      <td>3.520000</td>\n",
              "      <td>40.400000</td>\n",
              "      <td>34.500000</td>\n",
              "      <td>0.887000</td>\n",
              "      <td>50.138000</td>\n",
              "      <td>0.127841</td>\n",
              "      <td>0.093407</td>\n",
              "      <td>0.102290</td>\n",
              "    </tr>\n",
              "  </tbody>\n",
              "</table>\n",
              "</div>"
            ],
            "text/plain": [
              "            Dureza    Tasa_Prod  ...  EE_Ponderado  EC_Ponderado\n",
              "count  8057.000000  8057.000000  ...   8057.000000   8057.000000\n",
              "mean    104.106243   400.245377  ...      0.049156      0.049362\n",
              "std       2.057365    17.016625  ...      0.019904      0.015694\n",
              "min      80.000000   363.000000  ...      0.000000      0.000000\n",
              "25%     103.000000   389.000000  ...      0.036675      0.041397\n",
              "50%     104.000000   400.000000  ...      0.051000      0.048628\n",
              "75%     105.000000   410.000000  ...      0.064573      0.059326\n",
              "max     112.000000   480.000000  ...      0.093407      0.102290\n",
              "\n",
              "[8 rows x 10 columns]"
            ]
          },
          "metadata": {
            "tags": []
          },
          "execution_count": 30
        }
      ]
    },
    {
      "cell_type": "markdown",
      "metadata": {
        "id": "BVQvkZ59FybU"
      },
      "source": [
        "# Nuevas Variables Categóricas"
      ]
    },
    {
      "cell_type": "code",
      "metadata": {
        "id": "xG5GdVERNCcN"
      },
      "source": [
        "#Crear columna total \n",
        "import copy \n",
        "new_clf = copy.deepcopy(clf) \n",
        "new_df = copy.deepcopy(clf) "
      ],
      "execution_count": 31,
      "outputs": []
    },
    {
      "cell_type": "code",
      "metadata": {
        "id": "LBgoDXd9DUWW",
        "colab": {
          "base_uri": "https://localhost:8080/",
          "height": 67
        },
        "outputId": "37d01de2-7d6e-4e49-e075-2915b98c3561"
      },
      "source": [
        "'''new_clf.loc[clf.Calidad < 0.075,'Calidad_Categorica']='Aceptable'  \n",
        "new_clf.loc[(clf.Calidad > .074) & (clf.Calidad < .1),'Calidad_Categorica'] = 'Regular'   \n",
        "new_clf.loc[(clf.Calidad > .099) & (clf.Calidad < 0.14),'Calidad_Categorica'] = 'Bueno'   \n",
        "new_clf.loc[clf.Calidad > 0.14,'Calidad_Categorica']='Excelente'\n",
        "new_clf['Calidad_Categorica']=new_clf['Calidad_Categorica'].fillna('Excelente') \n",
        "del(new_clf['Calidad'])      \n",
        "new_clf'''"
      ],
      "execution_count": 32,
      "outputs": [
        {
          "output_type": "execute_result",
          "data": {
            "application/vnd.google.colaboratory.intrinsic+json": {
              "type": "string"
            },
            "text/plain": [
              "\"new_clf.loc[clf.Calidad < 0.075,'Calidad_Categorica']='Aceptable'  \\nnew_clf.loc[(clf.Calidad > .074) & (clf.Calidad < .1),'Calidad_Categorica'] = 'Regular'   \\nnew_clf.loc[(clf.Calidad > .099) & (clf.Calidad < 0.14),'Calidad_Categorica'] = 'Bueno'   \\nnew_clf.loc[clf.Calidad > 0.14,'Calidad_Categorica']='Excelente'\\nnew_clf['Calidad_Categorica']=new_clf['Calidad_Categorica'].fillna('Excelente') \\ndel(new_clf['Calidad'])      \\nnew_clf\""
            ]
          },
          "metadata": {
            "tags": []
          },
          "execution_count": 32
        }
      ]
    },
    {
      "cell_type": "code",
      "metadata": {
        "id": "fahCOgZDIWdA",
        "colab": {
          "base_uri": "https://localhost:8080/",
          "height": 420
        },
        "outputId": "20ac587f-74ce-4dd3-d57b-56825e0b4c40"
      },
      "source": [
        "new_clf.loc[clf.Calidad < 0.1,'Calidad_Categorica']='Aceptable'   \n",
        "new_clf.loc[(clf.Calidad > .1) & (clf.Calidad < .12),'Calidad_Categorica'] = 'Regular'    \n",
        "new_clf.loc[(clf.Calidad > .12) & (clf.Calidad < 0.15),'Calidad_Categorica'] = 'Bueno'   \n",
        "new_clf.loc[clf.Calidad > 0.15,'Calidad_Categorica']='Excelente'    \n",
        "new_clf['Calidad_Categorica']=new_clf['Calidad_Categorica'].fillna('Regular')    \n",
        "del(new_clf['Calidad'])   \n",
        "new_clf  "
      ],
      "execution_count": 33,
      "outputs": [
        {
          "output_type": "execute_result",
          "data": {
            "text/html": [
              "<div>\n",
              "<style scoped>\n",
              "    .dataframe tbody tr th:only-of-type {\n",
              "        vertical-align: middle;\n",
              "    }\n",
              "\n",
              "    .dataframe tbody tr th {\n",
              "        vertical-align: top;\n",
              "    }\n",
              "\n",
              "    .dataframe thead th {\n",
              "        text-align: right;\n",
              "    }\n",
              "</style>\n",
              "<table border=\"1\" class=\"dataframe\">\n",
              "  <thead>\n",
              "    <tr style=\"text-align: right;\">\n",
              "      <th></th>\n",
              "      <th>Dureza</th>\n",
              "      <th>Tasa_Prod</th>\n",
              "      <th>Asp</th>\n",
              "      <th>EC</th>\n",
              "      <th>EE</th>\n",
              "      <th>Costo_Total</th>\n",
              "      <th>Costo_Ponderado</th>\n",
              "      <th>EE_Ponderado</th>\n",
              "      <th>EC_Ponderado</th>\n",
              "      <th>Calidad_Categorica</th>\n",
              "    </tr>\n",
              "    <tr>\n",
              "      <th>TIME</th>\n",
              "      <th></th>\n",
              "      <th></th>\n",
              "      <th></th>\n",
              "      <th></th>\n",
              "      <th></th>\n",
              "      <th></th>\n",
              "      <th></th>\n",
              "      <th></th>\n",
              "      <th></th>\n",
              "      <th></th>\n",
              "    </tr>\n",
              "  </thead>\n",
              "  <tbody>\n",
              "    <tr>\n",
              "      <th>01/01/1995 0:00</th>\n",
              "      <td>100.0</td>\n",
              "      <td>368</td>\n",
              "      <td>2.78</td>\n",
              "      <td>15.1</td>\n",
              "      <td>29.7</td>\n",
              "      <td>40.6324</td>\n",
              "      <td>0.110414</td>\n",
              "      <td>0.080707</td>\n",
              "      <td>0.041033</td>\n",
              "      <td>Aceptable</td>\n",
              "    </tr>\n",
              "    <tr>\n",
              "      <th>02/01/1995 0:00</th>\n",
              "      <td>100.0</td>\n",
              "      <td>426</td>\n",
              "      <td>3.00</td>\n",
              "      <td>26.9</td>\n",
              "      <td>0.0</td>\n",
              "      <td>19.4756</td>\n",
              "      <td>0.045717</td>\n",
              "      <td>0.000000</td>\n",
              "      <td>0.063146</td>\n",
              "      <td>Regular</td>\n",
              "    </tr>\n",
              "    <tr>\n",
              "      <th>03/01/1995 0:00</th>\n",
              "      <td>101.0</td>\n",
              "      <td>446</td>\n",
              "      <td>3.00</td>\n",
              "      <td>29.5</td>\n",
              "      <td>0.0</td>\n",
              "      <td>21.3580</td>\n",
              "      <td>0.047888</td>\n",
              "      <td>0.000000</td>\n",
              "      <td>0.066143</td>\n",
              "      <td>Aceptable</td>\n",
              "    </tr>\n",
              "    <tr>\n",
              "      <th>04/01/1995 0:00</th>\n",
              "      <td>99.0</td>\n",
              "      <td>395</td>\n",
              "      <td>3.00</td>\n",
              "      <td>18.9</td>\n",
              "      <td>25.4</td>\n",
              "      <td>39.0836</td>\n",
              "      <td>0.098946</td>\n",
              "      <td>0.064304</td>\n",
              "      <td>0.047848</td>\n",
              "      <td>Aceptable</td>\n",
              "    </tr>\n",
              "    <tr>\n",
              "      <th>05/01/1995 0:00</th>\n",
              "      <td>102.0</td>\n",
              "      <td>380</td>\n",
              "      <td>3.00</td>\n",
              "      <td>17.5</td>\n",
              "      <td>26.6</td>\n",
              "      <td>39.2700</td>\n",
              "      <td>0.103342</td>\n",
              "      <td>0.070000</td>\n",
              "      <td>0.046053</td>\n",
              "      <td>Aceptable</td>\n",
              "    </tr>\n",
              "    <tr>\n",
              "      <th>...</th>\n",
              "      <td>...</td>\n",
              "      <td>...</td>\n",
              "      <td>...</td>\n",
              "      <td>...</td>\n",
              "      <td>...</td>\n",
              "      <td>...</td>\n",
              "      <td>...</td>\n",
              "      <td>...</td>\n",
              "      <td>...</td>\n",
              "      <td>...</td>\n",
              "    </tr>\n",
              "    <tr>\n",
              "      <th>12/09/2020 0:00</th>\n",
              "      <td>103.0</td>\n",
              "      <td>409</td>\n",
              "      <td>3.52</td>\n",
              "      <td>23.0</td>\n",
              "      <td>9.1</td>\n",
              "      <td>25.7520</td>\n",
              "      <td>0.062963</td>\n",
              "      <td>0.022249</td>\n",
              "      <td>0.056235</td>\n",
              "      <td>Regular</td>\n",
              "    </tr>\n",
              "    <tr>\n",
              "      <th>13/09/2020 0:00</th>\n",
              "      <td>104.0</td>\n",
              "      <td>413</td>\n",
              "      <td>3.52</td>\n",
              "      <td>16.9</td>\n",
              "      <td>24.8</td>\n",
              "      <td>37.0356</td>\n",
              "      <td>0.089675</td>\n",
              "      <td>0.060048</td>\n",
              "      <td>0.040920</td>\n",
              "      <td>Regular</td>\n",
              "    </tr>\n",
              "    <tr>\n",
              "      <th>14/09/2020 0:00</th>\n",
              "      <td>101.0</td>\n",
              "      <td>408</td>\n",
              "      <td>3.52</td>\n",
              "      <td>21.7</td>\n",
              "      <td>13.9</td>\n",
              "      <td>29.6108</td>\n",
              "      <td>0.072575</td>\n",
              "      <td>0.034069</td>\n",
              "      <td>0.053186</td>\n",
              "      <td>Aceptable</td>\n",
              "    </tr>\n",
              "    <tr>\n",
              "      <th>16/09/2020 0:00</th>\n",
              "      <td>100.0</td>\n",
              "      <td>399</td>\n",
              "      <td>3.52</td>\n",
              "      <td>17.0</td>\n",
              "      <td>22.8</td>\n",
              "      <td>35.1080</td>\n",
              "      <td>0.087990</td>\n",
              "      <td>0.057143</td>\n",
              "      <td>0.042607</td>\n",
              "      <td>Aceptable</td>\n",
              "    </tr>\n",
              "    <tr>\n",
              "      <th>17/09/2020 0:00</th>\n",
              "      <td>101.0</td>\n",
              "      <td>413</td>\n",
              "      <td>2.03</td>\n",
              "      <td>18.8</td>\n",
              "      <td>18.7</td>\n",
              "      <td>32.3112</td>\n",
              "      <td>0.078235</td>\n",
              "      <td>0.045278</td>\n",
              "      <td>0.045521</td>\n",
              "      <td>Aceptable</td>\n",
              "    </tr>\n",
              "  </tbody>\n",
              "</table>\n",
              "<p>8057 rows × 10 columns</p>\n",
              "</div>"
            ],
            "text/plain": [
              "                 Dureza  Tasa_Prod  ...  EC_Ponderado  Calidad_Categorica\n",
              "TIME                                ...                                  \n",
              "01/01/1995 0:00   100.0        368  ...      0.041033           Aceptable\n",
              "02/01/1995 0:00   100.0        426  ...      0.063146             Regular\n",
              "03/01/1995 0:00   101.0        446  ...      0.066143           Aceptable\n",
              "04/01/1995 0:00    99.0        395  ...      0.047848           Aceptable\n",
              "05/01/1995 0:00   102.0        380  ...      0.046053           Aceptable\n",
              "...                 ...        ...  ...           ...                 ...\n",
              "12/09/2020 0:00   103.0        409  ...      0.056235             Regular\n",
              "13/09/2020 0:00   104.0        413  ...      0.040920             Regular\n",
              "14/09/2020 0:00   101.0        408  ...      0.053186           Aceptable\n",
              "16/09/2020 0:00   100.0        399  ...      0.042607           Aceptable\n",
              "17/09/2020 0:00   101.0        413  ...      0.045521           Aceptable\n",
              "\n",
              "[8057 rows x 10 columns]"
            ]
          },
          "metadata": {
            "tags": []
          },
          "execution_count": 33
        }
      ]
    },
    {
      "cell_type": "code",
      "metadata": {
        "id": "9MwbW-uCfv1N",
        "colab": {
          "base_uri": "https://localhost:8080/",
          "height": 277
        },
        "outputId": "63e39063-63df-427a-e311-58845021f220"
      },
      "source": [
        "clf.describe()"
      ],
      "execution_count": 34,
      "outputs": [
        {
          "output_type": "execute_result",
          "data": {
            "text/html": [
              "<div>\n",
              "<style scoped>\n",
              "    .dataframe tbody tr th:only-of-type {\n",
              "        vertical-align: middle;\n",
              "    }\n",
              "\n",
              "    .dataframe tbody tr th {\n",
              "        vertical-align: top;\n",
              "    }\n",
              "\n",
              "    .dataframe thead th {\n",
              "        text-align: right;\n",
              "    }\n",
              "</style>\n",
              "<table border=\"1\" class=\"dataframe\">\n",
              "  <thead>\n",
              "    <tr style=\"text-align: right;\">\n",
              "      <th></th>\n",
              "      <th>Dureza</th>\n",
              "      <th>Tasa_Prod</th>\n",
              "      <th>Asp</th>\n",
              "      <th>EC</th>\n",
              "      <th>EE</th>\n",
              "      <th>Calidad</th>\n",
              "      <th>Costo_Total</th>\n",
              "      <th>Costo_Ponderado</th>\n",
              "      <th>EE_Ponderado</th>\n",
              "      <th>EC_Ponderado</th>\n",
              "    </tr>\n",
              "  </thead>\n",
              "  <tbody>\n",
              "    <tr>\n",
              "      <th>count</th>\n",
              "      <td>8057.000000</td>\n",
              "      <td>8057.000000</td>\n",
              "      <td>8057.000000</td>\n",
              "      <td>8057.000000</td>\n",
              "      <td>8057.000000</td>\n",
              "      <td>8057.000000</td>\n",
              "      <td>8057.000000</td>\n",
              "      <td>8057.000000</td>\n",
              "      <td>8057.000000</td>\n",
              "      <td>8057.000000</td>\n",
              "    </tr>\n",
              "    <tr>\n",
              "      <th>mean</th>\n",
              "      <td>104.106243</td>\n",
              "      <td>400.245377</td>\n",
              "      <td>3.204921</td>\n",
              "      <td>19.790791</td>\n",
              "      <td>19.555405</td>\n",
              "      <td>0.093814</td>\n",
              "      <td>33.883938</td>\n",
              "      <td>0.084894</td>\n",
              "      <td>0.049156</td>\n",
              "      <td>0.049362</td>\n",
              "    </tr>\n",
              "    <tr>\n",
              "      <th>std</th>\n",
              "      <td>2.057365</td>\n",
              "      <td>17.016625</td>\n",
              "      <td>0.285065</td>\n",
              "      <td>6.433309</td>\n",
              "      <td>7.746881</td>\n",
              "      <td>0.045528</td>\n",
              "      <td>6.872697</td>\n",
              "      <td>0.017977</td>\n",
              "      <td>0.019904</td>\n",
              "      <td>0.015694</td>\n",
              "    </tr>\n",
              "    <tr>\n",
              "      <th>min</th>\n",
              "      <td>80.000000</td>\n",
              "      <td>363.000000</td>\n",
              "      <td>1.110000</td>\n",
              "      <td>0.000000</td>\n",
              "      <td>0.000000</td>\n",
              "      <td>0.040000</td>\n",
              "      <td>0.000000</td>\n",
              "      <td>0.000000</td>\n",
              "      <td>0.000000</td>\n",
              "      <td>0.000000</td>\n",
              "    </tr>\n",
              "    <tr>\n",
              "      <th>25%</th>\n",
              "      <td>103.000000</td>\n",
              "      <td>389.000000</td>\n",
              "      <td>3.140000</td>\n",
              "      <td>16.400000</td>\n",
              "      <td>14.900000</td>\n",
              "      <td>0.066000</td>\n",
              "      <td>30.156800</td>\n",
              "      <td>0.074167</td>\n",
              "      <td>0.036675</td>\n",
              "      <td>0.041397</td>\n",
              "    </tr>\n",
              "    <tr>\n",
              "      <th>50%</th>\n",
              "      <td>104.000000</td>\n",
              "      <td>400.000000</td>\n",
              "      <td>3.270000</td>\n",
              "      <td>19.400000</td>\n",
              "      <td>20.300000</td>\n",
              "      <td>0.085000</td>\n",
              "      <td>34.618000</td>\n",
              "      <td>0.086383</td>\n",
              "      <td>0.051000</td>\n",
              "      <td>0.048628</td>\n",
              "    </tr>\n",
              "    <tr>\n",
              "      <th>75%</th>\n",
              "      <td>105.000000</td>\n",
              "      <td>410.000000</td>\n",
              "      <td>3.390000</td>\n",
              "      <td>23.800000</td>\n",
              "      <td>25.500000</td>\n",
              "      <td>0.109000</td>\n",
              "      <td>38.828800</td>\n",
              "      <td>0.098497</td>\n",
              "      <td>0.064573</td>\n",
              "      <td>0.059326</td>\n",
              "    </tr>\n",
              "    <tr>\n",
              "      <th>max</th>\n",
              "      <td>112.000000</td>\n",
              "      <td>480.000000</td>\n",
              "      <td>3.520000</td>\n",
              "      <td>40.400000</td>\n",
              "      <td>34.500000</td>\n",
              "      <td>0.887000</td>\n",
              "      <td>50.138000</td>\n",
              "      <td>0.127841</td>\n",
              "      <td>0.093407</td>\n",
              "      <td>0.102290</td>\n",
              "    </tr>\n",
              "  </tbody>\n",
              "</table>\n",
              "</div>"
            ],
            "text/plain": [
              "            Dureza    Tasa_Prod  ...  EE_Ponderado  EC_Ponderado\n",
              "count  8057.000000  8057.000000  ...   8057.000000   8057.000000\n",
              "mean    104.106243   400.245377  ...      0.049156      0.049362\n",
              "std       2.057365    17.016625  ...      0.019904      0.015694\n",
              "min      80.000000   363.000000  ...      0.000000      0.000000\n",
              "25%     103.000000   389.000000  ...      0.036675      0.041397\n",
              "50%     104.000000   400.000000  ...      0.051000      0.048628\n",
              "75%     105.000000   410.000000  ...      0.064573      0.059326\n",
              "max     112.000000   480.000000  ...      0.093407      0.102290\n",
              "\n",
              "[8 rows x 10 columns]"
            ]
          },
          "metadata": {
            "tags": []
          },
          "execution_count": 34
        }
      ]
    },
    {
      "cell_type": "code",
      "metadata": {
        "id": "b1C6hNMhgBj9",
        "colab": {
          "base_uri": "https://localhost:8080/",
          "height": 420
        },
        "outputId": "27daf200-03c6-4bb2-f1bc-449ecc2ae316"
      },
      "source": [
        "Q1_CostPond = new_clf['Costo_Ponderado'].quantile(0.25) \n",
        "Q3_CostPond = new_clf['Costo_Ponderado'].quantile(0.8)  \n",
        "IQR_CostPond = Q3_CostPond - Q1_CostPond \n",
        " \n",
        "new_clf = new_clf[~(new_clf['Costo_Ponderado'] > (Q3_CostPond))]\n",
        "new_clf"
      ],
      "execution_count": 35,
      "outputs": [
        {
          "output_type": "execute_result",
          "data": {
            "text/html": [
              "<div>\n",
              "<style scoped>\n",
              "    .dataframe tbody tr th:only-of-type {\n",
              "        vertical-align: middle;\n",
              "    }\n",
              "\n",
              "    .dataframe tbody tr th {\n",
              "        vertical-align: top;\n",
              "    }\n",
              "\n",
              "    .dataframe thead th {\n",
              "        text-align: right;\n",
              "    }\n",
              "</style>\n",
              "<table border=\"1\" class=\"dataframe\">\n",
              "  <thead>\n",
              "    <tr style=\"text-align: right;\">\n",
              "      <th></th>\n",
              "      <th>Dureza</th>\n",
              "      <th>Tasa_Prod</th>\n",
              "      <th>Asp</th>\n",
              "      <th>EC</th>\n",
              "      <th>EE</th>\n",
              "      <th>Costo_Total</th>\n",
              "      <th>Costo_Ponderado</th>\n",
              "      <th>EE_Ponderado</th>\n",
              "      <th>EC_Ponderado</th>\n",
              "      <th>Calidad_Categorica</th>\n",
              "    </tr>\n",
              "    <tr>\n",
              "      <th>TIME</th>\n",
              "      <th></th>\n",
              "      <th></th>\n",
              "      <th></th>\n",
              "      <th></th>\n",
              "      <th></th>\n",
              "      <th></th>\n",
              "      <th></th>\n",
              "      <th></th>\n",
              "      <th></th>\n",
              "      <th></th>\n",
              "    </tr>\n",
              "  </thead>\n",
              "  <tbody>\n",
              "    <tr>\n",
              "      <th>02/01/1995 0:00</th>\n",
              "      <td>100.0</td>\n",
              "      <td>426</td>\n",
              "      <td>3.00</td>\n",
              "      <td>26.9</td>\n",
              "      <td>0.0</td>\n",
              "      <td>19.4756</td>\n",
              "      <td>0.045717</td>\n",
              "      <td>0.000000</td>\n",
              "      <td>0.063146</td>\n",
              "      <td>Regular</td>\n",
              "    </tr>\n",
              "    <tr>\n",
              "      <th>03/01/1995 0:00</th>\n",
              "      <td>101.0</td>\n",
              "      <td>446</td>\n",
              "      <td>3.00</td>\n",
              "      <td>29.5</td>\n",
              "      <td>0.0</td>\n",
              "      <td>21.3580</td>\n",
              "      <td>0.047888</td>\n",
              "      <td>0.000000</td>\n",
              "      <td>0.066143</td>\n",
              "      <td>Aceptable</td>\n",
              "    </tr>\n",
              "    <tr>\n",
              "      <th>04/01/1995 0:00</th>\n",
              "      <td>99.0</td>\n",
              "      <td>395</td>\n",
              "      <td>3.00</td>\n",
              "      <td>18.9</td>\n",
              "      <td>25.4</td>\n",
              "      <td>39.0836</td>\n",
              "      <td>0.098946</td>\n",
              "      <td>0.064304</td>\n",
              "      <td>0.047848</td>\n",
              "      <td>Aceptable</td>\n",
              "    </tr>\n",
              "    <tr>\n",
              "      <th>06/01/1995 0:00</th>\n",
              "      <td>105.0</td>\n",
              "      <td>393</td>\n",
              "      <td>2.95</td>\n",
              "      <td>26.1</td>\n",
              "      <td>0.0</td>\n",
              "      <td>18.8964</td>\n",
              "      <td>0.048082</td>\n",
              "      <td>0.000000</td>\n",
              "      <td>0.066412</td>\n",
              "      <td>Bueno</td>\n",
              "    </tr>\n",
              "    <tr>\n",
              "      <th>07/01/1995 0:00</th>\n",
              "      <td>108.0</td>\n",
              "      <td>400</td>\n",
              "      <td>2.95</td>\n",
              "      <td>27.7</td>\n",
              "      <td>0.0</td>\n",
              "      <td>20.0548</td>\n",
              "      <td>0.050137</td>\n",
              "      <td>0.000000</td>\n",
              "      <td>0.069250</td>\n",
              "      <td>Excelente</td>\n",
              "    </tr>\n",
              "    <tr>\n",
              "      <th>...</th>\n",
              "      <td>...</td>\n",
              "      <td>...</td>\n",
              "      <td>...</td>\n",
              "      <td>...</td>\n",
              "      <td>...</td>\n",
              "      <td>...</td>\n",
              "      <td>...</td>\n",
              "      <td>...</td>\n",
              "      <td>...</td>\n",
              "      <td>...</td>\n",
              "    </tr>\n",
              "    <tr>\n",
              "      <th>12/09/2020 0:00</th>\n",
              "      <td>103.0</td>\n",
              "      <td>409</td>\n",
              "      <td>3.52</td>\n",
              "      <td>23.0</td>\n",
              "      <td>9.1</td>\n",
              "      <td>25.7520</td>\n",
              "      <td>0.062963</td>\n",
              "      <td>0.022249</td>\n",
              "      <td>0.056235</td>\n",
              "      <td>Regular</td>\n",
              "    </tr>\n",
              "    <tr>\n",
              "      <th>13/09/2020 0:00</th>\n",
              "      <td>104.0</td>\n",
              "      <td>413</td>\n",
              "      <td>3.52</td>\n",
              "      <td>16.9</td>\n",
              "      <td>24.8</td>\n",
              "      <td>37.0356</td>\n",
              "      <td>0.089675</td>\n",
              "      <td>0.060048</td>\n",
              "      <td>0.040920</td>\n",
              "      <td>Regular</td>\n",
              "    </tr>\n",
              "    <tr>\n",
              "      <th>14/09/2020 0:00</th>\n",
              "      <td>101.0</td>\n",
              "      <td>408</td>\n",
              "      <td>3.52</td>\n",
              "      <td>21.7</td>\n",
              "      <td>13.9</td>\n",
              "      <td>29.6108</td>\n",
              "      <td>0.072575</td>\n",
              "      <td>0.034069</td>\n",
              "      <td>0.053186</td>\n",
              "      <td>Aceptable</td>\n",
              "    </tr>\n",
              "    <tr>\n",
              "      <th>16/09/2020 0:00</th>\n",
              "      <td>100.0</td>\n",
              "      <td>399</td>\n",
              "      <td>3.52</td>\n",
              "      <td>17.0</td>\n",
              "      <td>22.8</td>\n",
              "      <td>35.1080</td>\n",
              "      <td>0.087990</td>\n",
              "      <td>0.057143</td>\n",
              "      <td>0.042607</td>\n",
              "      <td>Aceptable</td>\n",
              "    </tr>\n",
              "    <tr>\n",
              "      <th>17/09/2020 0:00</th>\n",
              "      <td>101.0</td>\n",
              "      <td>413</td>\n",
              "      <td>2.03</td>\n",
              "      <td>18.8</td>\n",
              "      <td>18.7</td>\n",
              "      <td>32.3112</td>\n",
              "      <td>0.078235</td>\n",
              "      <td>0.045278</td>\n",
              "      <td>0.045521</td>\n",
              "      <td>Aceptable</td>\n",
              "    </tr>\n",
              "  </tbody>\n",
              "</table>\n",
              "<p>6445 rows × 10 columns</p>\n",
              "</div>"
            ],
            "text/plain": [
              "                 Dureza  Tasa_Prod  ...  EC_Ponderado  Calidad_Categorica\n",
              "TIME                                ...                                  \n",
              "02/01/1995 0:00   100.0        426  ...      0.063146             Regular\n",
              "03/01/1995 0:00   101.0        446  ...      0.066143           Aceptable\n",
              "04/01/1995 0:00    99.0        395  ...      0.047848           Aceptable\n",
              "06/01/1995 0:00   105.0        393  ...      0.066412               Bueno\n",
              "07/01/1995 0:00   108.0        400  ...      0.069250           Excelente\n",
              "...                 ...        ...  ...           ...                 ...\n",
              "12/09/2020 0:00   103.0        409  ...      0.056235             Regular\n",
              "13/09/2020 0:00   104.0        413  ...      0.040920             Regular\n",
              "14/09/2020 0:00   101.0        408  ...      0.053186           Aceptable\n",
              "16/09/2020 0:00   100.0        399  ...      0.042607           Aceptable\n",
              "17/09/2020 0:00   101.0        413  ...      0.045521           Aceptable\n",
              "\n",
              "[6445 rows x 10 columns]"
            ]
          },
          "metadata": {
            "tags": []
          },
          "execution_count": 35
        }
      ]
    },
    {
      "cell_type": "code",
      "metadata": {
        "id": "AE3zKUM7hCec",
        "colab": {
          "base_uri": "https://localhost:8080/",
          "height": 277
        },
        "outputId": "79318996-f4db-473f-f6b6-c5a0bf33a531"
      },
      "source": [
        "new_clf.describe()"
      ],
      "execution_count": 36,
      "outputs": [
        {
          "output_type": "execute_result",
          "data": {
            "text/html": [
              "<div>\n",
              "<style scoped>\n",
              "    .dataframe tbody tr th:only-of-type {\n",
              "        vertical-align: middle;\n",
              "    }\n",
              "\n",
              "    .dataframe tbody tr th {\n",
              "        vertical-align: top;\n",
              "    }\n",
              "\n",
              "    .dataframe thead th {\n",
              "        text-align: right;\n",
              "    }\n",
              "</style>\n",
              "<table border=\"1\" class=\"dataframe\">\n",
              "  <thead>\n",
              "    <tr style=\"text-align: right;\">\n",
              "      <th></th>\n",
              "      <th>Dureza</th>\n",
              "      <th>Tasa_Prod</th>\n",
              "      <th>Asp</th>\n",
              "      <th>EC</th>\n",
              "      <th>EE</th>\n",
              "      <th>Costo_Total</th>\n",
              "      <th>Costo_Ponderado</th>\n",
              "      <th>EE_Ponderado</th>\n",
              "      <th>EC_Ponderado</th>\n",
              "    </tr>\n",
              "  </thead>\n",
              "  <tbody>\n",
              "    <tr>\n",
              "      <th>count</th>\n",
              "      <td>6445.000000</td>\n",
              "      <td>6445.000000</td>\n",
              "      <td>6445.000000</td>\n",
              "      <td>6445.000000</td>\n",
              "      <td>6445.000000</td>\n",
              "      <td>6445.000000</td>\n",
              "      <td>6445.000000</td>\n",
              "      <td>6445.000000</td>\n",
              "      <td>6445.000000</td>\n",
              "    </tr>\n",
              "    <tr>\n",
              "      <th>mean</th>\n",
              "      <td>104.129868</td>\n",
              "      <td>402.125058</td>\n",
              "      <td>3.203054</td>\n",
              "      <td>19.880838</td>\n",
              "      <td>17.426408</td>\n",
              "      <td>31.820135</td>\n",
              "      <td>0.079285</td>\n",
              "      <td>0.043575</td>\n",
              "      <td>0.049322</td>\n",
              "    </tr>\n",
              "    <tr>\n",
              "      <th>std</th>\n",
              "      <td>1.986074</td>\n",
              "      <td>17.528664</td>\n",
              "      <td>0.287852</td>\n",
              "      <td>6.927491</td>\n",
              "      <td>7.048908</td>\n",
              "      <td>6.060261</td>\n",
              "      <td>0.015520</td>\n",
              "      <td>0.017970</td>\n",
              "      <td>0.016811</td>\n",
              "    </tr>\n",
              "    <tr>\n",
              "      <th>min</th>\n",
              "      <td>80.000000</td>\n",
              "      <td>363.000000</td>\n",
              "      <td>1.110000</td>\n",
              "      <td>0.000000</td>\n",
              "      <td>0.000000</td>\n",
              "      <td>0.000000</td>\n",
              "      <td>0.000000</td>\n",
              "      <td>0.000000</td>\n",
              "      <td>0.000000</td>\n",
              "    </tr>\n",
              "    <tr>\n",
              "      <th>25%</th>\n",
              "      <td>103.000000</td>\n",
              "      <td>390.000000</td>\n",
              "      <td>3.140000</td>\n",
              "      <td>16.000000</td>\n",
              "      <td>13.300000</td>\n",
              "      <td>28.968800</td>\n",
              "      <td>0.071094</td>\n",
              "      <td>0.033014</td>\n",
              "      <td>0.040399</td>\n",
              "    </tr>\n",
              "    <tr>\n",
              "      <th>50%</th>\n",
              "      <td>104.000000</td>\n",
              "      <td>401.000000</td>\n",
              "      <td>3.270000</td>\n",
              "      <td>19.800000</td>\n",
              "      <td>18.600000</td>\n",
              "      <td>32.890800</td>\n",
              "      <td>0.081610</td>\n",
              "      <td>0.046469</td>\n",
              "      <td>0.049246</td>\n",
              "    </tr>\n",
              "    <tr>\n",
              "      <th>75%</th>\n",
              "      <td>105.000000</td>\n",
              "      <td>413.000000</td>\n",
              "      <td>3.380000</td>\n",
              "      <td>24.400000</td>\n",
              "      <td>22.500000</td>\n",
              "      <td>36.280400</td>\n",
              "      <td>0.091408</td>\n",
              "      <td>0.056757</td>\n",
              "      <td>0.060714</td>\n",
              "    </tr>\n",
              "    <tr>\n",
              "      <th>max</th>\n",
              "      <td>112.000000</td>\n",
              "      <td>480.000000</td>\n",
              "      <td>3.520000</td>\n",
              "      <td>40.400000</td>\n",
              "      <td>32.700000</td>\n",
              "      <td>42.835600</td>\n",
              "      <td>0.100910</td>\n",
              "      <td>0.083784</td>\n",
              "      <td>0.102290</td>\n",
              "    </tr>\n",
              "  </tbody>\n",
              "</table>\n",
              "</div>"
            ],
            "text/plain": [
              "            Dureza    Tasa_Prod  ...  EE_Ponderado  EC_Ponderado\n",
              "count  6445.000000  6445.000000  ...   6445.000000   6445.000000\n",
              "mean    104.129868   402.125058  ...      0.043575      0.049322\n",
              "std       1.986074    17.528664  ...      0.017970      0.016811\n",
              "min      80.000000   363.000000  ...      0.000000      0.000000\n",
              "25%     103.000000   390.000000  ...      0.033014      0.040399\n",
              "50%     104.000000   401.000000  ...      0.046469      0.049246\n",
              "75%     105.000000   413.000000  ...      0.056757      0.060714\n",
              "max     112.000000   480.000000  ...      0.083784      0.102290\n",
              "\n",
              "[8 rows x 9 columns]"
            ]
          },
          "metadata": {
            "tags": []
          },
          "execution_count": 36
        }
      ]
    },
    {
      "cell_type": "code",
      "metadata": {
        "id": "J1FrLqQlURAa"
      },
      "source": [
        "del(new_clf['Costo_Ponderado'])\n",
        "del(new_clf['Costo_Total'])\n",
        "del(new_clf['EE_Ponderado'])\n",
        "del(new_clf['EC_Ponderado'])\n"
      ],
      "execution_count": 37,
      "outputs": []
    },
    {
      "cell_type": "code",
      "metadata": {
        "id": "LwXGOeQuQz35",
        "colab": {
          "base_uri": "https://localhost:8080/",
          "height": 420
        },
        "outputId": "4caffcca-465d-4788-92d5-166f9ee69d6c"
      },
      "source": [
        "new_clf\n"
      ],
      "execution_count": 38,
      "outputs": [
        {
          "output_type": "execute_result",
          "data": {
            "text/html": [
              "<div>\n",
              "<style scoped>\n",
              "    .dataframe tbody tr th:only-of-type {\n",
              "        vertical-align: middle;\n",
              "    }\n",
              "\n",
              "    .dataframe tbody tr th {\n",
              "        vertical-align: top;\n",
              "    }\n",
              "\n",
              "    .dataframe thead th {\n",
              "        text-align: right;\n",
              "    }\n",
              "</style>\n",
              "<table border=\"1\" class=\"dataframe\">\n",
              "  <thead>\n",
              "    <tr style=\"text-align: right;\">\n",
              "      <th></th>\n",
              "      <th>Dureza</th>\n",
              "      <th>Tasa_Prod</th>\n",
              "      <th>Asp</th>\n",
              "      <th>EC</th>\n",
              "      <th>EE</th>\n",
              "      <th>Calidad_Categorica</th>\n",
              "    </tr>\n",
              "    <tr>\n",
              "      <th>TIME</th>\n",
              "      <th></th>\n",
              "      <th></th>\n",
              "      <th></th>\n",
              "      <th></th>\n",
              "      <th></th>\n",
              "      <th></th>\n",
              "    </tr>\n",
              "  </thead>\n",
              "  <tbody>\n",
              "    <tr>\n",
              "      <th>02/01/1995 0:00</th>\n",
              "      <td>100.0</td>\n",
              "      <td>426</td>\n",
              "      <td>3.00</td>\n",
              "      <td>26.9</td>\n",
              "      <td>0.0</td>\n",
              "      <td>Regular</td>\n",
              "    </tr>\n",
              "    <tr>\n",
              "      <th>03/01/1995 0:00</th>\n",
              "      <td>101.0</td>\n",
              "      <td>446</td>\n",
              "      <td>3.00</td>\n",
              "      <td>29.5</td>\n",
              "      <td>0.0</td>\n",
              "      <td>Aceptable</td>\n",
              "    </tr>\n",
              "    <tr>\n",
              "      <th>04/01/1995 0:00</th>\n",
              "      <td>99.0</td>\n",
              "      <td>395</td>\n",
              "      <td>3.00</td>\n",
              "      <td>18.9</td>\n",
              "      <td>25.4</td>\n",
              "      <td>Aceptable</td>\n",
              "    </tr>\n",
              "    <tr>\n",
              "      <th>06/01/1995 0:00</th>\n",
              "      <td>105.0</td>\n",
              "      <td>393</td>\n",
              "      <td>2.95</td>\n",
              "      <td>26.1</td>\n",
              "      <td>0.0</td>\n",
              "      <td>Bueno</td>\n",
              "    </tr>\n",
              "    <tr>\n",
              "      <th>07/01/1995 0:00</th>\n",
              "      <td>108.0</td>\n",
              "      <td>400</td>\n",
              "      <td>2.95</td>\n",
              "      <td>27.7</td>\n",
              "      <td>0.0</td>\n",
              "      <td>Excelente</td>\n",
              "    </tr>\n",
              "    <tr>\n",
              "      <th>...</th>\n",
              "      <td>...</td>\n",
              "      <td>...</td>\n",
              "      <td>...</td>\n",
              "      <td>...</td>\n",
              "      <td>...</td>\n",
              "      <td>...</td>\n",
              "    </tr>\n",
              "    <tr>\n",
              "      <th>12/09/2020 0:00</th>\n",
              "      <td>103.0</td>\n",
              "      <td>409</td>\n",
              "      <td>3.52</td>\n",
              "      <td>23.0</td>\n",
              "      <td>9.1</td>\n",
              "      <td>Regular</td>\n",
              "    </tr>\n",
              "    <tr>\n",
              "      <th>13/09/2020 0:00</th>\n",
              "      <td>104.0</td>\n",
              "      <td>413</td>\n",
              "      <td>3.52</td>\n",
              "      <td>16.9</td>\n",
              "      <td>24.8</td>\n",
              "      <td>Regular</td>\n",
              "    </tr>\n",
              "    <tr>\n",
              "      <th>14/09/2020 0:00</th>\n",
              "      <td>101.0</td>\n",
              "      <td>408</td>\n",
              "      <td>3.52</td>\n",
              "      <td>21.7</td>\n",
              "      <td>13.9</td>\n",
              "      <td>Aceptable</td>\n",
              "    </tr>\n",
              "    <tr>\n",
              "      <th>16/09/2020 0:00</th>\n",
              "      <td>100.0</td>\n",
              "      <td>399</td>\n",
              "      <td>3.52</td>\n",
              "      <td>17.0</td>\n",
              "      <td>22.8</td>\n",
              "      <td>Aceptable</td>\n",
              "    </tr>\n",
              "    <tr>\n",
              "      <th>17/09/2020 0:00</th>\n",
              "      <td>101.0</td>\n",
              "      <td>413</td>\n",
              "      <td>2.03</td>\n",
              "      <td>18.8</td>\n",
              "      <td>18.7</td>\n",
              "      <td>Aceptable</td>\n",
              "    </tr>\n",
              "  </tbody>\n",
              "</table>\n",
              "<p>6445 rows × 6 columns</p>\n",
              "</div>"
            ],
            "text/plain": [
              "                 Dureza  Tasa_Prod   Asp    EC    EE Calidad_Categorica\n",
              "TIME                                                                   \n",
              "02/01/1995 0:00   100.0        426  3.00  26.9   0.0            Regular\n",
              "03/01/1995 0:00   101.0        446  3.00  29.5   0.0          Aceptable\n",
              "04/01/1995 0:00    99.0        395  3.00  18.9  25.4          Aceptable\n",
              "06/01/1995 0:00   105.0        393  2.95  26.1   0.0              Bueno\n",
              "07/01/1995 0:00   108.0        400  2.95  27.7   0.0          Excelente\n",
              "...                 ...        ...   ...   ...   ...                ...\n",
              "12/09/2020 0:00   103.0        409  3.52  23.0   9.1            Regular\n",
              "13/09/2020 0:00   104.0        413  3.52  16.9  24.8            Regular\n",
              "14/09/2020 0:00   101.0        408  3.52  21.7  13.9          Aceptable\n",
              "16/09/2020 0:00   100.0        399  3.52  17.0  22.8          Aceptable\n",
              "17/09/2020 0:00   101.0        413  2.03  18.8  18.7          Aceptable\n",
              "\n",
              "[6445 rows x 6 columns]"
            ]
          },
          "metadata": {
            "tags": []
          },
          "execution_count": 38
        }
      ]
    },
    {
      "cell_type": "markdown",
      "metadata": {
        "id": "JwyN39RzHBTW"
      },
      "source": [
        "# Modelo de clasificación"
      ]
    },
    {
      "cell_type": "code",
      "metadata": {
        "id": "T6X2nWb7LiBt"
      },
      "source": [
        "from sklearn.ensemble import RandomForestClassifier"
      ],
      "execution_count": 39,
      "outputs": []
    },
    {
      "cell_type": "code",
      "metadata": {
        "id": "4IiJ9SsiL8oW"
      },
      "source": [
        "X = new_clf.drop('Calidad_Categorica', axis=1) # Features\n",
        "y = new_clf.Calidad_Categorica # Target variable "
      ],
      "execution_count": 40,
      "outputs": []
    },
    {
      "cell_type": "code",
      "metadata": {
        "id": "bws0ojUpsUyc"
      },
      "source": [
        "from sklearn.model_selection import train_test_split\n",
        "from sklearn.model_selection import cross_val_score\n",
        "from sklearn.metrics import accuracy_score \n",
        "from sklearn.metrics import precision_score "
      ],
      "execution_count": 41,
      "outputs": []
    },
    {
      "cell_type": "code",
      "metadata": {
        "id": "h0UXzrwOVOuE",
        "colab": {
          "base_uri": "https://localhost:8080/"
        },
        "outputId": "74b9bfbc-9b63-47ca-b8a9-641ac470b366"
      },
      "source": [
        "train_ratio = 0.60\n",
        "validation_ratio = 0.20\n",
        "test_ratio = 0.20\n",
        "\n",
        "# train is now 60% of the entire data set\n",
        "# the _junk suffix means that we drop that variable completely\n",
        "x_train, x_test, y_train, y_test = train_test_split(X, y, test_size=1 - train_ratio)\n",
        "\n",
        "# test is now 20% of the initial data set\n",
        "# validation is now 20% of the initial data set\n",
        "x_val, x_test, y_val, y_test = train_test_split(x_test, y_test, test_size=test_ratio/(test_ratio + validation_ratio)) \n",
        "\n",
        "print(x_train, x_val, x_test)"
      ],
      "execution_count": 42,
      "outputs": [
        {
          "output_type": "stream",
          "text": [
            "                 Dureza  Tasa_Prod   Asp    EC    EE\n",
            "TIME                                                \n",
            "28/09/2006 0:00   104.0        411  2.73  15.1  21.8\n",
            "28/09/2002 0:00   104.0        395  3.25  23.4   6.2\n",
            "21/01/1996 0:00   105.0        407  3.52  24.7  13.7\n",
            "10/01/2000 0:00   103.0        387  2.64  28.6  17.0\n",
            "15/11/2008 0:00   104.0        438  3.37  17.9  20.2\n",
            "...                 ...        ...   ...   ...   ...\n",
            "05/03/2009 0:00   106.0        419  3.47  19.6  20.5\n",
            "18/11/1998 0:00   103.0        399  3.33  33.3   0.0\n",
            "15/10/2013 0:00   104.0        408  3.52  20.4  21.8\n",
            "07/06/2005 0:00   103.0        395  3.05  14.4  15.3\n",
            "06/02/2007 0:00   103.0        415  2.44  20.0  19.8\n",
            "\n",
            "[3867 rows x 5 columns]                  Dureza  Tasa_Prod   Asp    EC    EE\n",
            "TIME                                                \n",
            "22/02/2000 0:00   104.0        416  2.83  26.6  20.6\n",
            "09/07/2012 0:00   104.0        377  3.15  23.1  18.2\n",
            "09/01/2006 0:00   106.0        397  2.73  18.3  19.7\n",
            "10/03/2018 0:00   101.0        404  3.42  20.0  23.8\n",
            "30/05/2019 0:00   101.0        401  3.44  19.9  24.2\n",
            "...                 ...        ...   ...   ...   ...\n",
            "12/06/2016 0:00   105.0        401  3.45  22.6   0.0\n",
            "24/06/2011 0:00   103.0        403  3.26  22.3  18.1\n",
            "02/03/1997 0:00   103.0        419  3.41  28.3   7.1\n",
            "07/05/2014 0:00   111.0        390  3.34  20.0  23.1\n",
            "31/07/2011 0:00   101.0        392  3.25  23.8  20.8\n",
            "\n",
            "[1289 rows x 5 columns]                  Dureza  Tasa_Prod   Asp    EC    EE\n",
            "TIME                                                \n",
            "05/05/2017 0:00   104.0        402  3.34  14.5  29.9\n",
            "29/05/2014 0:00   109.0        395  3.05  18.4  18.1\n",
            "24/08/2008 0:00   105.0        434  3.10  14.9  19.4\n",
            "02/11/2003 0:00   104.0        391  2.98  15.1  17.6\n",
            "25/10/2012 0:00   104.0        384  3.36  18.3  23.2\n",
            "...                 ...        ...   ...   ...   ...\n",
            "07/04/1997 0:00   103.0        404  3.41  27.7   6.0\n",
            "03/01/1996 0:00   104.0        429  3.41  23.6  15.5\n",
            "29/09/1998 0:00   104.0        412  3.47  31.0  12.2\n",
            "25/06/2020 0:00   103.0        412  3.52  21.3  16.0\n",
            "29/01/1996 0:00   104.0        411  3.52  21.5  20.3\n",
            "\n",
            "[1289 rows x 5 columns]\n"
          ],
          "name": "stdout"
        }
      ]
    },
    {
      "cell_type": "code",
      "metadata": {
        "id": "4sIoocNOQH-R"
      },
      "source": [
        "models = []\n",
        "\n",
        "models.append(('RF', RandomForestClassifier(criterion = 'gini', max_depth = 7, max_features = 'auto', n_estimators = 50)))"
      ],
      "execution_count": 43,
      "outputs": []
    },
    {
      "cell_type": "code",
      "metadata": {
        "id": "hphr6wmOlowo"
      },
      "source": [
        "names = [] \n",
        "scores = [] \n",
        "fits = [] \n",
        "preds = [] \n",
        " \n",
        "for name, model in models:  \n",
        "    fits.append(model.fit(x_train, y_train))  \n",
        "    y_pred = model.predict(x_test) \n",
        "    preds.append(y_pred)  \n",
        "    scores.append(accuracy_score(y_test, y_pred))  \n",
        "    names.append(name)  "
      ],
      "execution_count": 44,
      "outputs": []
    },
    {
      "cell_type": "markdown",
      "metadata": {
        "id": "Ev-GkPSFYKFL"
      },
      "source": [
        "## Predicciones Calidad"
      ]
    },
    {
      "cell_type": "code",
      "metadata": {
        "id": "T3ZKrwIg6Z1M",
        "colab": {
          "base_uri": "https://localhost:8080/"
        },
        "outputId": "031eb47a-3439-4f6a-eadf-cdbaff6bc0f7"
      },
      "source": [
        "y_predVal = fits[0].predict(x_val) \n",
        "y_predVal "
      ],
      "execution_count": 45,
      "outputs": [
        {
          "output_type": "execute_result",
          "data": {
            "text/plain": [
              "array(['Aceptable', 'Aceptable', 'Aceptable', ..., 'Aceptable', 'Regular',\n",
              "       'Aceptable'], dtype=object)"
            ]
          },
          "metadata": {
            "tags": []
          },
          "execution_count": 45
        }
      ]
    },
    {
      "cell_type": "markdown",
      "metadata": {
        "id": "lmgvsbGwchhZ"
      },
      "source": [
        "# Calculo Costos con set de validación"
      ]
    },
    {
      "cell_type": "code",
      "metadata": {
        "id": "yD_LtZD77aDf"
      },
      "source": [
        "#Crear columna total    \n",
        "import copy   \n",
        "new_X_val = copy.deepcopy(x_val)   "
      ],
      "execution_count": 46,
      "outputs": []
    },
    {
      "cell_type": "code",
      "metadata": {
        "id": "2zpa5jWT7CEQ"
      },
      "source": [
        "new_X_val['Costo'] = x_val['EE'] + (0.724*x_val['EC'])  \n",
        "new_X_val['Calidad'] = y_predVal "
      ],
      "execution_count": 47,
      "outputs": []
    },
    {
      "cell_type": "code",
      "metadata": {
        "id": "ASF8Xq69-_QA",
        "colab": {
          "base_uri": "https://localhost:8080/",
          "height": 420
        },
        "outputId": "58ac2c2b-fcae-4b12-ba5c-1fd2def157bd"
      },
      "source": [
        "new_X_val"
      ],
      "execution_count": 48,
      "outputs": [
        {
          "output_type": "execute_result",
          "data": {
            "text/html": [
              "<div>\n",
              "<style scoped>\n",
              "    .dataframe tbody tr th:only-of-type {\n",
              "        vertical-align: middle;\n",
              "    }\n",
              "\n",
              "    .dataframe tbody tr th {\n",
              "        vertical-align: top;\n",
              "    }\n",
              "\n",
              "    .dataframe thead th {\n",
              "        text-align: right;\n",
              "    }\n",
              "</style>\n",
              "<table border=\"1\" class=\"dataframe\">\n",
              "  <thead>\n",
              "    <tr style=\"text-align: right;\">\n",
              "      <th></th>\n",
              "      <th>Dureza</th>\n",
              "      <th>Tasa_Prod</th>\n",
              "      <th>Asp</th>\n",
              "      <th>EC</th>\n",
              "      <th>EE</th>\n",
              "      <th>Costo</th>\n",
              "      <th>Calidad</th>\n",
              "    </tr>\n",
              "    <tr>\n",
              "      <th>TIME</th>\n",
              "      <th></th>\n",
              "      <th></th>\n",
              "      <th></th>\n",
              "      <th></th>\n",
              "      <th></th>\n",
              "      <th></th>\n",
              "      <th></th>\n",
              "    </tr>\n",
              "  </thead>\n",
              "  <tbody>\n",
              "    <tr>\n",
              "      <th>22/02/2000 0:00</th>\n",
              "      <td>104.0</td>\n",
              "      <td>416</td>\n",
              "      <td>2.83</td>\n",
              "      <td>26.6</td>\n",
              "      <td>20.6</td>\n",
              "      <td>39.8584</td>\n",
              "      <td>Aceptable</td>\n",
              "    </tr>\n",
              "    <tr>\n",
              "      <th>09/07/2012 0:00</th>\n",
              "      <td>104.0</td>\n",
              "      <td>377</td>\n",
              "      <td>3.15</td>\n",
              "      <td>23.1</td>\n",
              "      <td>18.2</td>\n",
              "      <td>34.9244</td>\n",
              "      <td>Aceptable</td>\n",
              "    </tr>\n",
              "    <tr>\n",
              "      <th>09/01/2006 0:00</th>\n",
              "      <td>106.0</td>\n",
              "      <td>397</td>\n",
              "      <td>2.73</td>\n",
              "      <td>18.3</td>\n",
              "      <td>19.7</td>\n",
              "      <td>32.9492</td>\n",
              "      <td>Aceptable</td>\n",
              "    </tr>\n",
              "    <tr>\n",
              "      <th>10/03/2018 0:00</th>\n",
              "      <td>101.0</td>\n",
              "      <td>404</td>\n",
              "      <td>3.42</td>\n",
              "      <td>20.0</td>\n",
              "      <td>23.8</td>\n",
              "      <td>38.2800</td>\n",
              "      <td>Aceptable</td>\n",
              "    </tr>\n",
              "    <tr>\n",
              "      <th>30/05/2019 0:00</th>\n",
              "      <td>101.0</td>\n",
              "      <td>401</td>\n",
              "      <td>3.44</td>\n",
              "      <td>19.9</td>\n",
              "      <td>24.2</td>\n",
              "      <td>38.6076</td>\n",
              "      <td>Aceptable</td>\n",
              "    </tr>\n",
              "    <tr>\n",
              "      <th>...</th>\n",
              "      <td>...</td>\n",
              "      <td>...</td>\n",
              "      <td>...</td>\n",
              "      <td>...</td>\n",
              "      <td>...</td>\n",
              "      <td>...</td>\n",
              "      <td>...</td>\n",
              "    </tr>\n",
              "    <tr>\n",
              "      <th>12/06/2016 0:00</th>\n",
              "      <td>105.0</td>\n",
              "      <td>401</td>\n",
              "      <td>3.45</td>\n",
              "      <td>22.6</td>\n",
              "      <td>0.0</td>\n",
              "      <td>16.3624</td>\n",
              "      <td>Aceptable</td>\n",
              "    </tr>\n",
              "    <tr>\n",
              "      <th>24/06/2011 0:00</th>\n",
              "      <td>103.0</td>\n",
              "      <td>403</td>\n",
              "      <td>3.26</td>\n",
              "      <td>22.3</td>\n",
              "      <td>18.1</td>\n",
              "      <td>34.2452</td>\n",
              "      <td>Aceptable</td>\n",
              "    </tr>\n",
              "    <tr>\n",
              "      <th>02/03/1997 0:00</th>\n",
              "      <td>103.0</td>\n",
              "      <td>419</td>\n",
              "      <td>3.41</td>\n",
              "      <td>28.3</td>\n",
              "      <td>7.1</td>\n",
              "      <td>27.5892</td>\n",
              "      <td>Aceptable</td>\n",
              "    </tr>\n",
              "    <tr>\n",
              "      <th>07/05/2014 0:00</th>\n",
              "      <td>111.0</td>\n",
              "      <td>390</td>\n",
              "      <td>3.34</td>\n",
              "      <td>20.0</td>\n",
              "      <td>23.1</td>\n",
              "      <td>37.5800</td>\n",
              "      <td>Regular</td>\n",
              "    </tr>\n",
              "    <tr>\n",
              "      <th>31/07/2011 0:00</th>\n",
              "      <td>101.0</td>\n",
              "      <td>392</td>\n",
              "      <td>3.25</td>\n",
              "      <td>23.8</td>\n",
              "      <td>20.8</td>\n",
              "      <td>38.0312</td>\n",
              "      <td>Aceptable</td>\n",
              "    </tr>\n",
              "  </tbody>\n",
              "</table>\n",
              "<p>1289 rows × 7 columns</p>\n",
              "</div>"
            ],
            "text/plain": [
              "                 Dureza  Tasa_Prod   Asp    EC    EE    Costo    Calidad\n",
              "TIME                                                                    \n",
              "22/02/2000 0:00   104.0        416  2.83  26.6  20.6  39.8584  Aceptable\n",
              "09/07/2012 0:00   104.0        377  3.15  23.1  18.2  34.9244  Aceptable\n",
              "09/01/2006 0:00   106.0        397  2.73  18.3  19.7  32.9492  Aceptable\n",
              "10/03/2018 0:00   101.0        404  3.42  20.0  23.8  38.2800  Aceptable\n",
              "30/05/2019 0:00   101.0        401  3.44  19.9  24.2  38.6076  Aceptable\n",
              "...                 ...        ...   ...   ...   ...      ...        ...\n",
              "12/06/2016 0:00   105.0        401  3.45  22.6   0.0  16.3624  Aceptable\n",
              "24/06/2011 0:00   103.0        403  3.26  22.3  18.1  34.2452  Aceptable\n",
              "02/03/1997 0:00   103.0        419  3.41  28.3   7.1  27.5892  Aceptable\n",
              "07/05/2014 0:00   111.0        390  3.34  20.0  23.1  37.5800    Regular\n",
              "31/07/2011 0:00   101.0        392  3.25  23.8  20.8  38.0312  Aceptable\n",
              "\n",
              "[1289 rows x 7 columns]"
            ]
          },
          "metadata": {
            "tags": []
          },
          "execution_count": 48
        }
      ]
    },
    {
      "cell_type": "code",
      "metadata": {
        "id": "h-0B-i5EdTVB"
      },
      "source": [
        "import os\n",
        "\n",
        "if not os.path.exists(\"images\"):\n",
        "    os.mkdir(\"images\")"
      ],
      "execution_count": 49,
      "outputs": []
    },
    {
      "cell_type": "code",
      "metadata": {
        "id": "Qs-NcQmLZa63",
        "colab": {
          "base_uri": "https://localhost:8080/",
          "height": 817
        },
        "outputId": "302bcc66-bcf4-46b9-f410-06f8d5da0eda"
      },
      "source": [
        "import plotly.graph_objects as go\n",
        "import plotly.express as px \n",
        "\n",
        "figT = go.Figure(data=go.Scatter3d(\n",
        "    x=new_X_val['Calidad'],\n",
        "    y=new_X_val['Costo'],\n",
        "    z=new_X_val['Dureza'],\n",
        "    mode='markers',\n",
        "    marker= dict( \n",
        "        size=5, \n",
        "        sizemode='diameter', \n",
        "        sizeref=1500,\n",
        "        color = new_X_val['Costo'],\n",
        "        #color_continuous_scale='Inferno'\n",
        "        colorscale = [[0, 'lime'], [0.5, 'red']],\n",
        "        line_color='rgb(140, 140, 170)')))\n",
        "\n",
        "figT.select_xaxes(['Aceptable','Regular','Bueno','Excelente'])\n",
        "\n",
        "figT.update_layout(height=800, width=800,\n",
        "                  title='Calidad y Costo vs Dureza',  \n",
        "                  margin=dict(l=65, r=50, b=65, t=90),\n",
        "                  scene = dict( xaxis = dict(title='Calidad esperada'),\n",
        "                                yaxis = dict(title='Costo Calculado'),\n",
        "                                zaxis = dict(title='Dureza del Soporte'),),) \n",
        "\n"
      ],
      "execution_count": 50,
      "outputs": [
        {
          "output_type": "display_data",
          "data": {
            "text/html": [
              "<html>\n",
              "<head><meta charset=\"utf-8\" /></head>\n",
              "<body>\n",
              "    <div>\n",
              "            <script src=\"https://cdnjs.cloudflare.com/ajax/libs/mathjax/2.7.5/MathJax.js?config=TeX-AMS-MML_SVG\"></script><script type=\"text/javascript\">if (window.MathJax) {MathJax.Hub.Config({SVG: {font: \"STIX-Web\"}});}</script>\n",
              "                <script type=\"text/javascript\">window.PlotlyConfig = {MathJaxConfig: 'local'};</script>\n",
              "        <script src=\"https://cdn.plot.ly/plotly-latest.min.js\"></script>    \n",
              "            <div id=\"d5345d9f-4edc-443e-85c1-c96b2225e30f\" class=\"plotly-graph-div\" style=\"height:800px; width:800px;\"></div>\n",
              "            <script type=\"text/javascript\">\n",
              "                \n",
              "                    window.PLOTLYENV=window.PLOTLYENV || {};\n",
              "                    \n",
              "                if (document.getElementById(\"d5345d9f-4edc-443e-85c1-c96b2225e30f\")) {\n",
              "                    Plotly.newPlot(\n",
              "                        'd5345d9f-4edc-443e-85c1-c96b2225e30f',\n",
              "                        [{\"marker\": {\"color\": [39.8584, 34.9244, 32.9492, 38.28, 38.6076, 22.626, 28.441599999999998, 24.5428, 25.1768, 37.8632, 36.6912, 30.4696, 39.3732, 34.0456, 36.3488, 41.251599999999996, 37.599599999999995, 33.4628, 29.0756, 27.852400000000003, 32.456, 31.2796, 32.0276, 32.6068, 19.186, 35.428, 34.9868, 40.3044, 32.2996, 29.712, 24.2944, 24.7, 35.8936, 27.764, 26.9732, 31.4668, 36.4768, 33.624399999999994, 29.772399999999998, 31.8308, 32.146, 37.1588, 39.0068, 32.3588, 31.5944, 28.1144, 34.7044, 35.766799999999996, 36.9072, 38.9388, 11.0, 38.9044, 30.672799999999995, 32.756, 34.4764, 36.9632, 33.894400000000005, 34.4524, 39.9904, 34.7208, 39.5924, 13.0, 31.3444, 36.6184, 26.056400000000004, 33.1316, 34.7144, 37.162400000000005, 38.7592, 33.2144, 33.824, 22.8512, 35.9616, 37.0696, 37.065599999999996, 28.5, 37.2692, 19.7732, 38.8288, 34.052800000000005, 39.403999999999996, 33.9452, 19.2908, 31.6392, 21.2668, 22.811999999999998, 18.3172, 26.77, 34.6248, 26.352800000000002, 34.099599999999995, 36.0792, 29.1556, 35.5144, 30.414, 36.4032, 33.7384, 32.2248, 33.7624, 30.8172, 36.29, 21.4304, 33.1932, 35.282, 25.5432, 30.5512, 25.5628, 13.4664, 37.028800000000004, 38.111999999999995, 37.856, 25.3296, 35.142399999999995, 35.4, 33.138400000000004, 34.8048, 37.89, 27.3464, 30.8236, 35.2248, 39.2708, 37.47, 31.4588, 32.010400000000004, 28.8008, 35.6736, 26.9908, 39.512, 35.214, 28.746399999999998, 32.5484, 31.503999999999998, 36.4908, 25.824399999999997, 28.0872, 37.322, 24.7832, 31.3704, 31.6812, 16.345599999999997, 37.3204, 37.5276, 37.3044, 22.6132, 28.144799999999996, 28.8388, 33.117599999999996, 23.64, 24.4264, 37.7964, 23.747199999999996, 35.0204, 26.8052, 29.938799999999997, 27.6592, 34.8508, 30.607599999999998, 31.796, 36.0728, 36.0976, 37.147999999999996, 31.584799999999998, 35.856, 32.703199999999995, 34.5308, 38.1492, 37.7352, 26.4596, 26.8352, 38.6252, 28.259999999999998, 36.430800000000005, 39.8524, 38.6188, 36.19, 33.46, 34.8972, 38.1708, 32.998, 20.5116, 34.7696, 30.3, 32.8324, 35.2868, 40.7768, 23.4288, 18.073999999999998, 16.8692, 34.290400000000005, 24.8204, 25.1664, 18.5804, 33.1464, 25.4804, 19.2584, 29.008799999999997, 27.8532, 33.7388, 36.028800000000004, 30.048000000000002, 33.790400000000005, 34.2552, 36.239599999999996, 26.7564, 33.2656, 34.672799999999995, 22.214, 28.2312, 33.3432, 28.397199999999998, 9.5, 30.676, 36.9464, 31.263599999999997, 36.0376, 34.6592, 18.968799999999998, 27.9904, 31.4732, 24.691200000000002, 36.2184, 38.1736, 40.4248, 32.4976, 29.095999999999997, 29.756400000000003, 33.2352, 32.1576, 28.282400000000003, 34.042, 25.9916, 38.76, 32.306400000000004, 32.013999999999996, 30.7096, 37.2288, 27.035999999999998, 34.0732, 38.873599999999996, 38.7928, 17.0, 24.522, 36.4084, 28.131999999999998, 33.2616, 31.6796, 39.586, 37.4304, 34.9456, 38.373599999999996, 30.9444, 31.4912, 28.6824, 37.9868, 30.491999999999997, 33.8732, 37.1736, 22.3992, 34.4252, 29.4, 39.7868, 32.3452, 31.865599999999997, 32.2416, 25.761599999999998, 38.955600000000004, 25.5972, 34.7104, 37.42, 32.4904, 34.6208, 27.086799999999997, 32.6524, 33.5892, 39.16, 33.2552, 37.1008, 35.5216, 29.331200000000003, 28.4408, 34.7172, 28.86, 33.8528, 28.456799999999998, 34.1312, 34.3012, 27.580399999999997, 29.955599999999997, 37.97, 36.1012, 29.363599999999998, 17.7, 33.5804, 23.172799999999995, 18.0276, 33.6356, 39.6212, 39.455600000000004, 6.4, 24.9228, 31.1248, 36.2268, 26.8, 38.1528, 34.842, 37.4632, 36.147999999999996, 33.3976, 22.1544, 40.824799999999996, 33.8044, 25.918, 35.642399999999995, 29.825599999999998, 37.6356, 26.0612, 34.806400000000004, 36.7316, 35.065599999999996, 34.376799999999996, 20.6, 37.6768, 36.5216, 41.5516, 18.9732, 37.622, 30.7864, 40.9248, 33.038799999999995, 38.05, 37.3804, 37.587199999999996, 37.3428, 39.480000000000004, 35.8412, 32.1768, 27.3172, 34.5072, 29.9, 29.389200000000002, 34.2416, 35.437200000000004, 39.618, 37.1112, 34.352000000000004, 39.2148, 38.1756, 32.648399999999995, 6.8, 35.9472, 28.608, 36.5524, 19.258, 34.674, 26.9876, 18.5344, 14.6472, 32.9104, 36.6704, 36.334, 34.6772, 39.6756, 35.3596, 39.6976, 27.334, 36.6804, 32.6348, 35.0908, 36.126000000000005, 33.2108, 31.575599999999998, 26.6292, 28.6332, 26.27, 33.684, 37.2144, 28.1064, 33.063199999999995, 18.6068, 39.0836, 31.401200000000003, 30.8512, 20.1856, 19.186, 38.1928, 34.1752, 40.2412, 39.33, 30.387999999999998, 34.209199999999996, 23.1252, 36.4004, 30.412800000000004, 34.752, 30.291200000000003, 36.1452, 38.0596, 34.118, 35.885999999999996, 25.4664, 38.0704, 33.41, 31.4384, 25.67, 36.2352, 23.9724, 30.99, 36.874, 32.9156, 29.6184, 35.8216, 29.2704, 35.5736, 37.566, 35.3084, 37.5316, 15.9, 36.3936, 40.0284, 31.9692, 33.3588, 34.790400000000005, 33.980000000000004, 35.007999999999996, 34.8508, 12.4, 32.1864, 17.9732, 28.2044, 32.876400000000004, 37.5096, 34.7588, 34.2132, 35.7332, 39.6912, 34.6104, 32.3416, 26.8568, 35.376799999999996, 34.989999999999995, 30.3004, 38.7084, 36.855599999999995, 30.0912, 31.7584, 31.6184, 38.7248, 18.470399999999998, 26.1204, 39.6388, 39.886799999999994, 38.7116, 27.294, 39.8456, 20.3112, 32.3452, 26.4936, 34.736000000000004, 37.8208, 31.4912, 34.851600000000005, 17.8524, 33.9904, 38.4216, 37.1736, 25.939600000000002, 36.422, 31.9756, 34.087199999999996, 30.196799999999996, 30.746399999999998, 19.6, 22.0964, 35.6524, 35.459599999999995, 36.9636, 38.1172, 27.5, 38.118, 32.5392, 14.1, 33.4172, 0.0, 31.945999999999998, 37.334, 38.6488, 30.983999999999998, 38.2832, 36.3528, 25.9584, 32.6428, 34.9696, 27.6704, 37.2384, 26.101599999999998, 31.3036, 27.235599999999998, 32.2932, 37.876400000000004, 33.721599999999995, 30.9664, 38.408, 28.7, 29.1008, 30.4444, 27.1556, 32.7568, 17.8104, 34.832, 38.051199999999994, 28.8356, 21.502799999999997, 33.483599999999996, 36.3212, 36.372, 27.5832, 29.747199999999996, 29.7424, 36.6356, 28.8384, 30.0464, 35.9996, 29.1436, 28.5672, 37.9872, 29.1312, 32.324799999999996, 27.352800000000002, 39.3896, 27.208, 35.8648, 37.5312, 31.0188, 34.314, 13.2, 38.44799999999999, 25.29, 37.3096, 28.5, 33.9152, 18.0276, 36.8052, 39.8904, 39.8664, 31.117599999999996, 36.538399999999996, 32.7772, 38.1668, 33.41, 36.906, 28.8, 36.2384, 34.0484, 28.4756, 33.0968, 33.5896, 36.7776, 39.8288, 27.497999999999998, 34.331599999999995, 36.384, 25.994799999999998, 29.56, 30.5164, 26.026799999999998, 27.0756, 41.3388, 37.0524, 30.641199999999998, 30.195999999999998, 35.818, 36.5964, 33.132000000000005, 30.680799999999998, 33.593199999999996, 27.184399999999997, 27.0912, 29.4, 22.5, 31.9604, 28.214799999999997, 31.16, 38.8092, 35.4604, 34.528800000000004, 17.0304, 30.914, 16.5004, 30.5036, 26.818400000000004, 29.884, 37.2356, 33.3732, 33.5408, 32.135999999999996, 33.8656, 25.2564, 35.2144, 40.0976, 23.8808, 36.3748, 40.2588, 26.296799999999998, 32.4464, 39.8216, 29.650799999999997, 29.3944, 39.8924, 34.3264, 19.3868, 15.4212, 33.4216, 36.0972, 36.5392, 39.3044, 35.3072, 20.3492, 40.7528, 32.5788, 30.596799999999998, 27.376799999999996, 35.9392, 31.88, 39.67, 33.0548, 32.9768, 29.7, 32.562, 39.3216, 24.3048, 26.9324, 33.3604, 39.800799999999995, 32.5004, 27.968400000000003, 33.3828, 38.3448, 29.4528, 34.075199999999995, 35.07, 31.275999999999996, 39.6904, 32.1668, 31.419999999999998, 29.602, 36.4688, 27.211599999999997, 35.5928, 32.952799999999996, 30.9324, 34.9564, 39.745599999999996, 35.224, 34.6008, 35.662400000000005, 34.46, 35.3904, 34.018, 27.1432, 29.620799999999996, 34.6828, 36.358000000000004, 32.6908, 30.269599999999997, 36.2836, 30.123199999999997, 29.747199999999996, 37.0484, 36.047599999999996, 26.1, 32.8296, 36.434799999999996, 29.322000000000003, 29.6864, 37.904799999999994, 39.4116, 21.1632, 25.866799999999998, 30.5832, 29.662799999999997, 38.5356, 33.976, 36.955600000000004, 22.67, 31.7716, 35.604, 36.26, 30.7596, 21.3068, 32.3848, 22.449199999999998, 28.1064, 32.1356, 25.04, 39.1412, 33.7352, 32.685199999999995, 32.388, 32.4248, 33.8992, 25.148, 34.7856, 37.628, 33.8284, 21.9596, 34.6548, 32.526799999999994, 33.4152, 30.2872, 15.1, 35.9488, 30.9, 37.152, 34.3524, 26.287599999999998, 24.462, 33.536, 31.5668, 33.314, 30.966, 17.8128, 31.0072, 33.9136, 31.5668, 36.5048, 30.394, 38.2636, 26.668799999999997, 38.4324, 40.0144, 24.9272, 39.952799999999996, 28.6664, 29.7, 32.47, 33.552800000000005, 31.3308, 24.036800000000003, 32.983599999999996, 17.8104, 30.382400000000004, 38.4392, 35.748400000000004, 27.7536, 28.5704, 39.0048, 32.0252, 38.8964, 35.0312, 35.4268, 35.080799999999996, 28.5524, 30.246000000000002, 24.253999999999998, 17.3, 24.3492, 33.896, 32.5132, 38.955600000000004, 29.9452, 38.038799999999995, 29.232799999999997, 33.124399999999994, 30.676, 37.099599999999995, 35.9868, 35.9352, 24.1696, 30.813599999999997, 34.1092, 34.7448, 33.764399999999995, 31.1756, 33.386799999999994, 31.552, 32.0012, 38.2004, 26.8748, 29.7928, 33.186400000000006, 28.7, 36.3632, 31.5244, 27.876799999999996, 35.074, 20.4168, 29.9668, 31.608, 37.3752, 32.6428, 37.2136, 31.406, 38.1596, 33.2596, 37.489599999999996, 37.58, 32.3728, 24.821599999999997, 39.0792, 32.476, 25.3056, 35.68, 30.531200000000002, 32.800799999999995, 38.7, 26.0908, 42.2244, 31.574399999999997, 35.6908, 26.5, 32.434400000000004, 32.4392, 31.232799999999997, 36.544799999999995, 30.806, 37.3144, 26.4496, 40.5904, 29.020799999999998, 19.113599999999998, 13.2492, 40.194, 27.435599999999997, 14.5524, 14.656, 32.362, 31.5, 30.009999999999998, 36.794, 37.3416, 14.3352, 27.745199999999997, 25.0944, 28.7808, 22.1492, 30.772799999999997, 39.1388, 36.566, 22.884, 27.115199999999998, 39.5828, 22.082, 27.2944, 18.1184, 33.766, 26.3288, 37.67, 28.108399999999996, 35.774, 30.2352, 26.509999999999998, 26.2072, 24.6212, 32.004, 35.8912, 20.996, 39.27, 31.342, 30.0824, 40.4488, 39.6796, 32.6892, 34.332, 39.5972, 30.729200000000002, 27.744799999999998, 29.2136, 35.053200000000004, 27.791200000000003, 29.9444, 35.2584, 28.959200000000003, 33.844, 34.9444, 30.696799999999996, 25.4424, 33.040400000000005, 25.399599999999996, 30.6924, 36.687200000000004, 39.2764, 24.372799999999998, 23.4, 29.7248, 38.782799999999995, 22.637999999999998, 26.7972, 37.794, 32.838, 28.4892, 39.483999999999995, 27.5872, 33.8388, 29.6216, 32.5496, 38.7804, 35.0248, 30.4936, 40.0524, 36.1944, 37.211200000000005, 18.566, 23.3356, 33.983999999999995, 32.5456, 31.772799999999997, 40.9908, 33.965599999999995, 34.132000000000005, 32.57, 35.4732, 28.8112, 31.1064, 30.273599999999995, 26.0044, 23.0892, 35.5828, 28.466, 28.9912, 34.288799999999995, 34.9636, 31.531599999999997, 35.4964, 31.3532, 34.028800000000004, 26.874399999999998, 26.8, 34.8904, 39.5276, 28.432000000000002, 26.4496, 30.116799999999998, 26.659599999999998, 17.9, 38.3364, 38.9388, 37.4764, 34.395199999999996, 37.7076, 27.611600000000003, 29.5768, 37.4976, 31.5004, 21.1892, 28.9972, 33.162, 34.5124, 19.4664, 38.932, 13.0, 38.9284, 28.726, 34.831599999999995, 35.894400000000005, 27.714799999999997, 35.798, 26.5, 33.7792, 35.258, 32.3036, 39.2964, 20.3444, 29.5916, 31.593600000000002, 38.6736, 38.0312, 30.7516, 28.5644, 21.532, 37.8892, 27.240000000000002, 35.4704, 32.538399999999996, 29.891199999999998, 32.065200000000004, 30.5608, 32.307599999999994, 34.8804, 22.939999999999998, 25.152, 30.5076, 38.044799999999995, 38.9492, 36.3132, 27.0708, 32.626799999999996, 21.369999999999997, 35.332, 34.384, 17.000799999999998, 31.0084, 21.6, 37.7832, 33.6636, 36.234, 29.9016, 31.7656, 28.3208, 39.7756, 17.0864, 39.800399999999996, 19.2, 34.3588, 38.0768, 35.2692, 35.8596, 31.0392, 34.2284, 27.5, 39.6136, 19.3, 18.3552, 37.6868, 30.095599999999997, 31.3664, 37.3872, 35.376799999999996, 35.128, 29.1, 25.6892, 31.6004, 35.666399999999996, 38.2908, 31.873599999999996, 30.8152, 27.7828, 38.3756, 38.8844, 38.8464, 34.77119999999999, 33.4256, 33.5876, 34.729200000000006, 35.178399999999996, 27.5048, 39.36879999999999, 34.0072, 34.0836, 9.222399999999999, 31.2076, 36.1324, 38.3352, 38.29, 30.2576, 29.3652, 19.4284, 22.892799999999998, 37.1328, 37.4632, 23.5396, 39.3524, 27.2016, 39.7568, 37.294, 30.428400000000003, 37.010000000000005, 38.1044, 30.2716, 11.5, 32.2044, 35.3624, 27.2032, 28.0256, 34.4284, 39.668400000000005, 6.4, 30.023999999999997, 32.572, 31.1824, 28.548000000000002, 36.9456, 33.1036, 36.014799999999994, 36.3692, 31.1352, 30.828, 35.726, 32.6476, 37.41759999999999, 35.435599999999994, 18.293599999999998, 30.736, 37.916799999999995, 30.9576, 32.1864, 30.462400000000002, 39.8656, 28.5948, 39.641999999999996, 16.146, 27.348399999999998, 26.6488, 20.78, 25.461599999999997, 32.4072, 37.1824, 24.8052, 35.382400000000004, 22.053600000000003, 24.418400000000002, 23.8544, 37.258, 39.0152, 33.3804, 36.879999999999995, 24.6576, 37.5012, 31.089599999999997, 29.973999999999997, 41.5768, 39.6496, 29.936, 26.407200000000003, 29.6696, 35.824799999999996, 37.048, 32.1868, 19.4076, 36.674, 31.575599999999998, 36.318799999999996, 35.372, 18.6068, 28.0188, 32.2008, 32.2548, 25.6612, 24.313200000000002, 38.0436, 38.5768, 31.195999999999998, 31.349200000000003, 31.652, 32.584, 26.632399999999997, 27.363599999999998, 33.67, 29.304, 27.2668, 38.2008, 34.854, 34.718, 34.4868, 36.8132, 33.8456, 36.4876, 28.8596, 38.058400000000006, 28.712, 35.9004, 37.504, 36.5324, 34.0668, 25.5, 39.5492, 39.666, 35.1896, 26.918, 36.431200000000004, 11.9, 27.711199999999998, 32.6704, 31.0152, 26.129599999999996, 20.518, 25.6876, 37.3032, 36.111999999999995, 38.935599999999994, 24.2568, 34.983599999999996, 34.327600000000004, 18.823999999999998, 32.5048, 23.499599999999997, 33.544399999999996, 15.614799999999999, 37.5624, 34.325599999999994, 36.007999999999996, 20.6792, 26.256, 40.273599999999995, 20.598, 37.6216, 32.1972, 29.735599999999998, 25.6888, 32.770399999999995, 38.52719999999999, 39.6464, 31.281599999999997, 31.663600000000002, 37.873599999999996, 31.276400000000002, 29.8292, 38.754, 34.9308, 34.7288, 35.3988, 30.6828, 33.3972, 24.945999999999998, 36.7136, 37.1312, 35.2076, 36.032, 30.3876, 38.5036, 32.9736, 31.6256, 29.6464, 28.9084, 24.6024, 1.0, 27.8676, 31.6564, 28.3492, 31.1032, 31.190800000000003, 35.236000000000004, 28.4, 38.435599999999994, 23.2048, 31.3164, 30.022399999999998, 28.293599999999998, 28.3016, 31.2188, 35.1764, 32.538, 26.6684, 33.693599999999996, 28.0048, 34.1092, 27.5908, 35.77, 39.0548, 30.8444, 24.9608, 32.5796, 31.534799999999997, 34.362, 25.4, 32.47279999999999, 37.504, 30.5292, 35.5108, 26.794800000000002, 31.4932, 31.848, 16.3, 32.594, 38.687200000000004, 28.9284, 32.471599999999995, 28.131999999999998, 34.980000000000004, 30.1392, 19.3012, 28.3324, 33.768, 33.8172, 29.095199999999995, 35.7076, 33.9904, 19.8692, 31.9, 28.453200000000002, 28.543599999999998, 37.9332, 39.5112, 39.4484, 38.8324, 26.932000000000002, 31.648, 15.493599999999999, 19.6112, 28.7352, 28.1492, 19.877200000000002, 26.6836, 31.0276, 34.7008, 16.3624, 34.2452, 27.589199999999998, 37.58, 38.0312], \"colorscale\": [[0, \"lime\"], [0.5, \"red\"]], \"line\": {\"color\": \"rgb(140, 140, 170)\"}, \"size\": 5, \"sizemode\": \"diameter\", \"sizeref\": 1500}, \"mode\": \"markers\", \"type\": \"scatter3d\", \"x\": [\"Aceptable\", \"Aceptable\", \"Aceptable\", \"Aceptable\", \"Aceptable\", \"Aceptable\", \"Aceptable\", \"Aceptable\", \"Aceptable\", \"Aceptable\", \"Aceptable\", \"Aceptable\", \"Aceptable\", \"Aceptable\", \"Aceptable\", \"Aceptable\", \"Aceptable\", \"Aceptable\", \"Aceptable\", \"Aceptable\", \"Aceptable\", \"Aceptable\", \"Aceptable\", \"Aceptable\", \"Aceptable\", \"Aceptable\", \"Aceptable\", \"Aceptable\", \"Aceptable\", \"Aceptable\", \"Aceptable\", \"Aceptable\", \"Aceptable\", \"Aceptable\", \"Aceptable\", \"Aceptable\", \"Aceptable\", \"Aceptable\", \"Aceptable\", \"Aceptable\", \"Aceptable\", \"Aceptable\", \"Aceptable\", \"Aceptable\", \"Aceptable\", \"Aceptable\", \"Aceptable\", \"Aceptable\", \"Aceptable\", \"Aceptable\", \"Aceptable\", \"Aceptable\", \"Aceptable\", \"Aceptable\", \"Aceptable\", \"Aceptable\", \"Aceptable\", \"Aceptable\", \"Aceptable\", \"Aceptable\", \"Aceptable\", \"Aceptable\", \"Aceptable\", \"Aceptable\", \"Aceptable\", \"Aceptable\", \"Aceptable\", \"Aceptable\", \"Aceptable\", \"Aceptable\", \"Aceptable\", \"Aceptable\", \"Aceptable\", \"Aceptable\", \"Aceptable\", \"Aceptable\", \"Aceptable\", \"Aceptable\", \"Aceptable\", \"Aceptable\", \"Aceptable\", \"Aceptable\", \"Aceptable\", \"Aceptable\", \"Aceptable\", \"Aceptable\", \"Aceptable\", \"Aceptable\", \"Aceptable\", \"Aceptable\", \"Aceptable\", \"Aceptable\", \"Aceptable\", \"Aceptable\", \"Aceptable\", \"Aceptable\", \"Aceptable\", \"Aceptable\", \"Aceptable\", \"Aceptable\", \"Aceptable\", \"Aceptable\", \"Aceptable\", \"Aceptable\", \"Aceptable\", \"Aceptable\", \"Aceptable\", \"Aceptable\", \"Aceptable\", \"Aceptable\", \"Aceptable\", \"Aceptable\", \"Aceptable\", \"Aceptable\", \"Aceptable\", \"Aceptable\", \"Aceptable\", \"Aceptable\", \"Aceptable\", \"Aceptable\", \"Aceptable\", \"Aceptable\", \"Aceptable\", \"Aceptable\", \"Aceptable\", \"Aceptable\", \"Aceptable\", \"Aceptable\", \"Aceptable\", \"Aceptable\", \"Aceptable\", \"Aceptable\", \"Aceptable\", \"Aceptable\", \"Aceptable\", \"Aceptable\", \"Aceptable\", \"Aceptable\", \"Aceptable\", \"Aceptable\", \"Aceptable\", \"Aceptable\", \"Aceptable\", \"Aceptable\", \"Aceptable\", \"Aceptable\", \"Aceptable\", \"Aceptable\", \"Excelente\", \"Aceptable\", \"Aceptable\", \"Aceptable\", \"Aceptable\", \"Aceptable\", \"Aceptable\", \"Aceptable\", \"Aceptable\", \"Aceptable\", \"Aceptable\", \"Aceptable\", \"Aceptable\", \"Aceptable\", \"Aceptable\", \"Aceptable\", \"Aceptable\", \"Aceptable\", \"Aceptable\", \"Aceptable\", \"Aceptable\", \"Aceptable\", \"Aceptable\", \"Aceptable\", \"Aceptable\", \"Aceptable\", \"Aceptable\", \"Aceptable\", \"Aceptable\", \"Aceptable\", \"Aceptable\", \"Aceptable\", \"Aceptable\", \"Aceptable\", \"Aceptable\", \"Aceptable\", \"Aceptable\", \"Aceptable\", \"Aceptable\", \"Aceptable\", \"Aceptable\", \"Aceptable\", \"Aceptable\", \"Aceptable\", \"Aceptable\", \"Aceptable\", \"Aceptable\", \"Aceptable\", \"Aceptable\", \"Aceptable\", \"Aceptable\", \"Aceptable\", \"Aceptable\", \"Aceptable\", \"Aceptable\", \"Aceptable\", \"Aceptable\", \"Aceptable\", \"Aceptable\", \"Aceptable\", \"Aceptable\", \"Aceptable\", \"Aceptable\", \"Aceptable\", \"Aceptable\", \"Aceptable\", \"Aceptable\", \"Aceptable\", \"Aceptable\", \"Aceptable\", \"Aceptable\", \"Aceptable\", \"Aceptable\", \"Aceptable\", \"Aceptable\", \"Aceptable\", \"Aceptable\", \"Aceptable\", \"Aceptable\", \"Aceptable\", \"Aceptable\", \"Aceptable\", \"Aceptable\", \"Aceptable\", \"Aceptable\", \"Aceptable\", \"Aceptable\", \"Aceptable\", \"Aceptable\", \"Aceptable\", \"Aceptable\", \"Aceptable\", \"Aceptable\", \"Aceptable\", \"Aceptable\", \"Aceptable\", \"Aceptable\", \"Aceptable\", \"Aceptable\", \"Aceptable\", \"Aceptable\", \"Aceptable\", \"Aceptable\", \"Aceptable\", \"Aceptable\", \"Aceptable\", \"Aceptable\", \"Aceptable\", \"Aceptable\", \"Aceptable\", \"Aceptable\", \"Aceptable\", \"Aceptable\", \"Aceptable\", \"Aceptable\", \"Aceptable\", \"Aceptable\", \"Aceptable\", \"Aceptable\", \"Aceptable\", \"Aceptable\", \"Aceptable\", \"Aceptable\", \"Aceptable\", \"Aceptable\", \"Aceptable\", \"Aceptable\", \"Aceptable\", \"Aceptable\", \"Aceptable\", \"Aceptable\", \"Aceptable\", \"Aceptable\", \"Aceptable\", \"Aceptable\", \"Aceptable\", \"Aceptable\", \"Aceptable\", \"Aceptable\", \"Aceptable\", \"Aceptable\", \"Aceptable\", \"Aceptable\", \"Aceptable\", \"Aceptable\", \"Aceptable\", \"Aceptable\", \"Aceptable\", \"Aceptable\", \"Aceptable\", \"Aceptable\", \"Aceptable\", \"Aceptable\", \"Aceptable\", \"Aceptable\", \"Aceptable\", \"Aceptable\", \"Aceptable\", \"Aceptable\", \"Aceptable\", \"Aceptable\", \"Aceptable\", \"Aceptable\", \"Aceptable\", \"Aceptable\", \"Aceptable\", \"Aceptable\", \"Aceptable\", \"Aceptable\", \"Regular\", \"Aceptable\", \"Aceptable\", \"Aceptable\", \"Aceptable\", \"Aceptable\", \"Aceptable\", \"Aceptable\", \"Aceptable\", \"Aceptable\", \"Aceptable\", \"Aceptable\", \"Aceptable\", \"Aceptable\", \"Aceptable\", \"Aceptable\", \"Aceptable\", \"Aceptable\", \"Aceptable\", \"Aceptable\", \"Aceptable\", \"Aceptable\", \"Aceptable\", \"Aceptable\", \"Aceptable\", \"Aceptable\", \"Aceptable\", \"Aceptable\", \"Aceptable\", \"Aceptable\", \"Aceptable\", \"Aceptable\", \"Aceptable\", \"Aceptable\", \"Aceptable\", \"Aceptable\", \"Aceptable\", \"Aceptable\", \"Aceptable\", \"Aceptable\", \"Aceptable\", \"Aceptable\", \"Aceptable\", \"Aceptable\", \"Aceptable\", \"Aceptable\", \"Aceptable\", \"Aceptable\", \"Aceptable\", \"Aceptable\", \"Aceptable\", \"Aceptable\", \"Aceptable\", \"Excelente\", \"Aceptable\", \"Aceptable\", \"Aceptable\", \"Aceptable\", \"Aceptable\", \"Aceptable\", \"Aceptable\", \"Aceptable\", \"Aceptable\", \"Aceptable\", \"Aceptable\", \"Aceptable\", \"Aceptable\", \"Aceptable\", \"Aceptable\", \"Aceptable\", \"Aceptable\", \"Aceptable\", \"Bueno\", \"Aceptable\", \"Aceptable\", \"Aceptable\", \"Aceptable\", \"Aceptable\", \"Aceptable\", \"Aceptable\", \"Aceptable\", \"Aceptable\", \"Aceptable\", \"Aceptable\", \"Aceptable\", \"Aceptable\", \"Aceptable\", \"Aceptable\", \"Aceptable\", \"Aceptable\", \"Aceptable\", \"Aceptable\", \"Aceptable\", \"Aceptable\", \"Aceptable\", \"Aceptable\", \"Aceptable\", \"Aceptable\", \"Aceptable\", \"Aceptable\", \"Aceptable\", \"Aceptable\", \"Aceptable\", \"Aceptable\", \"Aceptable\", \"Aceptable\", \"Aceptable\", \"Aceptable\", \"Aceptable\", \"Aceptable\", \"Aceptable\", \"Aceptable\", \"Aceptable\", \"Aceptable\", \"Aceptable\", \"Aceptable\", \"Aceptable\", \"Aceptable\", \"Aceptable\", \"Aceptable\", \"Aceptable\", \"Aceptable\", \"Aceptable\", \"Aceptable\", \"Aceptable\", \"Aceptable\", \"Aceptable\", \"Aceptable\", \"Aceptable\", \"Aceptable\", \"Aceptable\", \"Aceptable\", \"Aceptable\", \"Aceptable\", \"Aceptable\", \"Aceptable\", \"Aceptable\", \"Aceptable\", \"Aceptable\", \"Aceptable\", \"Aceptable\", \"Aceptable\", \"Aceptable\", \"Aceptable\", \"Aceptable\", \"Aceptable\", \"Aceptable\", \"Aceptable\", \"Aceptable\", \"Aceptable\", \"Aceptable\", \"Aceptable\", \"Aceptable\", \"Aceptable\", \"Aceptable\", \"Aceptable\", \"Aceptable\", \"Aceptable\", \"Aceptable\", \"Aceptable\", \"Aceptable\", \"Aceptable\", \"Aceptable\", \"Aceptable\", \"Aceptable\", \"Aceptable\", \"Aceptable\", \"Aceptable\", \"Aceptable\", \"Aceptable\", \"Aceptable\", \"Aceptable\", \"Aceptable\", \"Aceptable\", \"Aceptable\", \"Aceptable\", \"Aceptable\", \"Aceptable\", \"Aceptable\", \"Aceptable\", \"Aceptable\", \"Aceptable\", \"Aceptable\", \"Aceptable\", \"Aceptable\", \"Aceptable\", \"Aceptable\", \"Aceptable\", \"Aceptable\", \"Aceptable\", \"Aceptable\", \"Aceptable\", \"Aceptable\", \"Aceptable\", \"Aceptable\", \"Aceptable\", \"Aceptable\", \"Aceptable\", \"Aceptable\", \"Aceptable\", \"Aceptable\", \"Aceptable\", \"Aceptable\", \"Aceptable\", \"Aceptable\", \"Aceptable\", \"Aceptable\", \"Aceptable\", \"Aceptable\", \"Aceptable\", \"Aceptable\", \"Aceptable\", \"Aceptable\", \"Aceptable\", \"Aceptable\", \"Aceptable\", \"Aceptable\", \"Aceptable\", \"Aceptable\", \"Aceptable\", \"Aceptable\", \"Aceptable\", \"Aceptable\", \"Aceptable\", \"Aceptable\", \"Aceptable\", \"Aceptable\", \"Aceptable\", \"Aceptable\", \"Aceptable\", \"Aceptable\", \"Aceptable\", \"Aceptable\", \"Aceptable\", \"Aceptable\", \"Aceptable\", \"Aceptable\", \"Aceptable\", \"Aceptable\", \"Aceptable\", \"Aceptable\", \"Aceptable\", \"Aceptable\", \"Aceptable\", \"Aceptable\", \"Aceptable\", \"Aceptable\", \"Aceptable\", \"Aceptable\", \"Aceptable\", \"Aceptable\", \"Aceptable\", \"Aceptable\", \"Aceptable\", \"Aceptable\", \"Aceptable\", \"Aceptable\", \"Aceptable\", \"Aceptable\", \"Aceptable\", \"Aceptable\", \"Aceptable\", \"Aceptable\", \"Aceptable\", \"Aceptable\", \"Aceptable\", \"Aceptable\", \"Aceptable\", \"Aceptable\", \"Aceptable\", \"Aceptable\", \"Aceptable\", \"Aceptable\", \"Aceptable\", \"Aceptable\", \"Aceptable\", \"Aceptable\", \"Aceptable\", \"Aceptable\", \"Aceptable\", \"Aceptable\", \"Aceptable\", \"Aceptable\", \"Aceptable\", \"Aceptable\", \"Aceptable\", \"Aceptable\", \"Aceptable\", \"Aceptable\", \"Aceptable\", \"Aceptable\", \"Bueno\", \"Aceptable\", \"Aceptable\", \"Aceptable\", \"Aceptable\", \"Aceptable\", \"Aceptable\", \"Aceptable\", \"Aceptable\", \"Aceptable\", \"Aceptable\", \"Aceptable\", \"Aceptable\", \"Aceptable\", \"Aceptable\", \"Aceptable\", \"Aceptable\", \"Aceptable\", \"Aceptable\", \"Aceptable\", \"Aceptable\", \"Aceptable\", \"Aceptable\", \"Aceptable\", \"Aceptable\", \"Aceptable\", \"Aceptable\", \"Aceptable\", \"Aceptable\", \"Aceptable\", \"Aceptable\", \"Aceptable\", \"Aceptable\", \"Aceptable\", \"Aceptable\", \"Aceptable\", \"Aceptable\", \"Aceptable\", \"Aceptable\", \"Aceptable\", \"Aceptable\", \"Aceptable\", \"Aceptable\", \"Aceptable\", \"Aceptable\", \"Aceptable\", \"Aceptable\", \"Aceptable\", \"Aceptable\", \"Aceptable\", \"Aceptable\", \"Aceptable\", \"Aceptable\", \"Aceptable\", \"Aceptable\", \"Aceptable\", \"Aceptable\", \"Aceptable\", \"Aceptable\", \"Aceptable\", \"Aceptable\", \"Aceptable\", \"Aceptable\", \"Aceptable\", \"Aceptable\", \"Aceptable\", \"Aceptable\", \"Aceptable\", \"Aceptable\", \"Aceptable\", \"Aceptable\", \"Aceptable\", \"Aceptable\", \"Aceptable\", \"Aceptable\", \"Aceptable\", \"Aceptable\", \"Aceptable\", \"Aceptable\", \"Aceptable\", \"Aceptable\", \"Aceptable\", \"Aceptable\", \"Aceptable\", \"Aceptable\", \"Aceptable\", \"Aceptable\", \"Aceptable\", \"Aceptable\", \"Aceptable\", \"Aceptable\", \"Aceptable\", \"Aceptable\", \"Aceptable\", \"Aceptable\", \"Aceptable\", \"Aceptable\", \"Aceptable\", \"Aceptable\", \"Aceptable\", \"Aceptable\", \"Aceptable\", \"Aceptable\", \"Aceptable\", \"Aceptable\", \"Aceptable\", \"Aceptable\", \"Aceptable\", \"Aceptable\", \"Aceptable\", \"Aceptable\", \"Aceptable\", \"Aceptable\", \"Aceptable\", \"Aceptable\", \"Aceptable\", \"Aceptable\", \"Aceptable\", \"Aceptable\", \"Aceptable\", \"Aceptable\", \"Aceptable\", \"Aceptable\", \"Aceptable\", \"Aceptable\", \"Aceptable\", \"Aceptable\", \"Aceptable\", \"Aceptable\", \"Aceptable\", \"Aceptable\", \"Aceptable\", \"Aceptable\", \"Aceptable\", \"Aceptable\", \"Aceptable\", \"Aceptable\", \"Aceptable\", \"Aceptable\", \"Aceptable\", \"Aceptable\", \"Aceptable\", \"Aceptable\", \"Aceptable\", \"Aceptable\", \"Aceptable\", \"Aceptable\", \"Aceptable\", \"Aceptable\", \"Aceptable\", \"Aceptable\", \"Aceptable\", \"Aceptable\", \"Aceptable\", \"Aceptable\", \"Aceptable\", \"Aceptable\", \"Aceptable\", \"Aceptable\", \"Aceptable\", \"Aceptable\", \"Aceptable\", \"Aceptable\", \"Aceptable\", \"Bueno\", \"Aceptable\", \"Aceptable\", \"Aceptable\", \"Aceptable\", \"Aceptable\", \"Aceptable\", \"Aceptable\", \"Aceptable\", \"Aceptable\", \"Aceptable\", \"Aceptable\", \"Aceptable\", \"Aceptable\", \"Aceptable\", \"Aceptable\", \"Aceptable\", \"Aceptable\", \"Aceptable\", \"Aceptable\", \"Aceptable\", \"Aceptable\", \"Aceptable\", \"Aceptable\", \"Aceptable\", \"Aceptable\", \"Aceptable\", \"Aceptable\", \"Aceptable\", \"Aceptable\", \"Aceptable\", \"Aceptable\", \"Aceptable\", \"Aceptable\", \"Aceptable\", \"Aceptable\", \"Aceptable\", \"Aceptable\", \"Aceptable\", \"Aceptable\", \"Aceptable\", \"Aceptable\", \"Aceptable\", \"Aceptable\", \"Aceptable\", \"Aceptable\", \"Aceptable\", \"Aceptable\", \"Aceptable\", \"Aceptable\", \"Aceptable\", \"Aceptable\", \"Aceptable\", \"Aceptable\", \"Aceptable\", \"Aceptable\", \"Aceptable\", \"Aceptable\", \"Aceptable\", \"Aceptable\", \"Aceptable\", \"Aceptable\", \"Aceptable\", \"Aceptable\", \"Aceptable\", \"Aceptable\", \"Aceptable\", \"Aceptable\", \"Aceptable\", \"Aceptable\", \"Aceptable\", \"Aceptable\", \"Aceptable\", \"Aceptable\", \"Aceptable\", \"Aceptable\", \"Aceptable\", \"Aceptable\", \"Aceptable\", \"Aceptable\", \"Aceptable\", \"Aceptable\", \"Aceptable\", \"Aceptable\", \"Aceptable\", \"Aceptable\", \"Aceptable\", \"Aceptable\", \"Aceptable\", \"Aceptable\", \"Aceptable\", \"Aceptable\", \"Aceptable\", \"Aceptable\", \"Aceptable\", \"Aceptable\", \"Aceptable\", \"Aceptable\", \"Aceptable\", \"Aceptable\", \"Aceptable\", \"Aceptable\", \"Aceptable\", \"Aceptable\", \"Aceptable\", \"Aceptable\", \"Aceptable\", \"Aceptable\", \"Aceptable\", \"Aceptable\", \"Aceptable\", \"Aceptable\", \"Aceptable\", \"Aceptable\", \"Aceptable\", \"Aceptable\", \"Aceptable\", \"Aceptable\", \"Aceptable\", \"Aceptable\", \"Aceptable\", \"Aceptable\", \"Aceptable\", \"Aceptable\", \"Aceptable\", \"Aceptable\", \"Aceptable\", \"Aceptable\", \"Aceptable\", \"Aceptable\", \"Aceptable\", \"Aceptable\", \"Aceptable\", \"Aceptable\", \"Aceptable\", \"Aceptable\", \"Aceptable\", \"Aceptable\", \"Aceptable\", \"Aceptable\", \"Aceptable\", \"Aceptable\", \"Aceptable\", \"Aceptable\", \"Aceptable\", \"Aceptable\", \"Aceptable\", \"Aceptable\", \"Aceptable\", \"Aceptable\", \"Aceptable\", \"Aceptable\", \"Aceptable\", \"Aceptable\", \"Aceptable\", \"Aceptable\", \"Aceptable\", \"Aceptable\", \"Aceptable\", \"Aceptable\", \"Aceptable\", \"Aceptable\", \"Aceptable\", \"Aceptable\", \"Aceptable\", \"Aceptable\", \"Aceptable\", \"Aceptable\", \"Aceptable\", \"Aceptable\", \"Aceptable\", \"Aceptable\", \"Aceptable\", \"Aceptable\", \"Aceptable\", \"Aceptable\", \"Aceptable\", \"Aceptable\", \"Aceptable\", \"Aceptable\", \"Aceptable\", \"Aceptable\", \"Aceptable\", \"Aceptable\", \"Aceptable\", \"Aceptable\", \"Aceptable\", \"Aceptable\", \"Aceptable\", \"Aceptable\", \"Aceptable\", \"Aceptable\", \"Aceptable\", \"Aceptable\", \"Aceptable\", \"Aceptable\", \"Aceptable\", \"Aceptable\", \"Aceptable\", \"Aceptable\", \"Aceptable\", \"Aceptable\", \"Aceptable\", \"Aceptable\", \"Aceptable\", \"Aceptable\", \"Aceptable\", \"Aceptable\", \"Aceptable\", \"Aceptable\", \"Aceptable\", \"Aceptable\", \"Aceptable\", \"Aceptable\", \"Aceptable\", \"Aceptable\", \"Aceptable\", \"Aceptable\", \"Aceptable\", \"Aceptable\", \"Aceptable\", \"Aceptable\", \"Aceptable\", \"Aceptable\", \"Aceptable\", \"Aceptable\", \"Aceptable\", \"Aceptable\", \"Aceptable\", \"Aceptable\", \"Aceptable\", \"Aceptable\", \"Aceptable\", \"Aceptable\", \"Aceptable\", \"Aceptable\", \"Aceptable\", \"Aceptable\", \"Aceptable\", \"Aceptable\", \"Aceptable\", \"Aceptable\", \"Aceptable\", \"Aceptable\", \"Aceptable\", \"Aceptable\", \"Aceptable\", \"Aceptable\", \"Aceptable\", \"Aceptable\", \"Aceptable\", \"Aceptable\", \"Aceptable\", \"Aceptable\", \"Aceptable\", \"Aceptable\", \"Aceptable\", \"Aceptable\", \"Aceptable\", \"Aceptable\", \"Aceptable\", \"Aceptable\", \"Aceptable\", \"Aceptable\", \"Aceptable\", \"Aceptable\", \"Aceptable\", \"Aceptable\", \"Regular\", \"Aceptable\", \"Aceptable\", \"Aceptable\", \"Aceptable\", \"Aceptable\", \"Aceptable\", \"Aceptable\", \"Aceptable\", \"Aceptable\", \"Aceptable\", \"Aceptable\", \"Aceptable\", \"Aceptable\", \"Aceptable\", \"Aceptable\", \"Aceptable\", \"Aceptable\", \"Aceptable\", \"Aceptable\", \"Aceptable\", \"Aceptable\", \"Aceptable\", \"Aceptable\", \"Aceptable\", \"Aceptable\", \"Aceptable\", \"Aceptable\", \"Aceptable\", \"Aceptable\", \"Aceptable\", \"Aceptable\", \"Aceptable\", \"Aceptable\", \"Aceptable\", \"Aceptable\", \"Aceptable\", \"Aceptable\", \"Aceptable\", \"Aceptable\", \"Aceptable\", \"Aceptable\", \"Aceptable\", \"Aceptable\", \"Aceptable\", \"Aceptable\", \"Aceptable\", \"Aceptable\", \"Aceptable\", \"Aceptable\", \"Aceptable\", \"Aceptable\", \"Aceptable\", \"Aceptable\", \"Aceptable\", \"Aceptable\", \"Aceptable\", \"Aceptable\", \"Aceptable\", \"Aceptable\", \"Aceptable\", \"Aceptable\", \"Aceptable\", \"Aceptable\", \"Aceptable\", \"Aceptable\", \"Aceptable\", \"Aceptable\", \"Aceptable\", \"Aceptable\", \"Regular\", \"Aceptable\", \"Aceptable\", \"Aceptable\", \"Aceptable\", \"Aceptable\", \"Aceptable\", \"Aceptable\", \"Aceptable\", \"Excelente\", \"Aceptable\", \"Aceptable\", \"Aceptable\", \"Aceptable\", \"Aceptable\", \"Aceptable\", \"Aceptable\", \"Aceptable\", \"Aceptable\", \"Aceptable\", \"Aceptable\", \"Aceptable\", \"Aceptable\", \"Aceptable\", \"Aceptable\", \"Aceptable\", \"Aceptable\", \"Aceptable\", \"Aceptable\", \"Aceptable\", \"Aceptable\", \"Aceptable\", \"Aceptable\", \"Aceptable\", \"Aceptable\", \"Aceptable\", \"Aceptable\", \"Aceptable\", \"Aceptable\", \"Aceptable\", \"Aceptable\", \"Aceptable\", \"Aceptable\", \"Aceptable\", \"Aceptable\", \"Aceptable\", \"Aceptable\", \"Aceptable\", \"Aceptable\", \"Aceptable\", \"Aceptable\", \"Aceptable\", \"Aceptable\", \"Aceptable\", \"Aceptable\", \"Aceptable\", \"Aceptable\", \"Aceptable\", \"Aceptable\", \"Aceptable\", \"Aceptable\", \"Aceptable\", \"Aceptable\", \"Aceptable\", \"Aceptable\", \"Aceptable\", \"Aceptable\", \"Aceptable\", \"Aceptable\", \"Aceptable\", \"Aceptable\", \"Aceptable\", \"Aceptable\", \"Aceptable\", \"Aceptable\", \"Aceptable\", \"Aceptable\", \"Aceptable\", \"Aceptable\", \"Aceptable\", \"Aceptable\", \"Aceptable\", \"Aceptable\", \"Aceptable\", \"Aceptable\", \"Aceptable\", \"Aceptable\", \"Aceptable\", \"Aceptable\", \"Aceptable\", \"Aceptable\", \"Aceptable\", \"Aceptable\", \"Aceptable\", \"Aceptable\", \"Aceptable\", \"Aceptable\", \"Aceptable\", \"Aceptable\", \"Aceptable\", \"Aceptable\", \"Aceptable\", \"Aceptable\", \"Aceptable\", \"Aceptable\", \"Aceptable\", \"Aceptable\", \"Aceptable\", \"Excelente\", \"Aceptable\", \"Aceptable\", \"Aceptable\", \"Aceptable\", \"Aceptable\", \"Aceptable\", \"Aceptable\", \"Aceptable\", \"Aceptable\", \"Aceptable\", \"Aceptable\", \"Aceptable\", \"Aceptable\", \"Aceptable\", \"Aceptable\", \"Aceptable\", \"Aceptable\", \"Aceptable\", \"Aceptable\", \"Aceptable\", \"Aceptable\", \"Aceptable\", \"Aceptable\", \"Aceptable\", \"Aceptable\", \"Aceptable\", \"Aceptable\", \"Aceptable\", \"Aceptable\", \"Aceptable\", \"Aceptable\", \"Aceptable\", \"Aceptable\", \"Aceptable\", \"Aceptable\", \"Aceptable\", \"Aceptable\", \"Aceptable\", \"Aceptable\", \"Aceptable\", \"Aceptable\", \"Aceptable\", \"Aceptable\", \"Aceptable\", \"Aceptable\", \"Aceptable\", \"Aceptable\", \"Aceptable\", \"Aceptable\", \"Aceptable\", \"Aceptable\", \"Aceptable\", \"Aceptable\", \"Aceptable\", \"Aceptable\", \"Aceptable\", \"Excelente\", \"Aceptable\", \"Aceptable\", \"Aceptable\", \"Aceptable\", \"Aceptable\", \"Aceptable\", \"Aceptable\", \"Aceptable\", \"Aceptable\", \"Aceptable\", \"Aceptable\", \"Regular\", \"Aceptable\"], \"y\": [39.8584, 34.9244, 32.9492, 38.28, 38.6076, 22.626, 28.441599999999998, 24.5428, 25.1768, 37.8632, 36.6912, 30.4696, 39.3732, 34.0456, 36.3488, 41.251599999999996, 37.599599999999995, 33.4628, 29.0756, 27.852400000000003, 32.456, 31.2796, 32.0276, 32.6068, 19.186, 35.428, 34.9868, 40.3044, 32.2996, 29.712, 24.2944, 24.7, 35.8936, 27.764, 26.9732, 31.4668, 36.4768, 33.624399999999994, 29.772399999999998, 31.8308, 32.146, 37.1588, 39.0068, 32.3588, 31.5944, 28.1144, 34.7044, 35.766799999999996, 36.9072, 38.9388, 11.0, 38.9044, 30.672799999999995, 32.756, 34.4764, 36.9632, 33.894400000000005, 34.4524, 39.9904, 34.7208, 39.5924, 13.0, 31.3444, 36.6184, 26.056400000000004, 33.1316, 34.7144, 37.162400000000005, 38.7592, 33.2144, 33.824, 22.8512, 35.9616, 37.0696, 37.065599999999996, 28.5, 37.2692, 19.7732, 38.8288, 34.052800000000005, 39.403999999999996, 33.9452, 19.2908, 31.6392, 21.2668, 22.811999999999998, 18.3172, 26.77, 34.6248, 26.352800000000002, 34.099599999999995, 36.0792, 29.1556, 35.5144, 30.414, 36.4032, 33.7384, 32.2248, 33.7624, 30.8172, 36.29, 21.4304, 33.1932, 35.282, 25.5432, 30.5512, 25.5628, 13.4664, 37.028800000000004, 38.111999999999995, 37.856, 25.3296, 35.142399999999995, 35.4, 33.138400000000004, 34.8048, 37.89, 27.3464, 30.8236, 35.2248, 39.2708, 37.47, 31.4588, 32.010400000000004, 28.8008, 35.6736, 26.9908, 39.512, 35.214, 28.746399999999998, 32.5484, 31.503999999999998, 36.4908, 25.824399999999997, 28.0872, 37.322, 24.7832, 31.3704, 31.6812, 16.345599999999997, 37.3204, 37.5276, 37.3044, 22.6132, 28.144799999999996, 28.8388, 33.117599999999996, 23.64, 24.4264, 37.7964, 23.747199999999996, 35.0204, 26.8052, 29.938799999999997, 27.6592, 34.8508, 30.607599999999998, 31.796, 36.0728, 36.0976, 37.147999999999996, 31.584799999999998, 35.856, 32.703199999999995, 34.5308, 38.1492, 37.7352, 26.4596, 26.8352, 38.6252, 28.259999999999998, 36.430800000000005, 39.8524, 38.6188, 36.19, 33.46, 34.8972, 38.1708, 32.998, 20.5116, 34.7696, 30.3, 32.8324, 35.2868, 40.7768, 23.4288, 18.073999999999998, 16.8692, 34.290400000000005, 24.8204, 25.1664, 18.5804, 33.1464, 25.4804, 19.2584, 29.008799999999997, 27.8532, 33.7388, 36.028800000000004, 30.048000000000002, 33.790400000000005, 34.2552, 36.239599999999996, 26.7564, 33.2656, 34.672799999999995, 22.214, 28.2312, 33.3432, 28.397199999999998, 9.5, 30.676, 36.9464, 31.263599999999997, 36.0376, 34.6592, 18.968799999999998, 27.9904, 31.4732, 24.691200000000002, 36.2184, 38.1736, 40.4248, 32.4976, 29.095999999999997, 29.756400000000003, 33.2352, 32.1576, 28.282400000000003, 34.042, 25.9916, 38.76, 32.306400000000004, 32.013999999999996, 30.7096, 37.2288, 27.035999999999998, 34.0732, 38.873599999999996, 38.7928, 17.0, 24.522, 36.4084, 28.131999999999998, 33.2616, 31.6796, 39.586, 37.4304, 34.9456, 38.373599999999996, 30.9444, 31.4912, 28.6824, 37.9868, 30.491999999999997, 33.8732, 37.1736, 22.3992, 34.4252, 29.4, 39.7868, 32.3452, 31.865599999999997, 32.2416, 25.761599999999998, 38.955600000000004, 25.5972, 34.7104, 37.42, 32.4904, 34.6208, 27.086799999999997, 32.6524, 33.5892, 39.16, 33.2552, 37.1008, 35.5216, 29.331200000000003, 28.4408, 34.7172, 28.86, 33.8528, 28.456799999999998, 34.1312, 34.3012, 27.580399999999997, 29.955599999999997, 37.97, 36.1012, 29.363599999999998, 17.7, 33.5804, 23.172799999999995, 18.0276, 33.6356, 39.6212, 39.455600000000004, 6.4, 24.9228, 31.1248, 36.2268, 26.8, 38.1528, 34.842, 37.4632, 36.147999999999996, 33.3976, 22.1544, 40.824799999999996, 33.8044, 25.918, 35.642399999999995, 29.825599999999998, 37.6356, 26.0612, 34.806400000000004, 36.7316, 35.065599999999996, 34.376799999999996, 20.6, 37.6768, 36.5216, 41.5516, 18.9732, 37.622, 30.7864, 40.9248, 33.038799999999995, 38.05, 37.3804, 37.587199999999996, 37.3428, 39.480000000000004, 35.8412, 32.1768, 27.3172, 34.5072, 29.9, 29.389200000000002, 34.2416, 35.437200000000004, 39.618, 37.1112, 34.352000000000004, 39.2148, 38.1756, 32.648399999999995, 6.8, 35.9472, 28.608, 36.5524, 19.258, 34.674, 26.9876, 18.5344, 14.6472, 32.9104, 36.6704, 36.334, 34.6772, 39.6756, 35.3596, 39.6976, 27.334, 36.6804, 32.6348, 35.0908, 36.126000000000005, 33.2108, 31.575599999999998, 26.6292, 28.6332, 26.27, 33.684, 37.2144, 28.1064, 33.063199999999995, 18.6068, 39.0836, 31.401200000000003, 30.8512, 20.1856, 19.186, 38.1928, 34.1752, 40.2412, 39.33, 30.387999999999998, 34.209199999999996, 23.1252, 36.4004, 30.412800000000004, 34.752, 30.291200000000003, 36.1452, 38.0596, 34.118, 35.885999999999996, 25.4664, 38.0704, 33.41, 31.4384, 25.67, 36.2352, 23.9724, 30.99, 36.874, 32.9156, 29.6184, 35.8216, 29.2704, 35.5736, 37.566, 35.3084, 37.5316, 15.9, 36.3936, 40.0284, 31.9692, 33.3588, 34.790400000000005, 33.980000000000004, 35.007999999999996, 34.8508, 12.4, 32.1864, 17.9732, 28.2044, 32.876400000000004, 37.5096, 34.7588, 34.2132, 35.7332, 39.6912, 34.6104, 32.3416, 26.8568, 35.376799999999996, 34.989999999999995, 30.3004, 38.7084, 36.855599999999995, 30.0912, 31.7584, 31.6184, 38.7248, 18.470399999999998, 26.1204, 39.6388, 39.886799999999994, 38.7116, 27.294, 39.8456, 20.3112, 32.3452, 26.4936, 34.736000000000004, 37.8208, 31.4912, 34.851600000000005, 17.8524, 33.9904, 38.4216, 37.1736, 25.939600000000002, 36.422, 31.9756, 34.087199999999996, 30.196799999999996, 30.746399999999998, 19.6, 22.0964, 35.6524, 35.459599999999995, 36.9636, 38.1172, 27.5, 38.118, 32.5392, 14.1, 33.4172, 0.0, 31.945999999999998, 37.334, 38.6488, 30.983999999999998, 38.2832, 36.3528, 25.9584, 32.6428, 34.9696, 27.6704, 37.2384, 26.101599999999998, 31.3036, 27.235599999999998, 32.2932, 37.876400000000004, 33.721599999999995, 30.9664, 38.408, 28.7, 29.1008, 30.4444, 27.1556, 32.7568, 17.8104, 34.832, 38.051199999999994, 28.8356, 21.502799999999997, 33.483599999999996, 36.3212, 36.372, 27.5832, 29.747199999999996, 29.7424, 36.6356, 28.8384, 30.0464, 35.9996, 29.1436, 28.5672, 37.9872, 29.1312, 32.324799999999996, 27.352800000000002, 39.3896, 27.208, 35.8648, 37.5312, 31.0188, 34.314, 13.2, 38.44799999999999, 25.29, 37.3096, 28.5, 33.9152, 18.0276, 36.8052, 39.8904, 39.8664, 31.117599999999996, 36.538399999999996, 32.7772, 38.1668, 33.41, 36.906, 28.8, 36.2384, 34.0484, 28.4756, 33.0968, 33.5896, 36.7776, 39.8288, 27.497999999999998, 34.331599999999995, 36.384, 25.994799999999998, 29.56, 30.5164, 26.026799999999998, 27.0756, 41.3388, 37.0524, 30.641199999999998, 30.195999999999998, 35.818, 36.5964, 33.132000000000005, 30.680799999999998, 33.593199999999996, 27.184399999999997, 27.0912, 29.4, 22.5, 31.9604, 28.214799999999997, 31.16, 38.8092, 35.4604, 34.528800000000004, 17.0304, 30.914, 16.5004, 30.5036, 26.818400000000004, 29.884, 37.2356, 33.3732, 33.5408, 32.135999999999996, 33.8656, 25.2564, 35.2144, 40.0976, 23.8808, 36.3748, 40.2588, 26.296799999999998, 32.4464, 39.8216, 29.650799999999997, 29.3944, 39.8924, 34.3264, 19.3868, 15.4212, 33.4216, 36.0972, 36.5392, 39.3044, 35.3072, 20.3492, 40.7528, 32.5788, 30.596799999999998, 27.376799999999996, 35.9392, 31.88, 39.67, 33.0548, 32.9768, 29.7, 32.562, 39.3216, 24.3048, 26.9324, 33.3604, 39.800799999999995, 32.5004, 27.968400000000003, 33.3828, 38.3448, 29.4528, 34.075199999999995, 35.07, 31.275999999999996, 39.6904, 32.1668, 31.419999999999998, 29.602, 36.4688, 27.211599999999997, 35.5928, 32.952799999999996, 30.9324, 34.9564, 39.745599999999996, 35.224, 34.6008, 35.662400000000005, 34.46, 35.3904, 34.018, 27.1432, 29.620799999999996, 34.6828, 36.358000000000004, 32.6908, 30.269599999999997, 36.2836, 30.123199999999997, 29.747199999999996, 37.0484, 36.047599999999996, 26.1, 32.8296, 36.434799999999996, 29.322000000000003, 29.6864, 37.904799999999994, 39.4116, 21.1632, 25.866799999999998, 30.5832, 29.662799999999997, 38.5356, 33.976, 36.955600000000004, 22.67, 31.7716, 35.604, 36.26, 30.7596, 21.3068, 32.3848, 22.449199999999998, 28.1064, 32.1356, 25.04, 39.1412, 33.7352, 32.685199999999995, 32.388, 32.4248, 33.8992, 25.148, 34.7856, 37.628, 33.8284, 21.9596, 34.6548, 32.526799999999994, 33.4152, 30.2872, 15.1, 35.9488, 30.9, 37.152, 34.3524, 26.287599999999998, 24.462, 33.536, 31.5668, 33.314, 30.966, 17.8128, 31.0072, 33.9136, 31.5668, 36.5048, 30.394, 38.2636, 26.668799999999997, 38.4324, 40.0144, 24.9272, 39.952799999999996, 28.6664, 29.7, 32.47, 33.552800000000005, 31.3308, 24.036800000000003, 32.983599999999996, 17.8104, 30.382400000000004, 38.4392, 35.748400000000004, 27.7536, 28.5704, 39.0048, 32.0252, 38.8964, 35.0312, 35.4268, 35.080799999999996, 28.5524, 30.246000000000002, 24.253999999999998, 17.3, 24.3492, 33.896, 32.5132, 38.955600000000004, 29.9452, 38.038799999999995, 29.232799999999997, 33.124399999999994, 30.676, 37.099599999999995, 35.9868, 35.9352, 24.1696, 30.813599999999997, 34.1092, 34.7448, 33.764399999999995, 31.1756, 33.386799999999994, 31.552, 32.0012, 38.2004, 26.8748, 29.7928, 33.186400000000006, 28.7, 36.3632, 31.5244, 27.876799999999996, 35.074, 20.4168, 29.9668, 31.608, 37.3752, 32.6428, 37.2136, 31.406, 38.1596, 33.2596, 37.489599999999996, 37.58, 32.3728, 24.821599999999997, 39.0792, 32.476, 25.3056, 35.68, 30.531200000000002, 32.800799999999995, 38.7, 26.0908, 42.2244, 31.574399999999997, 35.6908, 26.5, 32.434400000000004, 32.4392, 31.232799999999997, 36.544799999999995, 30.806, 37.3144, 26.4496, 40.5904, 29.020799999999998, 19.113599999999998, 13.2492, 40.194, 27.435599999999997, 14.5524, 14.656, 32.362, 31.5, 30.009999999999998, 36.794, 37.3416, 14.3352, 27.745199999999997, 25.0944, 28.7808, 22.1492, 30.772799999999997, 39.1388, 36.566, 22.884, 27.115199999999998, 39.5828, 22.082, 27.2944, 18.1184, 33.766, 26.3288, 37.67, 28.108399999999996, 35.774, 30.2352, 26.509999999999998, 26.2072, 24.6212, 32.004, 35.8912, 20.996, 39.27, 31.342, 30.0824, 40.4488, 39.6796, 32.6892, 34.332, 39.5972, 30.729200000000002, 27.744799999999998, 29.2136, 35.053200000000004, 27.791200000000003, 29.9444, 35.2584, 28.959200000000003, 33.844, 34.9444, 30.696799999999996, 25.4424, 33.040400000000005, 25.399599999999996, 30.6924, 36.687200000000004, 39.2764, 24.372799999999998, 23.4, 29.7248, 38.782799999999995, 22.637999999999998, 26.7972, 37.794, 32.838, 28.4892, 39.483999999999995, 27.5872, 33.8388, 29.6216, 32.5496, 38.7804, 35.0248, 30.4936, 40.0524, 36.1944, 37.211200000000005, 18.566, 23.3356, 33.983999999999995, 32.5456, 31.772799999999997, 40.9908, 33.965599999999995, 34.132000000000005, 32.57, 35.4732, 28.8112, 31.1064, 30.273599999999995, 26.0044, 23.0892, 35.5828, 28.466, 28.9912, 34.288799999999995, 34.9636, 31.531599999999997, 35.4964, 31.3532, 34.028800000000004, 26.874399999999998, 26.8, 34.8904, 39.5276, 28.432000000000002, 26.4496, 30.116799999999998, 26.659599999999998, 17.9, 38.3364, 38.9388, 37.4764, 34.395199999999996, 37.7076, 27.611600000000003, 29.5768, 37.4976, 31.5004, 21.1892, 28.9972, 33.162, 34.5124, 19.4664, 38.932, 13.0, 38.9284, 28.726, 34.831599999999995, 35.894400000000005, 27.714799999999997, 35.798, 26.5, 33.7792, 35.258, 32.3036, 39.2964, 20.3444, 29.5916, 31.593600000000002, 38.6736, 38.0312, 30.7516, 28.5644, 21.532, 37.8892, 27.240000000000002, 35.4704, 32.538399999999996, 29.891199999999998, 32.065200000000004, 30.5608, 32.307599999999994, 34.8804, 22.939999999999998, 25.152, 30.5076, 38.044799999999995, 38.9492, 36.3132, 27.0708, 32.626799999999996, 21.369999999999997, 35.332, 34.384, 17.000799999999998, 31.0084, 21.6, 37.7832, 33.6636, 36.234, 29.9016, 31.7656, 28.3208, 39.7756, 17.0864, 39.800399999999996, 19.2, 34.3588, 38.0768, 35.2692, 35.8596, 31.0392, 34.2284, 27.5, 39.6136, 19.3, 18.3552, 37.6868, 30.095599999999997, 31.3664, 37.3872, 35.376799999999996, 35.128, 29.1, 25.6892, 31.6004, 35.666399999999996, 38.2908, 31.873599999999996, 30.8152, 27.7828, 38.3756, 38.8844, 38.8464, 34.77119999999999, 33.4256, 33.5876, 34.729200000000006, 35.178399999999996, 27.5048, 39.36879999999999, 34.0072, 34.0836, 9.222399999999999, 31.2076, 36.1324, 38.3352, 38.29, 30.2576, 29.3652, 19.4284, 22.892799999999998, 37.1328, 37.4632, 23.5396, 39.3524, 27.2016, 39.7568, 37.294, 30.428400000000003, 37.010000000000005, 38.1044, 30.2716, 11.5, 32.2044, 35.3624, 27.2032, 28.0256, 34.4284, 39.668400000000005, 6.4, 30.023999999999997, 32.572, 31.1824, 28.548000000000002, 36.9456, 33.1036, 36.014799999999994, 36.3692, 31.1352, 30.828, 35.726, 32.6476, 37.41759999999999, 35.435599999999994, 18.293599999999998, 30.736, 37.916799999999995, 30.9576, 32.1864, 30.462400000000002, 39.8656, 28.5948, 39.641999999999996, 16.146, 27.348399999999998, 26.6488, 20.78, 25.461599999999997, 32.4072, 37.1824, 24.8052, 35.382400000000004, 22.053600000000003, 24.418400000000002, 23.8544, 37.258, 39.0152, 33.3804, 36.879999999999995, 24.6576, 37.5012, 31.089599999999997, 29.973999999999997, 41.5768, 39.6496, 29.936, 26.407200000000003, 29.6696, 35.824799999999996, 37.048, 32.1868, 19.4076, 36.674, 31.575599999999998, 36.318799999999996, 35.372, 18.6068, 28.0188, 32.2008, 32.2548, 25.6612, 24.313200000000002, 38.0436, 38.5768, 31.195999999999998, 31.349200000000003, 31.652, 32.584, 26.632399999999997, 27.363599999999998, 33.67, 29.304, 27.2668, 38.2008, 34.854, 34.718, 34.4868, 36.8132, 33.8456, 36.4876, 28.8596, 38.058400000000006, 28.712, 35.9004, 37.504, 36.5324, 34.0668, 25.5, 39.5492, 39.666, 35.1896, 26.918, 36.431200000000004, 11.9, 27.711199999999998, 32.6704, 31.0152, 26.129599999999996, 20.518, 25.6876, 37.3032, 36.111999999999995, 38.935599999999994, 24.2568, 34.983599999999996, 34.327600000000004, 18.823999999999998, 32.5048, 23.499599999999997, 33.544399999999996, 15.614799999999999, 37.5624, 34.325599999999994, 36.007999999999996, 20.6792, 26.256, 40.273599999999995, 20.598, 37.6216, 32.1972, 29.735599999999998, 25.6888, 32.770399999999995, 38.52719999999999, 39.6464, 31.281599999999997, 31.663600000000002, 37.873599999999996, 31.276400000000002, 29.8292, 38.754, 34.9308, 34.7288, 35.3988, 30.6828, 33.3972, 24.945999999999998, 36.7136, 37.1312, 35.2076, 36.032, 30.3876, 38.5036, 32.9736, 31.6256, 29.6464, 28.9084, 24.6024, 1.0, 27.8676, 31.6564, 28.3492, 31.1032, 31.190800000000003, 35.236000000000004, 28.4, 38.435599999999994, 23.2048, 31.3164, 30.022399999999998, 28.293599999999998, 28.3016, 31.2188, 35.1764, 32.538, 26.6684, 33.693599999999996, 28.0048, 34.1092, 27.5908, 35.77, 39.0548, 30.8444, 24.9608, 32.5796, 31.534799999999997, 34.362, 25.4, 32.47279999999999, 37.504, 30.5292, 35.5108, 26.794800000000002, 31.4932, 31.848, 16.3, 32.594, 38.687200000000004, 28.9284, 32.471599999999995, 28.131999999999998, 34.980000000000004, 30.1392, 19.3012, 28.3324, 33.768, 33.8172, 29.095199999999995, 35.7076, 33.9904, 19.8692, 31.9, 28.453200000000002, 28.543599999999998, 37.9332, 39.5112, 39.4484, 38.8324, 26.932000000000002, 31.648, 15.493599999999999, 19.6112, 28.7352, 28.1492, 19.877200000000002, 26.6836, 31.0276, 34.7008, 16.3624, 34.2452, 27.589199999999998, 37.58, 38.0312], \"z\": [104.0, 104.0, 106.0, 101.0, 101.0, 101.0, 103.0, 104.0, 103.0, 106.0, 103.0, 105.0, 106.0, 104.0, 106.0, 106.0, 98.0, 105.0, 102.0, 105.0, 104.0, 105.0, 106.0, 103.0, 103.0, 105.0, 105.0, 105.0, 106.0, 104.0, 104.0, 108.0, 109.0, 106.0, 102.0, 106.0, 107.0, 103.0, 103.0, 100.0, 101.0, 103.0, 104.0, 103.0, 104.0, 106.0, 103.0, 101.0, 107.0, 104.0, 103.0, 108.0, 105.0, 106.0, 107.0, 107.0, 106.0, 107.0, 104.0, 104.0, 103.0, 104.0, 103.0, 105.0, 103.0, 104.0, 106.0, 103.0, 102.0, 106.0, 106.0, 104.0, 104.0, 107.0, 104.0, 105.0, 105.0, 105.0, 108.0, 100.0, 102.0, 103.0, 106.0, 105.0, 104.0, 104.0, 105.0, 104.0, 105.0, 105.0, 104.0, 108.0, 102.0, 99.0, 102.0, 102.0, 103.0, 104.0, 103.0, 101.0, 106.0, 106.0, 100.0, 106.0, 101.0, 105.0, 104.0, 106.0, 102.0, 106.0, 105.0, 105.0, 103.0, 103.0, 103.0, 103.0, 107.0, 105.0, 103.0, 103.0, 105.0, 104.0, 103.0, 103.0, 105.0, 105.0, 105.0, 104.0, 104.0, 103.0, 105.0, 104.0, 105.0, 103.0, 101.0, 103.0, 102.0, 100.0, 106.0, 103.0, 106.0, 105.0, 105.0, 104.0, 104.0, 105.0, 103.0, 102.0, 106.0, 104.0, 104.0, 103.0, 100.0, 106.0, 105.0, 103.0, 104.0, 102.0, 106.0, 107.0, 98.0, 103.0, 105.0, 105.0, 106.0, 102.0, 105.0, 101.0, 106.0, 108.0, 101.0, 103.0, 108.0, 101.0, 103.0, 104.0, 105.0, 103.0, 104.0, 104.0, 106.0, 105.0, 104.0, 104.0, 102.0, 104.0, 104.0, 106.0, 105.0, 101.0, 104.0, 104.0, 106.0, 102.0, 103.0, 106.0, 105.0, 105.0, 103.0, 100.0, 108.0, 105.0, 106.0, 100.0, 105.0, 105.0, 104.0, 103.0, 104.0, 104.0, 104.0, 104.0, 104.0, 105.0, 106.0, 106.0, 102.0, 105.0, 105.0, 105.0, 105.0, 100.0, 106.0, 104.0, 106.0, 105.0, 104.0, 104.0, 104.0, 105.0, 104.0, 106.0, 103.0, 100.0, 104.0, 105.0, 104.0, 103.0, 103.0, 104.0, 105.0, 107.0, 106.0, 106.0, 105.0, 103.0, 102.0, 103.0, 103.0, 102.0, 106.0, 106.0, 104.0, 103.0, 103.0, 104.0, 107.0, 104.0, 107.0, 102.0, 102.0, 101.0, 101.0, 103.0, 102.0, 103.0, 104.0, 105.0, 106.0, 106.0, 104.0, 104.0, 105.0, 104.0, 103.0, 104.0, 100.0, 100.0, 104.0, 104.0, 106.0, 104.0, 105.0, 104.0, 105.0, 104.0, 105.0, 107.0, 101.0, 102.0, 104.0, 105.0, 102.0, 100.0, 105.0, 103.0, 100.0, 107.0, 102.0, 101.0, 104.0, 102.0, 105.0, 106.0, 105.0, 106.0, 103.0, 104.0, 105.0, 102.0, 103.0, 106.0, 103.0, 103.0, 105.0, 102.0, 102.0, 110.0, 104.0, 105.0, 102.0, 104.0, 101.0, 102.0, 101.0, 109.0, 103.0, 103.0, 107.0, 104.0, 101.0, 104.0, 103.0, 105.0, 103.0, 106.0, 104.0, 105.0, 104.0, 103.0, 101.0, 107.0, 103.0, 105.0, 105.0, 107.0, 103.0, 106.0, 104.0, 105.0, 103.0, 104.0, 104.0, 106.0, 105.0, 105.0, 105.0, 102.0, 105.0, 104.0, 106.0, 103.0, 106.0, 102.0, 105.0, 104.0, 107.0, 104.0, 105.0, 103.0, 95.0, 104.0, 105.0, 102.0, 104.0, 106.0, 102.0, 104.0, 104.0, 99.0, 105.0, 105.0, 107.0, 102.0, 103.0, 105.0, 106.0, 105.0, 104.0, 106.0, 101.0, 107.0, 105.0, 107.0, 104.0, 104.0, 107.0, 107.0, 105.0, 108.0, 104.0, 103.0, 100.0, 105.0, 104.0, 103.0, 104.0, 105.0, 104.0, 107.0, 103.0, 103.0, 102.0, 102.0, 106.0, 102.0, 108.0, 103.0, 102.0, 103.0, 102.0, 105.0, 105.0, 104.0, 102.0, 104.0, 103.0, 104.0, 105.0, 104.0, 105.0, 103.0, 106.0, 103.0, 109.0, 100.0, 106.0, 106.0, 104.0, 105.0, 103.0, 106.0, 104.0, 109.0, 103.0, 104.0, 104.0, 104.0, 105.0, 106.0, 103.0, 104.0, 106.0, 105.0, 104.0, 107.0, 104.0, 105.0, 104.0, 105.0, 103.0, 108.0, 102.0, 106.0, 103.0, 105.0, 107.0, 104.0, 107.0, 104.0, 106.0, 107.0, 103.0, 106.0, 105.0, 102.0, 106.0, 100.0, 106.0, 104.0, 101.0, 103.0, 101.0, 105.0, 102.0, 104.0, 105.0, 102.0, 106.0, 104.0, 106.0, 105.0, 103.0, 103.0, 104.0, 101.0, 104.0, 107.0, 104.0, 102.0, 107.0, 100.0, 105.0, 103.0, 103.0, 106.0, 102.0, 103.0, 104.0, 103.0, 106.0, 102.0, 103.0, 106.0, 105.0, 106.0, 103.0, 103.0, 105.0, 103.0, 103.0, 105.0, 102.0, 104.0, 106.0, 102.0, 102.0, 102.0, 104.0, 103.0, 104.0, 107.0, 104.0, 104.0, 104.0, 105.0, 102.0, 105.0, 106.0, 104.0, 103.0, 103.0, 105.0, 106.0, 103.0, 107.0, 104.0, 104.0, 103.0, 102.0, 106.0, 103.0, 103.0, 104.0, 103.0, 102.0, 105.0, 106.0, 105.0, 102.0, 103.0, 104.0, 102.0, 100.0, 104.0, 102.0, 105.0, 105.0, 104.0, 104.0, 107.0, 105.0, 107.0, 104.0, 102.0, 103.0, 105.0, 102.0, 105.0, 106.0, 100.0, 106.0, 103.0, 104.0, 105.0, 107.0, 102.0, 104.0, 105.0, 102.0, 105.0, 106.0, 107.0, 106.0, 100.0, 105.0, 106.0, 106.0, 107.0, 103.0, 106.0, 105.0, 104.0, 104.0, 104.0, 102.0, 105.0, 104.0, 107.0, 101.0, 105.0, 101.0, 101.0, 107.0, 105.0, 106.0, 103.0, 103.0, 104.0, 103.0, 104.0, 105.0, 105.0, 103.0, 106.0, 104.0, 106.0, 102.0, 102.0, 106.0, 104.0, 105.0, 97.0, 105.0, 102.0, 103.0, 105.0, 102.0, 102.0, 105.0, 105.0, 102.0, 104.0, 103.0, 106.0, 104.0, 101.0, 104.0, 104.0, 105.0, 104.0, 103.0, 104.0, 104.0, 103.0, 103.0, 103.0, 104.0, 105.0, 104.0, 103.0, 105.0, 104.0, 103.0, 104.0, 106.0, 104.0, 104.0, 105.0, 105.0, 105.0, 104.0, 103.0, 101.0, 111.0, 108.0, 103.0, 106.0, 100.0, 107.0, 107.0, 104.0, 100.0, 106.0, 105.0, 106.0, 105.0, 109.0, 103.0, 104.0, 105.0, 99.0, 105.0, 102.0, 101.0, 104.0, 104.0, 104.0, 108.0, 102.0, 101.0, 104.0, 105.0, 106.0, 103.0, 104.0, 103.0, 104.0, 106.0, 109.0, 106.0, 106.0, 104.0, 105.0, 105.0, 102.0, 108.0, 104.0, 105.0, 103.0, 105.0, 105.0, 104.0, 106.0, 101.0, 104.0, 103.0, 104.0, 105.0, 103.0, 102.0, 103.0, 106.0, 105.0, 102.0, 104.0, 104.0, 105.0, 101.0, 104.0, 80.0, 109.0, 104.0, 103.0, 107.0, 108.0, 104.0, 105.0, 106.0, 103.0, 105.0, 106.0, 105.0, 103.0, 102.0, 103.0, 103.0, 105.0, 108.0, 104.0, 104.0, 103.0, 104.0, 103.0, 103.0, 97.0, 105.0, 102.0, 104.0, 104.0, 106.0, 102.0, 99.0, 105.0, 104.0, 105.0, 103.0, 103.0, 106.0, 105.0, 106.0, 104.0, 103.0, 105.0, 105.0, 104.0, 103.0, 103.0, 104.0, 101.0, 103.0, 104.0, 99.0, 106.0, 103.0, 98.0, 105.0, 104.0, 102.0, 104.0, 104.0, 102.0, 104.0, 101.0, 105.0, 104.0, 108.0, 105.0, 110.0, 105.0, 106.0, 105.0, 105.0, 103.0, 106.0, 103.0, 105.0, 104.0, 104.0, 105.0, 103.0, 102.0, 104.0, 105.0, 105.0, 104.0, 108.0, 103.0, 105.0, 101.0, 104.0, 105.0, 104.0, 105.0, 104.0, 104.0, 104.0, 106.0, 106.0, 105.0, 104.0, 105.0, 105.0, 105.0, 105.0, 106.0, 106.0, 104.0, 105.0, 105.0, 103.0, 105.0, 105.0, 102.0, 106.0, 103.0, 105.0, 103.0, 103.0, 106.0, 107.0, 103.0, 105.0, 106.0, 104.0, 103.0, 105.0, 105.0, 105.0, 103.0, 103.0, 104.0, 107.0, 105.0, 103.0, 105.0, 102.0, 105.0, 105.0, 109.0, 100.0, 104.0, 105.0, 105.0, 103.0, 104.0, 102.0, 106.0, 106.0, 102.0, 110.0, 102.0, 104.0, 103.0, 108.0, 106.0, 112.0, 106.0, 105.0, 106.0, 105.0, 101.0, 102.0, 107.0, 103.0, 101.0, 106.0, 103.0, 106.0, 105.0, 101.0, 105.0, 105.0, 105.0, 104.0, 104.0, 103.0, 103.0, 104.0, 104.0, 104.0, 102.0, 103.0, 104.0, 105.0, 105.0, 106.0, 104.0, 106.0, 101.0, 105.0, 105.0, 102.0, 105.0, 106.0, 107.0, 108.0, 105.0, 108.0, 104.0, 104.0, 108.0, 105.0, 104.0, 106.0, 107.0, 104.0, 106.0, 107.0, 107.0, 105.0, 104.0, 104.0, 105.0, 105.0, 108.0, 104.0, 104.0, 105.0, 105.0, 104.0, 104.0, 103.0, 103.0, 103.0, 106.0, 104.0, 102.0, 107.0, 103.0, 103.0, 107.0, 103.0, 104.0, 105.0, 102.0, 105.0, 103.0, 103.0, 105.0, 104.0, 104.0, 105.0, 106.0, 105.0, 102.0, 105.0, 106.0, 105.0, 104.0, 103.0, 105.0, 105.0, 103.0, 105.0, 103.0, 98.0, 102.0, 104.0, 105.0, 104.0, 107.0, 102.0, 105.0, 102.0, 102.0, 104.0, 106.0, 107.0, 103.0, 103.0, 105.0, 106.0, 103.0, 105.0, 106.0, 105.0, 103.0, 103.0, 103.0, 104.0, 105.0, 103.0, 105.0, 106.0, 104.0, 106.0, 102.0, 103.0, 105.0, 105.0, 104.0, 106.0, 106.0, 105.0, 106.0, 105.0, 105.0, 105.0, 107.0, 110.0, 105.0, 103.0, 101.0, 104.0, 106.0, 99.0, 105.0, 103.0, 104.0, 103.0, 105.0, 101.0, 100.0, 103.0, 105.0, 108.0, 104.0, 104.0, 104.0, 105.0, 103.0, 106.0, 105.0, 104.0, 102.0, 102.0, 106.0, 104.0, 100.0, 103.0, 103.0, 100.0, 106.0, 102.0, 103.0, 106.0, 103.0, 106.0, 103.0, 107.0, 105.0, 106.0, 102.0, 103.0, 107.0, 102.0, 103.0, 102.0, 105.0, 106.0, 105.0, 102.0, 102.0, 105.0, 107.0, 108.0, 103.0, 102.0, 105.0, 102.0, 104.0, 105.0, 103.0, 102.0, 104.0, 103.0, 103.0, 104.0, 103.0, 110.0, 104.0, 101.0, 106.0, 104.0, 103.0, 103.0, 104.0, 103.0, 97.0, 104.0, 103.0, 104.0, 104.0, 106.0, 105.0, 105.0, 107.0, 104.0, 102.0, 104.0, 109.0, 103.0, 105.0, 103.0, 104.0, 106.0, 103.0, 105.0, 103.0, 103.0, 105.0, 104.0, 105.0, 107.0, 106.0, 101.0, 105.0, 103.0, 103.0, 103.0, 104.0, 104.0, 103.0, 107.0, 102.0, 103.0, 101.0, 105.0, 105.0, 103.0, 102.0, 104.0, 102.0, 104.0, 104.0, 105.0, 104.0, 100.0, 103.0, 105.0, 104.0, 103.0, 102.0, 100.0, 105.0, 104.0, 103.0, 107.0, 105.0, 101.0, 107.0, 102.0, 104.0, 104.0, 103.0, 104.0, 102.0, 103.0, 104.0, 102.0, 104.0, 106.0, 105.0, 105.0, 105.0, 104.0, 102.0, 104.0, 101.0, 102.0, 102.0, 105.0, 104.0, 102.0, 101.0, 103.0, 105.0, 104.0, 105.0, 103.0, 105.0, 104.0, 102.0, 102.0, 107.0, 107.0, 106.0, 98.0, 105.0, 103.0, 102.0, 106.0, 104.0, 102.0, 106.0, 104.0, 104.0, 106.0, 105.0, 105.0, 103.0, 108.0, 105.0, 105.0, 104.0, 105.0, 104.0, 106.0, 102.0, 103.0, 102.0, 102.0, 106.0, 102.0, 105.0, 104.0, 105.0, 104.0, 107.0, 103.0, 105.0, 103.0, 107.0, 106.0, 102.0, 104.0, 102.0, 108.0, 105.0, 103.0, 100.0, 105.0, 104.0, 103.0, 111.0, 101.0, 102.0, 106.0, 101.0, 100.0, 104.0, 104.0, 103.0, 105.0, 97.0, 105.0, 106.0, 103.0, 103.0, 103.0, 102.0, 103.0, 105.0, 105.0, 103.0, 103.0, 111.0, 101.0]}],\n",
              "                        {\"height\": 800, \"margin\": {\"b\": 65, \"l\": 65, \"r\": 50, \"t\": 90}, \"scene\": {\"xaxis\": {\"title\": {\"text\": \"Calidad esperada\"}}, \"yaxis\": {\"title\": {\"text\": \"Costo Calculado\"}}, \"zaxis\": {\"title\": {\"text\": \"Dureza del Soporte\"}}}, \"template\": {\"data\": {\"bar\": [{\"error_x\": {\"color\": \"#2a3f5f\"}, \"error_y\": {\"color\": \"#2a3f5f\"}, \"marker\": {\"line\": {\"color\": \"#E5ECF6\", \"width\": 0.5}}, \"type\": \"bar\"}], \"barpolar\": [{\"marker\": {\"line\": {\"color\": \"#E5ECF6\", \"width\": 0.5}}, \"type\": \"barpolar\"}], \"carpet\": [{\"aaxis\": {\"endlinecolor\": \"#2a3f5f\", \"gridcolor\": \"white\", \"linecolor\": \"white\", \"minorgridcolor\": \"white\", \"startlinecolor\": \"#2a3f5f\"}, \"baxis\": {\"endlinecolor\": \"#2a3f5f\", \"gridcolor\": \"white\", \"linecolor\": \"white\", \"minorgridcolor\": \"white\", \"startlinecolor\": \"#2a3f5f\"}, \"type\": \"carpet\"}], \"choropleth\": [{\"colorbar\": {\"outlinewidth\": 0, \"ticks\": \"\"}, \"type\": \"choropleth\"}], \"contour\": [{\"colorbar\": {\"outlinewidth\": 0, \"ticks\": \"\"}, \"colorscale\": [[0.0, \"#0d0887\"], [0.1111111111111111, \"#46039f\"], [0.2222222222222222, \"#7201a8\"], [0.3333333333333333, \"#9c179e\"], [0.4444444444444444, \"#bd3786\"], [0.5555555555555556, \"#d8576b\"], [0.6666666666666666, \"#ed7953\"], [0.7777777777777778, \"#fb9f3a\"], [0.8888888888888888, \"#fdca26\"], [1.0, \"#f0f921\"]], \"type\": \"contour\"}], \"contourcarpet\": [{\"colorbar\": {\"outlinewidth\": 0, \"ticks\": \"\"}, \"type\": \"contourcarpet\"}], \"heatmap\": [{\"colorbar\": {\"outlinewidth\": 0, \"ticks\": \"\"}, \"colorscale\": [[0.0, \"#0d0887\"], [0.1111111111111111, \"#46039f\"], [0.2222222222222222, \"#7201a8\"], [0.3333333333333333, \"#9c179e\"], [0.4444444444444444, \"#bd3786\"], [0.5555555555555556, \"#d8576b\"], [0.6666666666666666, \"#ed7953\"], [0.7777777777777778, \"#fb9f3a\"], [0.8888888888888888, \"#fdca26\"], [1.0, \"#f0f921\"]], \"type\": \"heatmap\"}], \"heatmapgl\": [{\"colorbar\": {\"outlinewidth\": 0, \"ticks\": \"\"}, \"colorscale\": [[0.0, \"#0d0887\"], [0.1111111111111111, \"#46039f\"], [0.2222222222222222, \"#7201a8\"], [0.3333333333333333, \"#9c179e\"], [0.4444444444444444, \"#bd3786\"], [0.5555555555555556, \"#d8576b\"], [0.6666666666666666, \"#ed7953\"], [0.7777777777777778, \"#fb9f3a\"], [0.8888888888888888, \"#fdca26\"], [1.0, \"#f0f921\"]], \"type\": \"heatmapgl\"}], \"histogram\": [{\"marker\": {\"colorbar\": {\"outlinewidth\": 0, \"ticks\": \"\"}}, \"type\": \"histogram\"}], \"histogram2d\": [{\"colorbar\": {\"outlinewidth\": 0, \"ticks\": \"\"}, \"colorscale\": [[0.0, \"#0d0887\"], [0.1111111111111111, \"#46039f\"], [0.2222222222222222, \"#7201a8\"], [0.3333333333333333, \"#9c179e\"], [0.4444444444444444, \"#bd3786\"], [0.5555555555555556, \"#d8576b\"], [0.6666666666666666, \"#ed7953\"], [0.7777777777777778, \"#fb9f3a\"], [0.8888888888888888, \"#fdca26\"], [1.0, \"#f0f921\"]], \"type\": \"histogram2d\"}], \"histogram2dcontour\": [{\"colorbar\": {\"outlinewidth\": 0, \"ticks\": \"\"}, \"colorscale\": [[0.0, \"#0d0887\"], [0.1111111111111111, \"#46039f\"], [0.2222222222222222, \"#7201a8\"], [0.3333333333333333, \"#9c179e\"], [0.4444444444444444, \"#bd3786\"], [0.5555555555555556, \"#d8576b\"], [0.6666666666666666, \"#ed7953\"], [0.7777777777777778, \"#fb9f3a\"], [0.8888888888888888, \"#fdca26\"], [1.0, \"#f0f921\"]], \"type\": \"histogram2dcontour\"}], \"mesh3d\": [{\"colorbar\": {\"outlinewidth\": 0, \"ticks\": \"\"}, \"type\": \"mesh3d\"}], \"parcoords\": [{\"line\": {\"colorbar\": {\"outlinewidth\": 0, \"ticks\": \"\"}}, \"type\": \"parcoords\"}], \"pie\": [{\"automargin\": true, \"type\": \"pie\"}], \"scatter\": [{\"marker\": {\"colorbar\": {\"outlinewidth\": 0, \"ticks\": \"\"}}, \"type\": \"scatter\"}], \"scatter3d\": [{\"line\": {\"colorbar\": {\"outlinewidth\": 0, \"ticks\": \"\"}}, \"marker\": {\"colorbar\": {\"outlinewidth\": 0, \"ticks\": \"\"}}, \"type\": \"scatter3d\"}], \"scattercarpet\": [{\"marker\": {\"colorbar\": {\"outlinewidth\": 0, \"ticks\": \"\"}}, \"type\": \"scattercarpet\"}], \"scattergeo\": [{\"marker\": {\"colorbar\": {\"outlinewidth\": 0, \"ticks\": \"\"}}, \"type\": \"scattergeo\"}], \"scattergl\": [{\"marker\": {\"colorbar\": {\"outlinewidth\": 0, \"ticks\": \"\"}}, \"type\": \"scattergl\"}], \"scattermapbox\": [{\"marker\": {\"colorbar\": {\"outlinewidth\": 0, \"ticks\": \"\"}}, \"type\": \"scattermapbox\"}], \"scatterpolar\": [{\"marker\": {\"colorbar\": {\"outlinewidth\": 0, \"ticks\": \"\"}}, \"type\": \"scatterpolar\"}], \"scatterpolargl\": [{\"marker\": {\"colorbar\": {\"outlinewidth\": 0, \"ticks\": \"\"}}, \"type\": \"scatterpolargl\"}], \"scatterternary\": [{\"marker\": {\"colorbar\": {\"outlinewidth\": 0, \"ticks\": \"\"}}, \"type\": \"scatterternary\"}], \"surface\": [{\"colorbar\": {\"outlinewidth\": 0, \"ticks\": \"\"}, \"colorscale\": [[0.0, \"#0d0887\"], [0.1111111111111111, \"#46039f\"], [0.2222222222222222, \"#7201a8\"], [0.3333333333333333, \"#9c179e\"], [0.4444444444444444, \"#bd3786\"], [0.5555555555555556, \"#d8576b\"], [0.6666666666666666, \"#ed7953\"], [0.7777777777777778, \"#fb9f3a\"], [0.8888888888888888, \"#fdca26\"], [1.0, \"#f0f921\"]], \"type\": \"surface\"}], \"table\": [{\"cells\": {\"fill\": {\"color\": \"#EBF0F8\"}, \"line\": {\"color\": \"white\"}}, \"header\": {\"fill\": {\"color\": \"#C8D4E3\"}, \"line\": {\"color\": \"white\"}}, \"type\": \"table\"}]}, \"layout\": {\"annotationdefaults\": {\"arrowcolor\": \"#2a3f5f\", \"arrowhead\": 0, \"arrowwidth\": 1}, \"coloraxis\": {\"colorbar\": {\"outlinewidth\": 0, \"ticks\": \"\"}}, \"colorscale\": {\"diverging\": [[0, \"#8e0152\"], [0.1, \"#c51b7d\"], [0.2, \"#de77ae\"], [0.3, \"#f1b6da\"], [0.4, \"#fde0ef\"], [0.5, \"#f7f7f7\"], [0.6, \"#e6f5d0\"], [0.7, \"#b8e186\"], [0.8, \"#7fbc41\"], [0.9, \"#4d9221\"], [1, \"#276419\"]], \"sequential\": [[0.0, \"#0d0887\"], [0.1111111111111111, \"#46039f\"], [0.2222222222222222, \"#7201a8\"], [0.3333333333333333, \"#9c179e\"], [0.4444444444444444, \"#bd3786\"], [0.5555555555555556, \"#d8576b\"], [0.6666666666666666, \"#ed7953\"], [0.7777777777777778, \"#fb9f3a\"], [0.8888888888888888, \"#fdca26\"], [1.0, \"#f0f921\"]], \"sequentialminus\": [[0.0, \"#0d0887\"], [0.1111111111111111, \"#46039f\"], [0.2222222222222222, \"#7201a8\"], [0.3333333333333333, \"#9c179e\"], [0.4444444444444444, \"#bd3786\"], [0.5555555555555556, \"#d8576b\"], [0.6666666666666666, \"#ed7953\"], [0.7777777777777778, \"#fb9f3a\"], [0.8888888888888888, \"#fdca26\"], [1.0, \"#f0f921\"]]}, \"colorway\": [\"#636efa\", \"#EF553B\", \"#00cc96\", \"#ab63fa\", \"#FFA15A\", \"#19d3f3\", \"#FF6692\", \"#B6E880\", \"#FF97FF\", \"#FECB52\"], \"font\": {\"color\": \"#2a3f5f\"}, \"geo\": {\"bgcolor\": \"white\", \"lakecolor\": \"white\", \"landcolor\": \"#E5ECF6\", \"showlakes\": true, \"showland\": true, \"subunitcolor\": \"white\"}, \"hoverlabel\": {\"align\": \"left\"}, \"hovermode\": \"closest\", \"mapbox\": {\"style\": \"light\"}, \"paper_bgcolor\": \"white\", \"plot_bgcolor\": \"#E5ECF6\", \"polar\": {\"angularaxis\": {\"gridcolor\": \"white\", \"linecolor\": \"white\", \"ticks\": \"\"}, \"bgcolor\": \"#E5ECF6\", \"radialaxis\": {\"gridcolor\": \"white\", \"linecolor\": \"white\", \"ticks\": \"\"}}, \"scene\": {\"xaxis\": {\"backgroundcolor\": \"#E5ECF6\", \"gridcolor\": \"white\", \"gridwidth\": 2, \"linecolor\": \"white\", \"showbackground\": true, \"ticks\": \"\", \"zerolinecolor\": \"white\"}, \"yaxis\": {\"backgroundcolor\": \"#E5ECF6\", \"gridcolor\": \"white\", \"gridwidth\": 2, \"linecolor\": \"white\", \"showbackground\": true, \"ticks\": \"\", \"zerolinecolor\": \"white\"}, \"zaxis\": {\"backgroundcolor\": \"#E5ECF6\", \"gridcolor\": \"white\", \"gridwidth\": 2, \"linecolor\": \"white\", \"showbackground\": true, \"ticks\": \"\", \"zerolinecolor\": \"white\"}}, \"shapedefaults\": {\"line\": {\"color\": \"#2a3f5f\"}}, \"ternary\": {\"aaxis\": {\"gridcolor\": \"white\", \"linecolor\": \"white\", \"ticks\": \"\"}, \"baxis\": {\"gridcolor\": \"white\", \"linecolor\": \"white\", \"ticks\": \"\"}, \"bgcolor\": \"#E5ECF6\", \"caxis\": {\"gridcolor\": \"white\", \"linecolor\": \"white\", \"ticks\": \"\"}}, \"title\": {\"x\": 0.05}, \"xaxis\": {\"automargin\": true, \"gridcolor\": \"white\", \"linecolor\": \"white\", \"ticks\": \"\", \"title\": {\"standoff\": 15}, \"zerolinecolor\": \"white\", \"zerolinewidth\": 2}, \"yaxis\": {\"automargin\": true, \"gridcolor\": \"white\", \"linecolor\": \"white\", \"ticks\": \"\", \"title\": {\"standoff\": 15}, \"zerolinecolor\": \"white\", \"zerolinewidth\": 2}}}, \"title\": {\"text\": \"Calidad y Costo vs Dureza\"}, \"width\": 800},\n",
              "                        {\"responsive\": true}\n",
              "                    ).then(function(){\n",
              "                            \n",
              "var gd = document.getElementById('d5345d9f-4edc-443e-85c1-c96b2225e30f');\n",
              "var x = new MutationObserver(function (mutations, observer) {{\n",
              "        var display = window.getComputedStyle(gd).display;\n",
              "        if (!display || display === 'none') {{\n",
              "            console.log([gd, 'removed!']);\n",
              "            Plotly.purge(gd);\n",
              "            observer.disconnect();\n",
              "        }}\n",
              "}});\n",
              "\n",
              "// Listen for the removal of the full notebook cells\n",
              "var notebookContainer = gd.closest('#notebook-container');\n",
              "if (notebookContainer) {{\n",
              "    x.observe(notebookContainer, {childList: true});\n",
              "}}\n",
              "\n",
              "// Listen for the clearing of the current output cell\n",
              "var outputEl = gd.closest('.output');\n",
              "if (outputEl) {{\n",
              "    x.observe(outputEl, {childList: true});\n",
              "}}\n",
              "\n",
              "                        })\n",
              "                };\n",
              "                \n",
              "            </script>\n",
              "        </div>\n",
              "</body>\n",
              "</html>"
            ]
          },
          "metadata": {
            "tags": []
          }
        }
      ]
    },
    {
      "cell_type": "code",
      "metadata": {
        "id": "l_NSyGEwewiO"
      },
      "source": [
        "figT.write_html(\"images/Dureza.html\") "
      ],
      "execution_count": 51,
      "outputs": []
    },
    {
      "cell_type": "code",
      "metadata": {
        "id": "672G1JU6Etkx",
        "colab": {
          "base_uri": "https://localhost:8080/",
          "height": 817
        },
        "outputId": "c41e108d-6b8a-4be1-a9b2-660ce736783e"
      },
      "source": [
        "import plotly.graph_objects as go\n",
        "import plotly.express as px\n",
        "\n",
        "figT = go.Figure(data=go.Scatter3d(\n",
        "    x=new_X_val['Calidad'],\n",
        "    y=new_X_val['Costo'],\n",
        "    z=new_X_val['Tasa_Prod'],\n",
        "    mode='markers',\n",
        "    marker= dict( \n",
        "        size=5, \n",
        "        sizemode='diameter', \n",
        "        sizeref=1500,\n",
        "        color = new_X_val['Costo'],\n",
        "        #color_continuous_scale='Inferno'\n",
        "        colorscale = [[0, 'lime'], [0.5, 'red']],\n",
        "        line_color='rgb(140, 140, 170)')))\n",
        "\n",
        "figT.select_xaxes(['Aceptable','Regular','Bueno','Excelente'])\n",
        "\n",
        "figT.update_layout(height=800, width=800,\n",
        "                  title='Calidad y Costo vs Tasa de Producción',\n",
        "                  margin=dict(l=65, r=50, b=65, t=90),\n",
        "                  scene = dict( xaxis = dict(title='Calidad esperada'),\n",
        "                                yaxis = dict(title='Costo Calculado'),\n",
        "                                zaxis = dict(title='Tasa de producción'),),)\n"
      ],
      "execution_count": 52,
      "outputs": [
        {
          "output_type": "display_data",
          "data": {
            "text/html": [
              "<html>\n",
              "<head><meta charset=\"utf-8\" /></head>\n",
              "<body>\n",
              "    <div>\n",
              "            <script src=\"https://cdnjs.cloudflare.com/ajax/libs/mathjax/2.7.5/MathJax.js?config=TeX-AMS-MML_SVG\"></script><script type=\"text/javascript\">if (window.MathJax) {MathJax.Hub.Config({SVG: {font: \"STIX-Web\"}});}</script>\n",
              "                <script type=\"text/javascript\">window.PlotlyConfig = {MathJaxConfig: 'local'};</script>\n",
              "        <script src=\"https://cdn.plot.ly/plotly-latest.min.js\"></script>    \n",
              "            <div id=\"e577e26f-1c6a-456e-815e-dd4e93741c39\" class=\"plotly-graph-div\" style=\"height:800px; width:800px;\"></div>\n",
              "            <script type=\"text/javascript\">\n",
              "                \n",
              "                    window.PLOTLYENV=window.PLOTLYENV || {};\n",
              "                    \n",
              "                if (document.getElementById(\"e577e26f-1c6a-456e-815e-dd4e93741c39\")) {\n",
              "                    Plotly.newPlot(\n",
              "                        'e577e26f-1c6a-456e-815e-dd4e93741c39',\n",
              "                        [{\"marker\": {\"color\": [39.8584, 34.9244, 32.9492, 38.28, 38.6076, 22.626, 28.441599999999998, 24.5428, 25.1768, 37.8632, 36.6912, 30.4696, 39.3732, 34.0456, 36.3488, 41.251599999999996, 37.599599999999995, 33.4628, 29.0756, 27.852400000000003, 32.456, 31.2796, 32.0276, 32.6068, 19.186, 35.428, 34.9868, 40.3044, 32.2996, 29.712, 24.2944, 24.7, 35.8936, 27.764, 26.9732, 31.4668, 36.4768, 33.624399999999994, 29.772399999999998, 31.8308, 32.146, 37.1588, 39.0068, 32.3588, 31.5944, 28.1144, 34.7044, 35.766799999999996, 36.9072, 38.9388, 11.0, 38.9044, 30.672799999999995, 32.756, 34.4764, 36.9632, 33.894400000000005, 34.4524, 39.9904, 34.7208, 39.5924, 13.0, 31.3444, 36.6184, 26.056400000000004, 33.1316, 34.7144, 37.162400000000005, 38.7592, 33.2144, 33.824, 22.8512, 35.9616, 37.0696, 37.065599999999996, 28.5, 37.2692, 19.7732, 38.8288, 34.052800000000005, 39.403999999999996, 33.9452, 19.2908, 31.6392, 21.2668, 22.811999999999998, 18.3172, 26.77, 34.6248, 26.352800000000002, 34.099599999999995, 36.0792, 29.1556, 35.5144, 30.414, 36.4032, 33.7384, 32.2248, 33.7624, 30.8172, 36.29, 21.4304, 33.1932, 35.282, 25.5432, 30.5512, 25.5628, 13.4664, 37.028800000000004, 38.111999999999995, 37.856, 25.3296, 35.142399999999995, 35.4, 33.138400000000004, 34.8048, 37.89, 27.3464, 30.8236, 35.2248, 39.2708, 37.47, 31.4588, 32.010400000000004, 28.8008, 35.6736, 26.9908, 39.512, 35.214, 28.746399999999998, 32.5484, 31.503999999999998, 36.4908, 25.824399999999997, 28.0872, 37.322, 24.7832, 31.3704, 31.6812, 16.345599999999997, 37.3204, 37.5276, 37.3044, 22.6132, 28.144799999999996, 28.8388, 33.117599999999996, 23.64, 24.4264, 37.7964, 23.747199999999996, 35.0204, 26.8052, 29.938799999999997, 27.6592, 34.8508, 30.607599999999998, 31.796, 36.0728, 36.0976, 37.147999999999996, 31.584799999999998, 35.856, 32.703199999999995, 34.5308, 38.1492, 37.7352, 26.4596, 26.8352, 38.6252, 28.259999999999998, 36.430800000000005, 39.8524, 38.6188, 36.19, 33.46, 34.8972, 38.1708, 32.998, 20.5116, 34.7696, 30.3, 32.8324, 35.2868, 40.7768, 23.4288, 18.073999999999998, 16.8692, 34.290400000000005, 24.8204, 25.1664, 18.5804, 33.1464, 25.4804, 19.2584, 29.008799999999997, 27.8532, 33.7388, 36.028800000000004, 30.048000000000002, 33.790400000000005, 34.2552, 36.239599999999996, 26.7564, 33.2656, 34.672799999999995, 22.214, 28.2312, 33.3432, 28.397199999999998, 9.5, 30.676, 36.9464, 31.263599999999997, 36.0376, 34.6592, 18.968799999999998, 27.9904, 31.4732, 24.691200000000002, 36.2184, 38.1736, 40.4248, 32.4976, 29.095999999999997, 29.756400000000003, 33.2352, 32.1576, 28.282400000000003, 34.042, 25.9916, 38.76, 32.306400000000004, 32.013999999999996, 30.7096, 37.2288, 27.035999999999998, 34.0732, 38.873599999999996, 38.7928, 17.0, 24.522, 36.4084, 28.131999999999998, 33.2616, 31.6796, 39.586, 37.4304, 34.9456, 38.373599999999996, 30.9444, 31.4912, 28.6824, 37.9868, 30.491999999999997, 33.8732, 37.1736, 22.3992, 34.4252, 29.4, 39.7868, 32.3452, 31.865599999999997, 32.2416, 25.761599999999998, 38.955600000000004, 25.5972, 34.7104, 37.42, 32.4904, 34.6208, 27.086799999999997, 32.6524, 33.5892, 39.16, 33.2552, 37.1008, 35.5216, 29.331200000000003, 28.4408, 34.7172, 28.86, 33.8528, 28.456799999999998, 34.1312, 34.3012, 27.580399999999997, 29.955599999999997, 37.97, 36.1012, 29.363599999999998, 17.7, 33.5804, 23.172799999999995, 18.0276, 33.6356, 39.6212, 39.455600000000004, 6.4, 24.9228, 31.1248, 36.2268, 26.8, 38.1528, 34.842, 37.4632, 36.147999999999996, 33.3976, 22.1544, 40.824799999999996, 33.8044, 25.918, 35.642399999999995, 29.825599999999998, 37.6356, 26.0612, 34.806400000000004, 36.7316, 35.065599999999996, 34.376799999999996, 20.6, 37.6768, 36.5216, 41.5516, 18.9732, 37.622, 30.7864, 40.9248, 33.038799999999995, 38.05, 37.3804, 37.587199999999996, 37.3428, 39.480000000000004, 35.8412, 32.1768, 27.3172, 34.5072, 29.9, 29.389200000000002, 34.2416, 35.437200000000004, 39.618, 37.1112, 34.352000000000004, 39.2148, 38.1756, 32.648399999999995, 6.8, 35.9472, 28.608, 36.5524, 19.258, 34.674, 26.9876, 18.5344, 14.6472, 32.9104, 36.6704, 36.334, 34.6772, 39.6756, 35.3596, 39.6976, 27.334, 36.6804, 32.6348, 35.0908, 36.126000000000005, 33.2108, 31.575599999999998, 26.6292, 28.6332, 26.27, 33.684, 37.2144, 28.1064, 33.063199999999995, 18.6068, 39.0836, 31.401200000000003, 30.8512, 20.1856, 19.186, 38.1928, 34.1752, 40.2412, 39.33, 30.387999999999998, 34.209199999999996, 23.1252, 36.4004, 30.412800000000004, 34.752, 30.291200000000003, 36.1452, 38.0596, 34.118, 35.885999999999996, 25.4664, 38.0704, 33.41, 31.4384, 25.67, 36.2352, 23.9724, 30.99, 36.874, 32.9156, 29.6184, 35.8216, 29.2704, 35.5736, 37.566, 35.3084, 37.5316, 15.9, 36.3936, 40.0284, 31.9692, 33.3588, 34.790400000000005, 33.980000000000004, 35.007999999999996, 34.8508, 12.4, 32.1864, 17.9732, 28.2044, 32.876400000000004, 37.5096, 34.7588, 34.2132, 35.7332, 39.6912, 34.6104, 32.3416, 26.8568, 35.376799999999996, 34.989999999999995, 30.3004, 38.7084, 36.855599999999995, 30.0912, 31.7584, 31.6184, 38.7248, 18.470399999999998, 26.1204, 39.6388, 39.886799999999994, 38.7116, 27.294, 39.8456, 20.3112, 32.3452, 26.4936, 34.736000000000004, 37.8208, 31.4912, 34.851600000000005, 17.8524, 33.9904, 38.4216, 37.1736, 25.939600000000002, 36.422, 31.9756, 34.087199999999996, 30.196799999999996, 30.746399999999998, 19.6, 22.0964, 35.6524, 35.459599999999995, 36.9636, 38.1172, 27.5, 38.118, 32.5392, 14.1, 33.4172, 0.0, 31.945999999999998, 37.334, 38.6488, 30.983999999999998, 38.2832, 36.3528, 25.9584, 32.6428, 34.9696, 27.6704, 37.2384, 26.101599999999998, 31.3036, 27.235599999999998, 32.2932, 37.876400000000004, 33.721599999999995, 30.9664, 38.408, 28.7, 29.1008, 30.4444, 27.1556, 32.7568, 17.8104, 34.832, 38.051199999999994, 28.8356, 21.502799999999997, 33.483599999999996, 36.3212, 36.372, 27.5832, 29.747199999999996, 29.7424, 36.6356, 28.8384, 30.0464, 35.9996, 29.1436, 28.5672, 37.9872, 29.1312, 32.324799999999996, 27.352800000000002, 39.3896, 27.208, 35.8648, 37.5312, 31.0188, 34.314, 13.2, 38.44799999999999, 25.29, 37.3096, 28.5, 33.9152, 18.0276, 36.8052, 39.8904, 39.8664, 31.117599999999996, 36.538399999999996, 32.7772, 38.1668, 33.41, 36.906, 28.8, 36.2384, 34.0484, 28.4756, 33.0968, 33.5896, 36.7776, 39.8288, 27.497999999999998, 34.331599999999995, 36.384, 25.994799999999998, 29.56, 30.5164, 26.026799999999998, 27.0756, 41.3388, 37.0524, 30.641199999999998, 30.195999999999998, 35.818, 36.5964, 33.132000000000005, 30.680799999999998, 33.593199999999996, 27.184399999999997, 27.0912, 29.4, 22.5, 31.9604, 28.214799999999997, 31.16, 38.8092, 35.4604, 34.528800000000004, 17.0304, 30.914, 16.5004, 30.5036, 26.818400000000004, 29.884, 37.2356, 33.3732, 33.5408, 32.135999999999996, 33.8656, 25.2564, 35.2144, 40.0976, 23.8808, 36.3748, 40.2588, 26.296799999999998, 32.4464, 39.8216, 29.650799999999997, 29.3944, 39.8924, 34.3264, 19.3868, 15.4212, 33.4216, 36.0972, 36.5392, 39.3044, 35.3072, 20.3492, 40.7528, 32.5788, 30.596799999999998, 27.376799999999996, 35.9392, 31.88, 39.67, 33.0548, 32.9768, 29.7, 32.562, 39.3216, 24.3048, 26.9324, 33.3604, 39.800799999999995, 32.5004, 27.968400000000003, 33.3828, 38.3448, 29.4528, 34.075199999999995, 35.07, 31.275999999999996, 39.6904, 32.1668, 31.419999999999998, 29.602, 36.4688, 27.211599999999997, 35.5928, 32.952799999999996, 30.9324, 34.9564, 39.745599999999996, 35.224, 34.6008, 35.662400000000005, 34.46, 35.3904, 34.018, 27.1432, 29.620799999999996, 34.6828, 36.358000000000004, 32.6908, 30.269599999999997, 36.2836, 30.123199999999997, 29.747199999999996, 37.0484, 36.047599999999996, 26.1, 32.8296, 36.434799999999996, 29.322000000000003, 29.6864, 37.904799999999994, 39.4116, 21.1632, 25.866799999999998, 30.5832, 29.662799999999997, 38.5356, 33.976, 36.955600000000004, 22.67, 31.7716, 35.604, 36.26, 30.7596, 21.3068, 32.3848, 22.449199999999998, 28.1064, 32.1356, 25.04, 39.1412, 33.7352, 32.685199999999995, 32.388, 32.4248, 33.8992, 25.148, 34.7856, 37.628, 33.8284, 21.9596, 34.6548, 32.526799999999994, 33.4152, 30.2872, 15.1, 35.9488, 30.9, 37.152, 34.3524, 26.287599999999998, 24.462, 33.536, 31.5668, 33.314, 30.966, 17.8128, 31.0072, 33.9136, 31.5668, 36.5048, 30.394, 38.2636, 26.668799999999997, 38.4324, 40.0144, 24.9272, 39.952799999999996, 28.6664, 29.7, 32.47, 33.552800000000005, 31.3308, 24.036800000000003, 32.983599999999996, 17.8104, 30.382400000000004, 38.4392, 35.748400000000004, 27.7536, 28.5704, 39.0048, 32.0252, 38.8964, 35.0312, 35.4268, 35.080799999999996, 28.5524, 30.246000000000002, 24.253999999999998, 17.3, 24.3492, 33.896, 32.5132, 38.955600000000004, 29.9452, 38.038799999999995, 29.232799999999997, 33.124399999999994, 30.676, 37.099599999999995, 35.9868, 35.9352, 24.1696, 30.813599999999997, 34.1092, 34.7448, 33.764399999999995, 31.1756, 33.386799999999994, 31.552, 32.0012, 38.2004, 26.8748, 29.7928, 33.186400000000006, 28.7, 36.3632, 31.5244, 27.876799999999996, 35.074, 20.4168, 29.9668, 31.608, 37.3752, 32.6428, 37.2136, 31.406, 38.1596, 33.2596, 37.489599999999996, 37.58, 32.3728, 24.821599999999997, 39.0792, 32.476, 25.3056, 35.68, 30.531200000000002, 32.800799999999995, 38.7, 26.0908, 42.2244, 31.574399999999997, 35.6908, 26.5, 32.434400000000004, 32.4392, 31.232799999999997, 36.544799999999995, 30.806, 37.3144, 26.4496, 40.5904, 29.020799999999998, 19.113599999999998, 13.2492, 40.194, 27.435599999999997, 14.5524, 14.656, 32.362, 31.5, 30.009999999999998, 36.794, 37.3416, 14.3352, 27.745199999999997, 25.0944, 28.7808, 22.1492, 30.772799999999997, 39.1388, 36.566, 22.884, 27.115199999999998, 39.5828, 22.082, 27.2944, 18.1184, 33.766, 26.3288, 37.67, 28.108399999999996, 35.774, 30.2352, 26.509999999999998, 26.2072, 24.6212, 32.004, 35.8912, 20.996, 39.27, 31.342, 30.0824, 40.4488, 39.6796, 32.6892, 34.332, 39.5972, 30.729200000000002, 27.744799999999998, 29.2136, 35.053200000000004, 27.791200000000003, 29.9444, 35.2584, 28.959200000000003, 33.844, 34.9444, 30.696799999999996, 25.4424, 33.040400000000005, 25.399599999999996, 30.6924, 36.687200000000004, 39.2764, 24.372799999999998, 23.4, 29.7248, 38.782799999999995, 22.637999999999998, 26.7972, 37.794, 32.838, 28.4892, 39.483999999999995, 27.5872, 33.8388, 29.6216, 32.5496, 38.7804, 35.0248, 30.4936, 40.0524, 36.1944, 37.211200000000005, 18.566, 23.3356, 33.983999999999995, 32.5456, 31.772799999999997, 40.9908, 33.965599999999995, 34.132000000000005, 32.57, 35.4732, 28.8112, 31.1064, 30.273599999999995, 26.0044, 23.0892, 35.5828, 28.466, 28.9912, 34.288799999999995, 34.9636, 31.531599999999997, 35.4964, 31.3532, 34.028800000000004, 26.874399999999998, 26.8, 34.8904, 39.5276, 28.432000000000002, 26.4496, 30.116799999999998, 26.659599999999998, 17.9, 38.3364, 38.9388, 37.4764, 34.395199999999996, 37.7076, 27.611600000000003, 29.5768, 37.4976, 31.5004, 21.1892, 28.9972, 33.162, 34.5124, 19.4664, 38.932, 13.0, 38.9284, 28.726, 34.831599999999995, 35.894400000000005, 27.714799999999997, 35.798, 26.5, 33.7792, 35.258, 32.3036, 39.2964, 20.3444, 29.5916, 31.593600000000002, 38.6736, 38.0312, 30.7516, 28.5644, 21.532, 37.8892, 27.240000000000002, 35.4704, 32.538399999999996, 29.891199999999998, 32.065200000000004, 30.5608, 32.307599999999994, 34.8804, 22.939999999999998, 25.152, 30.5076, 38.044799999999995, 38.9492, 36.3132, 27.0708, 32.626799999999996, 21.369999999999997, 35.332, 34.384, 17.000799999999998, 31.0084, 21.6, 37.7832, 33.6636, 36.234, 29.9016, 31.7656, 28.3208, 39.7756, 17.0864, 39.800399999999996, 19.2, 34.3588, 38.0768, 35.2692, 35.8596, 31.0392, 34.2284, 27.5, 39.6136, 19.3, 18.3552, 37.6868, 30.095599999999997, 31.3664, 37.3872, 35.376799999999996, 35.128, 29.1, 25.6892, 31.6004, 35.666399999999996, 38.2908, 31.873599999999996, 30.8152, 27.7828, 38.3756, 38.8844, 38.8464, 34.77119999999999, 33.4256, 33.5876, 34.729200000000006, 35.178399999999996, 27.5048, 39.36879999999999, 34.0072, 34.0836, 9.222399999999999, 31.2076, 36.1324, 38.3352, 38.29, 30.2576, 29.3652, 19.4284, 22.892799999999998, 37.1328, 37.4632, 23.5396, 39.3524, 27.2016, 39.7568, 37.294, 30.428400000000003, 37.010000000000005, 38.1044, 30.2716, 11.5, 32.2044, 35.3624, 27.2032, 28.0256, 34.4284, 39.668400000000005, 6.4, 30.023999999999997, 32.572, 31.1824, 28.548000000000002, 36.9456, 33.1036, 36.014799999999994, 36.3692, 31.1352, 30.828, 35.726, 32.6476, 37.41759999999999, 35.435599999999994, 18.293599999999998, 30.736, 37.916799999999995, 30.9576, 32.1864, 30.462400000000002, 39.8656, 28.5948, 39.641999999999996, 16.146, 27.348399999999998, 26.6488, 20.78, 25.461599999999997, 32.4072, 37.1824, 24.8052, 35.382400000000004, 22.053600000000003, 24.418400000000002, 23.8544, 37.258, 39.0152, 33.3804, 36.879999999999995, 24.6576, 37.5012, 31.089599999999997, 29.973999999999997, 41.5768, 39.6496, 29.936, 26.407200000000003, 29.6696, 35.824799999999996, 37.048, 32.1868, 19.4076, 36.674, 31.575599999999998, 36.318799999999996, 35.372, 18.6068, 28.0188, 32.2008, 32.2548, 25.6612, 24.313200000000002, 38.0436, 38.5768, 31.195999999999998, 31.349200000000003, 31.652, 32.584, 26.632399999999997, 27.363599999999998, 33.67, 29.304, 27.2668, 38.2008, 34.854, 34.718, 34.4868, 36.8132, 33.8456, 36.4876, 28.8596, 38.058400000000006, 28.712, 35.9004, 37.504, 36.5324, 34.0668, 25.5, 39.5492, 39.666, 35.1896, 26.918, 36.431200000000004, 11.9, 27.711199999999998, 32.6704, 31.0152, 26.129599999999996, 20.518, 25.6876, 37.3032, 36.111999999999995, 38.935599999999994, 24.2568, 34.983599999999996, 34.327600000000004, 18.823999999999998, 32.5048, 23.499599999999997, 33.544399999999996, 15.614799999999999, 37.5624, 34.325599999999994, 36.007999999999996, 20.6792, 26.256, 40.273599999999995, 20.598, 37.6216, 32.1972, 29.735599999999998, 25.6888, 32.770399999999995, 38.52719999999999, 39.6464, 31.281599999999997, 31.663600000000002, 37.873599999999996, 31.276400000000002, 29.8292, 38.754, 34.9308, 34.7288, 35.3988, 30.6828, 33.3972, 24.945999999999998, 36.7136, 37.1312, 35.2076, 36.032, 30.3876, 38.5036, 32.9736, 31.6256, 29.6464, 28.9084, 24.6024, 1.0, 27.8676, 31.6564, 28.3492, 31.1032, 31.190800000000003, 35.236000000000004, 28.4, 38.435599999999994, 23.2048, 31.3164, 30.022399999999998, 28.293599999999998, 28.3016, 31.2188, 35.1764, 32.538, 26.6684, 33.693599999999996, 28.0048, 34.1092, 27.5908, 35.77, 39.0548, 30.8444, 24.9608, 32.5796, 31.534799999999997, 34.362, 25.4, 32.47279999999999, 37.504, 30.5292, 35.5108, 26.794800000000002, 31.4932, 31.848, 16.3, 32.594, 38.687200000000004, 28.9284, 32.471599999999995, 28.131999999999998, 34.980000000000004, 30.1392, 19.3012, 28.3324, 33.768, 33.8172, 29.095199999999995, 35.7076, 33.9904, 19.8692, 31.9, 28.453200000000002, 28.543599999999998, 37.9332, 39.5112, 39.4484, 38.8324, 26.932000000000002, 31.648, 15.493599999999999, 19.6112, 28.7352, 28.1492, 19.877200000000002, 26.6836, 31.0276, 34.7008, 16.3624, 34.2452, 27.589199999999998, 37.58, 38.0312], \"colorscale\": [[0, \"lime\"], [0.5, \"red\"]], \"line\": {\"color\": \"rgb(140, 140, 170)\"}, \"size\": 5, \"sizemode\": \"diameter\", \"sizeref\": 1500}, \"mode\": \"markers\", \"type\": \"scatter3d\", \"x\": [\"Aceptable\", \"Aceptable\", \"Aceptable\", \"Aceptable\", \"Aceptable\", \"Aceptable\", \"Aceptable\", \"Aceptable\", \"Aceptable\", \"Aceptable\", \"Aceptable\", \"Aceptable\", \"Aceptable\", \"Aceptable\", \"Aceptable\", \"Aceptable\", \"Aceptable\", \"Aceptable\", \"Aceptable\", \"Aceptable\", \"Aceptable\", \"Aceptable\", \"Aceptable\", \"Aceptable\", \"Aceptable\", \"Aceptable\", \"Aceptable\", \"Aceptable\", \"Aceptable\", \"Aceptable\", \"Aceptable\", \"Aceptable\", \"Aceptable\", \"Aceptable\", \"Aceptable\", \"Aceptable\", \"Aceptable\", \"Aceptable\", \"Aceptable\", \"Aceptable\", \"Aceptable\", \"Aceptable\", \"Aceptable\", \"Aceptable\", \"Aceptable\", \"Aceptable\", \"Aceptable\", \"Aceptable\", \"Aceptable\", \"Aceptable\", \"Aceptable\", \"Aceptable\", \"Aceptable\", \"Aceptable\", \"Aceptable\", \"Aceptable\", \"Aceptable\", \"Aceptable\", \"Aceptable\", \"Aceptable\", \"Aceptable\", \"Aceptable\", \"Aceptable\", \"Aceptable\", \"Aceptable\", \"Aceptable\", \"Aceptable\", \"Aceptable\", \"Aceptable\", \"Aceptable\", \"Aceptable\", \"Aceptable\", \"Aceptable\", \"Aceptable\", \"Aceptable\", \"Aceptable\", \"Aceptable\", \"Aceptable\", \"Aceptable\", \"Aceptable\", \"Aceptable\", \"Aceptable\", \"Aceptable\", \"Aceptable\", \"Aceptable\", \"Aceptable\", \"Aceptable\", \"Aceptable\", \"Aceptable\", \"Aceptable\", \"Aceptable\", \"Aceptable\", \"Aceptable\", \"Aceptable\", \"Aceptable\", \"Aceptable\", \"Aceptable\", \"Aceptable\", \"Aceptable\", \"Aceptable\", \"Aceptable\", \"Aceptable\", \"Aceptable\", \"Aceptable\", \"Aceptable\", \"Aceptable\", \"Aceptable\", \"Aceptable\", \"Aceptable\", \"Aceptable\", \"Aceptable\", \"Aceptable\", \"Aceptable\", \"Aceptable\", \"Aceptable\", \"Aceptable\", \"Aceptable\", \"Aceptable\", \"Aceptable\", \"Aceptable\", \"Aceptable\", \"Aceptable\", \"Aceptable\", \"Aceptable\", \"Aceptable\", \"Aceptable\", \"Aceptable\", \"Aceptable\", \"Aceptable\", \"Aceptable\", \"Aceptable\", \"Aceptable\", \"Aceptable\", \"Aceptable\", \"Aceptable\", \"Aceptable\", \"Aceptable\", \"Aceptable\", \"Aceptable\", \"Aceptable\", \"Aceptable\", \"Aceptable\", \"Aceptable\", \"Aceptable\", \"Aceptable\", \"Aceptable\", \"Aceptable\", \"Aceptable\", \"Excelente\", \"Aceptable\", \"Aceptable\", \"Aceptable\", \"Aceptable\", \"Aceptable\", \"Aceptable\", \"Aceptable\", \"Aceptable\", \"Aceptable\", \"Aceptable\", \"Aceptable\", \"Aceptable\", \"Aceptable\", \"Aceptable\", \"Aceptable\", \"Aceptable\", \"Aceptable\", \"Aceptable\", \"Aceptable\", \"Aceptable\", \"Aceptable\", \"Aceptable\", \"Aceptable\", \"Aceptable\", \"Aceptable\", \"Aceptable\", \"Aceptable\", \"Aceptable\", \"Aceptable\", \"Aceptable\", \"Aceptable\", \"Aceptable\", \"Aceptable\", \"Aceptable\", \"Aceptable\", \"Aceptable\", \"Aceptable\", \"Aceptable\", \"Aceptable\", \"Aceptable\", \"Aceptable\", \"Aceptable\", \"Aceptable\", \"Aceptable\", \"Aceptable\", \"Aceptable\", \"Aceptable\", \"Aceptable\", \"Aceptable\", \"Aceptable\", \"Aceptable\", \"Aceptable\", \"Aceptable\", \"Aceptable\", \"Aceptable\", \"Aceptable\", \"Aceptable\", \"Aceptable\", \"Aceptable\", \"Aceptable\", \"Aceptable\", \"Aceptable\", \"Aceptable\", \"Aceptable\", \"Aceptable\", \"Aceptable\", \"Aceptable\", \"Aceptable\", \"Aceptable\", \"Aceptable\", \"Aceptable\", \"Aceptable\", \"Aceptable\", \"Aceptable\", \"Aceptable\", \"Aceptable\", \"Aceptable\", \"Aceptable\", \"Aceptable\", \"Aceptable\", \"Aceptable\", \"Aceptable\", \"Aceptable\", \"Aceptable\", \"Aceptable\", \"Aceptable\", \"Aceptable\", \"Aceptable\", \"Aceptable\", \"Aceptable\", \"Aceptable\", \"Aceptable\", \"Aceptable\", \"Aceptable\", \"Aceptable\", \"Aceptable\", \"Aceptable\", \"Aceptable\", \"Aceptable\", \"Aceptable\", \"Aceptable\", \"Aceptable\", \"Aceptable\", \"Aceptable\", \"Aceptable\", \"Aceptable\", \"Aceptable\", \"Aceptable\", \"Aceptable\", \"Aceptable\", \"Aceptable\", \"Aceptable\", \"Aceptable\", \"Aceptable\", \"Aceptable\", \"Aceptable\", \"Aceptable\", \"Aceptable\", \"Aceptable\", \"Aceptable\", \"Aceptable\", \"Aceptable\", \"Aceptable\", \"Aceptable\", \"Aceptable\", \"Aceptable\", \"Aceptable\", \"Aceptable\", \"Aceptable\", \"Aceptable\", \"Aceptable\", \"Aceptable\", \"Aceptable\", \"Aceptable\", \"Aceptable\", \"Aceptable\", \"Aceptable\", \"Aceptable\", \"Aceptable\", \"Aceptable\", \"Aceptable\", \"Aceptable\", \"Aceptable\", \"Aceptable\", \"Aceptable\", \"Aceptable\", \"Aceptable\", \"Aceptable\", \"Aceptable\", \"Aceptable\", \"Aceptable\", \"Aceptable\", \"Aceptable\", \"Aceptable\", \"Aceptable\", \"Aceptable\", \"Aceptable\", \"Aceptable\", \"Aceptable\", \"Aceptable\", \"Aceptable\", \"Aceptable\", \"Aceptable\", \"Aceptable\", \"Aceptable\", \"Aceptable\", \"Aceptable\", \"Aceptable\", \"Regular\", \"Aceptable\", \"Aceptable\", \"Aceptable\", \"Aceptable\", \"Aceptable\", \"Aceptable\", \"Aceptable\", \"Aceptable\", \"Aceptable\", \"Aceptable\", \"Aceptable\", \"Aceptable\", \"Aceptable\", \"Aceptable\", \"Aceptable\", \"Aceptable\", \"Aceptable\", \"Aceptable\", \"Aceptable\", \"Aceptable\", \"Aceptable\", \"Aceptable\", \"Aceptable\", \"Aceptable\", \"Aceptable\", \"Aceptable\", \"Aceptable\", \"Aceptable\", \"Aceptable\", \"Aceptable\", \"Aceptable\", \"Aceptable\", \"Aceptable\", \"Aceptable\", \"Aceptable\", \"Aceptable\", \"Aceptable\", \"Aceptable\", \"Aceptable\", \"Aceptable\", \"Aceptable\", \"Aceptable\", \"Aceptable\", \"Aceptable\", \"Aceptable\", \"Aceptable\", \"Aceptable\", \"Aceptable\", \"Aceptable\", \"Aceptable\", \"Aceptable\", \"Aceptable\", \"Excelente\", \"Aceptable\", \"Aceptable\", \"Aceptable\", \"Aceptable\", \"Aceptable\", \"Aceptable\", \"Aceptable\", \"Aceptable\", \"Aceptable\", \"Aceptable\", \"Aceptable\", \"Aceptable\", \"Aceptable\", \"Aceptable\", \"Aceptable\", \"Aceptable\", \"Aceptable\", \"Aceptable\", \"Bueno\", \"Aceptable\", \"Aceptable\", \"Aceptable\", \"Aceptable\", \"Aceptable\", \"Aceptable\", \"Aceptable\", \"Aceptable\", \"Aceptable\", \"Aceptable\", \"Aceptable\", \"Aceptable\", \"Aceptable\", \"Aceptable\", \"Aceptable\", \"Aceptable\", \"Aceptable\", \"Aceptable\", \"Aceptable\", \"Aceptable\", \"Aceptable\", \"Aceptable\", \"Aceptable\", \"Aceptable\", \"Aceptable\", \"Aceptable\", \"Aceptable\", \"Aceptable\", \"Aceptable\", \"Aceptable\", \"Aceptable\", \"Aceptable\", \"Aceptable\", \"Aceptable\", \"Aceptable\", \"Aceptable\", \"Aceptable\", \"Aceptable\", \"Aceptable\", \"Aceptable\", \"Aceptable\", \"Aceptable\", \"Aceptable\", \"Aceptable\", \"Aceptable\", \"Aceptable\", \"Aceptable\", \"Aceptable\", \"Aceptable\", \"Aceptable\", \"Aceptable\", \"Aceptable\", \"Aceptable\", \"Aceptable\", \"Aceptable\", \"Aceptable\", \"Aceptable\", \"Aceptable\", \"Aceptable\", \"Aceptable\", \"Aceptable\", \"Aceptable\", \"Aceptable\", \"Aceptable\", \"Aceptable\", \"Aceptable\", \"Aceptable\", \"Aceptable\", \"Aceptable\", \"Aceptable\", \"Aceptable\", \"Aceptable\", \"Aceptable\", \"Aceptable\", \"Aceptable\", \"Aceptable\", \"Aceptable\", \"Aceptable\", \"Aceptable\", \"Aceptable\", \"Aceptable\", \"Aceptable\", \"Aceptable\", \"Aceptable\", \"Aceptable\", \"Aceptable\", \"Aceptable\", \"Aceptable\", \"Aceptable\", \"Aceptable\", \"Aceptable\", \"Aceptable\", \"Aceptable\", \"Aceptable\", \"Aceptable\", \"Aceptable\", \"Aceptable\", \"Aceptable\", \"Aceptable\", \"Aceptable\", \"Aceptable\", \"Aceptable\", \"Aceptable\", \"Aceptable\", \"Aceptable\", \"Aceptable\", \"Aceptable\", \"Aceptable\", \"Aceptable\", \"Aceptable\", \"Aceptable\", \"Aceptable\", \"Aceptable\", \"Aceptable\", \"Aceptable\", \"Aceptable\", \"Aceptable\", \"Aceptable\", \"Aceptable\", \"Aceptable\", \"Aceptable\", \"Aceptable\", \"Aceptable\", \"Aceptable\", \"Aceptable\", \"Aceptable\", \"Aceptable\", \"Aceptable\", \"Aceptable\", \"Aceptable\", \"Aceptable\", \"Aceptable\", \"Aceptable\", \"Aceptable\", \"Aceptable\", \"Aceptable\", \"Aceptable\", \"Aceptable\", \"Aceptable\", \"Aceptable\", \"Aceptable\", \"Aceptable\", \"Aceptable\", \"Aceptable\", \"Aceptable\", \"Aceptable\", \"Aceptable\", \"Aceptable\", \"Aceptable\", \"Aceptable\", \"Aceptable\", \"Aceptable\", \"Aceptable\", \"Aceptable\", \"Aceptable\", \"Aceptable\", \"Aceptable\", \"Aceptable\", \"Aceptable\", \"Aceptable\", \"Aceptable\", \"Aceptable\", \"Aceptable\", \"Aceptable\", \"Aceptable\", \"Aceptable\", \"Aceptable\", \"Aceptable\", \"Aceptable\", \"Aceptable\", \"Aceptable\", \"Aceptable\", \"Aceptable\", \"Aceptable\", \"Aceptable\", \"Aceptable\", \"Aceptable\", \"Aceptable\", \"Aceptable\", \"Aceptable\", \"Aceptable\", \"Aceptable\", \"Aceptable\", \"Aceptable\", \"Aceptable\", \"Aceptable\", \"Aceptable\", \"Aceptable\", \"Aceptable\", \"Aceptable\", \"Aceptable\", \"Aceptable\", \"Aceptable\", \"Aceptable\", \"Aceptable\", \"Aceptable\", \"Aceptable\", \"Aceptable\", \"Aceptable\", \"Aceptable\", \"Aceptable\", \"Aceptable\", \"Aceptable\", \"Aceptable\", \"Aceptable\", \"Aceptable\", \"Aceptable\", \"Aceptable\", \"Aceptable\", \"Aceptable\", \"Aceptable\", \"Aceptable\", \"Aceptable\", \"Aceptable\", \"Aceptable\", \"Aceptable\", \"Aceptable\", \"Aceptable\", \"Bueno\", \"Aceptable\", \"Aceptable\", \"Aceptable\", \"Aceptable\", \"Aceptable\", \"Aceptable\", \"Aceptable\", \"Aceptable\", \"Aceptable\", \"Aceptable\", \"Aceptable\", \"Aceptable\", \"Aceptable\", \"Aceptable\", \"Aceptable\", \"Aceptable\", \"Aceptable\", \"Aceptable\", \"Aceptable\", \"Aceptable\", \"Aceptable\", \"Aceptable\", \"Aceptable\", \"Aceptable\", \"Aceptable\", \"Aceptable\", \"Aceptable\", \"Aceptable\", \"Aceptable\", \"Aceptable\", \"Aceptable\", \"Aceptable\", \"Aceptable\", \"Aceptable\", \"Aceptable\", \"Aceptable\", \"Aceptable\", \"Aceptable\", \"Aceptable\", \"Aceptable\", \"Aceptable\", \"Aceptable\", \"Aceptable\", \"Aceptable\", \"Aceptable\", \"Aceptable\", \"Aceptable\", \"Aceptable\", \"Aceptable\", \"Aceptable\", \"Aceptable\", \"Aceptable\", \"Aceptable\", \"Aceptable\", \"Aceptable\", \"Aceptable\", \"Aceptable\", \"Aceptable\", \"Aceptable\", \"Aceptable\", \"Aceptable\", \"Aceptable\", \"Aceptable\", \"Aceptable\", \"Aceptable\", \"Aceptable\", \"Aceptable\", \"Aceptable\", \"Aceptable\", \"Aceptable\", \"Aceptable\", \"Aceptable\", \"Aceptable\", \"Aceptable\", \"Aceptable\", \"Aceptable\", \"Aceptable\", \"Aceptable\", \"Aceptable\", \"Aceptable\", \"Aceptable\", \"Aceptable\", \"Aceptable\", \"Aceptable\", \"Aceptable\", \"Aceptable\", \"Aceptable\", \"Aceptable\", \"Aceptable\", \"Aceptable\", \"Aceptable\", \"Aceptable\", \"Aceptable\", \"Aceptable\", \"Aceptable\", \"Aceptable\", \"Aceptable\", \"Aceptable\", \"Aceptable\", \"Aceptable\", \"Aceptable\", \"Aceptable\", \"Aceptable\", \"Aceptable\", \"Aceptable\", \"Aceptable\", \"Aceptable\", \"Aceptable\", \"Aceptable\", \"Aceptable\", \"Aceptable\", \"Aceptable\", \"Aceptable\", \"Aceptable\", \"Aceptable\", \"Aceptable\", \"Aceptable\", \"Aceptable\", \"Aceptable\", \"Aceptable\", \"Aceptable\", \"Aceptable\", \"Aceptable\", \"Aceptable\", \"Aceptable\", \"Aceptable\", \"Aceptable\", \"Aceptable\", \"Aceptable\", \"Aceptable\", \"Aceptable\", \"Aceptable\", \"Aceptable\", \"Aceptable\", \"Aceptable\", \"Aceptable\", \"Aceptable\", \"Aceptable\", \"Aceptable\", \"Aceptable\", \"Aceptable\", \"Aceptable\", \"Aceptable\", \"Aceptable\", \"Aceptable\", \"Aceptable\", \"Aceptable\", \"Aceptable\", \"Aceptable\", \"Aceptable\", \"Aceptable\", \"Aceptable\", \"Aceptable\", \"Aceptable\", \"Aceptable\", \"Aceptable\", \"Aceptable\", \"Aceptable\", \"Aceptable\", \"Aceptable\", \"Aceptable\", \"Aceptable\", \"Aceptable\", \"Bueno\", \"Aceptable\", \"Aceptable\", \"Aceptable\", \"Aceptable\", \"Aceptable\", \"Aceptable\", \"Aceptable\", \"Aceptable\", \"Aceptable\", \"Aceptable\", \"Aceptable\", \"Aceptable\", \"Aceptable\", \"Aceptable\", \"Aceptable\", \"Aceptable\", \"Aceptable\", \"Aceptable\", \"Aceptable\", \"Aceptable\", \"Aceptable\", \"Aceptable\", \"Aceptable\", \"Aceptable\", \"Aceptable\", \"Aceptable\", \"Aceptable\", \"Aceptable\", \"Aceptable\", \"Aceptable\", \"Aceptable\", \"Aceptable\", \"Aceptable\", \"Aceptable\", \"Aceptable\", \"Aceptable\", \"Aceptable\", \"Aceptable\", \"Aceptable\", \"Aceptable\", \"Aceptable\", \"Aceptable\", \"Aceptable\", \"Aceptable\", \"Aceptable\", \"Aceptable\", \"Aceptable\", \"Aceptable\", \"Aceptable\", \"Aceptable\", \"Aceptable\", \"Aceptable\", \"Aceptable\", \"Aceptable\", \"Aceptable\", \"Aceptable\", \"Aceptable\", \"Aceptable\", \"Aceptable\", \"Aceptable\", \"Aceptable\", \"Aceptable\", \"Aceptable\", \"Aceptable\", \"Aceptable\", \"Aceptable\", \"Aceptable\", \"Aceptable\", \"Aceptable\", \"Aceptable\", \"Aceptable\", \"Aceptable\", \"Aceptable\", \"Aceptable\", \"Aceptable\", \"Aceptable\", \"Aceptable\", \"Aceptable\", \"Aceptable\", \"Aceptable\", \"Aceptable\", \"Aceptable\", \"Aceptable\", \"Aceptable\", \"Aceptable\", \"Aceptable\", \"Aceptable\", \"Aceptable\", \"Aceptable\", \"Aceptable\", \"Aceptable\", \"Aceptable\", \"Aceptable\", \"Aceptable\", \"Aceptable\", \"Aceptable\", \"Aceptable\", \"Aceptable\", \"Aceptable\", \"Aceptable\", \"Aceptable\", \"Aceptable\", \"Aceptable\", \"Aceptable\", \"Aceptable\", \"Aceptable\", \"Aceptable\", \"Aceptable\", \"Aceptable\", \"Aceptable\", \"Aceptable\", \"Aceptable\", \"Aceptable\", \"Aceptable\", \"Aceptable\", \"Aceptable\", \"Aceptable\", \"Aceptable\", \"Aceptable\", \"Aceptable\", \"Aceptable\", \"Aceptable\", \"Aceptable\", \"Aceptable\", \"Aceptable\", \"Aceptable\", \"Aceptable\", \"Aceptable\", \"Aceptable\", \"Aceptable\", \"Aceptable\", \"Aceptable\", \"Aceptable\", \"Aceptable\", \"Aceptable\", \"Aceptable\", \"Aceptable\", \"Aceptable\", \"Aceptable\", \"Aceptable\", \"Aceptable\", \"Aceptable\", \"Aceptable\", \"Aceptable\", \"Aceptable\", \"Aceptable\", \"Aceptable\", \"Aceptable\", \"Aceptable\", \"Aceptable\", \"Aceptable\", \"Aceptable\", \"Aceptable\", \"Aceptable\", \"Aceptable\", \"Aceptable\", \"Aceptable\", \"Aceptable\", \"Aceptable\", \"Aceptable\", \"Aceptable\", \"Aceptable\", \"Aceptable\", \"Aceptable\", \"Aceptable\", \"Aceptable\", \"Aceptable\", \"Aceptable\", \"Aceptable\", \"Aceptable\", \"Aceptable\", \"Aceptable\", \"Aceptable\", \"Aceptable\", \"Aceptable\", \"Aceptable\", \"Aceptable\", \"Aceptable\", \"Aceptable\", \"Aceptable\", \"Aceptable\", \"Aceptable\", \"Aceptable\", \"Aceptable\", \"Aceptable\", \"Aceptable\", \"Aceptable\", \"Aceptable\", \"Aceptable\", \"Aceptable\", \"Aceptable\", \"Aceptable\", \"Aceptable\", \"Aceptable\", \"Aceptable\", \"Aceptable\", \"Aceptable\", \"Aceptable\", \"Aceptable\", \"Aceptable\", \"Aceptable\", \"Aceptable\", \"Aceptable\", \"Aceptable\", \"Aceptable\", \"Aceptable\", \"Aceptable\", \"Aceptable\", \"Aceptable\", \"Aceptable\", \"Aceptable\", \"Aceptable\", \"Aceptable\", \"Aceptable\", \"Aceptable\", \"Aceptable\", \"Aceptable\", \"Aceptable\", \"Aceptable\", \"Aceptable\", \"Aceptable\", \"Aceptable\", \"Aceptable\", \"Aceptable\", \"Aceptable\", \"Aceptable\", \"Aceptable\", \"Aceptable\", \"Aceptable\", \"Aceptable\", \"Aceptable\", \"Aceptable\", \"Aceptable\", \"Aceptable\", \"Aceptable\", \"Aceptable\", \"Aceptable\", \"Aceptable\", \"Aceptable\", \"Aceptable\", \"Aceptable\", \"Aceptable\", \"Aceptable\", \"Aceptable\", \"Aceptable\", \"Aceptable\", \"Aceptable\", \"Aceptable\", \"Aceptable\", \"Aceptable\", \"Aceptable\", \"Aceptable\", \"Aceptable\", \"Aceptable\", \"Aceptable\", \"Aceptable\", \"Aceptable\", \"Aceptable\", \"Aceptable\", \"Aceptable\", \"Aceptable\", \"Aceptable\", \"Aceptable\", \"Aceptable\", \"Aceptable\", \"Aceptable\", \"Aceptable\", \"Regular\", \"Aceptable\", \"Aceptable\", \"Aceptable\", \"Aceptable\", \"Aceptable\", \"Aceptable\", \"Aceptable\", \"Aceptable\", \"Aceptable\", \"Aceptable\", \"Aceptable\", \"Aceptable\", \"Aceptable\", \"Aceptable\", \"Aceptable\", \"Aceptable\", \"Aceptable\", \"Aceptable\", \"Aceptable\", \"Aceptable\", \"Aceptable\", \"Aceptable\", \"Aceptable\", \"Aceptable\", \"Aceptable\", \"Aceptable\", \"Aceptable\", \"Aceptable\", \"Aceptable\", \"Aceptable\", \"Aceptable\", \"Aceptable\", \"Aceptable\", \"Aceptable\", \"Aceptable\", \"Aceptable\", \"Aceptable\", \"Aceptable\", \"Aceptable\", \"Aceptable\", \"Aceptable\", \"Aceptable\", \"Aceptable\", \"Aceptable\", \"Aceptable\", \"Aceptable\", \"Aceptable\", \"Aceptable\", \"Aceptable\", \"Aceptable\", \"Aceptable\", \"Aceptable\", \"Aceptable\", \"Aceptable\", \"Aceptable\", \"Aceptable\", \"Aceptable\", \"Aceptable\", \"Aceptable\", \"Aceptable\", \"Aceptable\", \"Aceptable\", \"Aceptable\", \"Aceptable\", \"Aceptable\", \"Aceptable\", \"Aceptable\", \"Aceptable\", \"Aceptable\", \"Regular\", \"Aceptable\", \"Aceptable\", \"Aceptable\", \"Aceptable\", \"Aceptable\", \"Aceptable\", \"Aceptable\", \"Aceptable\", \"Excelente\", \"Aceptable\", \"Aceptable\", \"Aceptable\", \"Aceptable\", \"Aceptable\", \"Aceptable\", \"Aceptable\", \"Aceptable\", \"Aceptable\", \"Aceptable\", \"Aceptable\", \"Aceptable\", \"Aceptable\", \"Aceptable\", \"Aceptable\", \"Aceptable\", \"Aceptable\", \"Aceptable\", \"Aceptable\", \"Aceptable\", \"Aceptable\", \"Aceptable\", \"Aceptable\", \"Aceptable\", \"Aceptable\", \"Aceptable\", \"Aceptable\", \"Aceptable\", \"Aceptable\", \"Aceptable\", \"Aceptable\", \"Aceptable\", \"Aceptable\", \"Aceptable\", \"Aceptable\", \"Aceptable\", \"Aceptable\", \"Aceptable\", \"Aceptable\", \"Aceptable\", \"Aceptable\", \"Aceptable\", \"Aceptable\", \"Aceptable\", \"Aceptable\", \"Aceptable\", \"Aceptable\", \"Aceptable\", \"Aceptable\", \"Aceptable\", \"Aceptable\", \"Aceptable\", \"Aceptable\", \"Aceptable\", \"Aceptable\", \"Aceptable\", \"Aceptable\", \"Aceptable\", \"Aceptable\", \"Aceptable\", \"Aceptable\", \"Aceptable\", \"Aceptable\", \"Aceptable\", \"Aceptable\", \"Aceptable\", \"Aceptable\", \"Aceptable\", \"Aceptable\", \"Aceptable\", \"Aceptable\", \"Aceptable\", \"Aceptable\", \"Aceptable\", \"Aceptable\", \"Aceptable\", \"Aceptable\", \"Aceptable\", \"Aceptable\", \"Aceptable\", \"Aceptable\", \"Aceptable\", \"Aceptable\", \"Aceptable\", \"Aceptable\", \"Aceptable\", \"Aceptable\", \"Aceptable\", \"Aceptable\", \"Aceptable\", \"Aceptable\", \"Aceptable\", \"Aceptable\", \"Aceptable\", \"Aceptable\", \"Aceptable\", \"Aceptable\", \"Aceptable\", \"Excelente\", \"Aceptable\", \"Aceptable\", \"Aceptable\", \"Aceptable\", \"Aceptable\", \"Aceptable\", \"Aceptable\", \"Aceptable\", \"Aceptable\", \"Aceptable\", \"Aceptable\", \"Aceptable\", \"Aceptable\", \"Aceptable\", \"Aceptable\", \"Aceptable\", \"Aceptable\", \"Aceptable\", \"Aceptable\", \"Aceptable\", \"Aceptable\", \"Aceptable\", \"Aceptable\", \"Aceptable\", \"Aceptable\", \"Aceptable\", \"Aceptable\", \"Aceptable\", \"Aceptable\", \"Aceptable\", \"Aceptable\", \"Aceptable\", \"Aceptable\", \"Aceptable\", \"Aceptable\", \"Aceptable\", \"Aceptable\", \"Aceptable\", \"Aceptable\", \"Aceptable\", \"Aceptable\", \"Aceptable\", \"Aceptable\", \"Aceptable\", \"Aceptable\", \"Aceptable\", \"Aceptable\", \"Aceptable\", \"Aceptable\", \"Aceptable\", \"Aceptable\", \"Aceptable\", \"Aceptable\", \"Aceptable\", \"Aceptable\", \"Aceptable\", \"Excelente\", \"Aceptable\", \"Aceptable\", \"Aceptable\", \"Aceptable\", \"Aceptable\", \"Aceptable\", \"Aceptable\", \"Aceptable\", \"Aceptable\", \"Aceptable\", \"Aceptable\", \"Regular\", \"Aceptable\"], \"y\": [39.8584, 34.9244, 32.9492, 38.28, 38.6076, 22.626, 28.441599999999998, 24.5428, 25.1768, 37.8632, 36.6912, 30.4696, 39.3732, 34.0456, 36.3488, 41.251599999999996, 37.599599999999995, 33.4628, 29.0756, 27.852400000000003, 32.456, 31.2796, 32.0276, 32.6068, 19.186, 35.428, 34.9868, 40.3044, 32.2996, 29.712, 24.2944, 24.7, 35.8936, 27.764, 26.9732, 31.4668, 36.4768, 33.624399999999994, 29.772399999999998, 31.8308, 32.146, 37.1588, 39.0068, 32.3588, 31.5944, 28.1144, 34.7044, 35.766799999999996, 36.9072, 38.9388, 11.0, 38.9044, 30.672799999999995, 32.756, 34.4764, 36.9632, 33.894400000000005, 34.4524, 39.9904, 34.7208, 39.5924, 13.0, 31.3444, 36.6184, 26.056400000000004, 33.1316, 34.7144, 37.162400000000005, 38.7592, 33.2144, 33.824, 22.8512, 35.9616, 37.0696, 37.065599999999996, 28.5, 37.2692, 19.7732, 38.8288, 34.052800000000005, 39.403999999999996, 33.9452, 19.2908, 31.6392, 21.2668, 22.811999999999998, 18.3172, 26.77, 34.6248, 26.352800000000002, 34.099599999999995, 36.0792, 29.1556, 35.5144, 30.414, 36.4032, 33.7384, 32.2248, 33.7624, 30.8172, 36.29, 21.4304, 33.1932, 35.282, 25.5432, 30.5512, 25.5628, 13.4664, 37.028800000000004, 38.111999999999995, 37.856, 25.3296, 35.142399999999995, 35.4, 33.138400000000004, 34.8048, 37.89, 27.3464, 30.8236, 35.2248, 39.2708, 37.47, 31.4588, 32.010400000000004, 28.8008, 35.6736, 26.9908, 39.512, 35.214, 28.746399999999998, 32.5484, 31.503999999999998, 36.4908, 25.824399999999997, 28.0872, 37.322, 24.7832, 31.3704, 31.6812, 16.345599999999997, 37.3204, 37.5276, 37.3044, 22.6132, 28.144799999999996, 28.8388, 33.117599999999996, 23.64, 24.4264, 37.7964, 23.747199999999996, 35.0204, 26.8052, 29.938799999999997, 27.6592, 34.8508, 30.607599999999998, 31.796, 36.0728, 36.0976, 37.147999999999996, 31.584799999999998, 35.856, 32.703199999999995, 34.5308, 38.1492, 37.7352, 26.4596, 26.8352, 38.6252, 28.259999999999998, 36.430800000000005, 39.8524, 38.6188, 36.19, 33.46, 34.8972, 38.1708, 32.998, 20.5116, 34.7696, 30.3, 32.8324, 35.2868, 40.7768, 23.4288, 18.073999999999998, 16.8692, 34.290400000000005, 24.8204, 25.1664, 18.5804, 33.1464, 25.4804, 19.2584, 29.008799999999997, 27.8532, 33.7388, 36.028800000000004, 30.048000000000002, 33.790400000000005, 34.2552, 36.239599999999996, 26.7564, 33.2656, 34.672799999999995, 22.214, 28.2312, 33.3432, 28.397199999999998, 9.5, 30.676, 36.9464, 31.263599999999997, 36.0376, 34.6592, 18.968799999999998, 27.9904, 31.4732, 24.691200000000002, 36.2184, 38.1736, 40.4248, 32.4976, 29.095999999999997, 29.756400000000003, 33.2352, 32.1576, 28.282400000000003, 34.042, 25.9916, 38.76, 32.306400000000004, 32.013999999999996, 30.7096, 37.2288, 27.035999999999998, 34.0732, 38.873599999999996, 38.7928, 17.0, 24.522, 36.4084, 28.131999999999998, 33.2616, 31.6796, 39.586, 37.4304, 34.9456, 38.373599999999996, 30.9444, 31.4912, 28.6824, 37.9868, 30.491999999999997, 33.8732, 37.1736, 22.3992, 34.4252, 29.4, 39.7868, 32.3452, 31.865599999999997, 32.2416, 25.761599999999998, 38.955600000000004, 25.5972, 34.7104, 37.42, 32.4904, 34.6208, 27.086799999999997, 32.6524, 33.5892, 39.16, 33.2552, 37.1008, 35.5216, 29.331200000000003, 28.4408, 34.7172, 28.86, 33.8528, 28.456799999999998, 34.1312, 34.3012, 27.580399999999997, 29.955599999999997, 37.97, 36.1012, 29.363599999999998, 17.7, 33.5804, 23.172799999999995, 18.0276, 33.6356, 39.6212, 39.455600000000004, 6.4, 24.9228, 31.1248, 36.2268, 26.8, 38.1528, 34.842, 37.4632, 36.147999999999996, 33.3976, 22.1544, 40.824799999999996, 33.8044, 25.918, 35.642399999999995, 29.825599999999998, 37.6356, 26.0612, 34.806400000000004, 36.7316, 35.065599999999996, 34.376799999999996, 20.6, 37.6768, 36.5216, 41.5516, 18.9732, 37.622, 30.7864, 40.9248, 33.038799999999995, 38.05, 37.3804, 37.587199999999996, 37.3428, 39.480000000000004, 35.8412, 32.1768, 27.3172, 34.5072, 29.9, 29.389200000000002, 34.2416, 35.437200000000004, 39.618, 37.1112, 34.352000000000004, 39.2148, 38.1756, 32.648399999999995, 6.8, 35.9472, 28.608, 36.5524, 19.258, 34.674, 26.9876, 18.5344, 14.6472, 32.9104, 36.6704, 36.334, 34.6772, 39.6756, 35.3596, 39.6976, 27.334, 36.6804, 32.6348, 35.0908, 36.126000000000005, 33.2108, 31.575599999999998, 26.6292, 28.6332, 26.27, 33.684, 37.2144, 28.1064, 33.063199999999995, 18.6068, 39.0836, 31.401200000000003, 30.8512, 20.1856, 19.186, 38.1928, 34.1752, 40.2412, 39.33, 30.387999999999998, 34.209199999999996, 23.1252, 36.4004, 30.412800000000004, 34.752, 30.291200000000003, 36.1452, 38.0596, 34.118, 35.885999999999996, 25.4664, 38.0704, 33.41, 31.4384, 25.67, 36.2352, 23.9724, 30.99, 36.874, 32.9156, 29.6184, 35.8216, 29.2704, 35.5736, 37.566, 35.3084, 37.5316, 15.9, 36.3936, 40.0284, 31.9692, 33.3588, 34.790400000000005, 33.980000000000004, 35.007999999999996, 34.8508, 12.4, 32.1864, 17.9732, 28.2044, 32.876400000000004, 37.5096, 34.7588, 34.2132, 35.7332, 39.6912, 34.6104, 32.3416, 26.8568, 35.376799999999996, 34.989999999999995, 30.3004, 38.7084, 36.855599999999995, 30.0912, 31.7584, 31.6184, 38.7248, 18.470399999999998, 26.1204, 39.6388, 39.886799999999994, 38.7116, 27.294, 39.8456, 20.3112, 32.3452, 26.4936, 34.736000000000004, 37.8208, 31.4912, 34.851600000000005, 17.8524, 33.9904, 38.4216, 37.1736, 25.939600000000002, 36.422, 31.9756, 34.087199999999996, 30.196799999999996, 30.746399999999998, 19.6, 22.0964, 35.6524, 35.459599999999995, 36.9636, 38.1172, 27.5, 38.118, 32.5392, 14.1, 33.4172, 0.0, 31.945999999999998, 37.334, 38.6488, 30.983999999999998, 38.2832, 36.3528, 25.9584, 32.6428, 34.9696, 27.6704, 37.2384, 26.101599999999998, 31.3036, 27.235599999999998, 32.2932, 37.876400000000004, 33.721599999999995, 30.9664, 38.408, 28.7, 29.1008, 30.4444, 27.1556, 32.7568, 17.8104, 34.832, 38.051199999999994, 28.8356, 21.502799999999997, 33.483599999999996, 36.3212, 36.372, 27.5832, 29.747199999999996, 29.7424, 36.6356, 28.8384, 30.0464, 35.9996, 29.1436, 28.5672, 37.9872, 29.1312, 32.324799999999996, 27.352800000000002, 39.3896, 27.208, 35.8648, 37.5312, 31.0188, 34.314, 13.2, 38.44799999999999, 25.29, 37.3096, 28.5, 33.9152, 18.0276, 36.8052, 39.8904, 39.8664, 31.117599999999996, 36.538399999999996, 32.7772, 38.1668, 33.41, 36.906, 28.8, 36.2384, 34.0484, 28.4756, 33.0968, 33.5896, 36.7776, 39.8288, 27.497999999999998, 34.331599999999995, 36.384, 25.994799999999998, 29.56, 30.5164, 26.026799999999998, 27.0756, 41.3388, 37.0524, 30.641199999999998, 30.195999999999998, 35.818, 36.5964, 33.132000000000005, 30.680799999999998, 33.593199999999996, 27.184399999999997, 27.0912, 29.4, 22.5, 31.9604, 28.214799999999997, 31.16, 38.8092, 35.4604, 34.528800000000004, 17.0304, 30.914, 16.5004, 30.5036, 26.818400000000004, 29.884, 37.2356, 33.3732, 33.5408, 32.135999999999996, 33.8656, 25.2564, 35.2144, 40.0976, 23.8808, 36.3748, 40.2588, 26.296799999999998, 32.4464, 39.8216, 29.650799999999997, 29.3944, 39.8924, 34.3264, 19.3868, 15.4212, 33.4216, 36.0972, 36.5392, 39.3044, 35.3072, 20.3492, 40.7528, 32.5788, 30.596799999999998, 27.376799999999996, 35.9392, 31.88, 39.67, 33.0548, 32.9768, 29.7, 32.562, 39.3216, 24.3048, 26.9324, 33.3604, 39.800799999999995, 32.5004, 27.968400000000003, 33.3828, 38.3448, 29.4528, 34.075199999999995, 35.07, 31.275999999999996, 39.6904, 32.1668, 31.419999999999998, 29.602, 36.4688, 27.211599999999997, 35.5928, 32.952799999999996, 30.9324, 34.9564, 39.745599999999996, 35.224, 34.6008, 35.662400000000005, 34.46, 35.3904, 34.018, 27.1432, 29.620799999999996, 34.6828, 36.358000000000004, 32.6908, 30.269599999999997, 36.2836, 30.123199999999997, 29.747199999999996, 37.0484, 36.047599999999996, 26.1, 32.8296, 36.434799999999996, 29.322000000000003, 29.6864, 37.904799999999994, 39.4116, 21.1632, 25.866799999999998, 30.5832, 29.662799999999997, 38.5356, 33.976, 36.955600000000004, 22.67, 31.7716, 35.604, 36.26, 30.7596, 21.3068, 32.3848, 22.449199999999998, 28.1064, 32.1356, 25.04, 39.1412, 33.7352, 32.685199999999995, 32.388, 32.4248, 33.8992, 25.148, 34.7856, 37.628, 33.8284, 21.9596, 34.6548, 32.526799999999994, 33.4152, 30.2872, 15.1, 35.9488, 30.9, 37.152, 34.3524, 26.287599999999998, 24.462, 33.536, 31.5668, 33.314, 30.966, 17.8128, 31.0072, 33.9136, 31.5668, 36.5048, 30.394, 38.2636, 26.668799999999997, 38.4324, 40.0144, 24.9272, 39.952799999999996, 28.6664, 29.7, 32.47, 33.552800000000005, 31.3308, 24.036800000000003, 32.983599999999996, 17.8104, 30.382400000000004, 38.4392, 35.748400000000004, 27.7536, 28.5704, 39.0048, 32.0252, 38.8964, 35.0312, 35.4268, 35.080799999999996, 28.5524, 30.246000000000002, 24.253999999999998, 17.3, 24.3492, 33.896, 32.5132, 38.955600000000004, 29.9452, 38.038799999999995, 29.232799999999997, 33.124399999999994, 30.676, 37.099599999999995, 35.9868, 35.9352, 24.1696, 30.813599999999997, 34.1092, 34.7448, 33.764399999999995, 31.1756, 33.386799999999994, 31.552, 32.0012, 38.2004, 26.8748, 29.7928, 33.186400000000006, 28.7, 36.3632, 31.5244, 27.876799999999996, 35.074, 20.4168, 29.9668, 31.608, 37.3752, 32.6428, 37.2136, 31.406, 38.1596, 33.2596, 37.489599999999996, 37.58, 32.3728, 24.821599999999997, 39.0792, 32.476, 25.3056, 35.68, 30.531200000000002, 32.800799999999995, 38.7, 26.0908, 42.2244, 31.574399999999997, 35.6908, 26.5, 32.434400000000004, 32.4392, 31.232799999999997, 36.544799999999995, 30.806, 37.3144, 26.4496, 40.5904, 29.020799999999998, 19.113599999999998, 13.2492, 40.194, 27.435599999999997, 14.5524, 14.656, 32.362, 31.5, 30.009999999999998, 36.794, 37.3416, 14.3352, 27.745199999999997, 25.0944, 28.7808, 22.1492, 30.772799999999997, 39.1388, 36.566, 22.884, 27.115199999999998, 39.5828, 22.082, 27.2944, 18.1184, 33.766, 26.3288, 37.67, 28.108399999999996, 35.774, 30.2352, 26.509999999999998, 26.2072, 24.6212, 32.004, 35.8912, 20.996, 39.27, 31.342, 30.0824, 40.4488, 39.6796, 32.6892, 34.332, 39.5972, 30.729200000000002, 27.744799999999998, 29.2136, 35.053200000000004, 27.791200000000003, 29.9444, 35.2584, 28.959200000000003, 33.844, 34.9444, 30.696799999999996, 25.4424, 33.040400000000005, 25.399599999999996, 30.6924, 36.687200000000004, 39.2764, 24.372799999999998, 23.4, 29.7248, 38.782799999999995, 22.637999999999998, 26.7972, 37.794, 32.838, 28.4892, 39.483999999999995, 27.5872, 33.8388, 29.6216, 32.5496, 38.7804, 35.0248, 30.4936, 40.0524, 36.1944, 37.211200000000005, 18.566, 23.3356, 33.983999999999995, 32.5456, 31.772799999999997, 40.9908, 33.965599999999995, 34.132000000000005, 32.57, 35.4732, 28.8112, 31.1064, 30.273599999999995, 26.0044, 23.0892, 35.5828, 28.466, 28.9912, 34.288799999999995, 34.9636, 31.531599999999997, 35.4964, 31.3532, 34.028800000000004, 26.874399999999998, 26.8, 34.8904, 39.5276, 28.432000000000002, 26.4496, 30.116799999999998, 26.659599999999998, 17.9, 38.3364, 38.9388, 37.4764, 34.395199999999996, 37.7076, 27.611600000000003, 29.5768, 37.4976, 31.5004, 21.1892, 28.9972, 33.162, 34.5124, 19.4664, 38.932, 13.0, 38.9284, 28.726, 34.831599999999995, 35.894400000000005, 27.714799999999997, 35.798, 26.5, 33.7792, 35.258, 32.3036, 39.2964, 20.3444, 29.5916, 31.593600000000002, 38.6736, 38.0312, 30.7516, 28.5644, 21.532, 37.8892, 27.240000000000002, 35.4704, 32.538399999999996, 29.891199999999998, 32.065200000000004, 30.5608, 32.307599999999994, 34.8804, 22.939999999999998, 25.152, 30.5076, 38.044799999999995, 38.9492, 36.3132, 27.0708, 32.626799999999996, 21.369999999999997, 35.332, 34.384, 17.000799999999998, 31.0084, 21.6, 37.7832, 33.6636, 36.234, 29.9016, 31.7656, 28.3208, 39.7756, 17.0864, 39.800399999999996, 19.2, 34.3588, 38.0768, 35.2692, 35.8596, 31.0392, 34.2284, 27.5, 39.6136, 19.3, 18.3552, 37.6868, 30.095599999999997, 31.3664, 37.3872, 35.376799999999996, 35.128, 29.1, 25.6892, 31.6004, 35.666399999999996, 38.2908, 31.873599999999996, 30.8152, 27.7828, 38.3756, 38.8844, 38.8464, 34.77119999999999, 33.4256, 33.5876, 34.729200000000006, 35.178399999999996, 27.5048, 39.36879999999999, 34.0072, 34.0836, 9.222399999999999, 31.2076, 36.1324, 38.3352, 38.29, 30.2576, 29.3652, 19.4284, 22.892799999999998, 37.1328, 37.4632, 23.5396, 39.3524, 27.2016, 39.7568, 37.294, 30.428400000000003, 37.010000000000005, 38.1044, 30.2716, 11.5, 32.2044, 35.3624, 27.2032, 28.0256, 34.4284, 39.668400000000005, 6.4, 30.023999999999997, 32.572, 31.1824, 28.548000000000002, 36.9456, 33.1036, 36.014799999999994, 36.3692, 31.1352, 30.828, 35.726, 32.6476, 37.41759999999999, 35.435599999999994, 18.293599999999998, 30.736, 37.916799999999995, 30.9576, 32.1864, 30.462400000000002, 39.8656, 28.5948, 39.641999999999996, 16.146, 27.348399999999998, 26.6488, 20.78, 25.461599999999997, 32.4072, 37.1824, 24.8052, 35.382400000000004, 22.053600000000003, 24.418400000000002, 23.8544, 37.258, 39.0152, 33.3804, 36.879999999999995, 24.6576, 37.5012, 31.089599999999997, 29.973999999999997, 41.5768, 39.6496, 29.936, 26.407200000000003, 29.6696, 35.824799999999996, 37.048, 32.1868, 19.4076, 36.674, 31.575599999999998, 36.318799999999996, 35.372, 18.6068, 28.0188, 32.2008, 32.2548, 25.6612, 24.313200000000002, 38.0436, 38.5768, 31.195999999999998, 31.349200000000003, 31.652, 32.584, 26.632399999999997, 27.363599999999998, 33.67, 29.304, 27.2668, 38.2008, 34.854, 34.718, 34.4868, 36.8132, 33.8456, 36.4876, 28.8596, 38.058400000000006, 28.712, 35.9004, 37.504, 36.5324, 34.0668, 25.5, 39.5492, 39.666, 35.1896, 26.918, 36.431200000000004, 11.9, 27.711199999999998, 32.6704, 31.0152, 26.129599999999996, 20.518, 25.6876, 37.3032, 36.111999999999995, 38.935599999999994, 24.2568, 34.983599999999996, 34.327600000000004, 18.823999999999998, 32.5048, 23.499599999999997, 33.544399999999996, 15.614799999999999, 37.5624, 34.325599999999994, 36.007999999999996, 20.6792, 26.256, 40.273599999999995, 20.598, 37.6216, 32.1972, 29.735599999999998, 25.6888, 32.770399999999995, 38.52719999999999, 39.6464, 31.281599999999997, 31.663600000000002, 37.873599999999996, 31.276400000000002, 29.8292, 38.754, 34.9308, 34.7288, 35.3988, 30.6828, 33.3972, 24.945999999999998, 36.7136, 37.1312, 35.2076, 36.032, 30.3876, 38.5036, 32.9736, 31.6256, 29.6464, 28.9084, 24.6024, 1.0, 27.8676, 31.6564, 28.3492, 31.1032, 31.190800000000003, 35.236000000000004, 28.4, 38.435599999999994, 23.2048, 31.3164, 30.022399999999998, 28.293599999999998, 28.3016, 31.2188, 35.1764, 32.538, 26.6684, 33.693599999999996, 28.0048, 34.1092, 27.5908, 35.77, 39.0548, 30.8444, 24.9608, 32.5796, 31.534799999999997, 34.362, 25.4, 32.47279999999999, 37.504, 30.5292, 35.5108, 26.794800000000002, 31.4932, 31.848, 16.3, 32.594, 38.687200000000004, 28.9284, 32.471599999999995, 28.131999999999998, 34.980000000000004, 30.1392, 19.3012, 28.3324, 33.768, 33.8172, 29.095199999999995, 35.7076, 33.9904, 19.8692, 31.9, 28.453200000000002, 28.543599999999998, 37.9332, 39.5112, 39.4484, 38.8324, 26.932000000000002, 31.648, 15.493599999999999, 19.6112, 28.7352, 28.1492, 19.877200000000002, 26.6836, 31.0276, 34.7008, 16.3624, 34.2452, 27.589199999999998, 37.58, 38.0312], \"z\": [416, 377, 397, 404, 401, 381, 383, 398, 423, 386, 403, 420, 411, 390, 401, 409, 405, 414, 438, 398, 420, 375, 383, 405, 405, 417, 382, 413, 433, 415, 367, 399, 401, 381, 414, 432, 427, 381, 414, 410, 396, 428, 407, 439, 389, 417, 404, 369, 397, 412, 411, 393, 383, 396, 404, 380, 404, 374, 400, 414, 405, 417, 421, 400, 394, 402, 381, 404, 403, 382, 424, 385, 374, 399, 373, 401, 408, 382, 393, 377, 396, 413, 411, 418, 398, 402, 444, 382, 397, 402, 419, 383, 417, 401, 434, 426, 399, 394, 424, 418, 382, 400, 384, 399, 409, 393, 390, 377, 395, 400, 394, 370, 435, 401, 398, 395, 406, 399, 419, 413, 396, 388, 412, 378, 419, 411, 380, 393, 408, 403, 378, 427, 413, 405, 417, 400, 401, 397, 400, 409, 377, 409, 400, 388, 401, 397, 435, 365, 386, 398, 414, 394, 376, 380, 390, 431, 389, 426, 410, 395, 405, 381, 414, 392, 401, 381, 378, 391, 399, 397, 393, 408, 405, 401, 383, 389, 388, 379, 400, 375, 398, 400, 416, 400, 412, 395, 405, 393, 421, 403, 418, 422, 389, 364, 400, 384, 412, 397, 385, 394, 388, 413, 382, 402, 414, 405, 381, 429, 393, 428, 429, 399, 395, 389, 406, 379, 402, 395, 384, 392, 397, 391, 404, 424, 399, 397, 392, 440, 404, 419, 373, 387, 404, 429, 419, 388, 367, 415, 402, 400, 401, 376, 373, 425, 433, 428, 396, 413, 405, 388, 438, 382, 439, 387, 419, 405, 391, 429, 414, 408, 421, 411, 435, 435, 395, 414, 402, 416, 387, 403, 418, 381, 417, 410, 419, 394, 368, 410, 378, 458, 428, 374, 440, 417, 409, 406, 369, 397, 408, 394, 377, 404, 407, 363, 440, 381, 399, 398, 409, 385, 402, 438, 395, 403, 401, 388, 383, 402, 432, 412, 424, 396, 402, 405, 391, 422, 383, 397, 416, 379, 398, 403, 403, 413, 390, 382, 413, 406, 399, 379, 411, 414, 387, 403, 398, 403, 411, 404, 391, 383, 397, 421, 398, 381, 387, 403, 391, 387, 408, 410, 373, 403, 386, 411, 403, 395, 406, 429, 391, 383, 387, 406, 405, 419, 394, 372, 395, 407, 380, 381, 396, 407, 380, 385, 381, 403, 405, 411, 389, 395, 387, 424, 401, 400, 408, 413, 402, 434, 392, 424, 421, 393, 453, 381, 415, 365, 384, 390, 415, 419, 394, 383, 376, 410, 379, 397, 378, 394, 397, 402, 398, 388, 405, 391, 390, 388, 400, 419, 412, 431, 416, 373, 424, 400, 388, 401, 387, 391, 415, 434, 380, 435, 402, 428, 401, 400, 426, 393, 397, 426, 400, 401, 399, 407, 412, 398, 387, 414, 387, 411, 404, 415, 409, 401, 421, 380, 409, 405, 428, 417, 363, 414, 420, 390, 393, 382, 373, 395, 401, 397, 388, 390, 402, 388, 387, 391, 385, 400, 405, 426, 400, 387, 403, 381, 398, 405, 413, 419, 368, 414, 381, 387, 379, 398, 414, 430, 405, 406, 410, 380, 384, 398, 399, 395, 440, 427, 387, 387, 383, 395, 378, 390, 399, 406, 399, 394, 432, 424, 402, 404, 382, 394, 394, 397, 398, 422, 435, 429, 409, 375, 397, 406, 364, 374, 397, 405, 409, 421, 400, 416, 427, 382, 411, 400, 403, 390, 406, 388, 431, 413, 398, 378, 402, 386, 385, 418, 403, 400, 379, 405, 375, 378, 411, 367, 432, 415, 413, 398, 409, 390, 396, 418, 401, 372, 382, 392, 400, 409, 383, 401, 423, 382, 397, 384, 383, 388, 405, 397, 393, 411, 381, 424, 405, 376, 413, 387, 381, 402, 403, 412, 431, 401, 400, 410, 412, 439, 384, 404, 419, 421, 473, 403, 401, 393, 397, 379, 373, 408, 400, 438, 402, 379, 426, 400, 409, 430, 398, 434, 401, 394, 377, 393, 413, 435, 404, 405, 434, 430, 397, 403, 375, 400, 426, 404, 386, 428, 426, 421, 441, 380, 405, 412, 424, 387, 416, 403, 390, 387, 424, 380, 427, 394, 397, 412, 402, 424, 441, 416, 392, 394, 398, 408, 387, 434, 408, 396, 406, 405, 417, 394, 401, 380, 400, 422, 402, 403, 375, 380, 398, 400, 434, 400, 401, 384, 397, 380, 441, 389, 388, 431, 401, 425, 400, 447, 401, 433, 434, 398, 398, 364, 417, 381, 422, 381, 381, 413, 391, 411, 435, 377, 365, 426, 419, 393, 388, 391, 402, 388, 402, 406, 433, 401, 422, 398, 386, 382, 375, 410, 409, 398, 405, 389, 378, 383, 384, 396, 415, 395, 373, 406, 397, 394, 385, 394, 390, 376, 369, 441, 402, 411, 409, 392, 417, 434, 412, 411, 419, 385, 426, 418, 373, 399, 391, 373, 396, 403, 390, 448, 428, 419, 366, 383, 401, 430, 399, 397, 402, 400, 423, 369, 430, 412, 395, 438, 406, 400, 382, 412, 397, 383, 446, 405, 379, 409, 389, 403, 425, 403, 395, 394, 390, 370, 401, 444, 436, 382, 373, 411, 400, 402, 407, 418, 395, 400, 408, 411, 403, 424, 402, 401, 433, 400, 411, 406, 404, 415, 399, 389, 408, 390, 423, 405, 404, 385, 386, 398, 398, 391, 384, 369, 411, 372, 399, 368, 402, 412, 422, 422, 405, 407, 421, 414, 397, 397, 390, 402, 423, 390, 403, 426, 443, 413, 374, 397, 423, 410, 435, 399, 381, 403, 405, 398, 395, 415, 394, 424, 405, 402, 427, 436, 403, 425, 379, 380, 441, 399, 395, 378, 404, 384, 406, 376, 407, 416, 383, 420, 408, 382, 372, 414, 408, 407, 397, 399, 382, 419, 396, 438, 406, 407, 393, 401, 406, 393, 412, 393, 392, 416, 394, 409, 391, 419, 396, 376, 384, 407, 374, 404, 405, 414, 391, 404, 381, 451, 383, 446, 393, 395, 399, 370, 386, 399, 404, 434, 421, 391, 387, 447, 370, 384, 395, 397, 400, 381, 388, 399, 374, 450, 392, 389, 387, 386, 397, 394, 424, 405, 369, 383, 388, 432, 406, 401, 391, 393, 408, 430, 416, 412, 406, 382, 416, 394, 396, 396, 392, 428, 433, 376, 405, 395, 400, 375, 429, 399, 417, 402, 393, 420, 400, 405, 406, 430, 402, 413, 423, 393, 395, 384, 385, 422, 377, 376, 388, 378, 395, 384, 411, 403, 413, 438, 400, 401, 374, 405, 383, 403, 403, 365, 390, 400, 375, 399, 396, 443, 455, 409, 417, 399, 386, 418, 398, 380, 400, 399, 392, 372, 397, 429, 381, 405, 415, 420, 366, 401, 399, 399, 421, 426, 443, 395, 404, 410, 400, 413, 376, 432, 386, 390, 411, 381, 392, 402, 432, 426, 427, 379, 399, 367, 409, 395, 384, 367, 432, 456, 373, 397, 403, 416, 381, 363, 421, 394, 389, 400, 377, 423, 390, 405, 364, 415, 400, 386, 410, 434, 375, 380, 409, 421, 380, 396, 406, 437, 395, 414, 398, 422, 420, 420, 406, 419, 437, 400, 416, 446, 401, 386, 363, 403, 398, 395, 391, 402, 382, 391, 412, 390, 412, 400, 390, 386, 407, 398, 385, 409, 408, 402, 367, 409, 417, 379, 363, 402, 424, 411, 395, 401, 393, 404, 388, 409, 434, 436, 379, 398, 411, 409, 436, 399, 386, 393, 405, 425, 403, 388, 380, 409, 381, 416, 401, 398, 409, 387, 381, 389, 378, 405, 403, 383, 401, 402, 439, 429, 374, 378, 398, 405, 403, 411, 399, 378, 397, 412, 392, 420, 404, 412, 382, 414, 396, 417, 425, 398, 388, 398, 453, 388, 398, 398, 389, 370, 399, 410, 399, 402, 434, 396, 391, 412, 383, 395, 403, 400, 384, 391, 385, 407, 376, 377, 387, 383, 436, 393, 400, 400, 379, 424, 423, 380, 379, 375, 391, 416, 415, 442, 405, 405, 401, 398, 407, 427, 392, 410, 400, 395, 371, 396, 457, 440, 411, 422, 413, 395, 434, 367, 401, 403, 419, 390, 392]}],\n",
              "                        {\"height\": 800, \"margin\": {\"b\": 65, \"l\": 65, \"r\": 50, \"t\": 90}, \"scene\": {\"xaxis\": {\"title\": {\"text\": \"Calidad esperada\"}}, \"yaxis\": {\"title\": {\"text\": \"Costo Calculado\"}}, \"zaxis\": {\"title\": {\"text\": \"Tasa de producci\\u00f3n\"}}}, \"template\": {\"data\": {\"bar\": [{\"error_x\": {\"color\": \"#2a3f5f\"}, \"error_y\": {\"color\": \"#2a3f5f\"}, \"marker\": {\"line\": {\"color\": \"#E5ECF6\", \"width\": 0.5}}, \"type\": \"bar\"}], \"barpolar\": [{\"marker\": {\"line\": {\"color\": \"#E5ECF6\", \"width\": 0.5}}, \"type\": \"barpolar\"}], \"carpet\": [{\"aaxis\": {\"endlinecolor\": \"#2a3f5f\", \"gridcolor\": \"white\", \"linecolor\": \"white\", \"minorgridcolor\": \"white\", \"startlinecolor\": \"#2a3f5f\"}, \"baxis\": {\"endlinecolor\": \"#2a3f5f\", \"gridcolor\": \"white\", \"linecolor\": \"white\", \"minorgridcolor\": \"white\", \"startlinecolor\": \"#2a3f5f\"}, \"type\": \"carpet\"}], \"choropleth\": [{\"colorbar\": {\"outlinewidth\": 0, \"ticks\": \"\"}, \"type\": \"choropleth\"}], \"contour\": [{\"colorbar\": {\"outlinewidth\": 0, \"ticks\": \"\"}, \"colorscale\": [[0.0, \"#0d0887\"], [0.1111111111111111, \"#46039f\"], [0.2222222222222222, \"#7201a8\"], [0.3333333333333333, \"#9c179e\"], [0.4444444444444444, \"#bd3786\"], [0.5555555555555556, \"#d8576b\"], [0.6666666666666666, \"#ed7953\"], [0.7777777777777778, \"#fb9f3a\"], [0.8888888888888888, \"#fdca26\"], [1.0, \"#f0f921\"]], \"type\": \"contour\"}], \"contourcarpet\": [{\"colorbar\": {\"outlinewidth\": 0, \"ticks\": \"\"}, \"type\": \"contourcarpet\"}], \"heatmap\": [{\"colorbar\": {\"outlinewidth\": 0, \"ticks\": \"\"}, \"colorscale\": [[0.0, \"#0d0887\"], [0.1111111111111111, \"#46039f\"], [0.2222222222222222, \"#7201a8\"], [0.3333333333333333, \"#9c179e\"], [0.4444444444444444, \"#bd3786\"], [0.5555555555555556, \"#d8576b\"], [0.6666666666666666, \"#ed7953\"], [0.7777777777777778, \"#fb9f3a\"], [0.8888888888888888, \"#fdca26\"], [1.0, \"#f0f921\"]], \"type\": \"heatmap\"}], \"heatmapgl\": [{\"colorbar\": {\"outlinewidth\": 0, \"ticks\": \"\"}, \"colorscale\": [[0.0, \"#0d0887\"], [0.1111111111111111, \"#46039f\"], [0.2222222222222222, \"#7201a8\"], [0.3333333333333333, \"#9c179e\"], [0.4444444444444444, \"#bd3786\"], [0.5555555555555556, \"#d8576b\"], [0.6666666666666666, \"#ed7953\"], [0.7777777777777778, \"#fb9f3a\"], [0.8888888888888888, \"#fdca26\"], [1.0, \"#f0f921\"]], \"type\": \"heatmapgl\"}], \"histogram\": [{\"marker\": {\"colorbar\": {\"outlinewidth\": 0, \"ticks\": \"\"}}, \"type\": \"histogram\"}], \"histogram2d\": [{\"colorbar\": {\"outlinewidth\": 0, \"ticks\": \"\"}, \"colorscale\": [[0.0, \"#0d0887\"], [0.1111111111111111, \"#46039f\"], [0.2222222222222222, \"#7201a8\"], [0.3333333333333333, \"#9c179e\"], [0.4444444444444444, \"#bd3786\"], [0.5555555555555556, \"#d8576b\"], [0.6666666666666666, \"#ed7953\"], [0.7777777777777778, \"#fb9f3a\"], [0.8888888888888888, \"#fdca26\"], [1.0, \"#f0f921\"]], \"type\": \"histogram2d\"}], \"histogram2dcontour\": [{\"colorbar\": {\"outlinewidth\": 0, \"ticks\": \"\"}, \"colorscale\": [[0.0, \"#0d0887\"], [0.1111111111111111, \"#46039f\"], [0.2222222222222222, \"#7201a8\"], [0.3333333333333333, \"#9c179e\"], [0.4444444444444444, \"#bd3786\"], [0.5555555555555556, \"#d8576b\"], [0.6666666666666666, \"#ed7953\"], [0.7777777777777778, \"#fb9f3a\"], [0.8888888888888888, \"#fdca26\"], [1.0, \"#f0f921\"]], \"type\": \"histogram2dcontour\"}], \"mesh3d\": [{\"colorbar\": {\"outlinewidth\": 0, \"ticks\": \"\"}, \"type\": \"mesh3d\"}], \"parcoords\": [{\"line\": {\"colorbar\": {\"outlinewidth\": 0, \"ticks\": \"\"}}, \"type\": \"parcoords\"}], \"pie\": [{\"automargin\": true, \"type\": \"pie\"}], \"scatter\": [{\"marker\": {\"colorbar\": {\"outlinewidth\": 0, \"ticks\": \"\"}}, \"type\": \"scatter\"}], \"scatter3d\": [{\"line\": {\"colorbar\": {\"outlinewidth\": 0, \"ticks\": \"\"}}, \"marker\": {\"colorbar\": {\"outlinewidth\": 0, \"ticks\": \"\"}}, \"type\": \"scatter3d\"}], \"scattercarpet\": [{\"marker\": {\"colorbar\": {\"outlinewidth\": 0, \"ticks\": \"\"}}, \"type\": \"scattercarpet\"}], \"scattergeo\": [{\"marker\": {\"colorbar\": {\"outlinewidth\": 0, \"ticks\": \"\"}}, \"type\": \"scattergeo\"}], \"scattergl\": [{\"marker\": {\"colorbar\": {\"outlinewidth\": 0, \"ticks\": \"\"}}, \"type\": \"scattergl\"}], \"scattermapbox\": [{\"marker\": {\"colorbar\": {\"outlinewidth\": 0, \"ticks\": \"\"}}, \"type\": \"scattermapbox\"}], \"scatterpolar\": [{\"marker\": {\"colorbar\": {\"outlinewidth\": 0, \"ticks\": \"\"}}, \"type\": \"scatterpolar\"}], \"scatterpolargl\": [{\"marker\": {\"colorbar\": {\"outlinewidth\": 0, \"ticks\": \"\"}}, \"type\": \"scatterpolargl\"}], \"scatterternary\": [{\"marker\": {\"colorbar\": {\"outlinewidth\": 0, \"ticks\": \"\"}}, \"type\": \"scatterternary\"}], \"surface\": [{\"colorbar\": {\"outlinewidth\": 0, \"ticks\": \"\"}, \"colorscale\": [[0.0, \"#0d0887\"], [0.1111111111111111, \"#46039f\"], [0.2222222222222222, \"#7201a8\"], [0.3333333333333333, \"#9c179e\"], [0.4444444444444444, \"#bd3786\"], [0.5555555555555556, \"#d8576b\"], [0.6666666666666666, \"#ed7953\"], [0.7777777777777778, \"#fb9f3a\"], [0.8888888888888888, \"#fdca26\"], [1.0, \"#f0f921\"]], \"type\": \"surface\"}], \"table\": [{\"cells\": {\"fill\": {\"color\": \"#EBF0F8\"}, \"line\": {\"color\": \"white\"}}, \"header\": {\"fill\": {\"color\": \"#C8D4E3\"}, \"line\": {\"color\": \"white\"}}, \"type\": \"table\"}]}, \"layout\": {\"annotationdefaults\": {\"arrowcolor\": \"#2a3f5f\", \"arrowhead\": 0, \"arrowwidth\": 1}, \"coloraxis\": {\"colorbar\": {\"outlinewidth\": 0, \"ticks\": \"\"}}, \"colorscale\": {\"diverging\": [[0, \"#8e0152\"], [0.1, \"#c51b7d\"], [0.2, \"#de77ae\"], [0.3, \"#f1b6da\"], [0.4, \"#fde0ef\"], [0.5, \"#f7f7f7\"], [0.6, \"#e6f5d0\"], [0.7, \"#b8e186\"], [0.8, \"#7fbc41\"], [0.9, \"#4d9221\"], [1, \"#276419\"]], \"sequential\": [[0.0, \"#0d0887\"], [0.1111111111111111, \"#46039f\"], [0.2222222222222222, \"#7201a8\"], [0.3333333333333333, \"#9c179e\"], [0.4444444444444444, \"#bd3786\"], [0.5555555555555556, \"#d8576b\"], [0.6666666666666666, \"#ed7953\"], [0.7777777777777778, \"#fb9f3a\"], [0.8888888888888888, \"#fdca26\"], [1.0, \"#f0f921\"]], \"sequentialminus\": [[0.0, \"#0d0887\"], [0.1111111111111111, \"#46039f\"], [0.2222222222222222, \"#7201a8\"], [0.3333333333333333, \"#9c179e\"], [0.4444444444444444, \"#bd3786\"], [0.5555555555555556, \"#d8576b\"], [0.6666666666666666, \"#ed7953\"], [0.7777777777777778, \"#fb9f3a\"], [0.8888888888888888, \"#fdca26\"], [1.0, \"#f0f921\"]]}, \"colorway\": [\"#636efa\", \"#EF553B\", \"#00cc96\", \"#ab63fa\", \"#FFA15A\", \"#19d3f3\", \"#FF6692\", \"#B6E880\", \"#FF97FF\", \"#FECB52\"], \"font\": {\"color\": \"#2a3f5f\"}, \"geo\": {\"bgcolor\": \"white\", \"lakecolor\": \"white\", \"landcolor\": \"#E5ECF6\", \"showlakes\": true, \"showland\": true, \"subunitcolor\": \"white\"}, \"hoverlabel\": {\"align\": \"left\"}, \"hovermode\": \"closest\", \"mapbox\": {\"style\": \"light\"}, \"paper_bgcolor\": \"white\", \"plot_bgcolor\": \"#E5ECF6\", \"polar\": {\"angularaxis\": {\"gridcolor\": \"white\", \"linecolor\": \"white\", \"ticks\": \"\"}, \"bgcolor\": \"#E5ECF6\", \"radialaxis\": {\"gridcolor\": \"white\", \"linecolor\": \"white\", \"ticks\": \"\"}}, \"scene\": {\"xaxis\": {\"backgroundcolor\": \"#E5ECF6\", \"gridcolor\": \"white\", \"gridwidth\": 2, \"linecolor\": \"white\", \"showbackground\": true, \"ticks\": \"\", \"zerolinecolor\": \"white\"}, \"yaxis\": {\"backgroundcolor\": \"#E5ECF6\", \"gridcolor\": \"white\", \"gridwidth\": 2, \"linecolor\": \"white\", \"showbackground\": true, \"ticks\": \"\", \"zerolinecolor\": \"white\"}, \"zaxis\": {\"backgroundcolor\": \"#E5ECF6\", \"gridcolor\": \"white\", \"gridwidth\": 2, \"linecolor\": \"white\", \"showbackground\": true, \"ticks\": \"\", \"zerolinecolor\": \"white\"}}, \"shapedefaults\": {\"line\": {\"color\": \"#2a3f5f\"}}, \"ternary\": {\"aaxis\": {\"gridcolor\": \"white\", \"linecolor\": \"white\", \"ticks\": \"\"}, \"baxis\": {\"gridcolor\": \"white\", \"linecolor\": \"white\", \"ticks\": \"\"}, \"bgcolor\": \"#E5ECF6\", \"caxis\": {\"gridcolor\": \"white\", \"linecolor\": \"white\", \"ticks\": \"\"}}, \"title\": {\"x\": 0.05}, \"xaxis\": {\"automargin\": true, \"gridcolor\": \"white\", \"linecolor\": \"white\", \"ticks\": \"\", \"title\": {\"standoff\": 15}, \"zerolinecolor\": \"white\", \"zerolinewidth\": 2}, \"yaxis\": {\"automargin\": true, \"gridcolor\": \"white\", \"linecolor\": \"white\", \"ticks\": \"\", \"title\": {\"standoff\": 15}, \"zerolinecolor\": \"white\", \"zerolinewidth\": 2}}}, \"title\": {\"text\": \"Calidad y Costo vs Tasa de Producci\\u00f3n\"}, \"width\": 800},\n",
              "                        {\"responsive\": true}\n",
              "                    ).then(function(){\n",
              "                            \n",
              "var gd = document.getElementById('e577e26f-1c6a-456e-815e-dd4e93741c39');\n",
              "var x = new MutationObserver(function (mutations, observer) {{\n",
              "        var display = window.getComputedStyle(gd).display;\n",
              "        if (!display || display === 'none') {{\n",
              "            console.log([gd, 'removed!']);\n",
              "            Plotly.purge(gd);\n",
              "            observer.disconnect();\n",
              "        }}\n",
              "}});\n",
              "\n",
              "// Listen for the removal of the full notebook cells\n",
              "var notebookContainer = gd.closest('#notebook-container');\n",
              "if (notebookContainer) {{\n",
              "    x.observe(notebookContainer, {childList: true});\n",
              "}}\n",
              "\n",
              "// Listen for the clearing of the current output cell\n",
              "var outputEl = gd.closest('.output');\n",
              "if (outputEl) {{\n",
              "    x.observe(outputEl, {childList: true});\n",
              "}}\n",
              "\n",
              "                        })\n",
              "                };\n",
              "                \n",
              "            </script>\n",
              "        </div>\n",
              "</body>\n",
              "</html>"
            ]
          },
          "metadata": {
            "tags": []
          }
        }
      ]
    },
    {
      "cell_type": "code",
      "metadata": {
        "id": "ElSfobitG7Dn"
      },
      "source": [
        "figT.write_html(\"images/Tasa_Prod.html\")"
      ],
      "execution_count": 53,
      "outputs": []
    },
    {
      "cell_type": "code",
      "metadata": {
        "id": "CGSx2feYExNz",
        "colab": {
          "base_uri": "https://localhost:8080/",
          "height": 817
        },
        "outputId": "78f03ae8-3721-4d25-e489-04eb8f94a20f"
      },
      "source": [
        "import plotly.graph_objects as go\n",
        "import plotly.express as px\n",
        "\n",
        "figT = go.Figure(data=go.Scatter3d(\n",
        "    x=new_X_val['Calidad'],\n",
        "    y=new_X_val['Costo'],\n",
        "    z=new_X_val['Asp'],\n",
        "    mode='markers',\n",
        "    marker=dict(\n",
        "        size=5,\n",
        "        sizemode='diameter',\n",
        "        sizeref=1500,\n",
        "        color = new_X_val['Costo'],\n",
        "        colorscale =[[0,'lime'],[0.5,'red']],\n",
        "        line_color='rgb(140, 140, 170)')))\n",
        "\n",
        "figT.select_xaxes(['Aceptable','Regular','Bueno','Excelente'])\n",
        "\n",
        "figT.update_layout(height=800, width=800,\n",
        "                  title='Calidad y Costo vs Aspiración',\n",
        "                  margin=dict(l=65, r=50, b=65, t=90),\n",
        "                  scene = dict( xaxis = dict(title='Calidad esperada'),\n",
        "                                yaxis = dict(title='Costo Calculado'),\n",
        "                                zaxis = dict(title='Aspiración'),),)"
      ],
      "execution_count": 54,
      "outputs": [
        {
          "output_type": "display_data",
          "data": {
            "text/html": [
              "<html>\n",
              "<head><meta charset=\"utf-8\" /></head>\n",
              "<body>\n",
              "    <div>\n",
              "            <script src=\"https://cdnjs.cloudflare.com/ajax/libs/mathjax/2.7.5/MathJax.js?config=TeX-AMS-MML_SVG\"></script><script type=\"text/javascript\">if (window.MathJax) {MathJax.Hub.Config({SVG: {font: \"STIX-Web\"}});}</script>\n",
              "                <script type=\"text/javascript\">window.PlotlyConfig = {MathJaxConfig: 'local'};</script>\n",
              "        <script src=\"https://cdn.plot.ly/plotly-latest.min.js\"></script>    \n",
              "            <div id=\"68b05e3c-cbba-46f3-8c2a-3a2fba44f4e2\" class=\"plotly-graph-div\" style=\"height:800px; width:800px;\"></div>\n",
              "            <script type=\"text/javascript\">\n",
              "                \n",
              "                    window.PLOTLYENV=window.PLOTLYENV || {};\n",
              "                    \n",
              "                if (document.getElementById(\"68b05e3c-cbba-46f3-8c2a-3a2fba44f4e2\")) {\n",
              "                    Plotly.newPlot(\n",
              "                        '68b05e3c-cbba-46f3-8c2a-3a2fba44f4e2',\n",
              "                        [{\"marker\": {\"color\": [39.8584, 34.9244, 32.9492, 38.28, 38.6076, 22.626, 28.441599999999998, 24.5428, 25.1768, 37.8632, 36.6912, 30.4696, 39.3732, 34.0456, 36.3488, 41.251599999999996, 37.599599999999995, 33.4628, 29.0756, 27.852400000000003, 32.456, 31.2796, 32.0276, 32.6068, 19.186, 35.428, 34.9868, 40.3044, 32.2996, 29.712, 24.2944, 24.7, 35.8936, 27.764, 26.9732, 31.4668, 36.4768, 33.624399999999994, 29.772399999999998, 31.8308, 32.146, 37.1588, 39.0068, 32.3588, 31.5944, 28.1144, 34.7044, 35.766799999999996, 36.9072, 38.9388, 11.0, 38.9044, 30.672799999999995, 32.756, 34.4764, 36.9632, 33.894400000000005, 34.4524, 39.9904, 34.7208, 39.5924, 13.0, 31.3444, 36.6184, 26.056400000000004, 33.1316, 34.7144, 37.162400000000005, 38.7592, 33.2144, 33.824, 22.8512, 35.9616, 37.0696, 37.065599999999996, 28.5, 37.2692, 19.7732, 38.8288, 34.052800000000005, 39.403999999999996, 33.9452, 19.2908, 31.6392, 21.2668, 22.811999999999998, 18.3172, 26.77, 34.6248, 26.352800000000002, 34.099599999999995, 36.0792, 29.1556, 35.5144, 30.414, 36.4032, 33.7384, 32.2248, 33.7624, 30.8172, 36.29, 21.4304, 33.1932, 35.282, 25.5432, 30.5512, 25.5628, 13.4664, 37.028800000000004, 38.111999999999995, 37.856, 25.3296, 35.142399999999995, 35.4, 33.138400000000004, 34.8048, 37.89, 27.3464, 30.8236, 35.2248, 39.2708, 37.47, 31.4588, 32.010400000000004, 28.8008, 35.6736, 26.9908, 39.512, 35.214, 28.746399999999998, 32.5484, 31.503999999999998, 36.4908, 25.824399999999997, 28.0872, 37.322, 24.7832, 31.3704, 31.6812, 16.345599999999997, 37.3204, 37.5276, 37.3044, 22.6132, 28.144799999999996, 28.8388, 33.117599999999996, 23.64, 24.4264, 37.7964, 23.747199999999996, 35.0204, 26.8052, 29.938799999999997, 27.6592, 34.8508, 30.607599999999998, 31.796, 36.0728, 36.0976, 37.147999999999996, 31.584799999999998, 35.856, 32.703199999999995, 34.5308, 38.1492, 37.7352, 26.4596, 26.8352, 38.6252, 28.259999999999998, 36.430800000000005, 39.8524, 38.6188, 36.19, 33.46, 34.8972, 38.1708, 32.998, 20.5116, 34.7696, 30.3, 32.8324, 35.2868, 40.7768, 23.4288, 18.073999999999998, 16.8692, 34.290400000000005, 24.8204, 25.1664, 18.5804, 33.1464, 25.4804, 19.2584, 29.008799999999997, 27.8532, 33.7388, 36.028800000000004, 30.048000000000002, 33.790400000000005, 34.2552, 36.239599999999996, 26.7564, 33.2656, 34.672799999999995, 22.214, 28.2312, 33.3432, 28.397199999999998, 9.5, 30.676, 36.9464, 31.263599999999997, 36.0376, 34.6592, 18.968799999999998, 27.9904, 31.4732, 24.691200000000002, 36.2184, 38.1736, 40.4248, 32.4976, 29.095999999999997, 29.756400000000003, 33.2352, 32.1576, 28.282400000000003, 34.042, 25.9916, 38.76, 32.306400000000004, 32.013999999999996, 30.7096, 37.2288, 27.035999999999998, 34.0732, 38.873599999999996, 38.7928, 17.0, 24.522, 36.4084, 28.131999999999998, 33.2616, 31.6796, 39.586, 37.4304, 34.9456, 38.373599999999996, 30.9444, 31.4912, 28.6824, 37.9868, 30.491999999999997, 33.8732, 37.1736, 22.3992, 34.4252, 29.4, 39.7868, 32.3452, 31.865599999999997, 32.2416, 25.761599999999998, 38.955600000000004, 25.5972, 34.7104, 37.42, 32.4904, 34.6208, 27.086799999999997, 32.6524, 33.5892, 39.16, 33.2552, 37.1008, 35.5216, 29.331200000000003, 28.4408, 34.7172, 28.86, 33.8528, 28.456799999999998, 34.1312, 34.3012, 27.580399999999997, 29.955599999999997, 37.97, 36.1012, 29.363599999999998, 17.7, 33.5804, 23.172799999999995, 18.0276, 33.6356, 39.6212, 39.455600000000004, 6.4, 24.9228, 31.1248, 36.2268, 26.8, 38.1528, 34.842, 37.4632, 36.147999999999996, 33.3976, 22.1544, 40.824799999999996, 33.8044, 25.918, 35.642399999999995, 29.825599999999998, 37.6356, 26.0612, 34.806400000000004, 36.7316, 35.065599999999996, 34.376799999999996, 20.6, 37.6768, 36.5216, 41.5516, 18.9732, 37.622, 30.7864, 40.9248, 33.038799999999995, 38.05, 37.3804, 37.587199999999996, 37.3428, 39.480000000000004, 35.8412, 32.1768, 27.3172, 34.5072, 29.9, 29.389200000000002, 34.2416, 35.437200000000004, 39.618, 37.1112, 34.352000000000004, 39.2148, 38.1756, 32.648399999999995, 6.8, 35.9472, 28.608, 36.5524, 19.258, 34.674, 26.9876, 18.5344, 14.6472, 32.9104, 36.6704, 36.334, 34.6772, 39.6756, 35.3596, 39.6976, 27.334, 36.6804, 32.6348, 35.0908, 36.126000000000005, 33.2108, 31.575599999999998, 26.6292, 28.6332, 26.27, 33.684, 37.2144, 28.1064, 33.063199999999995, 18.6068, 39.0836, 31.401200000000003, 30.8512, 20.1856, 19.186, 38.1928, 34.1752, 40.2412, 39.33, 30.387999999999998, 34.209199999999996, 23.1252, 36.4004, 30.412800000000004, 34.752, 30.291200000000003, 36.1452, 38.0596, 34.118, 35.885999999999996, 25.4664, 38.0704, 33.41, 31.4384, 25.67, 36.2352, 23.9724, 30.99, 36.874, 32.9156, 29.6184, 35.8216, 29.2704, 35.5736, 37.566, 35.3084, 37.5316, 15.9, 36.3936, 40.0284, 31.9692, 33.3588, 34.790400000000005, 33.980000000000004, 35.007999999999996, 34.8508, 12.4, 32.1864, 17.9732, 28.2044, 32.876400000000004, 37.5096, 34.7588, 34.2132, 35.7332, 39.6912, 34.6104, 32.3416, 26.8568, 35.376799999999996, 34.989999999999995, 30.3004, 38.7084, 36.855599999999995, 30.0912, 31.7584, 31.6184, 38.7248, 18.470399999999998, 26.1204, 39.6388, 39.886799999999994, 38.7116, 27.294, 39.8456, 20.3112, 32.3452, 26.4936, 34.736000000000004, 37.8208, 31.4912, 34.851600000000005, 17.8524, 33.9904, 38.4216, 37.1736, 25.939600000000002, 36.422, 31.9756, 34.087199999999996, 30.196799999999996, 30.746399999999998, 19.6, 22.0964, 35.6524, 35.459599999999995, 36.9636, 38.1172, 27.5, 38.118, 32.5392, 14.1, 33.4172, 0.0, 31.945999999999998, 37.334, 38.6488, 30.983999999999998, 38.2832, 36.3528, 25.9584, 32.6428, 34.9696, 27.6704, 37.2384, 26.101599999999998, 31.3036, 27.235599999999998, 32.2932, 37.876400000000004, 33.721599999999995, 30.9664, 38.408, 28.7, 29.1008, 30.4444, 27.1556, 32.7568, 17.8104, 34.832, 38.051199999999994, 28.8356, 21.502799999999997, 33.483599999999996, 36.3212, 36.372, 27.5832, 29.747199999999996, 29.7424, 36.6356, 28.8384, 30.0464, 35.9996, 29.1436, 28.5672, 37.9872, 29.1312, 32.324799999999996, 27.352800000000002, 39.3896, 27.208, 35.8648, 37.5312, 31.0188, 34.314, 13.2, 38.44799999999999, 25.29, 37.3096, 28.5, 33.9152, 18.0276, 36.8052, 39.8904, 39.8664, 31.117599999999996, 36.538399999999996, 32.7772, 38.1668, 33.41, 36.906, 28.8, 36.2384, 34.0484, 28.4756, 33.0968, 33.5896, 36.7776, 39.8288, 27.497999999999998, 34.331599999999995, 36.384, 25.994799999999998, 29.56, 30.5164, 26.026799999999998, 27.0756, 41.3388, 37.0524, 30.641199999999998, 30.195999999999998, 35.818, 36.5964, 33.132000000000005, 30.680799999999998, 33.593199999999996, 27.184399999999997, 27.0912, 29.4, 22.5, 31.9604, 28.214799999999997, 31.16, 38.8092, 35.4604, 34.528800000000004, 17.0304, 30.914, 16.5004, 30.5036, 26.818400000000004, 29.884, 37.2356, 33.3732, 33.5408, 32.135999999999996, 33.8656, 25.2564, 35.2144, 40.0976, 23.8808, 36.3748, 40.2588, 26.296799999999998, 32.4464, 39.8216, 29.650799999999997, 29.3944, 39.8924, 34.3264, 19.3868, 15.4212, 33.4216, 36.0972, 36.5392, 39.3044, 35.3072, 20.3492, 40.7528, 32.5788, 30.596799999999998, 27.376799999999996, 35.9392, 31.88, 39.67, 33.0548, 32.9768, 29.7, 32.562, 39.3216, 24.3048, 26.9324, 33.3604, 39.800799999999995, 32.5004, 27.968400000000003, 33.3828, 38.3448, 29.4528, 34.075199999999995, 35.07, 31.275999999999996, 39.6904, 32.1668, 31.419999999999998, 29.602, 36.4688, 27.211599999999997, 35.5928, 32.952799999999996, 30.9324, 34.9564, 39.745599999999996, 35.224, 34.6008, 35.662400000000005, 34.46, 35.3904, 34.018, 27.1432, 29.620799999999996, 34.6828, 36.358000000000004, 32.6908, 30.269599999999997, 36.2836, 30.123199999999997, 29.747199999999996, 37.0484, 36.047599999999996, 26.1, 32.8296, 36.434799999999996, 29.322000000000003, 29.6864, 37.904799999999994, 39.4116, 21.1632, 25.866799999999998, 30.5832, 29.662799999999997, 38.5356, 33.976, 36.955600000000004, 22.67, 31.7716, 35.604, 36.26, 30.7596, 21.3068, 32.3848, 22.449199999999998, 28.1064, 32.1356, 25.04, 39.1412, 33.7352, 32.685199999999995, 32.388, 32.4248, 33.8992, 25.148, 34.7856, 37.628, 33.8284, 21.9596, 34.6548, 32.526799999999994, 33.4152, 30.2872, 15.1, 35.9488, 30.9, 37.152, 34.3524, 26.287599999999998, 24.462, 33.536, 31.5668, 33.314, 30.966, 17.8128, 31.0072, 33.9136, 31.5668, 36.5048, 30.394, 38.2636, 26.668799999999997, 38.4324, 40.0144, 24.9272, 39.952799999999996, 28.6664, 29.7, 32.47, 33.552800000000005, 31.3308, 24.036800000000003, 32.983599999999996, 17.8104, 30.382400000000004, 38.4392, 35.748400000000004, 27.7536, 28.5704, 39.0048, 32.0252, 38.8964, 35.0312, 35.4268, 35.080799999999996, 28.5524, 30.246000000000002, 24.253999999999998, 17.3, 24.3492, 33.896, 32.5132, 38.955600000000004, 29.9452, 38.038799999999995, 29.232799999999997, 33.124399999999994, 30.676, 37.099599999999995, 35.9868, 35.9352, 24.1696, 30.813599999999997, 34.1092, 34.7448, 33.764399999999995, 31.1756, 33.386799999999994, 31.552, 32.0012, 38.2004, 26.8748, 29.7928, 33.186400000000006, 28.7, 36.3632, 31.5244, 27.876799999999996, 35.074, 20.4168, 29.9668, 31.608, 37.3752, 32.6428, 37.2136, 31.406, 38.1596, 33.2596, 37.489599999999996, 37.58, 32.3728, 24.821599999999997, 39.0792, 32.476, 25.3056, 35.68, 30.531200000000002, 32.800799999999995, 38.7, 26.0908, 42.2244, 31.574399999999997, 35.6908, 26.5, 32.434400000000004, 32.4392, 31.232799999999997, 36.544799999999995, 30.806, 37.3144, 26.4496, 40.5904, 29.020799999999998, 19.113599999999998, 13.2492, 40.194, 27.435599999999997, 14.5524, 14.656, 32.362, 31.5, 30.009999999999998, 36.794, 37.3416, 14.3352, 27.745199999999997, 25.0944, 28.7808, 22.1492, 30.772799999999997, 39.1388, 36.566, 22.884, 27.115199999999998, 39.5828, 22.082, 27.2944, 18.1184, 33.766, 26.3288, 37.67, 28.108399999999996, 35.774, 30.2352, 26.509999999999998, 26.2072, 24.6212, 32.004, 35.8912, 20.996, 39.27, 31.342, 30.0824, 40.4488, 39.6796, 32.6892, 34.332, 39.5972, 30.729200000000002, 27.744799999999998, 29.2136, 35.053200000000004, 27.791200000000003, 29.9444, 35.2584, 28.959200000000003, 33.844, 34.9444, 30.696799999999996, 25.4424, 33.040400000000005, 25.399599999999996, 30.6924, 36.687200000000004, 39.2764, 24.372799999999998, 23.4, 29.7248, 38.782799999999995, 22.637999999999998, 26.7972, 37.794, 32.838, 28.4892, 39.483999999999995, 27.5872, 33.8388, 29.6216, 32.5496, 38.7804, 35.0248, 30.4936, 40.0524, 36.1944, 37.211200000000005, 18.566, 23.3356, 33.983999999999995, 32.5456, 31.772799999999997, 40.9908, 33.965599999999995, 34.132000000000005, 32.57, 35.4732, 28.8112, 31.1064, 30.273599999999995, 26.0044, 23.0892, 35.5828, 28.466, 28.9912, 34.288799999999995, 34.9636, 31.531599999999997, 35.4964, 31.3532, 34.028800000000004, 26.874399999999998, 26.8, 34.8904, 39.5276, 28.432000000000002, 26.4496, 30.116799999999998, 26.659599999999998, 17.9, 38.3364, 38.9388, 37.4764, 34.395199999999996, 37.7076, 27.611600000000003, 29.5768, 37.4976, 31.5004, 21.1892, 28.9972, 33.162, 34.5124, 19.4664, 38.932, 13.0, 38.9284, 28.726, 34.831599999999995, 35.894400000000005, 27.714799999999997, 35.798, 26.5, 33.7792, 35.258, 32.3036, 39.2964, 20.3444, 29.5916, 31.593600000000002, 38.6736, 38.0312, 30.7516, 28.5644, 21.532, 37.8892, 27.240000000000002, 35.4704, 32.538399999999996, 29.891199999999998, 32.065200000000004, 30.5608, 32.307599999999994, 34.8804, 22.939999999999998, 25.152, 30.5076, 38.044799999999995, 38.9492, 36.3132, 27.0708, 32.626799999999996, 21.369999999999997, 35.332, 34.384, 17.000799999999998, 31.0084, 21.6, 37.7832, 33.6636, 36.234, 29.9016, 31.7656, 28.3208, 39.7756, 17.0864, 39.800399999999996, 19.2, 34.3588, 38.0768, 35.2692, 35.8596, 31.0392, 34.2284, 27.5, 39.6136, 19.3, 18.3552, 37.6868, 30.095599999999997, 31.3664, 37.3872, 35.376799999999996, 35.128, 29.1, 25.6892, 31.6004, 35.666399999999996, 38.2908, 31.873599999999996, 30.8152, 27.7828, 38.3756, 38.8844, 38.8464, 34.77119999999999, 33.4256, 33.5876, 34.729200000000006, 35.178399999999996, 27.5048, 39.36879999999999, 34.0072, 34.0836, 9.222399999999999, 31.2076, 36.1324, 38.3352, 38.29, 30.2576, 29.3652, 19.4284, 22.892799999999998, 37.1328, 37.4632, 23.5396, 39.3524, 27.2016, 39.7568, 37.294, 30.428400000000003, 37.010000000000005, 38.1044, 30.2716, 11.5, 32.2044, 35.3624, 27.2032, 28.0256, 34.4284, 39.668400000000005, 6.4, 30.023999999999997, 32.572, 31.1824, 28.548000000000002, 36.9456, 33.1036, 36.014799999999994, 36.3692, 31.1352, 30.828, 35.726, 32.6476, 37.41759999999999, 35.435599999999994, 18.293599999999998, 30.736, 37.916799999999995, 30.9576, 32.1864, 30.462400000000002, 39.8656, 28.5948, 39.641999999999996, 16.146, 27.348399999999998, 26.6488, 20.78, 25.461599999999997, 32.4072, 37.1824, 24.8052, 35.382400000000004, 22.053600000000003, 24.418400000000002, 23.8544, 37.258, 39.0152, 33.3804, 36.879999999999995, 24.6576, 37.5012, 31.089599999999997, 29.973999999999997, 41.5768, 39.6496, 29.936, 26.407200000000003, 29.6696, 35.824799999999996, 37.048, 32.1868, 19.4076, 36.674, 31.575599999999998, 36.318799999999996, 35.372, 18.6068, 28.0188, 32.2008, 32.2548, 25.6612, 24.313200000000002, 38.0436, 38.5768, 31.195999999999998, 31.349200000000003, 31.652, 32.584, 26.632399999999997, 27.363599999999998, 33.67, 29.304, 27.2668, 38.2008, 34.854, 34.718, 34.4868, 36.8132, 33.8456, 36.4876, 28.8596, 38.058400000000006, 28.712, 35.9004, 37.504, 36.5324, 34.0668, 25.5, 39.5492, 39.666, 35.1896, 26.918, 36.431200000000004, 11.9, 27.711199999999998, 32.6704, 31.0152, 26.129599999999996, 20.518, 25.6876, 37.3032, 36.111999999999995, 38.935599999999994, 24.2568, 34.983599999999996, 34.327600000000004, 18.823999999999998, 32.5048, 23.499599999999997, 33.544399999999996, 15.614799999999999, 37.5624, 34.325599999999994, 36.007999999999996, 20.6792, 26.256, 40.273599999999995, 20.598, 37.6216, 32.1972, 29.735599999999998, 25.6888, 32.770399999999995, 38.52719999999999, 39.6464, 31.281599999999997, 31.663600000000002, 37.873599999999996, 31.276400000000002, 29.8292, 38.754, 34.9308, 34.7288, 35.3988, 30.6828, 33.3972, 24.945999999999998, 36.7136, 37.1312, 35.2076, 36.032, 30.3876, 38.5036, 32.9736, 31.6256, 29.6464, 28.9084, 24.6024, 1.0, 27.8676, 31.6564, 28.3492, 31.1032, 31.190800000000003, 35.236000000000004, 28.4, 38.435599999999994, 23.2048, 31.3164, 30.022399999999998, 28.293599999999998, 28.3016, 31.2188, 35.1764, 32.538, 26.6684, 33.693599999999996, 28.0048, 34.1092, 27.5908, 35.77, 39.0548, 30.8444, 24.9608, 32.5796, 31.534799999999997, 34.362, 25.4, 32.47279999999999, 37.504, 30.5292, 35.5108, 26.794800000000002, 31.4932, 31.848, 16.3, 32.594, 38.687200000000004, 28.9284, 32.471599999999995, 28.131999999999998, 34.980000000000004, 30.1392, 19.3012, 28.3324, 33.768, 33.8172, 29.095199999999995, 35.7076, 33.9904, 19.8692, 31.9, 28.453200000000002, 28.543599999999998, 37.9332, 39.5112, 39.4484, 38.8324, 26.932000000000002, 31.648, 15.493599999999999, 19.6112, 28.7352, 28.1492, 19.877200000000002, 26.6836, 31.0276, 34.7008, 16.3624, 34.2452, 27.589199999999998, 37.58, 38.0312], \"colorscale\": [[0, \"lime\"], [0.5, \"red\"]], \"line\": {\"color\": \"rgb(140, 140, 170)\"}, \"size\": 5, \"sizemode\": \"diameter\", \"sizeref\": 1500}, \"mode\": \"markers\", \"type\": \"scatter3d\", \"x\": [\"Aceptable\", \"Aceptable\", \"Aceptable\", \"Aceptable\", \"Aceptable\", \"Aceptable\", \"Aceptable\", \"Aceptable\", \"Aceptable\", \"Aceptable\", \"Aceptable\", \"Aceptable\", \"Aceptable\", \"Aceptable\", \"Aceptable\", \"Aceptable\", \"Aceptable\", \"Aceptable\", \"Aceptable\", \"Aceptable\", \"Aceptable\", \"Aceptable\", \"Aceptable\", \"Aceptable\", \"Aceptable\", \"Aceptable\", \"Aceptable\", \"Aceptable\", \"Aceptable\", \"Aceptable\", \"Aceptable\", \"Aceptable\", \"Aceptable\", \"Aceptable\", \"Aceptable\", \"Aceptable\", \"Aceptable\", \"Aceptable\", \"Aceptable\", \"Aceptable\", \"Aceptable\", \"Aceptable\", \"Aceptable\", \"Aceptable\", \"Aceptable\", \"Aceptable\", \"Aceptable\", \"Aceptable\", \"Aceptable\", \"Aceptable\", \"Aceptable\", \"Aceptable\", \"Aceptable\", \"Aceptable\", \"Aceptable\", \"Aceptable\", \"Aceptable\", \"Aceptable\", \"Aceptable\", \"Aceptable\", \"Aceptable\", \"Aceptable\", \"Aceptable\", \"Aceptable\", \"Aceptable\", \"Aceptable\", \"Aceptable\", \"Aceptable\", \"Aceptable\", \"Aceptable\", \"Aceptable\", \"Aceptable\", \"Aceptable\", \"Aceptable\", \"Aceptable\", \"Aceptable\", \"Aceptable\", \"Aceptable\", \"Aceptable\", \"Aceptable\", \"Aceptable\", \"Aceptable\", \"Aceptable\", \"Aceptable\", \"Aceptable\", \"Aceptable\", \"Aceptable\", \"Aceptable\", \"Aceptable\", \"Aceptable\", \"Aceptable\", \"Aceptable\", \"Aceptable\", \"Aceptable\", \"Aceptable\", \"Aceptable\", \"Aceptable\", \"Aceptable\", \"Aceptable\", \"Aceptable\", \"Aceptable\", \"Aceptable\", \"Aceptable\", \"Aceptable\", \"Aceptable\", \"Aceptable\", \"Aceptable\", \"Aceptable\", \"Aceptable\", \"Aceptable\", \"Aceptable\", \"Aceptable\", \"Aceptable\", \"Aceptable\", \"Aceptable\", \"Aceptable\", \"Aceptable\", \"Aceptable\", \"Aceptable\", \"Aceptable\", \"Aceptable\", \"Aceptable\", \"Aceptable\", \"Aceptable\", \"Aceptable\", \"Aceptable\", \"Aceptable\", \"Aceptable\", \"Aceptable\", \"Aceptable\", \"Aceptable\", \"Aceptable\", \"Aceptable\", \"Aceptable\", \"Aceptable\", \"Aceptable\", \"Aceptable\", \"Aceptable\", \"Aceptable\", \"Aceptable\", \"Aceptable\", \"Aceptable\", \"Aceptable\", \"Aceptable\", \"Aceptable\", \"Aceptable\", \"Aceptable\", \"Aceptable\", \"Excelente\", \"Aceptable\", \"Aceptable\", \"Aceptable\", \"Aceptable\", \"Aceptable\", \"Aceptable\", \"Aceptable\", \"Aceptable\", \"Aceptable\", \"Aceptable\", \"Aceptable\", \"Aceptable\", \"Aceptable\", \"Aceptable\", \"Aceptable\", \"Aceptable\", \"Aceptable\", \"Aceptable\", \"Aceptable\", \"Aceptable\", \"Aceptable\", \"Aceptable\", \"Aceptable\", \"Aceptable\", \"Aceptable\", \"Aceptable\", \"Aceptable\", \"Aceptable\", \"Aceptable\", \"Aceptable\", \"Aceptable\", \"Aceptable\", \"Aceptable\", \"Aceptable\", \"Aceptable\", \"Aceptable\", \"Aceptable\", \"Aceptable\", \"Aceptable\", \"Aceptable\", \"Aceptable\", \"Aceptable\", \"Aceptable\", \"Aceptable\", \"Aceptable\", \"Aceptable\", \"Aceptable\", \"Aceptable\", \"Aceptable\", \"Aceptable\", \"Aceptable\", \"Aceptable\", \"Aceptable\", \"Aceptable\", \"Aceptable\", \"Aceptable\", \"Aceptable\", \"Aceptable\", \"Aceptable\", \"Aceptable\", \"Aceptable\", \"Aceptable\", \"Aceptable\", \"Aceptable\", \"Aceptable\", \"Aceptable\", \"Aceptable\", \"Aceptable\", \"Aceptable\", \"Aceptable\", \"Aceptable\", \"Aceptable\", \"Aceptable\", \"Aceptable\", \"Aceptable\", \"Aceptable\", \"Aceptable\", \"Aceptable\", \"Aceptable\", \"Aceptable\", \"Aceptable\", \"Aceptable\", \"Aceptable\", \"Aceptable\", \"Aceptable\", \"Aceptable\", \"Aceptable\", \"Aceptable\", \"Aceptable\", \"Aceptable\", \"Aceptable\", \"Aceptable\", \"Aceptable\", \"Aceptable\", \"Aceptable\", \"Aceptable\", \"Aceptable\", \"Aceptable\", \"Aceptable\", \"Aceptable\", \"Aceptable\", \"Aceptable\", \"Aceptable\", \"Aceptable\", \"Aceptable\", \"Aceptable\", \"Aceptable\", \"Aceptable\", \"Aceptable\", \"Aceptable\", \"Aceptable\", \"Aceptable\", \"Aceptable\", \"Aceptable\", \"Aceptable\", \"Aceptable\", \"Aceptable\", \"Aceptable\", \"Aceptable\", \"Aceptable\", \"Aceptable\", \"Aceptable\", \"Aceptable\", \"Aceptable\", \"Aceptable\", \"Aceptable\", \"Aceptable\", \"Aceptable\", \"Aceptable\", \"Aceptable\", \"Aceptable\", \"Aceptable\", \"Aceptable\", \"Aceptable\", \"Aceptable\", \"Aceptable\", \"Aceptable\", \"Aceptable\", \"Aceptable\", \"Aceptable\", \"Aceptable\", \"Aceptable\", \"Aceptable\", \"Aceptable\", \"Aceptable\", \"Aceptable\", \"Aceptable\", \"Aceptable\", \"Aceptable\", \"Aceptable\", \"Aceptable\", \"Aceptable\", \"Aceptable\", \"Aceptable\", \"Aceptable\", \"Aceptable\", \"Aceptable\", \"Aceptable\", \"Aceptable\", \"Aceptable\", \"Aceptable\", \"Aceptable\", \"Aceptable\", \"Aceptable\", \"Aceptable\", \"Aceptable\", \"Aceptable\", \"Aceptable\", \"Regular\", \"Aceptable\", \"Aceptable\", \"Aceptable\", \"Aceptable\", \"Aceptable\", \"Aceptable\", \"Aceptable\", \"Aceptable\", \"Aceptable\", \"Aceptable\", \"Aceptable\", \"Aceptable\", \"Aceptable\", \"Aceptable\", \"Aceptable\", \"Aceptable\", \"Aceptable\", \"Aceptable\", \"Aceptable\", \"Aceptable\", \"Aceptable\", \"Aceptable\", \"Aceptable\", \"Aceptable\", \"Aceptable\", \"Aceptable\", \"Aceptable\", \"Aceptable\", \"Aceptable\", \"Aceptable\", \"Aceptable\", \"Aceptable\", \"Aceptable\", \"Aceptable\", \"Aceptable\", \"Aceptable\", \"Aceptable\", \"Aceptable\", \"Aceptable\", \"Aceptable\", \"Aceptable\", \"Aceptable\", \"Aceptable\", \"Aceptable\", \"Aceptable\", \"Aceptable\", \"Aceptable\", \"Aceptable\", \"Aceptable\", \"Aceptable\", \"Aceptable\", \"Aceptable\", \"Excelente\", \"Aceptable\", \"Aceptable\", \"Aceptable\", \"Aceptable\", \"Aceptable\", \"Aceptable\", \"Aceptable\", \"Aceptable\", \"Aceptable\", \"Aceptable\", \"Aceptable\", \"Aceptable\", \"Aceptable\", \"Aceptable\", \"Aceptable\", \"Aceptable\", \"Aceptable\", \"Aceptable\", \"Bueno\", \"Aceptable\", \"Aceptable\", \"Aceptable\", \"Aceptable\", \"Aceptable\", \"Aceptable\", \"Aceptable\", \"Aceptable\", \"Aceptable\", \"Aceptable\", \"Aceptable\", \"Aceptable\", \"Aceptable\", \"Aceptable\", \"Aceptable\", \"Aceptable\", \"Aceptable\", \"Aceptable\", \"Aceptable\", \"Aceptable\", \"Aceptable\", \"Aceptable\", \"Aceptable\", \"Aceptable\", \"Aceptable\", \"Aceptable\", \"Aceptable\", \"Aceptable\", \"Aceptable\", \"Aceptable\", \"Aceptable\", \"Aceptable\", \"Aceptable\", \"Aceptable\", \"Aceptable\", \"Aceptable\", \"Aceptable\", \"Aceptable\", \"Aceptable\", \"Aceptable\", \"Aceptable\", \"Aceptable\", \"Aceptable\", \"Aceptable\", \"Aceptable\", \"Aceptable\", \"Aceptable\", \"Aceptable\", \"Aceptable\", \"Aceptable\", \"Aceptable\", \"Aceptable\", \"Aceptable\", \"Aceptable\", \"Aceptable\", \"Aceptable\", \"Aceptable\", \"Aceptable\", \"Aceptable\", \"Aceptable\", \"Aceptable\", \"Aceptable\", \"Aceptable\", \"Aceptable\", \"Aceptable\", \"Aceptable\", \"Aceptable\", \"Aceptable\", \"Aceptable\", \"Aceptable\", \"Aceptable\", \"Aceptable\", \"Aceptable\", \"Aceptable\", \"Aceptable\", \"Aceptable\", \"Aceptable\", \"Aceptable\", \"Aceptable\", \"Aceptable\", \"Aceptable\", \"Aceptable\", \"Aceptable\", \"Aceptable\", \"Aceptable\", \"Aceptable\", \"Aceptable\", \"Aceptable\", \"Aceptable\", \"Aceptable\", \"Aceptable\", \"Aceptable\", \"Aceptable\", \"Aceptable\", \"Aceptable\", \"Aceptable\", \"Aceptable\", \"Aceptable\", \"Aceptable\", \"Aceptable\", \"Aceptable\", \"Aceptable\", \"Aceptable\", \"Aceptable\", \"Aceptable\", \"Aceptable\", \"Aceptable\", \"Aceptable\", \"Aceptable\", \"Aceptable\", \"Aceptable\", \"Aceptable\", \"Aceptable\", \"Aceptable\", \"Aceptable\", \"Aceptable\", \"Aceptable\", \"Aceptable\", \"Aceptable\", \"Aceptable\", \"Aceptable\", \"Aceptable\", \"Aceptable\", \"Aceptable\", \"Aceptable\", \"Aceptable\", \"Aceptable\", \"Aceptable\", \"Aceptable\", \"Aceptable\", \"Aceptable\", \"Aceptable\", \"Aceptable\", \"Aceptable\", \"Aceptable\", \"Aceptable\", \"Aceptable\", \"Aceptable\", \"Aceptable\", \"Aceptable\", \"Aceptable\", \"Aceptable\", \"Aceptable\", \"Aceptable\", \"Aceptable\", \"Aceptable\", \"Aceptable\", \"Aceptable\", \"Aceptable\", \"Aceptable\", \"Aceptable\", \"Aceptable\", \"Aceptable\", \"Aceptable\", \"Aceptable\", \"Aceptable\", \"Aceptable\", \"Aceptable\", \"Aceptable\", \"Aceptable\", \"Aceptable\", \"Aceptable\", \"Aceptable\", \"Aceptable\", \"Aceptable\", \"Aceptable\", \"Aceptable\", \"Aceptable\", \"Aceptable\", \"Aceptable\", \"Aceptable\", \"Aceptable\", \"Aceptable\", \"Aceptable\", \"Aceptable\", \"Aceptable\", \"Aceptable\", \"Aceptable\", \"Aceptable\", \"Aceptable\", \"Aceptable\", \"Aceptable\", \"Aceptable\", \"Aceptable\", \"Aceptable\", \"Aceptable\", \"Aceptable\", \"Aceptable\", \"Aceptable\", \"Aceptable\", \"Aceptable\", \"Aceptable\", \"Aceptable\", \"Aceptable\", \"Aceptable\", \"Aceptable\", \"Aceptable\", \"Aceptable\", \"Aceptable\", \"Aceptable\", \"Aceptable\", \"Aceptable\", \"Aceptable\", \"Aceptable\", \"Aceptable\", \"Aceptable\", \"Aceptable\", \"Aceptable\", \"Aceptable\", \"Aceptable\", \"Aceptable\", \"Aceptable\", \"Aceptable\", \"Aceptable\", \"Aceptable\", \"Aceptable\", \"Aceptable\", \"Aceptable\", \"Bueno\", \"Aceptable\", \"Aceptable\", \"Aceptable\", \"Aceptable\", \"Aceptable\", \"Aceptable\", \"Aceptable\", \"Aceptable\", \"Aceptable\", \"Aceptable\", \"Aceptable\", \"Aceptable\", \"Aceptable\", \"Aceptable\", \"Aceptable\", \"Aceptable\", \"Aceptable\", \"Aceptable\", \"Aceptable\", \"Aceptable\", \"Aceptable\", \"Aceptable\", \"Aceptable\", \"Aceptable\", \"Aceptable\", \"Aceptable\", \"Aceptable\", \"Aceptable\", \"Aceptable\", \"Aceptable\", \"Aceptable\", \"Aceptable\", \"Aceptable\", \"Aceptable\", \"Aceptable\", \"Aceptable\", \"Aceptable\", \"Aceptable\", \"Aceptable\", \"Aceptable\", \"Aceptable\", \"Aceptable\", \"Aceptable\", \"Aceptable\", \"Aceptable\", \"Aceptable\", \"Aceptable\", \"Aceptable\", \"Aceptable\", \"Aceptable\", \"Aceptable\", \"Aceptable\", \"Aceptable\", \"Aceptable\", \"Aceptable\", \"Aceptable\", \"Aceptable\", \"Aceptable\", \"Aceptable\", \"Aceptable\", \"Aceptable\", \"Aceptable\", \"Aceptable\", \"Aceptable\", \"Aceptable\", \"Aceptable\", \"Aceptable\", \"Aceptable\", \"Aceptable\", \"Aceptable\", \"Aceptable\", \"Aceptable\", \"Aceptable\", \"Aceptable\", \"Aceptable\", \"Aceptable\", \"Aceptable\", \"Aceptable\", \"Aceptable\", \"Aceptable\", \"Aceptable\", \"Aceptable\", \"Aceptable\", \"Aceptable\", \"Aceptable\", \"Aceptable\", \"Aceptable\", \"Aceptable\", \"Aceptable\", \"Aceptable\", \"Aceptable\", \"Aceptable\", \"Aceptable\", \"Aceptable\", \"Aceptable\", \"Aceptable\", \"Aceptable\", \"Aceptable\", \"Aceptable\", \"Aceptable\", \"Aceptable\", \"Aceptable\", \"Aceptable\", \"Aceptable\", \"Aceptable\", \"Aceptable\", \"Aceptable\", \"Aceptable\", \"Aceptable\", \"Aceptable\", \"Aceptable\", \"Aceptable\", \"Aceptable\", \"Aceptable\", \"Aceptable\", \"Aceptable\", \"Aceptable\", \"Aceptable\", \"Aceptable\", \"Aceptable\", \"Aceptable\", \"Aceptable\", \"Aceptable\", \"Aceptable\", \"Aceptable\", \"Aceptable\", \"Aceptable\", \"Aceptable\", \"Aceptable\", \"Aceptable\", \"Aceptable\", \"Aceptable\", \"Aceptable\", \"Aceptable\", \"Aceptable\", \"Aceptable\", \"Aceptable\", \"Aceptable\", \"Aceptable\", \"Aceptable\", \"Aceptable\", \"Aceptable\", \"Aceptable\", \"Aceptable\", \"Aceptable\", \"Aceptable\", \"Aceptable\", \"Aceptable\", \"Aceptable\", \"Aceptable\", \"Aceptable\", \"Aceptable\", \"Aceptable\", \"Aceptable\", \"Aceptable\", \"Aceptable\", \"Aceptable\", \"Aceptable\", \"Aceptable\", \"Aceptable\", \"Aceptable\", \"Aceptable\", \"Aceptable\", \"Bueno\", \"Aceptable\", \"Aceptable\", \"Aceptable\", \"Aceptable\", \"Aceptable\", \"Aceptable\", \"Aceptable\", \"Aceptable\", \"Aceptable\", \"Aceptable\", \"Aceptable\", \"Aceptable\", \"Aceptable\", \"Aceptable\", \"Aceptable\", \"Aceptable\", \"Aceptable\", \"Aceptable\", \"Aceptable\", \"Aceptable\", \"Aceptable\", \"Aceptable\", \"Aceptable\", \"Aceptable\", \"Aceptable\", \"Aceptable\", \"Aceptable\", \"Aceptable\", \"Aceptable\", \"Aceptable\", \"Aceptable\", \"Aceptable\", \"Aceptable\", \"Aceptable\", \"Aceptable\", \"Aceptable\", \"Aceptable\", \"Aceptable\", \"Aceptable\", \"Aceptable\", \"Aceptable\", \"Aceptable\", \"Aceptable\", \"Aceptable\", \"Aceptable\", \"Aceptable\", \"Aceptable\", \"Aceptable\", \"Aceptable\", \"Aceptable\", \"Aceptable\", \"Aceptable\", \"Aceptable\", \"Aceptable\", \"Aceptable\", \"Aceptable\", \"Aceptable\", \"Aceptable\", \"Aceptable\", \"Aceptable\", \"Aceptable\", \"Aceptable\", \"Aceptable\", \"Aceptable\", \"Aceptable\", \"Aceptable\", \"Aceptable\", \"Aceptable\", \"Aceptable\", \"Aceptable\", \"Aceptable\", \"Aceptable\", \"Aceptable\", \"Aceptable\", \"Aceptable\", \"Aceptable\", \"Aceptable\", \"Aceptable\", \"Aceptable\", \"Aceptable\", \"Aceptable\", \"Aceptable\", \"Aceptable\", \"Aceptable\", \"Aceptable\", \"Aceptable\", \"Aceptable\", \"Aceptable\", \"Aceptable\", \"Aceptable\", \"Aceptable\", \"Aceptable\", \"Aceptable\", \"Aceptable\", \"Aceptable\", \"Aceptable\", \"Aceptable\", \"Aceptable\", \"Aceptable\", \"Aceptable\", \"Aceptable\", \"Aceptable\", \"Aceptable\", \"Aceptable\", \"Aceptable\", \"Aceptable\", \"Aceptable\", \"Aceptable\", \"Aceptable\", \"Aceptable\", \"Aceptable\", \"Aceptable\", \"Aceptable\", \"Aceptable\", \"Aceptable\", \"Aceptable\", \"Aceptable\", \"Aceptable\", \"Aceptable\", \"Aceptable\", \"Aceptable\", \"Aceptable\", \"Aceptable\", \"Aceptable\", \"Aceptable\", \"Aceptable\", \"Aceptable\", \"Aceptable\", \"Aceptable\", \"Aceptable\", \"Aceptable\", \"Aceptable\", \"Aceptable\", \"Aceptable\", \"Aceptable\", \"Aceptable\", \"Aceptable\", \"Aceptable\", \"Aceptable\", \"Aceptable\", \"Aceptable\", \"Aceptable\", \"Aceptable\", \"Aceptable\", \"Aceptable\", \"Aceptable\", \"Aceptable\", \"Aceptable\", \"Aceptable\", \"Aceptable\", \"Aceptable\", \"Aceptable\", \"Aceptable\", \"Aceptable\", \"Aceptable\", \"Aceptable\", \"Aceptable\", \"Aceptable\", \"Aceptable\", \"Aceptable\", \"Aceptable\", \"Aceptable\", \"Aceptable\", \"Aceptable\", \"Aceptable\", \"Aceptable\", \"Aceptable\", \"Aceptable\", \"Aceptable\", \"Aceptable\", \"Aceptable\", \"Aceptable\", \"Aceptable\", \"Aceptable\", \"Aceptable\", \"Aceptable\", \"Aceptable\", \"Aceptable\", \"Aceptable\", \"Aceptable\", \"Aceptable\", \"Aceptable\", \"Aceptable\", \"Aceptable\", \"Aceptable\", \"Aceptable\", \"Aceptable\", \"Aceptable\", \"Aceptable\", \"Aceptable\", \"Aceptable\", \"Aceptable\", \"Aceptable\", \"Aceptable\", \"Aceptable\", \"Aceptable\", \"Aceptable\", \"Aceptable\", \"Aceptable\", \"Aceptable\", \"Aceptable\", \"Aceptable\", \"Aceptable\", \"Aceptable\", \"Aceptable\", \"Aceptable\", \"Aceptable\", \"Aceptable\", \"Aceptable\", \"Aceptable\", \"Aceptable\", \"Aceptable\", \"Aceptable\", \"Aceptable\", \"Aceptable\", \"Aceptable\", \"Aceptable\", \"Aceptable\", \"Aceptable\", \"Aceptable\", \"Aceptable\", \"Aceptable\", \"Aceptable\", \"Aceptable\", \"Aceptable\", \"Aceptable\", \"Aceptable\", \"Aceptable\", \"Aceptable\", \"Aceptable\", \"Aceptable\", \"Aceptable\", \"Aceptable\", \"Aceptable\", \"Aceptable\", \"Aceptable\", \"Aceptable\", \"Aceptable\", \"Aceptable\", \"Aceptable\", \"Aceptable\", \"Aceptable\", \"Aceptable\", \"Aceptable\", \"Aceptable\", \"Aceptable\", \"Aceptable\", \"Aceptable\", \"Aceptable\", \"Aceptable\", \"Aceptable\", \"Aceptable\", \"Aceptable\", \"Aceptable\", \"Aceptable\", \"Aceptable\", \"Aceptable\", \"Aceptable\", \"Aceptable\", \"Aceptable\", \"Aceptable\", \"Aceptable\", \"Aceptable\", \"Aceptable\", \"Aceptable\", \"Aceptable\", \"Aceptable\", \"Regular\", \"Aceptable\", \"Aceptable\", \"Aceptable\", \"Aceptable\", \"Aceptable\", \"Aceptable\", \"Aceptable\", \"Aceptable\", \"Aceptable\", \"Aceptable\", \"Aceptable\", \"Aceptable\", \"Aceptable\", \"Aceptable\", \"Aceptable\", \"Aceptable\", \"Aceptable\", \"Aceptable\", \"Aceptable\", \"Aceptable\", \"Aceptable\", \"Aceptable\", \"Aceptable\", \"Aceptable\", \"Aceptable\", \"Aceptable\", \"Aceptable\", \"Aceptable\", \"Aceptable\", \"Aceptable\", \"Aceptable\", \"Aceptable\", \"Aceptable\", \"Aceptable\", \"Aceptable\", \"Aceptable\", \"Aceptable\", \"Aceptable\", \"Aceptable\", \"Aceptable\", \"Aceptable\", \"Aceptable\", \"Aceptable\", \"Aceptable\", \"Aceptable\", \"Aceptable\", \"Aceptable\", \"Aceptable\", \"Aceptable\", \"Aceptable\", \"Aceptable\", \"Aceptable\", \"Aceptable\", \"Aceptable\", \"Aceptable\", \"Aceptable\", \"Aceptable\", \"Aceptable\", \"Aceptable\", \"Aceptable\", \"Aceptable\", \"Aceptable\", \"Aceptable\", \"Aceptable\", \"Aceptable\", \"Aceptable\", \"Aceptable\", \"Aceptable\", \"Aceptable\", \"Regular\", \"Aceptable\", \"Aceptable\", \"Aceptable\", \"Aceptable\", \"Aceptable\", \"Aceptable\", \"Aceptable\", \"Aceptable\", \"Excelente\", \"Aceptable\", \"Aceptable\", \"Aceptable\", \"Aceptable\", \"Aceptable\", \"Aceptable\", \"Aceptable\", \"Aceptable\", \"Aceptable\", \"Aceptable\", \"Aceptable\", \"Aceptable\", \"Aceptable\", \"Aceptable\", \"Aceptable\", \"Aceptable\", \"Aceptable\", \"Aceptable\", \"Aceptable\", \"Aceptable\", \"Aceptable\", \"Aceptable\", \"Aceptable\", \"Aceptable\", \"Aceptable\", \"Aceptable\", \"Aceptable\", \"Aceptable\", \"Aceptable\", \"Aceptable\", \"Aceptable\", \"Aceptable\", \"Aceptable\", \"Aceptable\", \"Aceptable\", \"Aceptable\", \"Aceptable\", \"Aceptable\", \"Aceptable\", \"Aceptable\", \"Aceptable\", \"Aceptable\", \"Aceptable\", \"Aceptable\", \"Aceptable\", \"Aceptable\", \"Aceptable\", \"Aceptable\", \"Aceptable\", \"Aceptable\", \"Aceptable\", \"Aceptable\", \"Aceptable\", \"Aceptable\", \"Aceptable\", \"Aceptable\", \"Aceptable\", \"Aceptable\", \"Aceptable\", \"Aceptable\", \"Aceptable\", \"Aceptable\", \"Aceptable\", \"Aceptable\", \"Aceptable\", \"Aceptable\", \"Aceptable\", \"Aceptable\", \"Aceptable\", \"Aceptable\", \"Aceptable\", \"Aceptable\", \"Aceptable\", \"Aceptable\", \"Aceptable\", \"Aceptable\", \"Aceptable\", \"Aceptable\", \"Aceptable\", \"Aceptable\", \"Aceptable\", \"Aceptable\", \"Aceptable\", \"Aceptable\", \"Aceptable\", \"Aceptable\", \"Aceptable\", \"Aceptable\", \"Aceptable\", \"Aceptable\", \"Aceptable\", \"Aceptable\", \"Aceptable\", \"Aceptable\", \"Aceptable\", \"Aceptable\", \"Aceptable\", \"Aceptable\", \"Excelente\", \"Aceptable\", \"Aceptable\", \"Aceptable\", \"Aceptable\", \"Aceptable\", \"Aceptable\", \"Aceptable\", \"Aceptable\", \"Aceptable\", \"Aceptable\", \"Aceptable\", \"Aceptable\", \"Aceptable\", \"Aceptable\", \"Aceptable\", \"Aceptable\", \"Aceptable\", \"Aceptable\", \"Aceptable\", \"Aceptable\", \"Aceptable\", \"Aceptable\", \"Aceptable\", \"Aceptable\", \"Aceptable\", \"Aceptable\", \"Aceptable\", \"Aceptable\", \"Aceptable\", \"Aceptable\", \"Aceptable\", \"Aceptable\", \"Aceptable\", \"Aceptable\", \"Aceptable\", \"Aceptable\", \"Aceptable\", \"Aceptable\", \"Aceptable\", \"Aceptable\", \"Aceptable\", \"Aceptable\", \"Aceptable\", \"Aceptable\", \"Aceptable\", \"Aceptable\", \"Aceptable\", \"Aceptable\", \"Aceptable\", \"Aceptable\", \"Aceptable\", \"Aceptable\", \"Aceptable\", \"Aceptable\", \"Aceptable\", \"Aceptable\", \"Excelente\", \"Aceptable\", \"Aceptable\", \"Aceptable\", \"Aceptable\", \"Aceptable\", \"Aceptable\", \"Aceptable\", \"Aceptable\", \"Aceptable\", \"Aceptable\", \"Aceptable\", \"Regular\", \"Aceptable\"], \"y\": [39.8584, 34.9244, 32.9492, 38.28, 38.6076, 22.626, 28.441599999999998, 24.5428, 25.1768, 37.8632, 36.6912, 30.4696, 39.3732, 34.0456, 36.3488, 41.251599999999996, 37.599599999999995, 33.4628, 29.0756, 27.852400000000003, 32.456, 31.2796, 32.0276, 32.6068, 19.186, 35.428, 34.9868, 40.3044, 32.2996, 29.712, 24.2944, 24.7, 35.8936, 27.764, 26.9732, 31.4668, 36.4768, 33.624399999999994, 29.772399999999998, 31.8308, 32.146, 37.1588, 39.0068, 32.3588, 31.5944, 28.1144, 34.7044, 35.766799999999996, 36.9072, 38.9388, 11.0, 38.9044, 30.672799999999995, 32.756, 34.4764, 36.9632, 33.894400000000005, 34.4524, 39.9904, 34.7208, 39.5924, 13.0, 31.3444, 36.6184, 26.056400000000004, 33.1316, 34.7144, 37.162400000000005, 38.7592, 33.2144, 33.824, 22.8512, 35.9616, 37.0696, 37.065599999999996, 28.5, 37.2692, 19.7732, 38.8288, 34.052800000000005, 39.403999999999996, 33.9452, 19.2908, 31.6392, 21.2668, 22.811999999999998, 18.3172, 26.77, 34.6248, 26.352800000000002, 34.099599999999995, 36.0792, 29.1556, 35.5144, 30.414, 36.4032, 33.7384, 32.2248, 33.7624, 30.8172, 36.29, 21.4304, 33.1932, 35.282, 25.5432, 30.5512, 25.5628, 13.4664, 37.028800000000004, 38.111999999999995, 37.856, 25.3296, 35.142399999999995, 35.4, 33.138400000000004, 34.8048, 37.89, 27.3464, 30.8236, 35.2248, 39.2708, 37.47, 31.4588, 32.010400000000004, 28.8008, 35.6736, 26.9908, 39.512, 35.214, 28.746399999999998, 32.5484, 31.503999999999998, 36.4908, 25.824399999999997, 28.0872, 37.322, 24.7832, 31.3704, 31.6812, 16.345599999999997, 37.3204, 37.5276, 37.3044, 22.6132, 28.144799999999996, 28.8388, 33.117599999999996, 23.64, 24.4264, 37.7964, 23.747199999999996, 35.0204, 26.8052, 29.938799999999997, 27.6592, 34.8508, 30.607599999999998, 31.796, 36.0728, 36.0976, 37.147999999999996, 31.584799999999998, 35.856, 32.703199999999995, 34.5308, 38.1492, 37.7352, 26.4596, 26.8352, 38.6252, 28.259999999999998, 36.430800000000005, 39.8524, 38.6188, 36.19, 33.46, 34.8972, 38.1708, 32.998, 20.5116, 34.7696, 30.3, 32.8324, 35.2868, 40.7768, 23.4288, 18.073999999999998, 16.8692, 34.290400000000005, 24.8204, 25.1664, 18.5804, 33.1464, 25.4804, 19.2584, 29.008799999999997, 27.8532, 33.7388, 36.028800000000004, 30.048000000000002, 33.790400000000005, 34.2552, 36.239599999999996, 26.7564, 33.2656, 34.672799999999995, 22.214, 28.2312, 33.3432, 28.397199999999998, 9.5, 30.676, 36.9464, 31.263599999999997, 36.0376, 34.6592, 18.968799999999998, 27.9904, 31.4732, 24.691200000000002, 36.2184, 38.1736, 40.4248, 32.4976, 29.095999999999997, 29.756400000000003, 33.2352, 32.1576, 28.282400000000003, 34.042, 25.9916, 38.76, 32.306400000000004, 32.013999999999996, 30.7096, 37.2288, 27.035999999999998, 34.0732, 38.873599999999996, 38.7928, 17.0, 24.522, 36.4084, 28.131999999999998, 33.2616, 31.6796, 39.586, 37.4304, 34.9456, 38.373599999999996, 30.9444, 31.4912, 28.6824, 37.9868, 30.491999999999997, 33.8732, 37.1736, 22.3992, 34.4252, 29.4, 39.7868, 32.3452, 31.865599999999997, 32.2416, 25.761599999999998, 38.955600000000004, 25.5972, 34.7104, 37.42, 32.4904, 34.6208, 27.086799999999997, 32.6524, 33.5892, 39.16, 33.2552, 37.1008, 35.5216, 29.331200000000003, 28.4408, 34.7172, 28.86, 33.8528, 28.456799999999998, 34.1312, 34.3012, 27.580399999999997, 29.955599999999997, 37.97, 36.1012, 29.363599999999998, 17.7, 33.5804, 23.172799999999995, 18.0276, 33.6356, 39.6212, 39.455600000000004, 6.4, 24.9228, 31.1248, 36.2268, 26.8, 38.1528, 34.842, 37.4632, 36.147999999999996, 33.3976, 22.1544, 40.824799999999996, 33.8044, 25.918, 35.642399999999995, 29.825599999999998, 37.6356, 26.0612, 34.806400000000004, 36.7316, 35.065599999999996, 34.376799999999996, 20.6, 37.6768, 36.5216, 41.5516, 18.9732, 37.622, 30.7864, 40.9248, 33.038799999999995, 38.05, 37.3804, 37.587199999999996, 37.3428, 39.480000000000004, 35.8412, 32.1768, 27.3172, 34.5072, 29.9, 29.389200000000002, 34.2416, 35.437200000000004, 39.618, 37.1112, 34.352000000000004, 39.2148, 38.1756, 32.648399999999995, 6.8, 35.9472, 28.608, 36.5524, 19.258, 34.674, 26.9876, 18.5344, 14.6472, 32.9104, 36.6704, 36.334, 34.6772, 39.6756, 35.3596, 39.6976, 27.334, 36.6804, 32.6348, 35.0908, 36.126000000000005, 33.2108, 31.575599999999998, 26.6292, 28.6332, 26.27, 33.684, 37.2144, 28.1064, 33.063199999999995, 18.6068, 39.0836, 31.401200000000003, 30.8512, 20.1856, 19.186, 38.1928, 34.1752, 40.2412, 39.33, 30.387999999999998, 34.209199999999996, 23.1252, 36.4004, 30.412800000000004, 34.752, 30.291200000000003, 36.1452, 38.0596, 34.118, 35.885999999999996, 25.4664, 38.0704, 33.41, 31.4384, 25.67, 36.2352, 23.9724, 30.99, 36.874, 32.9156, 29.6184, 35.8216, 29.2704, 35.5736, 37.566, 35.3084, 37.5316, 15.9, 36.3936, 40.0284, 31.9692, 33.3588, 34.790400000000005, 33.980000000000004, 35.007999999999996, 34.8508, 12.4, 32.1864, 17.9732, 28.2044, 32.876400000000004, 37.5096, 34.7588, 34.2132, 35.7332, 39.6912, 34.6104, 32.3416, 26.8568, 35.376799999999996, 34.989999999999995, 30.3004, 38.7084, 36.855599999999995, 30.0912, 31.7584, 31.6184, 38.7248, 18.470399999999998, 26.1204, 39.6388, 39.886799999999994, 38.7116, 27.294, 39.8456, 20.3112, 32.3452, 26.4936, 34.736000000000004, 37.8208, 31.4912, 34.851600000000005, 17.8524, 33.9904, 38.4216, 37.1736, 25.939600000000002, 36.422, 31.9756, 34.087199999999996, 30.196799999999996, 30.746399999999998, 19.6, 22.0964, 35.6524, 35.459599999999995, 36.9636, 38.1172, 27.5, 38.118, 32.5392, 14.1, 33.4172, 0.0, 31.945999999999998, 37.334, 38.6488, 30.983999999999998, 38.2832, 36.3528, 25.9584, 32.6428, 34.9696, 27.6704, 37.2384, 26.101599999999998, 31.3036, 27.235599999999998, 32.2932, 37.876400000000004, 33.721599999999995, 30.9664, 38.408, 28.7, 29.1008, 30.4444, 27.1556, 32.7568, 17.8104, 34.832, 38.051199999999994, 28.8356, 21.502799999999997, 33.483599999999996, 36.3212, 36.372, 27.5832, 29.747199999999996, 29.7424, 36.6356, 28.8384, 30.0464, 35.9996, 29.1436, 28.5672, 37.9872, 29.1312, 32.324799999999996, 27.352800000000002, 39.3896, 27.208, 35.8648, 37.5312, 31.0188, 34.314, 13.2, 38.44799999999999, 25.29, 37.3096, 28.5, 33.9152, 18.0276, 36.8052, 39.8904, 39.8664, 31.117599999999996, 36.538399999999996, 32.7772, 38.1668, 33.41, 36.906, 28.8, 36.2384, 34.0484, 28.4756, 33.0968, 33.5896, 36.7776, 39.8288, 27.497999999999998, 34.331599999999995, 36.384, 25.994799999999998, 29.56, 30.5164, 26.026799999999998, 27.0756, 41.3388, 37.0524, 30.641199999999998, 30.195999999999998, 35.818, 36.5964, 33.132000000000005, 30.680799999999998, 33.593199999999996, 27.184399999999997, 27.0912, 29.4, 22.5, 31.9604, 28.214799999999997, 31.16, 38.8092, 35.4604, 34.528800000000004, 17.0304, 30.914, 16.5004, 30.5036, 26.818400000000004, 29.884, 37.2356, 33.3732, 33.5408, 32.135999999999996, 33.8656, 25.2564, 35.2144, 40.0976, 23.8808, 36.3748, 40.2588, 26.296799999999998, 32.4464, 39.8216, 29.650799999999997, 29.3944, 39.8924, 34.3264, 19.3868, 15.4212, 33.4216, 36.0972, 36.5392, 39.3044, 35.3072, 20.3492, 40.7528, 32.5788, 30.596799999999998, 27.376799999999996, 35.9392, 31.88, 39.67, 33.0548, 32.9768, 29.7, 32.562, 39.3216, 24.3048, 26.9324, 33.3604, 39.800799999999995, 32.5004, 27.968400000000003, 33.3828, 38.3448, 29.4528, 34.075199999999995, 35.07, 31.275999999999996, 39.6904, 32.1668, 31.419999999999998, 29.602, 36.4688, 27.211599999999997, 35.5928, 32.952799999999996, 30.9324, 34.9564, 39.745599999999996, 35.224, 34.6008, 35.662400000000005, 34.46, 35.3904, 34.018, 27.1432, 29.620799999999996, 34.6828, 36.358000000000004, 32.6908, 30.269599999999997, 36.2836, 30.123199999999997, 29.747199999999996, 37.0484, 36.047599999999996, 26.1, 32.8296, 36.434799999999996, 29.322000000000003, 29.6864, 37.904799999999994, 39.4116, 21.1632, 25.866799999999998, 30.5832, 29.662799999999997, 38.5356, 33.976, 36.955600000000004, 22.67, 31.7716, 35.604, 36.26, 30.7596, 21.3068, 32.3848, 22.449199999999998, 28.1064, 32.1356, 25.04, 39.1412, 33.7352, 32.685199999999995, 32.388, 32.4248, 33.8992, 25.148, 34.7856, 37.628, 33.8284, 21.9596, 34.6548, 32.526799999999994, 33.4152, 30.2872, 15.1, 35.9488, 30.9, 37.152, 34.3524, 26.287599999999998, 24.462, 33.536, 31.5668, 33.314, 30.966, 17.8128, 31.0072, 33.9136, 31.5668, 36.5048, 30.394, 38.2636, 26.668799999999997, 38.4324, 40.0144, 24.9272, 39.952799999999996, 28.6664, 29.7, 32.47, 33.552800000000005, 31.3308, 24.036800000000003, 32.983599999999996, 17.8104, 30.382400000000004, 38.4392, 35.748400000000004, 27.7536, 28.5704, 39.0048, 32.0252, 38.8964, 35.0312, 35.4268, 35.080799999999996, 28.5524, 30.246000000000002, 24.253999999999998, 17.3, 24.3492, 33.896, 32.5132, 38.955600000000004, 29.9452, 38.038799999999995, 29.232799999999997, 33.124399999999994, 30.676, 37.099599999999995, 35.9868, 35.9352, 24.1696, 30.813599999999997, 34.1092, 34.7448, 33.764399999999995, 31.1756, 33.386799999999994, 31.552, 32.0012, 38.2004, 26.8748, 29.7928, 33.186400000000006, 28.7, 36.3632, 31.5244, 27.876799999999996, 35.074, 20.4168, 29.9668, 31.608, 37.3752, 32.6428, 37.2136, 31.406, 38.1596, 33.2596, 37.489599999999996, 37.58, 32.3728, 24.821599999999997, 39.0792, 32.476, 25.3056, 35.68, 30.531200000000002, 32.800799999999995, 38.7, 26.0908, 42.2244, 31.574399999999997, 35.6908, 26.5, 32.434400000000004, 32.4392, 31.232799999999997, 36.544799999999995, 30.806, 37.3144, 26.4496, 40.5904, 29.020799999999998, 19.113599999999998, 13.2492, 40.194, 27.435599999999997, 14.5524, 14.656, 32.362, 31.5, 30.009999999999998, 36.794, 37.3416, 14.3352, 27.745199999999997, 25.0944, 28.7808, 22.1492, 30.772799999999997, 39.1388, 36.566, 22.884, 27.115199999999998, 39.5828, 22.082, 27.2944, 18.1184, 33.766, 26.3288, 37.67, 28.108399999999996, 35.774, 30.2352, 26.509999999999998, 26.2072, 24.6212, 32.004, 35.8912, 20.996, 39.27, 31.342, 30.0824, 40.4488, 39.6796, 32.6892, 34.332, 39.5972, 30.729200000000002, 27.744799999999998, 29.2136, 35.053200000000004, 27.791200000000003, 29.9444, 35.2584, 28.959200000000003, 33.844, 34.9444, 30.696799999999996, 25.4424, 33.040400000000005, 25.399599999999996, 30.6924, 36.687200000000004, 39.2764, 24.372799999999998, 23.4, 29.7248, 38.782799999999995, 22.637999999999998, 26.7972, 37.794, 32.838, 28.4892, 39.483999999999995, 27.5872, 33.8388, 29.6216, 32.5496, 38.7804, 35.0248, 30.4936, 40.0524, 36.1944, 37.211200000000005, 18.566, 23.3356, 33.983999999999995, 32.5456, 31.772799999999997, 40.9908, 33.965599999999995, 34.132000000000005, 32.57, 35.4732, 28.8112, 31.1064, 30.273599999999995, 26.0044, 23.0892, 35.5828, 28.466, 28.9912, 34.288799999999995, 34.9636, 31.531599999999997, 35.4964, 31.3532, 34.028800000000004, 26.874399999999998, 26.8, 34.8904, 39.5276, 28.432000000000002, 26.4496, 30.116799999999998, 26.659599999999998, 17.9, 38.3364, 38.9388, 37.4764, 34.395199999999996, 37.7076, 27.611600000000003, 29.5768, 37.4976, 31.5004, 21.1892, 28.9972, 33.162, 34.5124, 19.4664, 38.932, 13.0, 38.9284, 28.726, 34.831599999999995, 35.894400000000005, 27.714799999999997, 35.798, 26.5, 33.7792, 35.258, 32.3036, 39.2964, 20.3444, 29.5916, 31.593600000000002, 38.6736, 38.0312, 30.7516, 28.5644, 21.532, 37.8892, 27.240000000000002, 35.4704, 32.538399999999996, 29.891199999999998, 32.065200000000004, 30.5608, 32.307599999999994, 34.8804, 22.939999999999998, 25.152, 30.5076, 38.044799999999995, 38.9492, 36.3132, 27.0708, 32.626799999999996, 21.369999999999997, 35.332, 34.384, 17.000799999999998, 31.0084, 21.6, 37.7832, 33.6636, 36.234, 29.9016, 31.7656, 28.3208, 39.7756, 17.0864, 39.800399999999996, 19.2, 34.3588, 38.0768, 35.2692, 35.8596, 31.0392, 34.2284, 27.5, 39.6136, 19.3, 18.3552, 37.6868, 30.095599999999997, 31.3664, 37.3872, 35.376799999999996, 35.128, 29.1, 25.6892, 31.6004, 35.666399999999996, 38.2908, 31.873599999999996, 30.8152, 27.7828, 38.3756, 38.8844, 38.8464, 34.77119999999999, 33.4256, 33.5876, 34.729200000000006, 35.178399999999996, 27.5048, 39.36879999999999, 34.0072, 34.0836, 9.222399999999999, 31.2076, 36.1324, 38.3352, 38.29, 30.2576, 29.3652, 19.4284, 22.892799999999998, 37.1328, 37.4632, 23.5396, 39.3524, 27.2016, 39.7568, 37.294, 30.428400000000003, 37.010000000000005, 38.1044, 30.2716, 11.5, 32.2044, 35.3624, 27.2032, 28.0256, 34.4284, 39.668400000000005, 6.4, 30.023999999999997, 32.572, 31.1824, 28.548000000000002, 36.9456, 33.1036, 36.014799999999994, 36.3692, 31.1352, 30.828, 35.726, 32.6476, 37.41759999999999, 35.435599999999994, 18.293599999999998, 30.736, 37.916799999999995, 30.9576, 32.1864, 30.462400000000002, 39.8656, 28.5948, 39.641999999999996, 16.146, 27.348399999999998, 26.6488, 20.78, 25.461599999999997, 32.4072, 37.1824, 24.8052, 35.382400000000004, 22.053600000000003, 24.418400000000002, 23.8544, 37.258, 39.0152, 33.3804, 36.879999999999995, 24.6576, 37.5012, 31.089599999999997, 29.973999999999997, 41.5768, 39.6496, 29.936, 26.407200000000003, 29.6696, 35.824799999999996, 37.048, 32.1868, 19.4076, 36.674, 31.575599999999998, 36.318799999999996, 35.372, 18.6068, 28.0188, 32.2008, 32.2548, 25.6612, 24.313200000000002, 38.0436, 38.5768, 31.195999999999998, 31.349200000000003, 31.652, 32.584, 26.632399999999997, 27.363599999999998, 33.67, 29.304, 27.2668, 38.2008, 34.854, 34.718, 34.4868, 36.8132, 33.8456, 36.4876, 28.8596, 38.058400000000006, 28.712, 35.9004, 37.504, 36.5324, 34.0668, 25.5, 39.5492, 39.666, 35.1896, 26.918, 36.431200000000004, 11.9, 27.711199999999998, 32.6704, 31.0152, 26.129599999999996, 20.518, 25.6876, 37.3032, 36.111999999999995, 38.935599999999994, 24.2568, 34.983599999999996, 34.327600000000004, 18.823999999999998, 32.5048, 23.499599999999997, 33.544399999999996, 15.614799999999999, 37.5624, 34.325599999999994, 36.007999999999996, 20.6792, 26.256, 40.273599999999995, 20.598, 37.6216, 32.1972, 29.735599999999998, 25.6888, 32.770399999999995, 38.52719999999999, 39.6464, 31.281599999999997, 31.663600000000002, 37.873599999999996, 31.276400000000002, 29.8292, 38.754, 34.9308, 34.7288, 35.3988, 30.6828, 33.3972, 24.945999999999998, 36.7136, 37.1312, 35.2076, 36.032, 30.3876, 38.5036, 32.9736, 31.6256, 29.6464, 28.9084, 24.6024, 1.0, 27.8676, 31.6564, 28.3492, 31.1032, 31.190800000000003, 35.236000000000004, 28.4, 38.435599999999994, 23.2048, 31.3164, 30.022399999999998, 28.293599999999998, 28.3016, 31.2188, 35.1764, 32.538, 26.6684, 33.693599999999996, 28.0048, 34.1092, 27.5908, 35.77, 39.0548, 30.8444, 24.9608, 32.5796, 31.534799999999997, 34.362, 25.4, 32.47279999999999, 37.504, 30.5292, 35.5108, 26.794800000000002, 31.4932, 31.848, 16.3, 32.594, 38.687200000000004, 28.9284, 32.471599999999995, 28.131999999999998, 34.980000000000004, 30.1392, 19.3012, 28.3324, 33.768, 33.8172, 29.095199999999995, 35.7076, 33.9904, 19.8692, 31.9, 28.453200000000002, 28.543599999999998, 37.9332, 39.5112, 39.4484, 38.8324, 26.932000000000002, 31.648, 15.493599999999999, 19.6112, 28.7352, 28.1492, 19.877200000000002, 26.6836, 31.0276, 34.7008, 16.3624, 34.2452, 27.589199999999998, 37.58, 38.0312], \"z\": [2.83, 3.15, 2.73, 3.42, 3.44, 2.81, 3.26, 3.19, 3.34, 2.73, 2.94, 2.86, 3.35, 3.34, 3.33, 2.95, 3.34, 3.49, 3.33, 3.39, 3.25, 3.52, 3.34, 3.37, 3.39, 3.34, 3.18, 2.55, 3.25, 3.3, 3.37, 3.39, 3.4, 3.04, 3.26, 3.36, 3.47, 3.36, 3.26, 3.52, 3.25, 3.43, 2.83, 3.24, 1.64, 3.35, 3.38, 2.44, 3.37, 3.25, 3.39, 3.14, 3.17, 3.27, 3.35, 3.11, 3.25, 3.16, 3.37, 3.39, 2.64, 2.73, 3.14, 2.64, 2.55, 3.3, 3.17, 3.52, 3.4, 3.14, 3.26, 3.14, 3.33, 3.29, 3.26, 3.4, 2.89, 2.75, 2.81, 3.26, 3.52, 3.52, 2.64, 2.71, 3.29, 3.26, 3.52, 2.49, 3.36, 3.17, 3.35, 3.34, 3.52, 2.99, 3.15, 3.43, 3.52, 3.38, 3.41, 3.35, 3.35, 3.52, 3.16, 3.27, 3.38, 3.21, 3.26, 2.54, 3.05, 3.36, 2.99, 2.82, 3.24, 3.52, 3.52, 2.44, 3.27, 3.16, 3.42, 3.45, 3.11, 3.26, 3.52, 3.15, 3.33, 3.0, 3.37, 2.56, 3.52, 2.13, 3.26, 3.46, 2.04, 3.52, 3.44, 3.25, 3.28, 3.25, 3.21, 3.25, 3.24, 3.39, 3.33, 3.18, 3.25, 3.36, 3.4, 3.15, 2.92, 2.84, 3.36, 2.88, 3.15, 3.23, 3.37, 3.31, 2.35, 3.42, 3.52, 3.38, 3.34, 3.05, 3.15, 3.27, 3.25, 3.33, 3.2, 3.27, 3.14, 3.28, 3.15, 3.34, 3.25, 3.34, 3.15, 2.84, 3.26, 3.14, 3.41, 3.33, 3.17, 3.38, 3.05, 3.36, 3.52, 2.74, 2.89, 3.18, 3.32, 3.45, 3.38, 3.14, 2.84, 3.05, 3.17, 3.2, 3.05, 3.3, 3.37, 3.52, 3.32, 3.52, 2.55, 3.52, 3.34, 2.76, 3.25, 3.23, 3.25, 3.41, 3.05, 3.36, 2.55, 2.94, 2.89, 3.22, 3.43, 2.49, 3.32, 3.14, 3.18, 2.45, 2.84, 3.44, 3.32, 2.56, 3.25, 3.24, 3.05, 2.95, 3.06, 2.73, 3.26, 3.25, 3.03, 3.04, 2.85, 3.48, 3.27, 3.32, 3.36, 2.83, 3.19, 3.03, 3.15, 3.24, 2.73, 3.41, 3.4, 3.04, 3.25, 3.16, 3.41, 3.16, 3.33, 3.47, 2.73, 3.41, 3.26, 3.31, 2.95, 2.88, 3.25, 3.13, 2.5, 3.52, 3.15, 3.34, 2.84, 3.34, 3.26, 3.34, 2.94, 3.39, 2.64, 3.52, 3.27, 3.21, 3.15, 2.53, 3.25, 3.31, 3.38, 2.88, 3.34, 2.77, 2.83, 3.39, 3.52, 3.05, 3.15, 3.38, 3.35, 3.2, 3.52, 3.04, 3.52, 3.25, 3.3, 3.23, 3.52, 3.34, 3.22, 3.31, 3.45, 3.16, 3.26, 3.26, 3.05, 3.32, 3.44, 3.4, 3.25, 3.26, 3.04, 3.34, 2.73, 3.44, 3.38, 3.28, 3.34, 3.34, 3.37, 2.64, 3.24, 3.16, 3.33, 2.44, 3.42, 2.94, 3.05, 3.4, 3.2, 3.44, 2.83, 3.47, 3.26, 3.39, 3.38, 2.93, 3.52, 3.52, 3.42, 3.22, 3.4, 3.32, 2.73, 3.32, 3.4, 3.11, 3.26, 3.26, 3.23, 2.93, 2.74, 3.27, 3.33, 3.15, 2.45, 3.24, 3.0, 2.64, 2.91, 3.48, 2.99, 2.95, 3.39, 3.34, 3.15, 3.37, 3.52, 3.26, 2.03, 2.35, 3.32, 3.35, 3.52, 2.74, 3.26, 3.0, 2.44, 3.36, 3.27, 3.43, 3.35, 3.38, 2.83, 3.41, 3.26, 3.4, 3.44, 3.25, 3.15, 3.36, 3.07, 3.15, 3.35, 2.97, 3.34, 2.83, 2.84, 2.73, 3.26, 2.35, 3.33, 3.42, 3.17, 2.84, 3.33, 2.84, 2.95, 2.66, 3.3, 3.32, 2.34, 3.26, 3.27, 3.18, 3.52, 3.52, 3.36, 3.27, 3.1, 3.05, 3.37, 3.4, 3.15, 3.35, 3.05, 3.47, 3.04, 3.43, 2.75, 3.41, 3.34, 3.52, 3.26, 3.29, 3.04, 3.29, 3.52, 3.43, 3.25, 2.9, 3.21, 3.25, 3.04, 3.27, 3.52, 3.52, 3.41, 2.54, 3.17, 3.44, 3.27, 3.34, 3.52, 2.93, 3.52, 2.98, 2.54, 3.24, 3.47, 3.18, 3.27, 3.26, 2.44, 3.34, 3.17, 3.26, 2.95, 3.41, 3.52, 2.73, 3.25, 3.18, 3.14, 3.34, 3.34, 2.77, 3.34, 3.34, 3.34, 3.25, 2.43, 3.4, 2.88, 3.15, 2.84, 3.52, 3.23, 2.9, 3.4, 3.52, 3.23, 3.4, 3.39, 3.24, 3.52, 3.25, 3.31, 3.52, 3.38, 3.26, 3.41, 3.25, 3.26, 3.14, 3.37, 2.59, 3.22, 3.14, 3.25, 3.25, 3.52, 3.25, 2.64, 3.24, 2.84, 2.77, 3.34, 2.83, 3.3, 3.29, 3.24, 3.35, 3.47, 3.41, 3.39, 2.93, 3.17, 3.25, 3.31, 3.24, 3.41, 3.39, 3.52, 3.36, 3.39, 3.15, 2.82, 3.11, 3.52, 3.39, 3.39, 2.54, 2.39, 3.27, 3.25, 3.32, 3.38, 3.15, 3.52, 3.04, 3.25, 3.52, 2.96, 3.42, 3.34, 3.39, 3.03, 3.21, 3.33, 2.64, 2.74, 3.52, 3.52, 2.96, 3.26, 3.38, 3.35, 3.33, 2.96, 3.18, 3.25, 3.21, 3.34, 3.31, 3.2, 3.18, 3.44, 3.11, 3.34, 2.95, 3.07, 3.2, 3.52, 3.44, 3.25, 3.47, 3.18, 3.0, 2.54, 3.35, 3.25, 3.16, 3.35, 3.35, 3.35, 3.26, 3.35, 3.42, 3.41, 2.64, 3.52, 3.23, 2.32, 3.39, 3.44, 3.36, 2.54, 3.45, 3.42, 2.63, 3.35, 3.36, 3.37, 3.34, 3.33, 3.23, 3.29, 3.03, 3.0, 3.52, 3.04, 3.46, 3.38, 3.26, 3.09, 3.13, 3.06, 3.16, 3.52, 3.46, 3.35, 3.48, 3.42, 3.35, 2.83, 3.38, 3.32, 3.03, 2.67, 2.74, 3.34, 3.52, 3.44, 3.52, 3.35, 2.75, 2.67, 3.52, 3.43, 3.52, 3.34, 2.77, 2.74, 3.31, 2.94, 3.15, 3.35, 3.52, 2.35, 3.34, 3.52, 3.52, 3.41, 3.35, 2.64, 3.35, 3.25, 3.25, 3.26, 3.42, 3.43, 3.31, 3.3, 3.15, 3.52, 3.35, 3.41, 3.36, 3.39, 3.42, 2.73, 3.26, 2.84, 3.27, 3.52, 3.52, 3.5, 3.32, 3.01, 2.56, 3.28, 3.33, 3.24, 3.33, 3.32, 3.41, 3.38, 3.34, 3.27, 3.38, 3.32, 3.42, 3.4, 2.68, 2.44, 3.05, 3.25, 3.14, 2.77, 3.2, 3.24, 3.37, 2.83, 2.64, 3.26, 2.73, 3.22, 3.35, 3.21, 3.23, 3.21, 3.34, 3.33, 3.52, 3.41, 3.52, 3.52, 3.52, 3.04, 3.37, 3.41, 3.21, 3.33, 3.52, 3.52, 3.36, 3.32, 3.05, 3.15, 3.2, 3.28, 3.36, 2.84, 3.24, 3.1, 3.39, 2.94, 3.35, 3.35, 3.15, 3.25, 3.24, 2.73, 3.32, 3.35, 3.52, 3.52, 3.14, 3.52, 3.16, 3.52, 3.44, 3.48, 3.26, 3.43, 3.25, 3.14, 3.35, 3.52, 3.52, 3.25, 2.54, 2.67, 3.41, 3.13, 3.42, 3.27, 2.46, 3.27, 3.03, 3.03, 2.95, 3.41, 3.38, 3.33, 2.75, 3.42, 3.36, 3.26, 3.35, 2.64, 3.35, 3.52, 3.25, 2.83, 3.32, 3.38, 3.52, 3.15, 3.52, 2.83, 3.26, 3.48, 3.27, 3.0, 3.39, 3.15, 3.18, 3.25, 3.43, 3.26, 3.15, 3.1, 3.52, 3.25, 3.35, 3.37, 3.52, 2.66, 2.39, 2.34, 3.43, 2.73, 3.31, 3.38, 3.52, 3.44, 3.05, 3.4, 3.25, 3.35, 3.34, 3.36, 3.26, 3.36, 2.46, 2.83, 3.29, 3.34, 3.26, 3.35, 3.25, 3.31, 3.25, 3.27, 3.04, 3.37, 3.23, 2.84, 3.04, 2.45, 3.35, 3.49, 3.33, 3.52, 2.91, 3.0, 3.37, 1.93, 3.39, 3.34, 3.52, 2.53, 2.44, 3.25, 3.34, 3.21, 3.34, 3.03, 3.24, 3.46, 3.42, 3.36, 3.52, 2.83, 3.45, 3.32, 3.38, 3.39, 3.25, 3.01, 3.33, 3.26, 3.35, 2.08, 2.54, 3.42, 3.05, 3.16, 3.15, 2.94, 3.18, 3.16, 3.24, 3.26, 3.27, 2.55, 3.25, 3.27, 3.05, 3.2, 3.25, 3.07, 3.25, 3.27, 2.74, 3.43, 2.72, 3.52, 2.94, 2.83, 3.21, 3.42, 3.41, 3.05, 3.41, 3.34, 3.36, 3.27, 3.34, 3.34, 3.25, 3.41, 3.48, 3.14, 3.32, 3.33, 2.64, 3.28, 3.14, 3.1, 3.52, 3.26, 3.05, 3.26, 3.33, 2.25, 3.34, 3.36, 3.26, 2.72, 3.2, 3.34, 3.17, 3.36, 3.2, 2.46, 3.26, 3.27, 3.37, 3.31, 3.25, 3.12, 3.2, 3.24, 3.16, 2.83, 3.52, 3.27, 3.14, 2.5, 2.45, 3.04, 3.37, 3.23, 2.74, 2.54, 3.3, 3.32, 3.05, 3.52, 3.34, 3.25, 1.83, 3.52, 3.52, 3.33, 3.25, 2.44, 2.74, 3.21, 3.38, 2.69, 2.82, 2.45, 3.25, 3.27, 3.4, 3.41, 3.34, 2.64, 3.26, 3.25, 2.73, 3.34, 3.16, 2.56, 3.27, 3.41, 3.35, 3.44, 3.31, 2.71, 2.65, 3.39, 3.42, 2.99, 3.38, 3.26, 3.34, 2.44, 3.32, 1.93, 3.35, 3.44, 3.52, 3.18, 3.25, 3.14, 3.05, 3.44, 3.16, 2.84, 2.54, 2.43, 3.4, 3.32, 3.25, 2.84, 2.64, 3.07, 2.83, 3.26, 3.16, 3.52, 3.35, 3.16, 3.45, 3.35, 3.46, 3.52, 2.74, 3.37, 3.26, 3.25, 3.27, 3.52, 3.3, 3.34, 3.15, 3.35, 2.64, 3.44, 3.32, 3.35, 3.04, 2.8, 3.52, 3.15, 1.83, 3.06, 3.52, 3.35, 3.26, 3.15, 3.39, 2.95, 3.52, 3.15, 3.32, 3.33, 3.25, 2.95, 3.52, 3.27, 3.04, 2.73, 3.05, 3.52, 3.25, 3.13, 3.16, 3.42, 2.99, 3.52, 3.31, 3.15, 3.25, 3.47, 3.31, 3.34, 3.35, 3.15, 2.83, 2.54, 3.05, 3.52, 3.49, 2.53, 3.15, 3.42, 3.36, 3.2, 3.52, 3.17, 3.41, 3.42, 3.41, 3.36, 3.41, 3.52, 2.64, 3.52, 3.48, 3.12, 3.52, 2.44, 3.33, 3.52, 2.95, 3.43, 3.26, 2.82, 3.52, 3.35, 3.04, 3.52, 3.16, 3.52, 3.42, 3.28, 3.17, 3.41, 3.26, 3.33, 3.52, 3.41, 2.37, 3.26, 3.32, 3.45, 2.84, 3.52, 2.73, 3.11, 3.35, 3.25, 2.44, 2.45, 3.34, 3.32, 3.52, 3.25, 2.85, 3.06, 3.34, 3.04, 3.24, 2.78, 2.94, 2.84, 3.25, 3.24, 2.64, 3.26, 3.34, 3.48, 3.34, 2.75, 3.41, 3.39, 3.32, 3.16, 3.39, 3.26, 2.84, 3.48, 2.44, 3.27, 2.64, 3.14, 3.52, 2.25, 3.52, 3.24, 2.65, 3.35, 3.27, 3.31, 3.17, 3.16, 3.3, 3.43, 3.35, 1.92, 3.34, 3.52, 3.52, 3.13, 3.38, 3.52, 3.3, 3.15, 3.05, 3.26, 3.22, 3.35, 3.21, 3.36, 3.52, 3.34, 2.34, 3.15, 3.34, 3.52, 2.95, 2.76, 3.35, 3.18, 3.22, 3.26, 2.95, 3.33, 2.54, 3.52, 3.15, 2.89, 3.52, 3.35, 3.22, 3.33, 3.18, 3.39, 2.64, 3.04, 3.14, 3.52, 3.25, 3.35, 3.52, 3.3, 3.24, 2.76, 3.26, 3.19, 3.34, 3.33, 3.25, 3.33, 3.27, 3.13, 3.38, 3.31, 2.64, 2.74, 3.35, 2.93, 3.33, 3.27, 3.42, 3.43, 3.34, 3.52, 3.35, 3.36, 3.37, 3.36, 3.52, 2.35, 2.46, 2.54, 3.52, 3.37, 3.52, 3.34, 3.03, 3.36, 3.42, 3.24, 2.72, 3.45, 3.26, 3.41, 3.34, 3.25]}],\n",
              "                        {\"height\": 800, \"margin\": {\"b\": 65, \"l\": 65, \"r\": 50, \"t\": 90}, \"scene\": {\"xaxis\": {\"title\": {\"text\": \"Calidad esperada\"}}, \"yaxis\": {\"title\": {\"text\": \"Costo Calculado\"}}, \"zaxis\": {\"title\": {\"text\": \"Aspiraci\\u00f3n\"}}}, \"template\": {\"data\": {\"bar\": [{\"error_x\": {\"color\": \"#2a3f5f\"}, \"error_y\": {\"color\": \"#2a3f5f\"}, \"marker\": {\"line\": {\"color\": \"#E5ECF6\", \"width\": 0.5}}, \"type\": \"bar\"}], \"barpolar\": [{\"marker\": {\"line\": {\"color\": \"#E5ECF6\", \"width\": 0.5}}, \"type\": \"barpolar\"}], \"carpet\": [{\"aaxis\": {\"endlinecolor\": \"#2a3f5f\", \"gridcolor\": \"white\", \"linecolor\": \"white\", \"minorgridcolor\": \"white\", \"startlinecolor\": \"#2a3f5f\"}, \"baxis\": {\"endlinecolor\": \"#2a3f5f\", \"gridcolor\": \"white\", \"linecolor\": \"white\", \"minorgridcolor\": \"white\", \"startlinecolor\": \"#2a3f5f\"}, \"type\": \"carpet\"}], \"choropleth\": [{\"colorbar\": {\"outlinewidth\": 0, \"ticks\": \"\"}, \"type\": \"choropleth\"}], \"contour\": [{\"colorbar\": {\"outlinewidth\": 0, \"ticks\": \"\"}, \"colorscale\": [[0.0, \"#0d0887\"], [0.1111111111111111, \"#46039f\"], [0.2222222222222222, \"#7201a8\"], [0.3333333333333333, \"#9c179e\"], [0.4444444444444444, \"#bd3786\"], [0.5555555555555556, \"#d8576b\"], [0.6666666666666666, \"#ed7953\"], [0.7777777777777778, \"#fb9f3a\"], [0.8888888888888888, \"#fdca26\"], [1.0, \"#f0f921\"]], \"type\": \"contour\"}], \"contourcarpet\": [{\"colorbar\": {\"outlinewidth\": 0, \"ticks\": \"\"}, \"type\": \"contourcarpet\"}], \"heatmap\": [{\"colorbar\": {\"outlinewidth\": 0, \"ticks\": \"\"}, \"colorscale\": [[0.0, \"#0d0887\"], [0.1111111111111111, \"#46039f\"], [0.2222222222222222, \"#7201a8\"], [0.3333333333333333, \"#9c179e\"], [0.4444444444444444, \"#bd3786\"], [0.5555555555555556, \"#d8576b\"], [0.6666666666666666, \"#ed7953\"], [0.7777777777777778, \"#fb9f3a\"], [0.8888888888888888, \"#fdca26\"], [1.0, \"#f0f921\"]], \"type\": \"heatmap\"}], \"heatmapgl\": [{\"colorbar\": {\"outlinewidth\": 0, \"ticks\": \"\"}, \"colorscale\": [[0.0, \"#0d0887\"], [0.1111111111111111, \"#46039f\"], [0.2222222222222222, \"#7201a8\"], [0.3333333333333333, \"#9c179e\"], [0.4444444444444444, \"#bd3786\"], [0.5555555555555556, \"#d8576b\"], [0.6666666666666666, \"#ed7953\"], [0.7777777777777778, \"#fb9f3a\"], [0.8888888888888888, \"#fdca26\"], [1.0, \"#f0f921\"]], \"type\": \"heatmapgl\"}], \"histogram\": [{\"marker\": {\"colorbar\": {\"outlinewidth\": 0, \"ticks\": \"\"}}, \"type\": \"histogram\"}], \"histogram2d\": [{\"colorbar\": {\"outlinewidth\": 0, \"ticks\": \"\"}, \"colorscale\": [[0.0, \"#0d0887\"], [0.1111111111111111, \"#46039f\"], [0.2222222222222222, \"#7201a8\"], [0.3333333333333333, \"#9c179e\"], [0.4444444444444444, \"#bd3786\"], [0.5555555555555556, \"#d8576b\"], [0.6666666666666666, \"#ed7953\"], [0.7777777777777778, \"#fb9f3a\"], [0.8888888888888888, \"#fdca26\"], [1.0, \"#f0f921\"]], \"type\": \"histogram2d\"}], \"histogram2dcontour\": [{\"colorbar\": {\"outlinewidth\": 0, \"ticks\": \"\"}, \"colorscale\": [[0.0, \"#0d0887\"], [0.1111111111111111, \"#46039f\"], [0.2222222222222222, \"#7201a8\"], [0.3333333333333333, \"#9c179e\"], [0.4444444444444444, \"#bd3786\"], [0.5555555555555556, \"#d8576b\"], [0.6666666666666666, \"#ed7953\"], [0.7777777777777778, \"#fb9f3a\"], [0.8888888888888888, \"#fdca26\"], [1.0, \"#f0f921\"]], \"type\": \"histogram2dcontour\"}], \"mesh3d\": [{\"colorbar\": {\"outlinewidth\": 0, \"ticks\": \"\"}, \"type\": \"mesh3d\"}], \"parcoords\": [{\"line\": {\"colorbar\": {\"outlinewidth\": 0, \"ticks\": \"\"}}, \"type\": \"parcoords\"}], \"pie\": [{\"automargin\": true, \"type\": \"pie\"}], \"scatter\": [{\"marker\": {\"colorbar\": {\"outlinewidth\": 0, \"ticks\": \"\"}}, \"type\": \"scatter\"}], \"scatter3d\": [{\"line\": {\"colorbar\": {\"outlinewidth\": 0, \"ticks\": \"\"}}, \"marker\": {\"colorbar\": {\"outlinewidth\": 0, \"ticks\": \"\"}}, \"type\": \"scatter3d\"}], \"scattercarpet\": [{\"marker\": {\"colorbar\": {\"outlinewidth\": 0, \"ticks\": \"\"}}, \"type\": \"scattercarpet\"}], \"scattergeo\": [{\"marker\": {\"colorbar\": {\"outlinewidth\": 0, \"ticks\": \"\"}}, \"type\": \"scattergeo\"}], \"scattergl\": [{\"marker\": {\"colorbar\": {\"outlinewidth\": 0, \"ticks\": \"\"}}, \"type\": \"scattergl\"}], \"scattermapbox\": [{\"marker\": {\"colorbar\": {\"outlinewidth\": 0, \"ticks\": \"\"}}, \"type\": \"scattermapbox\"}], \"scatterpolar\": [{\"marker\": {\"colorbar\": {\"outlinewidth\": 0, \"ticks\": \"\"}}, \"type\": \"scatterpolar\"}], \"scatterpolargl\": [{\"marker\": {\"colorbar\": {\"outlinewidth\": 0, \"ticks\": \"\"}}, \"type\": \"scatterpolargl\"}], \"scatterternary\": [{\"marker\": {\"colorbar\": {\"outlinewidth\": 0, \"ticks\": \"\"}}, \"type\": \"scatterternary\"}], \"surface\": [{\"colorbar\": {\"outlinewidth\": 0, \"ticks\": \"\"}, \"colorscale\": [[0.0, \"#0d0887\"], [0.1111111111111111, \"#46039f\"], [0.2222222222222222, \"#7201a8\"], [0.3333333333333333, \"#9c179e\"], [0.4444444444444444, \"#bd3786\"], [0.5555555555555556, \"#d8576b\"], [0.6666666666666666, \"#ed7953\"], [0.7777777777777778, \"#fb9f3a\"], [0.8888888888888888, \"#fdca26\"], [1.0, \"#f0f921\"]], \"type\": \"surface\"}], \"table\": [{\"cells\": {\"fill\": {\"color\": \"#EBF0F8\"}, \"line\": {\"color\": \"white\"}}, \"header\": {\"fill\": {\"color\": \"#C8D4E3\"}, \"line\": {\"color\": \"white\"}}, \"type\": \"table\"}]}, \"layout\": {\"annotationdefaults\": {\"arrowcolor\": \"#2a3f5f\", \"arrowhead\": 0, \"arrowwidth\": 1}, \"coloraxis\": {\"colorbar\": {\"outlinewidth\": 0, \"ticks\": \"\"}}, \"colorscale\": {\"diverging\": [[0, \"#8e0152\"], [0.1, \"#c51b7d\"], [0.2, \"#de77ae\"], [0.3, \"#f1b6da\"], [0.4, \"#fde0ef\"], [0.5, \"#f7f7f7\"], [0.6, \"#e6f5d0\"], [0.7, \"#b8e186\"], [0.8, \"#7fbc41\"], [0.9, \"#4d9221\"], [1, \"#276419\"]], \"sequential\": [[0.0, \"#0d0887\"], [0.1111111111111111, \"#46039f\"], [0.2222222222222222, \"#7201a8\"], [0.3333333333333333, \"#9c179e\"], [0.4444444444444444, \"#bd3786\"], [0.5555555555555556, \"#d8576b\"], [0.6666666666666666, \"#ed7953\"], [0.7777777777777778, \"#fb9f3a\"], [0.8888888888888888, \"#fdca26\"], [1.0, \"#f0f921\"]], \"sequentialminus\": [[0.0, \"#0d0887\"], [0.1111111111111111, \"#46039f\"], [0.2222222222222222, \"#7201a8\"], [0.3333333333333333, \"#9c179e\"], [0.4444444444444444, \"#bd3786\"], [0.5555555555555556, \"#d8576b\"], [0.6666666666666666, \"#ed7953\"], [0.7777777777777778, \"#fb9f3a\"], [0.8888888888888888, \"#fdca26\"], [1.0, \"#f0f921\"]]}, \"colorway\": [\"#636efa\", \"#EF553B\", \"#00cc96\", \"#ab63fa\", \"#FFA15A\", \"#19d3f3\", \"#FF6692\", \"#B6E880\", \"#FF97FF\", \"#FECB52\"], \"font\": {\"color\": \"#2a3f5f\"}, \"geo\": {\"bgcolor\": \"white\", \"lakecolor\": \"white\", \"landcolor\": \"#E5ECF6\", \"showlakes\": true, \"showland\": true, \"subunitcolor\": \"white\"}, \"hoverlabel\": {\"align\": \"left\"}, \"hovermode\": \"closest\", \"mapbox\": {\"style\": \"light\"}, \"paper_bgcolor\": \"white\", \"plot_bgcolor\": \"#E5ECF6\", \"polar\": {\"angularaxis\": {\"gridcolor\": \"white\", \"linecolor\": \"white\", \"ticks\": \"\"}, \"bgcolor\": \"#E5ECF6\", \"radialaxis\": {\"gridcolor\": \"white\", \"linecolor\": \"white\", \"ticks\": \"\"}}, \"scene\": {\"xaxis\": {\"backgroundcolor\": \"#E5ECF6\", \"gridcolor\": \"white\", \"gridwidth\": 2, \"linecolor\": \"white\", \"showbackground\": true, \"ticks\": \"\", \"zerolinecolor\": \"white\"}, \"yaxis\": {\"backgroundcolor\": \"#E5ECF6\", \"gridcolor\": \"white\", \"gridwidth\": 2, \"linecolor\": \"white\", \"showbackground\": true, \"ticks\": \"\", \"zerolinecolor\": \"white\"}, \"zaxis\": {\"backgroundcolor\": \"#E5ECF6\", \"gridcolor\": \"white\", \"gridwidth\": 2, \"linecolor\": \"white\", \"showbackground\": true, \"ticks\": \"\", \"zerolinecolor\": \"white\"}}, \"shapedefaults\": {\"line\": {\"color\": \"#2a3f5f\"}}, \"ternary\": {\"aaxis\": {\"gridcolor\": \"white\", \"linecolor\": \"white\", \"ticks\": \"\"}, \"baxis\": {\"gridcolor\": \"white\", \"linecolor\": \"white\", \"ticks\": \"\"}, \"bgcolor\": \"#E5ECF6\", \"caxis\": {\"gridcolor\": \"white\", \"linecolor\": \"white\", \"ticks\": \"\"}}, \"title\": {\"x\": 0.05}, \"xaxis\": {\"automargin\": true, \"gridcolor\": \"white\", \"linecolor\": \"white\", \"ticks\": \"\", \"title\": {\"standoff\": 15}, \"zerolinecolor\": \"white\", \"zerolinewidth\": 2}, \"yaxis\": {\"automargin\": true, \"gridcolor\": \"white\", \"linecolor\": \"white\", \"ticks\": \"\", \"title\": {\"standoff\": 15}, \"zerolinecolor\": \"white\", \"zerolinewidth\": 2}}}, \"title\": {\"text\": \"Calidad y Costo vs Aspiraci\\u00f3n\"}, \"width\": 800},\n",
              "                        {\"responsive\": true}\n",
              "                    ).then(function(){\n",
              "                            \n",
              "var gd = document.getElementById('68b05e3c-cbba-46f3-8c2a-3a2fba44f4e2');\n",
              "var x = new MutationObserver(function (mutations, observer) {{\n",
              "        var display = window.getComputedStyle(gd).display;\n",
              "        if (!display || display === 'none') {{\n",
              "            console.log([gd, 'removed!']);\n",
              "            Plotly.purge(gd);\n",
              "            observer.disconnect();\n",
              "        }}\n",
              "}});\n",
              "\n",
              "// Listen for the removal of the full notebook cells\n",
              "var notebookContainer = gd.closest('#notebook-container');\n",
              "if (notebookContainer) {{\n",
              "    x.observe(notebookContainer, {childList: true});\n",
              "}}\n",
              "\n",
              "// Listen for the clearing of the current output cell\n",
              "var outputEl = gd.closest('.output');\n",
              "if (outputEl) {{\n",
              "    x.observe(outputEl, {childList: true});\n",
              "}}\n",
              "\n",
              "                        })\n",
              "                };\n",
              "                \n",
              "            </script>\n",
              "        </div>\n",
              "</body>\n",
              "</html>"
            ]
          },
          "metadata": {
            "tags": []
          }
        }
      ]
    },
    {
      "cell_type": "code",
      "metadata": {
        "id": "Lr__K45FG9i3"
      },
      "source": [
        "figT.write_html(\"images/Aspiracion.html\")"
      ],
      "execution_count": 55,
      "outputs": []
    },
    {
      "cell_type": "code",
      "metadata": {
        "id": "6nv0MSBPE4w4",
        "colab": {
          "base_uri": "https://localhost:8080/",
          "height": 817
        },
        "outputId": "8f645eda-a07c-4abf-ea5a-03a82a394301"
      },
      "source": [
        "import plotly.graph_objects as go\n",
        "import plotly.express as px\n",
        "\n",
        "figT = go.Figure(data=go.Scatter3d(\n",
        "    x=new_X_val['Calidad'],\n",
        "    y=new_X_val['Costo'],\n",
        "    z=new_X_val['EC'],\n",
        "    mode='markers',\n",
        "    marker=dict(\n",
        "        size=5,\n",
        "        sizemode='diameter',\n",
        "        sizeref=1500,\n",
        "        color = new_X_val['Costo'],\n",
        "        colorscale =[[0,'lime'],[0.5,'red']],\n",
        "        line_color='rgb(140, 140, 170)')))\n",
        "\n",
        "figT.select_xaxes(['Aceptable','Regular','Bueno','Excelente'])\n",
        "\n",
        "figT.update_layout(height=800, width=800,\n",
        "                  title='Calidad y Costo vs Energía Calórica',\n",
        "                  margin=dict(l=65, r=50, b=65, t=90),\n",
        "                  scene = dict( xaxis = dict(title='Calidad esperada'),\n",
        "                                yaxis = dict(title='Costo Calculado'),\n",
        "                                zaxis = dict(title='Energía Calórica'),),)"
      ],
      "execution_count": 56,
      "outputs": [
        {
          "output_type": "display_data",
          "data": {
            "text/html": [
              "<html>\n",
              "<head><meta charset=\"utf-8\" /></head>\n",
              "<body>\n",
              "    <div>\n",
              "            <script src=\"https://cdnjs.cloudflare.com/ajax/libs/mathjax/2.7.5/MathJax.js?config=TeX-AMS-MML_SVG\"></script><script type=\"text/javascript\">if (window.MathJax) {MathJax.Hub.Config({SVG: {font: \"STIX-Web\"}});}</script>\n",
              "                <script type=\"text/javascript\">window.PlotlyConfig = {MathJaxConfig: 'local'};</script>\n",
              "        <script src=\"https://cdn.plot.ly/plotly-latest.min.js\"></script>    \n",
              "            <div id=\"5ab969a8-7796-406a-906d-4641a7712c11\" class=\"plotly-graph-div\" style=\"height:800px; width:800px;\"></div>\n",
              "            <script type=\"text/javascript\">\n",
              "                \n",
              "                    window.PLOTLYENV=window.PLOTLYENV || {};\n",
              "                    \n",
              "                if (document.getElementById(\"5ab969a8-7796-406a-906d-4641a7712c11\")) {\n",
              "                    Plotly.newPlot(\n",
              "                        '5ab969a8-7796-406a-906d-4641a7712c11',\n",
              "                        [{\"marker\": {\"color\": [39.8584, 34.9244, 32.9492, 38.28, 38.6076, 22.626, 28.441599999999998, 24.5428, 25.1768, 37.8632, 36.6912, 30.4696, 39.3732, 34.0456, 36.3488, 41.251599999999996, 37.599599999999995, 33.4628, 29.0756, 27.852400000000003, 32.456, 31.2796, 32.0276, 32.6068, 19.186, 35.428, 34.9868, 40.3044, 32.2996, 29.712, 24.2944, 24.7, 35.8936, 27.764, 26.9732, 31.4668, 36.4768, 33.624399999999994, 29.772399999999998, 31.8308, 32.146, 37.1588, 39.0068, 32.3588, 31.5944, 28.1144, 34.7044, 35.766799999999996, 36.9072, 38.9388, 11.0, 38.9044, 30.672799999999995, 32.756, 34.4764, 36.9632, 33.894400000000005, 34.4524, 39.9904, 34.7208, 39.5924, 13.0, 31.3444, 36.6184, 26.056400000000004, 33.1316, 34.7144, 37.162400000000005, 38.7592, 33.2144, 33.824, 22.8512, 35.9616, 37.0696, 37.065599999999996, 28.5, 37.2692, 19.7732, 38.8288, 34.052800000000005, 39.403999999999996, 33.9452, 19.2908, 31.6392, 21.2668, 22.811999999999998, 18.3172, 26.77, 34.6248, 26.352800000000002, 34.099599999999995, 36.0792, 29.1556, 35.5144, 30.414, 36.4032, 33.7384, 32.2248, 33.7624, 30.8172, 36.29, 21.4304, 33.1932, 35.282, 25.5432, 30.5512, 25.5628, 13.4664, 37.028800000000004, 38.111999999999995, 37.856, 25.3296, 35.142399999999995, 35.4, 33.138400000000004, 34.8048, 37.89, 27.3464, 30.8236, 35.2248, 39.2708, 37.47, 31.4588, 32.010400000000004, 28.8008, 35.6736, 26.9908, 39.512, 35.214, 28.746399999999998, 32.5484, 31.503999999999998, 36.4908, 25.824399999999997, 28.0872, 37.322, 24.7832, 31.3704, 31.6812, 16.345599999999997, 37.3204, 37.5276, 37.3044, 22.6132, 28.144799999999996, 28.8388, 33.117599999999996, 23.64, 24.4264, 37.7964, 23.747199999999996, 35.0204, 26.8052, 29.938799999999997, 27.6592, 34.8508, 30.607599999999998, 31.796, 36.0728, 36.0976, 37.147999999999996, 31.584799999999998, 35.856, 32.703199999999995, 34.5308, 38.1492, 37.7352, 26.4596, 26.8352, 38.6252, 28.259999999999998, 36.430800000000005, 39.8524, 38.6188, 36.19, 33.46, 34.8972, 38.1708, 32.998, 20.5116, 34.7696, 30.3, 32.8324, 35.2868, 40.7768, 23.4288, 18.073999999999998, 16.8692, 34.290400000000005, 24.8204, 25.1664, 18.5804, 33.1464, 25.4804, 19.2584, 29.008799999999997, 27.8532, 33.7388, 36.028800000000004, 30.048000000000002, 33.790400000000005, 34.2552, 36.239599999999996, 26.7564, 33.2656, 34.672799999999995, 22.214, 28.2312, 33.3432, 28.397199999999998, 9.5, 30.676, 36.9464, 31.263599999999997, 36.0376, 34.6592, 18.968799999999998, 27.9904, 31.4732, 24.691200000000002, 36.2184, 38.1736, 40.4248, 32.4976, 29.095999999999997, 29.756400000000003, 33.2352, 32.1576, 28.282400000000003, 34.042, 25.9916, 38.76, 32.306400000000004, 32.013999999999996, 30.7096, 37.2288, 27.035999999999998, 34.0732, 38.873599999999996, 38.7928, 17.0, 24.522, 36.4084, 28.131999999999998, 33.2616, 31.6796, 39.586, 37.4304, 34.9456, 38.373599999999996, 30.9444, 31.4912, 28.6824, 37.9868, 30.491999999999997, 33.8732, 37.1736, 22.3992, 34.4252, 29.4, 39.7868, 32.3452, 31.865599999999997, 32.2416, 25.761599999999998, 38.955600000000004, 25.5972, 34.7104, 37.42, 32.4904, 34.6208, 27.086799999999997, 32.6524, 33.5892, 39.16, 33.2552, 37.1008, 35.5216, 29.331200000000003, 28.4408, 34.7172, 28.86, 33.8528, 28.456799999999998, 34.1312, 34.3012, 27.580399999999997, 29.955599999999997, 37.97, 36.1012, 29.363599999999998, 17.7, 33.5804, 23.172799999999995, 18.0276, 33.6356, 39.6212, 39.455600000000004, 6.4, 24.9228, 31.1248, 36.2268, 26.8, 38.1528, 34.842, 37.4632, 36.147999999999996, 33.3976, 22.1544, 40.824799999999996, 33.8044, 25.918, 35.642399999999995, 29.825599999999998, 37.6356, 26.0612, 34.806400000000004, 36.7316, 35.065599999999996, 34.376799999999996, 20.6, 37.6768, 36.5216, 41.5516, 18.9732, 37.622, 30.7864, 40.9248, 33.038799999999995, 38.05, 37.3804, 37.587199999999996, 37.3428, 39.480000000000004, 35.8412, 32.1768, 27.3172, 34.5072, 29.9, 29.389200000000002, 34.2416, 35.437200000000004, 39.618, 37.1112, 34.352000000000004, 39.2148, 38.1756, 32.648399999999995, 6.8, 35.9472, 28.608, 36.5524, 19.258, 34.674, 26.9876, 18.5344, 14.6472, 32.9104, 36.6704, 36.334, 34.6772, 39.6756, 35.3596, 39.6976, 27.334, 36.6804, 32.6348, 35.0908, 36.126000000000005, 33.2108, 31.575599999999998, 26.6292, 28.6332, 26.27, 33.684, 37.2144, 28.1064, 33.063199999999995, 18.6068, 39.0836, 31.401200000000003, 30.8512, 20.1856, 19.186, 38.1928, 34.1752, 40.2412, 39.33, 30.387999999999998, 34.209199999999996, 23.1252, 36.4004, 30.412800000000004, 34.752, 30.291200000000003, 36.1452, 38.0596, 34.118, 35.885999999999996, 25.4664, 38.0704, 33.41, 31.4384, 25.67, 36.2352, 23.9724, 30.99, 36.874, 32.9156, 29.6184, 35.8216, 29.2704, 35.5736, 37.566, 35.3084, 37.5316, 15.9, 36.3936, 40.0284, 31.9692, 33.3588, 34.790400000000005, 33.980000000000004, 35.007999999999996, 34.8508, 12.4, 32.1864, 17.9732, 28.2044, 32.876400000000004, 37.5096, 34.7588, 34.2132, 35.7332, 39.6912, 34.6104, 32.3416, 26.8568, 35.376799999999996, 34.989999999999995, 30.3004, 38.7084, 36.855599999999995, 30.0912, 31.7584, 31.6184, 38.7248, 18.470399999999998, 26.1204, 39.6388, 39.886799999999994, 38.7116, 27.294, 39.8456, 20.3112, 32.3452, 26.4936, 34.736000000000004, 37.8208, 31.4912, 34.851600000000005, 17.8524, 33.9904, 38.4216, 37.1736, 25.939600000000002, 36.422, 31.9756, 34.087199999999996, 30.196799999999996, 30.746399999999998, 19.6, 22.0964, 35.6524, 35.459599999999995, 36.9636, 38.1172, 27.5, 38.118, 32.5392, 14.1, 33.4172, 0.0, 31.945999999999998, 37.334, 38.6488, 30.983999999999998, 38.2832, 36.3528, 25.9584, 32.6428, 34.9696, 27.6704, 37.2384, 26.101599999999998, 31.3036, 27.235599999999998, 32.2932, 37.876400000000004, 33.721599999999995, 30.9664, 38.408, 28.7, 29.1008, 30.4444, 27.1556, 32.7568, 17.8104, 34.832, 38.051199999999994, 28.8356, 21.502799999999997, 33.483599999999996, 36.3212, 36.372, 27.5832, 29.747199999999996, 29.7424, 36.6356, 28.8384, 30.0464, 35.9996, 29.1436, 28.5672, 37.9872, 29.1312, 32.324799999999996, 27.352800000000002, 39.3896, 27.208, 35.8648, 37.5312, 31.0188, 34.314, 13.2, 38.44799999999999, 25.29, 37.3096, 28.5, 33.9152, 18.0276, 36.8052, 39.8904, 39.8664, 31.117599999999996, 36.538399999999996, 32.7772, 38.1668, 33.41, 36.906, 28.8, 36.2384, 34.0484, 28.4756, 33.0968, 33.5896, 36.7776, 39.8288, 27.497999999999998, 34.331599999999995, 36.384, 25.994799999999998, 29.56, 30.5164, 26.026799999999998, 27.0756, 41.3388, 37.0524, 30.641199999999998, 30.195999999999998, 35.818, 36.5964, 33.132000000000005, 30.680799999999998, 33.593199999999996, 27.184399999999997, 27.0912, 29.4, 22.5, 31.9604, 28.214799999999997, 31.16, 38.8092, 35.4604, 34.528800000000004, 17.0304, 30.914, 16.5004, 30.5036, 26.818400000000004, 29.884, 37.2356, 33.3732, 33.5408, 32.135999999999996, 33.8656, 25.2564, 35.2144, 40.0976, 23.8808, 36.3748, 40.2588, 26.296799999999998, 32.4464, 39.8216, 29.650799999999997, 29.3944, 39.8924, 34.3264, 19.3868, 15.4212, 33.4216, 36.0972, 36.5392, 39.3044, 35.3072, 20.3492, 40.7528, 32.5788, 30.596799999999998, 27.376799999999996, 35.9392, 31.88, 39.67, 33.0548, 32.9768, 29.7, 32.562, 39.3216, 24.3048, 26.9324, 33.3604, 39.800799999999995, 32.5004, 27.968400000000003, 33.3828, 38.3448, 29.4528, 34.075199999999995, 35.07, 31.275999999999996, 39.6904, 32.1668, 31.419999999999998, 29.602, 36.4688, 27.211599999999997, 35.5928, 32.952799999999996, 30.9324, 34.9564, 39.745599999999996, 35.224, 34.6008, 35.662400000000005, 34.46, 35.3904, 34.018, 27.1432, 29.620799999999996, 34.6828, 36.358000000000004, 32.6908, 30.269599999999997, 36.2836, 30.123199999999997, 29.747199999999996, 37.0484, 36.047599999999996, 26.1, 32.8296, 36.434799999999996, 29.322000000000003, 29.6864, 37.904799999999994, 39.4116, 21.1632, 25.866799999999998, 30.5832, 29.662799999999997, 38.5356, 33.976, 36.955600000000004, 22.67, 31.7716, 35.604, 36.26, 30.7596, 21.3068, 32.3848, 22.449199999999998, 28.1064, 32.1356, 25.04, 39.1412, 33.7352, 32.685199999999995, 32.388, 32.4248, 33.8992, 25.148, 34.7856, 37.628, 33.8284, 21.9596, 34.6548, 32.526799999999994, 33.4152, 30.2872, 15.1, 35.9488, 30.9, 37.152, 34.3524, 26.287599999999998, 24.462, 33.536, 31.5668, 33.314, 30.966, 17.8128, 31.0072, 33.9136, 31.5668, 36.5048, 30.394, 38.2636, 26.668799999999997, 38.4324, 40.0144, 24.9272, 39.952799999999996, 28.6664, 29.7, 32.47, 33.552800000000005, 31.3308, 24.036800000000003, 32.983599999999996, 17.8104, 30.382400000000004, 38.4392, 35.748400000000004, 27.7536, 28.5704, 39.0048, 32.0252, 38.8964, 35.0312, 35.4268, 35.080799999999996, 28.5524, 30.246000000000002, 24.253999999999998, 17.3, 24.3492, 33.896, 32.5132, 38.955600000000004, 29.9452, 38.038799999999995, 29.232799999999997, 33.124399999999994, 30.676, 37.099599999999995, 35.9868, 35.9352, 24.1696, 30.813599999999997, 34.1092, 34.7448, 33.764399999999995, 31.1756, 33.386799999999994, 31.552, 32.0012, 38.2004, 26.8748, 29.7928, 33.186400000000006, 28.7, 36.3632, 31.5244, 27.876799999999996, 35.074, 20.4168, 29.9668, 31.608, 37.3752, 32.6428, 37.2136, 31.406, 38.1596, 33.2596, 37.489599999999996, 37.58, 32.3728, 24.821599999999997, 39.0792, 32.476, 25.3056, 35.68, 30.531200000000002, 32.800799999999995, 38.7, 26.0908, 42.2244, 31.574399999999997, 35.6908, 26.5, 32.434400000000004, 32.4392, 31.232799999999997, 36.544799999999995, 30.806, 37.3144, 26.4496, 40.5904, 29.020799999999998, 19.113599999999998, 13.2492, 40.194, 27.435599999999997, 14.5524, 14.656, 32.362, 31.5, 30.009999999999998, 36.794, 37.3416, 14.3352, 27.745199999999997, 25.0944, 28.7808, 22.1492, 30.772799999999997, 39.1388, 36.566, 22.884, 27.115199999999998, 39.5828, 22.082, 27.2944, 18.1184, 33.766, 26.3288, 37.67, 28.108399999999996, 35.774, 30.2352, 26.509999999999998, 26.2072, 24.6212, 32.004, 35.8912, 20.996, 39.27, 31.342, 30.0824, 40.4488, 39.6796, 32.6892, 34.332, 39.5972, 30.729200000000002, 27.744799999999998, 29.2136, 35.053200000000004, 27.791200000000003, 29.9444, 35.2584, 28.959200000000003, 33.844, 34.9444, 30.696799999999996, 25.4424, 33.040400000000005, 25.399599999999996, 30.6924, 36.687200000000004, 39.2764, 24.372799999999998, 23.4, 29.7248, 38.782799999999995, 22.637999999999998, 26.7972, 37.794, 32.838, 28.4892, 39.483999999999995, 27.5872, 33.8388, 29.6216, 32.5496, 38.7804, 35.0248, 30.4936, 40.0524, 36.1944, 37.211200000000005, 18.566, 23.3356, 33.983999999999995, 32.5456, 31.772799999999997, 40.9908, 33.965599999999995, 34.132000000000005, 32.57, 35.4732, 28.8112, 31.1064, 30.273599999999995, 26.0044, 23.0892, 35.5828, 28.466, 28.9912, 34.288799999999995, 34.9636, 31.531599999999997, 35.4964, 31.3532, 34.028800000000004, 26.874399999999998, 26.8, 34.8904, 39.5276, 28.432000000000002, 26.4496, 30.116799999999998, 26.659599999999998, 17.9, 38.3364, 38.9388, 37.4764, 34.395199999999996, 37.7076, 27.611600000000003, 29.5768, 37.4976, 31.5004, 21.1892, 28.9972, 33.162, 34.5124, 19.4664, 38.932, 13.0, 38.9284, 28.726, 34.831599999999995, 35.894400000000005, 27.714799999999997, 35.798, 26.5, 33.7792, 35.258, 32.3036, 39.2964, 20.3444, 29.5916, 31.593600000000002, 38.6736, 38.0312, 30.7516, 28.5644, 21.532, 37.8892, 27.240000000000002, 35.4704, 32.538399999999996, 29.891199999999998, 32.065200000000004, 30.5608, 32.307599999999994, 34.8804, 22.939999999999998, 25.152, 30.5076, 38.044799999999995, 38.9492, 36.3132, 27.0708, 32.626799999999996, 21.369999999999997, 35.332, 34.384, 17.000799999999998, 31.0084, 21.6, 37.7832, 33.6636, 36.234, 29.9016, 31.7656, 28.3208, 39.7756, 17.0864, 39.800399999999996, 19.2, 34.3588, 38.0768, 35.2692, 35.8596, 31.0392, 34.2284, 27.5, 39.6136, 19.3, 18.3552, 37.6868, 30.095599999999997, 31.3664, 37.3872, 35.376799999999996, 35.128, 29.1, 25.6892, 31.6004, 35.666399999999996, 38.2908, 31.873599999999996, 30.8152, 27.7828, 38.3756, 38.8844, 38.8464, 34.77119999999999, 33.4256, 33.5876, 34.729200000000006, 35.178399999999996, 27.5048, 39.36879999999999, 34.0072, 34.0836, 9.222399999999999, 31.2076, 36.1324, 38.3352, 38.29, 30.2576, 29.3652, 19.4284, 22.892799999999998, 37.1328, 37.4632, 23.5396, 39.3524, 27.2016, 39.7568, 37.294, 30.428400000000003, 37.010000000000005, 38.1044, 30.2716, 11.5, 32.2044, 35.3624, 27.2032, 28.0256, 34.4284, 39.668400000000005, 6.4, 30.023999999999997, 32.572, 31.1824, 28.548000000000002, 36.9456, 33.1036, 36.014799999999994, 36.3692, 31.1352, 30.828, 35.726, 32.6476, 37.41759999999999, 35.435599999999994, 18.293599999999998, 30.736, 37.916799999999995, 30.9576, 32.1864, 30.462400000000002, 39.8656, 28.5948, 39.641999999999996, 16.146, 27.348399999999998, 26.6488, 20.78, 25.461599999999997, 32.4072, 37.1824, 24.8052, 35.382400000000004, 22.053600000000003, 24.418400000000002, 23.8544, 37.258, 39.0152, 33.3804, 36.879999999999995, 24.6576, 37.5012, 31.089599999999997, 29.973999999999997, 41.5768, 39.6496, 29.936, 26.407200000000003, 29.6696, 35.824799999999996, 37.048, 32.1868, 19.4076, 36.674, 31.575599999999998, 36.318799999999996, 35.372, 18.6068, 28.0188, 32.2008, 32.2548, 25.6612, 24.313200000000002, 38.0436, 38.5768, 31.195999999999998, 31.349200000000003, 31.652, 32.584, 26.632399999999997, 27.363599999999998, 33.67, 29.304, 27.2668, 38.2008, 34.854, 34.718, 34.4868, 36.8132, 33.8456, 36.4876, 28.8596, 38.058400000000006, 28.712, 35.9004, 37.504, 36.5324, 34.0668, 25.5, 39.5492, 39.666, 35.1896, 26.918, 36.431200000000004, 11.9, 27.711199999999998, 32.6704, 31.0152, 26.129599999999996, 20.518, 25.6876, 37.3032, 36.111999999999995, 38.935599999999994, 24.2568, 34.983599999999996, 34.327600000000004, 18.823999999999998, 32.5048, 23.499599999999997, 33.544399999999996, 15.614799999999999, 37.5624, 34.325599999999994, 36.007999999999996, 20.6792, 26.256, 40.273599999999995, 20.598, 37.6216, 32.1972, 29.735599999999998, 25.6888, 32.770399999999995, 38.52719999999999, 39.6464, 31.281599999999997, 31.663600000000002, 37.873599999999996, 31.276400000000002, 29.8292, 38.754, 34.9308, 34.7288, 35.3988, 30.6828, 33.3972, 24.945999999999998, 36.7136, 37.1312, 35.2076, 36.032, 30.3876, 38.5036, 32.9736, 31.6256, 29.6464, 28.9084, 24.6024, 1.0, 27.8676, 31.6564, 28.3492, 31.1032, 31.190800000000003, 35.236000000000004, 28.4, 38.435599999999994, 23.2048, 31.3164, 30.022399999999998, 28.293599999999998, 28.3016, 31.2188, 35.1764, 32.538, 26.6684, 33.693599999999996, 28.0048, 34.1092, 27.5908, 35.77, 39.0548, 30.8444, 24.9608, 32.5796, 31.534799999999997, 34.362, 25.4, 32.47279999999999, 37.504, 30.5292, 35.5108, 26.794800000000002, 31.4932, 31.848, 16.3, 32.594, 38.687200000000004, 28.9284, 32.471599999999995, 28.131999999999998, 34.980000000000004, 30.1392, 19.3012, 28.3324, 33.768, 33.8172, 29.095199999999995, 35.7076, 33.9904, 19.8692, 31.9, 28.453200000000002, 28.543599999999998, 37.9332, 39.5112, 39.4484, 38.8324, 26.932000000000002, 31.648, 15.493599999999999, 19.6112, 28.7352, 28.1492, 19.877200000000002, 26.6836, 31.0276, 34.7008, 16.3624, 34.2452, 27.589199999999998, 37.58, 38.0312], \"colorscale\": [[0, \"lime\"], [0.5, \"red\"]], \"line\": {\"color\": \"rgb(140, 140, 170)\"}, \"size\": 5, \"sizemode\": \"diameter\", \"sizeref\": 1500}, \"mode\": \"markers\", \"type\": \"scatter3d\", \"x\": [\"Aceptable\", \"Aceptable\", \"Aceptable\", \"Aceptable\", \"Aceptable\", \"Aceptable\", \"Aceptable\", \"Aceptable\", \"Aceptable\", \"Aceptable\", \"Aceptable\", \"Aceptable\", \"Aceptable\", \"Aceptable\", \"Aceptable\", \"Aceptable\", \"Aceptable\", \"Aceptable\", \"Aceptable\", \"Aceptable\", \"Aceptable\", \"Aceptable\", \"Aceptable\", \"Aceptable\", \"Aceptable\", \"Aceptable\", \"Aceptable\", \"Aceptable\", \"Aceptable\", \"Aceptable\", \"Aceptable\", \"Aceptable\", \"Aceptable\", \"Aceptable\", \"Aceptable\", \"Aceptable\", \"Aceptable\", \"Aceptable\", \"Aceptable\", \"Aceptable\", \"Aceptable\", \"Aceptable\", \"Aceptable\", \"Aceptable\", \"Aceptable\", \"Aceptable\", \"Aceptable\", \"Aceptable\", \"Aceptable\", \"Aceptable\", \"Aceptable\", \"Aceptable\", \"Aceptable\", \"Aceptable\", \"Aceptable\", \"Aceptable\", \"Aceptable\", \"Aceptable\", \"Aceptable\", \"Aceptable\", \"Aceptable\", \"Aceptable\", \"Aceptable\", \"Aceptable\", \"Aceptable\", \"Aceptable\", \"Aceptable\", \"Aceptable\", \"Aceptable\", \"Aceptable\", \"Aceptable\", \"Aceptable\", \"Aceptable\", \"Aceptable\", \"Aceptable\", \"Aceptable\", \"Aceptable\", \"Aceptable\", \"Aceptable\", \"Aceptable\", \"Aceptable\", \"Aceptable\", \"Aceptable\", \"Aceptable\", \"Aceptable\", \"Aceptable\", \"Aceptable\", \"Aceptable\", \"Aceptable\", \"Aceptable\", \"Aceptable\", \"Aceptable\", \"Aceptable\", \"Aceptable\", \"Aceptable\", \"Aceptable\", \"Aceptable\", \"Aceptable\", \"Aceptable\", \"Aceptable\", \"Aceptable\", \"Aceptable\", \"Aceptable\", \"Aceptable\", \"Aceptable\", \"Aceptable\", \"Aceptable\", \"Aceptable\", \"Aceptable\", \"Aceptable\", \"Aceptable\", \"Aceptable\", \"Aceptable\", \"Aceptable\", \"Aceptable\", \"Aceptable\", \"Aceptable\", \"Aceptable\", \"Aceptable\", \"Aceptable\", \"Aceptable\", \"Aceptable\", \"Aceptable\", \"Aceptable\", \"Aceptable\", \"Aceptable\", \"Aceptable\", \"Aceptable\", \"Aceptable\", \"Aceptable\", \"Aceptable\", \"Aceptable\", \"Aceptable\", \"Aceptable\", \"Aceptable\", \"Aceptable\", \"Aceptable\", \"Aceptable\", \"Aceptable\", \"Aceptable\", \"Aceptable\", \"Aceptable\", \"Aceptable\", \"Aceptable\", \"Aceptable\", \"Aceptable\", \"Aceptable\", \"Aceptable\", \"Excelente\", \"Aceptable\", \"Aceptable\", \"Aceptable\", \"Aceptable\", \"Aceptable\", \"Aceptable\", \"Aceptable\", \"Aceptable\", \"Aceptable\", \"Aceptable\", \"Aceptable\", \"Aceptable\", \"Aceptable\", \"Aceptable\", \"Aceptable\", \"Aceptable\", \"Aceptable\", \"Aceptable\", \"Aceptable\", \"Aceptable\", \"Aceptable\", \"Aceptable\", \"Aceptable\", \"Aceptable\", \"Aceptable\", \"Aceptable\", \"Aceptable\", \"Aceptable\", \"Aceptable\", \"Aceptable\", \"Aceptable\", \"Aceptable\", \"Aceptable\", \"Aceptable\", \"Aceptable\", \"Aceptable\", \"Aceptable\", \"Aceptable\", \"Aceptable\", \"Aceptable\", \"Aceptable\", \"Aceptable\", \"Aceptable\", \"Aceptable\", \"Aceptable\", \"Aceptable\", \"Aceptable\", \"Aceptable\", \"Aceptable\", \"Aceptable\", \"Aceptable\", \"Aceptable\", \"Aceptable\", \"Aceptable\", \"Aceptable\", \"Aceptable\", \"Aceptable\", \"Aceptable\", \"Aceptable\", \"Aceptable\", \"Aceptable\", \"Aceptable\", \"Aceptable\", \"Aceptable\", \"Aceptable\", \"Aceptable\", \"Aceptable\", \"Aceptable\", \"Aceptable\", \"Aceptable\", \"Aceptable\", \"Aceptable\", \"Aceptable\", \"Aceptable\", \"Aceptable\", \"Aceptable\", \"Aceptable\", \"Aceptable\", \"Aceptable\", \"Aceptable\", \"Aceptable\", \"Aceptable\", \"Aceptable\", \"Aceptable\", \"Aceptable\", \"Aceptable\", \"Aceptable\", \"Aceptable\", \"Aceptable\", \"Aceptable\", \"Aceptable\", \"Aceptable\", \"Aceptable\", \"Aceptable\", \"Aceptable\", \"Aceptable\", \"Aceptable\", \"Aceptable\", \"Aceptable\", \"Aceptable\", \"Aceptable\", \"Aceptable\", \"Aceptable\", \"Aceptable\", \"Aceptable\", \"Aceptable\", \"Aceptable\", \"Aceptable\", \"Aceptable\", \"Aceptable\", \"Aceptable\", \"Aceptable\", \"Aceptable\", \"Aceptable\", \"Aceptable\", \"Aceptable\", \"Aceptable\", \"Aceptable\", \"Aceptable\", \"Aceptable\", \"Aceptable\", \"Aceptable\", \"Aceptable\", \"Aceptable\", \"Aceptable\", \"Aceptable\", \"Aceptable\", \"Aceptable\", \"Aceptable\", \"Aceptable\", \"Aceptable\", \"Aceptable\", \"Aceptable\", \"Aceptable\", \"Aceptable\", \"Aceptable\", \"Aceptable\", \"Aceptable\", \"Aceptable\", \"Aceptable\", \"Aceptable\", \"Aceptable\", \"Aceptable\", \"Aceptable\", \"Aceptable\", \"Aceptable\", \"Aceptable\", \"Aceptable\", \"Aceptable\", \"Aceptable\", \"Aceptable\", \"Aceptable\", \"Aceptable\", \"Aceptable\", \"Aceptable\", \"Aceptable\", \"Aceptable\", \"Aceptable\", \"Aceptable\", \"Aceptable\", \"Aceptable\", \"Aceptable\", \"Aceptable\", \"Aceptable\", \"Aceptable\", \"Aceptable\", \"Aceptable\", \"Aceptable\", \"Regular\", \"Aceptable\", \"Aceptable\", \"Aceptable\", \"Aceptable\", \"Aceptable\", \"Aceptable\", \"Aceptable\", \"Aceptable\", \"Aceptable\", \"Aceptable\", \"Aceptable\", \"Aceptable\", \"Aceptable\", \"Aceptable\", \"Aceptable\", \"Aceptable\", \"Aceptable\", \"Aceptable\", \"Aceptable\", \"Aceptable\", \"Aceptable\", \"Aceptable\", \"Aceptable\", \"Aceptable\", \"Aceptable\", \"Aceptable\", \"Aceptable\", \"Aceptable\", \"Aceptable\", \"Aceptable\", \"Aceptable\", \"Aceptable\", \"Aceptable\", \"Aceptable\", \"Aceptable\", \"Aceptable\", \"Aceptable\", \"Aceptable\", \"Aceptable\", \"Aceptable\", \"Aceptable\", \"Aceptable\", \"Aceptable\", \"Aceptable\", \"Aceptable\", \"Aceptable\", \"Aceptable\", \"Aceptable\", \"Aceptable\", \"Aceptable\", \"Aceptable\", \"Aceptable\", \"Excelente\", \"Aceptable\", \"Aceptable\", \"Aceptable\", \"Aceptable\", \"Aceptable\", \"Aceptable\", \"Aceptable\", \"Aceptable\", \"Aceptable\", \"Aceptable\", \"Aceptable\", \"Aceptable\", \"Aceptable\", \"Aceptable\", \"Aceptable\", \"Aceptable\", \"Aceptable\", \"Aceptable\", \"Bueno\", \"Aceptable\", \"Aceptable\", \"Aceptable\", \"Aceptable\", \"Aceptable\", \"Aceptable\", \"Aceptable\", \"Aceptable\", \"Aceptable\", \"Aceptable\", \"Aceptable\", \"Aceptable\", \"Aceptable\", \"Aceptable\", \"Aceptable\", \"Aceptable\", \"Aceptable\", \"Aceptable\", \"Aceptable\", \"Aceptable\", \"Aceptable\", \"Aceptable\", \"Aceptable\", \"Aceptable\", \"Aceptable\", \"Aceptable\", \"Aceptable\", \"Aceptable\", \"Aceptable\", \"Aceptable\", \"Aceptable\", \"Aceptable\", \"Aceptable\", \"Aceptable\", \"Aceptable\", \"Aceptable\", \"Aceptable\", \"Aceptable\", \"Aceptable\", \"Aceptable\", \"Aceptable\", \"Aceptable\", \"Aceptable\", \"Aceptable\", \"Aceptable\", \"Aceptable\", \"Aceptable\", \"Aceptable\", \"Aceptable\", \"Aceptable\", \"Aceptable\", \"Aceptable\", \"Aceptable\", \"Aceptable\", \"Aceptable\", \"Aceptable\", \"Aceptable\", \"Aceptable\", \"Aceptable\", \"Aceptable\", \"Aceptable\", \"Aceptable\", \"Aceptable\", \"Aceptable\", \"Aceptable\", \"Aceptable\", \"Aceptable\", \"Aceptable\", \"Aceptable\", \"Aceptable\", \"Aceptable\", \"Aceptable\", \"Aceptable\", \"Aceptable\", \"Aceptable\", \"Aceptable\", \"Aceptable\", \"Aceptable\", \"Aceptable\", \"Aceptable\", \"Aceptable\", \"Aceptable\", \"Aceptable\", \"Aceptable\", \"Aceptable\", \"Aceptable\", \"Aceptable\", \"Aceptable\", \"Aceptable\", \"Aceptable\", \"Aceptable\", \"Aceptable\", \"Aceptable\", \"Aceptable\", \"Aceptable\", \"Aceptable\", \"Aceptable\", \"Aceptable\", \"Aceptable\", \"Aceptable\", \"Aceptable\", \"Aceptable\", \"Aceptable\", \"Aceptable\", \"Aceptable\", \"Aceptable\", \"Aceptable\", \"Aceptable\", \"Aceptable\", \"Aceptable\", \"Aceptable\", \"Aceptable\", \"Aceptable\", \"Aceptable\", \"Aceptable\", \"Aceptable\", \"Aceptable\", \"Aceptable\", \"Aceptable\", \"Aceptable\", \"Aceptable\", \"Aceptable\", \"Aceptable\", \"Aceptable\", \"Aceptable\", \"Aceptable\", \"Aceptable\", \"Aceptable\", \"Aceptable\", \"Aceptable\", \"Aceptable\", \"Aceptable\", \"Aceptable\", \"Aceptable\", \"Aceptable\", \"Aceptable\", \"Aceptable\", \"Aceptable\", \"Aceptable\", \"Aceptable\", \"Aceptable\", \"Aceptable\", \"Aceptable\", \"Aceptable\", \"Aceptable\", \"Aceptable\", \"Aceptable\", \"Aceptable\", \"Aceptable\", \"Aceptable\", \"Aceptable\", \"Aceptable\", \"Aceptable\", \"Aceptable\", \"Aceptable\", \"Aceptable\", \"Aceptable\", \"Aceptable\", \"Aceptable\", \"Aceptable\", \"Aceptable\", \"Aceptable\", \"Aceptable\", \"Aceptable\", \"Aceptable\", \"Aceptable\", \"Aceptable\", \"Aceptable\", \"Aceptable\", \"Aceptable\", \"Aceptable\", \"Aceptable\", \"Aceptable\", \"Aceptable\", \"Aceptable\", \"Aceptable\", \"Aceptable\", \"Aceptable\", \"Aceptable\", \"Aceptable\", \"Aceptable\", \"Aceptable\", \"Aceptable\", \"Aceptable\", \"Aceptable\", \"Aceptable\", \"Aceptable\", \"Aceptable\", \"Aceptable\", \"Aceptable\", \"Aceptable\", \"Aceptable\", \"Aceptable\", \"Aceptable\", \"Aceptable\", \"Aceptable\", \"Aceptable\", \"Aceptable\", \"Aceptable\", \"Aceptable\", \"Aceptable\", \"Aceptable\", \"Aceptable\", \"Aceptable\", \"Aceptable\", \"Aceptable\", \"Aceptable\", \"Aceptable\", \"Aceptable\", \"Aceptable\", \"Aceptable\", \"Aceptable\", \"Aceptable\", \"Aceptable\", \"Aceptable\", \"Aceptable\", \"Aceptable\", \"Aceptable\", \"Bueno\", \"Aceptable\", \"Aceptable\", \"Aceptable\", \"Aceptable\", \"Aceptable\", \"Aceptable\", \"Aceptable\", \"Aceptable\", \"Aceptable\", \"Aceptable\", \"Aceptable\", \"Aceptable\", \"Aceptable\", \"Aceptable\", \"Aceptable\", \"Aceptable\", \"Aceptable\", \"Aceptable\", \"Aceptable\", \"Aceptable\", \"Aceptable\", \"Aceptable\", \"Aceptable\", \"Aceptable\", \"Aceptable\", \"Aceptable\", \"Aceptable\", \"Aceptable\", \"Aceptable\", \"Aceptable\", \"Aceptable\", \"Aceptable\", \"Aceptable\", \"Aceptable\", \"Aceptable\", \"Aceptable\", \"Aceptable\", \"Aceptable\", \"Aceptable\", \"Aceptable\", \"Aceptable\", \"Aceptable\", \"Aceptable\", \"Aceptable\", \"Aceptable\", \"Aceptable\", \"Aceptable\", \"Aceptable\", \"Aceptable\", \"Aceptable\", \"Aceptable\", \"Aceptable\", \"Aceptable\", \"Aceptable\", \"Aceptable\", \"Aceptable\", \"Aceptable\", \"Aceptable\", \"Aceptable\", \"Aceptable\", \"Aceptable\", \"Aceptable\", \"Aceptable\", \"Aceptable\", \"Aceptable\", \"Aceptable\", \"Aceptable\", \"Aceptable\", \"Aceptable\", \"Aceptable\", \"Aceptable\", \"Aceptable\", \"Aceptable\", \"Aceptable\", \"Aceptable\", \"Aceptable\", \"Aceptable\", \"Aceptable\", \"Aceptable\", \"Aceptable\", \"Aceptable\", \"Aceptable\", \"Aceptable\", \"Aceptable\", \"Aceptable\", \"Aceptable\", \"Aceptable\", \"Aceptable\", \"Aceptable\", \"Aceptable\", \"Aceptable\", \"Aceptable\", \"Aceptable\", \"Aceptable\", \"Aceptable\", \"Aceptable\", \"Aceptable\", \"Aceptable\", \"Aceptable\", \"Aceptable\", \"Aceptable\", \"Aceptable\", \"Aceptable\", \"Aceptable\", \"Aceptable\", \"Aceptable\", \"Aceptable\", \"Aceptable\", \"Aceptable\", \"Aceptable\", \"Aceptable\", \"Aceptable\", \"Aceptable\", \"Aceptable\", \"Aceptable\", \"Aceptable\", \"Aceptable\", \"Aceptable\", \"Aceptable\", \"Aceptable\", \"Aceptable\", \"Aceptable\", \"Aceptable\", \"Aceptable\", \"Aceptable\", \"Aceptable\", \"Aceptable\", \"Aceptable\", \"Aceptable\", \"Aceptable\", \"Aceptable\", \"Aceptable\", \"Aceptable\", \"Aceptable\", \"Aceptable\", \"Aceptable\", \"Aceptable\", \"Aceptable\", \"Aceptable\", \"Aceptable\", \"Aceptable\", \"Aceptable\", \"Aceptable\", \"Aceptable\", \"Aceptable\", \"Aceptable\", \"Aceptable\", \"Aceptable\", \"Aceptable\", \"Aceptable\", \"Aceptable\", \"Aceptable\", \"Aceptable\", \"Aceptable\", \"Aceptable\", \"Aceptable\", \"Aceptable\", \"Aceptable\", \"Aceptable\", \"Aceptable\", \"Aceptable\", \"Aceptable\", \"Aceptable\", \"Bueno\", \"Aceptable\", \"Aceptable\", \"Aceptable\", \"Aceptable\", \"Aceptable\", \"Aceptable\", \"Aceptable\", \"Aceptable\", \"Aceptable\", \"Aceptable\", \"Aceptable\", \"Aceptable\", \"Aceptable\", \"Aceptable\", \"Aceptable\", \"Aceptable\", \"Aceptable\", \"Aceptable\", \"Aceptable\", \"Aceptable\", \"Aceptable\", \"Aceptable\", \"Aceptable\", \"Aceptable\", \"Aceptable\", \"Aceptable\", \"Aceptable\", \"Aceptable\", \"Aceptable\", \"Aceptable\", \"Aceptable\", \"Aceptable\", \"Aceptable\", \"Aceptable\", \"Aceptable\", \"Aceptable\", \"Aceptable\", \"Aceptable\", \"Aceptable\", \"Aceptable\", \"Aceptable\", \"Aceptable\", \"Aceptable\", \"Aceptable\", \"Aceptable\", \"Aceptable\", \"Aceptable\", \"Aceptable\", \"Aceptable\", \"Aceptable\", \"Aceptable\", \"Aceptable\", \"Aceptable\", \"Aceptable\", \"Aceptable\", \"Aceptable\", \"Aceptable\", \"Aceptable\", \"Aceptable\", \"Aceptable\", \"Aceptable\", \"Aceptable\", \"Aceptable\", \"Aceptable\", \"Aceptable\", \"Aceptable\", \"Aceptable\", \"Aceptable\", \"Aceptable\", \"Aceptable\", \"Aceptable\", \"Aceptable\", \"Aceptable\", \"Aceptable\", \"Aceptable\", \"Aceptable\", \"Aceptable\", \"Aceptable\", \"Aceptable\", \"Aceptable\", \"Aceptable\", \"Aceptable\", \"Aceptable\", \"Aceptable\", \"Aceptable\", \"Aceptable\", \"Aceptable\", \"Aceptable\", \"Aceptable\", \"Aceptable\", \"Aceptable\", \"Aceptable\", \"Aceptable\", \"Aceptable\", \"Aceptable\", \"Aceptable\", \"Aceptable\", \"Aceptable\", \"Aceptable\", \"Aceptable\", \"Aceptable\", \"Aceptable\", \"Aceptable\", \"Aceptable\", \"Aceptable\", \"Aceptable\", \"Aceptable\", \"Aceptable\", \"Aceptable\", \"Aceptable\", \"Aceptable\", \"Aceptable\", \"Aceptable\", \"Aceptable\", \"Aceptable\", \"Aceptable\", \"Aceptable\", \"Aceptable\", \"Aceptable\", \"Aceptable\", \"Aceptable\", \"Aceptable\", \"Aceptable\", \"Aceptable\", \"Aceptable\", \"Aceptable\", \"Aceptable\", \"Aceptable\", \"Aceptable\", \"Aceptable\", \"Aceptable\", \"Aceptable\", \"Aceptable\", \"Aceptable\", \"Aceptable\", \"Aceptable\", \"Aceptable\", \"Aceptable\", \"Aceptable\", \"Aceptable\", \"Aceptable\", \"Aceptable\", \"Aceptable\", \"Aceptable\", \"Aceptable\", \"Aceptable\", \"Aceptable\", \"Aceptable\", \"Aceptable\", \"Aceptable\", \"Aceptable\", \"Aceptable\", \"Aceptable\", \"Aceptable\", \"Aceptable\", \"Aceptable\", \"Aceptable\", \"Aceptable\", \"Aceptable\", \"Aceptable\", \"Aceptable\", \"Aceptable\", \"Aceptable\", \"Aceptable\", \"Aceptable\", \"Aceptable\", \"Aceptable\", \"Aceptable\", \"Aceptable\", \"Aceptable\", \"Aceptable\", \"Aceptable\", \"Aceptable\", \"Aceptable\", \"Aceptable\", \"Aceptable\", \"Aceptable\", \"Aceptable\", \"Aceptable\", \"Aceptable\", \"Aceptable\", \"Aceptable\", \"Aceptable\", \"Aceptable\", \"Aceptable\", \"Aceptable\", \"Aceptable\", \"Aceptable\", \"Aceptable\", \"Aceptable\", \"Aceptable\", \"Aceptable\", \"Aceptable\", \"Aceptable\", \"Aceptable\", \"Aceptable\", \"Aceptable\", \"Aceptable\", \"Aceptable\", \"Aceptable\", \"Aceptable\", \"Aceptable\", \"Aceptable\", \"Aceptable\", \"Aceptable\", \"Aceptable\", \"Aceptable\", \"Aceptable\", \"Aceptable\", \"Aceptable\", \"Aceptable\", \"Aceptable\", \"Aceptable\", \"Aceptable\", \"Aceptable\", \"Aceptable\", \"Aceptable\", \"Aceptable\", \"Aceptable\", \"Aceptable\", \"Aceptable\", \"Aceptable\", \"Aceptable\", \"Aceptable\", \"Aceptable\", \"Aceptable\", \"Aceptable\", \"Aceptable\", \"Aceptable\", \"Aceptable\", \"Aceptable\", \"Aceptable\", \"Aceptable\", \"Aceptable\", \"Aceptable\", \"Aceptable\", \"Aceptable\", \"Aceptable\", \"Aceptable\", \"Aceptable\", \"Aceptable\", \"Aceptable\", \"Aceptable\", \"Aceptable\", \"Aceptable\", \"Aceptable\", \"Aceptable\", \"Aceptable\", \"Aceptable\", \"Aceptable\", \"Aceptable\", \"Aceptable\", \"Aceptable\", \"Aceptable\", \"Aceptable\", \"Aceptable\", \"Aceptable\", \"Aceptable\", \"Aceptable\", \"Aceptable\", \"Aceptable\", \"Aceptable\", \"Aceptable\", \"Aceptable\", \"Aceptable\", \"Aceptable\", \"Aceptable\", \"Regular\", \"Aceptable\", \"Aceptable\", \"Aceptable\", \"Aceptable\", \"Aceptable\", \"Aceptable\", \"Aceptable\", \"Aceptable\", \"Aceptable\", \"Aceptable\", \"Aceptable\", \"Aceptable\", \"Aceptable\", \"Aceptable\", \"Aceptable\", \"Aceptable\", \"Aceptable\", \"Aceptable\", \"Aceptable\", \"Aceptable\", \"Aceptable\", \"Aceptable\", \"Aceptable\", \"Aceptable\", \"Aceptable\", \"Aceptable\", \"Aceptable\", \"Aceptable\", \"Aceptable\", \"Aceptable\", \"Aceptable\", \"Aceptable\", \"Aceptable\", \"Aceptable\", \"Aceptable\", \"Aceptable\", \"Aceptable\", \"Aceptable\", \"Aceptable\", \"Aceptable\", \"Aceptable\", \"Aceptable\", \"Aceptable\", \"Aceptable\", \"Aceptable\", \"Aceptable\", \"Aceptable\", \"Aceptable\", \"Aceptable\", \"Aceptable\", \"Aceptable\", \"Aceptable\", \"Aceptable\", \"Aceptable\", \"Aceptable\", \"Aceptable\", \"Aceptable\", \"Aceptable\", \"Aceptable\", \"Aceptable\", \"Aceptable\", \"Aceptable\", \"Aceptable\", \"Aceptable\", \"Aceptable\", \"Aceptable\", \"Aceptable\", \"Aceptable\", \"Aceptable\", \"Regular\", \"Aceptable\", \"Aceptable\", \"Aceptable\", \"Aceptable\", \"Aceptable\", \"Aceptable\", \"Aceptable\", \"Aceptable\", \"Excelente\", \"Aceptable\", \"Aceptable\", \"Aceptable\", \"Aceptable\", \"Aceptable\", \"Aceptable\", \"Aceptable\", \"Aceptable\", \"Aceptable\", \"Aceptable\", \"Aceptable\", \"Aceptable\", \"Aceptable\", \"Aceptable\", \"Aceptable\", \"Aceptable\", \"Aceptable\", \"Aceptable\", \"Aceptable\", \"Aceptable\", \"Aceptable\", \"Aceptable\", \"Aceptable\", \"Aceptable\", \"Aceptable\", \"Aceptable\", \"Aceptable\", \"Aceptable\", \"Aceptable\", \"Aceptable\", \"Aceptable\", \"Aceptable\", \"Aceptable\", \"Aceptable\", \"Aceptable\", \"Aceptable\", \"Aceptable\", \"Aceptable\", \"Aceptable\", \"Aceptable\", \"Aceptable\", \"Aceptable\", \"Aceptable\", \"Aceptable\", \"Aceptable\", \"Aceptable\", \"Aceptable\", \"Aceptable\", \"Aceptable\", \"Aceptable\", \"Aceptable\", \"Aceptable\", \"Aceptable\", \"Aceptable\", \"Aceptable\", \"Aceptable\", \"Aceptable\", \"Aceptable\", \"Aceptable\", \"Aceptable\", \"Aceptable\", \"Aceptable\", \"Aceptable\", \"Aceptable\", \"Aceptable\", \"Aceptable\", \"Aceptable\", \"Aceptable\", \"Aceptable\", \"Aceptable\", \"Aceptable\", \"Aceptable\", \"Aceptable\", \"Aceptable\", \"Aceptable\", \"Aceptable\", \"Aceptable\", \"Aceptable\", \"Aceptable\", \"Aceptable\", \"Aceptable\", \"Aceptable\", \"Aceptable\", \"Aceptable\", \"Aceptable\", \"Aceptable\", \"Aceptable\", \"Aceptable\", \"Aceptable\", \"Aceptable\", \"Aceptable\", \"Aceptable\", \"Aceptable\", \"Aceptable\", \"Aceptable\", \"Aceptable\", \"Aceptable\", \"Aceptable\", \"Excelente\", \"Aceptable\", \"Aceptable\", \"Aceptable\", \"Aceptable\", \"Aceptable\", \"Aceptable\", \"Aceptable\", \"Aceptable\", \"Aceptable\", \"Aceptable\", \"Aceptable\", \"Aceptable\", \"Aceptable\", \"Aceptable\", \"Aceptable\", \"Aceptable\", \"Aceptable\", \"Aceptable\", \"Aceptable\", \"Aceptable\", \"Aceptable\", \"Aceptable\", \"Aceptable\", \"Aceptable\", \"Aceptable\", \"Aceptable\", \"Aceptable\", \"Aceptable\", \"Aceptable\", \"Aceptable\", \"Aceptable\", \"Aceptable\", \"Aceptable\", \"Aceptable\", \"Aceptable\", \"Aceptable\", \"Aceptable\", \"Aceptable\", \"Aceptable\", \"Aceptable\", \"Aceptable\", \"Aceptable\", \"Aceptable\", \"Aceptable\", \"Aceptable\", \"Aceptable\", \"Aceptable\", \"Aceptable\", \"Aceptable\", \"Aceptable\", \"Aceptable\", \"Aceptable\", \"Aceptable\", \"Aceptable\", \"Aceptable\", \"Aceptable\", \"Excelente\", \"Aceptable\", \"Aceptable\", \"Aceptable\", \"Aceptable\", \"Aceptable\", \"Aceptable\", \"Aceptable\", \"Aceptable\", \"Aceptable\", \"Aceptable\", \"Aceptable\", \"Regular\", \"Aceptable\"], \"y\": [39.8584, 34.9244, 32.9492, 38.28, 38.6076, 22.626, 28.441599999999998, 24.5428, 25.1768, 37.8632, 36.6912, 30.4696, 39.3732, 34.0456, 36.3488, 41.251599999999996, 37.599599999999995, 33.4628, 29.0756, 27.852400000000003, 32.456, 31.2796, 32.0276, 32.6068, 19.186, 35.428, 34.9868, 40.3044, 32.2996, 29.712, 24.2944, 24.7, 35.8936, 27.764, 26.9732, 31.4668, 36.4768, 33.624399999999994, 29.772399999999998, 31.8308, 32.146, 37.1588, 39.0068, 32.3588, 31.5944, 28.1144, 34.7044, 35.766799999999996, 36.9072, 38.9388, 11.0, 38.9044, 30.672799999999995, 32.756, 34.4764, 36.9632, 33.894400000000005, 34.4524, 39.9904, 34.7208, 39.5924, 13.0, 31.3444, 36.6184, 26.056400000000004, 33.1316, 34.7144, 37.162400000000005, 38.7592, 33.2144, 33.824, 22.8512, 35.9616, 37.0696, 37.065599999999996, 28.5, 37.2692, 19.7732, 38.8288, 34.052800000000005, 39.403999999999996, 33.9452, 19.2908, 31.6392, 21.2668, 22.811999999999998, 18.3172, 26.77, 34.6248, 26.352800000000002, 34.099599999999995, 36.0792, 29.1556, 35.5144, 30.414, 36.4032, 33.7384, 32.2248, 33.7624, 30.8172, 36.29, 21.4304, 33.1932, 35.282, 25.5432, 30.5512, 25.5628, 13.4664, 37.028800000000004, 38.111999999999995, 37.856, 25.3296, 35.142399999999995, 35.4, 33.138400000000004, 34.8048, 37.89, 27.3464, 30.8236, 35.2248, 39.2708, 37.47, 31.4588, 32.010400000000004, 28.8008, 35.6736, 26.9908, 39.512, 35.214, 28.746399999999998, 32.5484, 31.503999999999998, 36.4908, 25.824399999999997, 28.0872, 37.322, 24.7832, 31.3704, 31.6812, 16.345599999999997, 37.3204, 37.5276, 37.3044, 22.6132, 28.144799999999996, 28.8388, 33.117599999999996, 23.64, 24.4264, 37.7964, 23.747199999999996, 35.0204, 26.8052, 29.938799999999997, 27.6592, 34.8508, 30.607599999999998, 31.796, 36.0728, 36.0976, 37.147999999999996, 31.584799999999998, 35.856, 32.703199999999995, 34.5308, 38.1492, 37.7352, 26.4596, 26.8352, 38.6252, 28.259999999999998, 36.430800000000005, 39.8524, 38.6188, 36.19, 33.46, 34.8972, 38.1708, 32.998, 20.5116, 34.7696, 30.3, 32.8324, 35.2868, 40.7768, 23.4288, 18.073999999999998, 16.8692, 34.290400000000005, 24.8204, 25.1664, 18.5804, 33.1464, 25.4804, 19.2584, 29.008799999999997, 27.8532, 33.7388, 36.028800000000004, 30.048000000000002, 33.790400000000005, 34.2552, 36.239599999999996, 26.7564, 33.2656, 34.672799999999995, 22.214, 28.2312, 33.3432, 28.397199999999998, 9.5, 30.676, 36.9464, 31.263599999999997, 36.0376, 34.6592, 18.968799999999998, 27.9904, 31.4732, 24.691200000000002, 36.2184, 38.1736, 40.4248, 32.4976, 29.095999999999997, 29.756400000000003, 33.2352, 32.1576, 28.282400000000003, 34.042, 25.9916, 38.76, 32.306400000000004, 32.013999999999996, 30.7096, 37.2288, 27.035999999999998, 34.0732, 38.873599999999996, 38.7928, 17.0, 24.522, 36.4084, 28.131999999999998, 33.2616, 31.6796, 39.586, 37.4304, 34.9456, 38.373599999999996, 30.9444, 31.4912, 28.6824, 37.9868, 30.491999999999997, 33.8732, 37.1736, 22.3992, 34.4252, 29.4, 39.7868, 32.3452, 31.865599999999997, 32.2416, 25.761599999999998, 38.955600000000004, 25.5972, 34.7104, 37.42, 32.4904, 34.6208, 27.086799999999997, 32.6524, 33.5892, 39.16, 33.2552, 37.1008, 35.5216, 29.331200000000003, 28.4408, 34.7172, 28.86, 33.8528, 28.456799999999998, 34.1312, 34.3012, 27.580399999999997, 29.955599999999997, 37.97, 36.1012, 29.363599999999998, 17.7, 33.5804, 23.172799999999995, 18.0276, 33.6356, 39.6212, 39.455600000000004, 6.4, 24.9228, 31.1248, 36.2268, 26.8, 38.1528, 34.842, 37.4632, 36.147999999999996, 33.3976, 22.1544, 40.824799999999996, 33.8044, 25.918, 35.642399999999995, 29.825599999999998, 37.6356, 26.0612, 34.806400000000004, 36.7316, 35.065599999999996, 34.376799999999996, 20.6, 37.6768, 36.5216, 41.5516, 18.9732, 37.622, 30.7864, 40.9248, 33.038799999999995, 38.05, 37.3804, 37.587199999999996, 37.3428, 39.480000000000004, 35.8412, 32.1768, 27.3172, 34.5072, 29.9, 29.389200000000002, 34.2416, 35.437200000000004, 39.618, 37.1112, 34.352000000000004, 39.2148, 38.1756, 32.648399999999995, 6.8, 35.9472, 28.608, 36.5524, 19.258, 34.674, 26.9876, 18.5344, 14.6472, 32.9104, 36.6704, 36.334, 34.6772, 39.6756, 35.3596, 39.6976, 27.334, 36.6804, 32.6348, 35.0908, 36.126000000000005, 33.2108, 31.575599999999998, 26.6292, 28.6332, 26.27, 33.684, 37.2144, 28.1064, 33.063199999999995, 18.6068, 39.0836, 31.401200000000003, 30.8512, 20.1856, 19.186, 38.1928, 34.1752, 40.2412, 39.33, 30.387999999999998, 34.209199999999996, 23.1252, 36.4004, 30.412800000000004, 34.752, 30.291200000000003, 36.1452, 38.0596, 34.118, 35.885999999999996, 25.4664, 38.0704, 33.41, 31.4384, 25.67, 36.2352, 23.9724, 30.99, 36.874, 32.9156, 29.6184, 35.8216, 29.2704, 35.5736, 37.566, 35.3084, 37.5316, 15.9, 36.3936, 40.0284, 31.9692, 33.3588, 34.790400000000005, 33.980000000000004, 35.007999999999996, 34.8508, 12.4, 32.1864, 17.9732, 28.2044, 32.876400000000004, 37.5096, 34.7588, 34.2132, 35.7332, 39.6912, 34.6104, 32.3416, 26.8568, 35.376799999999996, 34.989999999999995, 30.3004, 38.7084, 36.855599999999995, 30.0912, 31.7584, 31.6184, 38.7248, 18.470399999999998, 26.1204, 39.6388, 39.886799999999994, 38.7116, 27.294, 39.8456, 20.3112, 32.3452, 26.4936, 34.736000000000004, 37.8208, 31.4912, 34.851600000000005, 17.8524, 33.9904, 38.4216, 37.1736, 25.939600000000002, 36.422, 31.9756, 34.087199999999996, 30.196799999999996, 30.746399999999998, 19.6, 22.0964, 35.6524, 35.459599999999995, 36.9636, 38.1172, 27.5, 38.118, 32.5392, 14.1, 33.4172, 0.0, 31.945999999999998, 37.334, 38.6488, 30.983999999999998, 38.2832, 36.3528, 25.9584, 32.6428, 34.9696, 27.6704, 37.2384, 26.101599999999998, 31.3036, 27.235599999999998, 32.2932, 37.876400000000004, 33.721599999999995, 30.9664, 38.408, 28.7, 29.1008, 30.4444, 27.1556, 32.7568, 17.8104, 34.832, 38.051199999999994, 28.8356, 21.502799999999997, 33.483599999999996, 36.3212, 36.372, 27.5832, 29.747199999999996, 29.7424, 36.6356, 28.8384, 30.0464, 35.9996, 29.1436, 28.5672, 37.9872, 29.1312, 32.324799999999996, 27.352800000000002, 39.3896, 27.208, 35.8648, 37.5312, 31.0188, 34.314, 13.2, 38.44799999999999, 25.29, 37.3096, 28.5, 33.9152, 18.0276, 36.8052, 39.8904, 39.8664, 31.117599999999996, 36.538399999999996, 32.7772, 38.1668, 33.41, 36.906, 28.8, 36.2384, 34.0484, 28.4756, 33.0968, 33.5896, 36.7776, 39.8288, 27.497999999999998, 34.331599999999995, 36.384, 25.994799999999998, 29.56, 30.5164, 26.026799999999998, 27.0756, 41.3388, 37.0524, 30.641199999999998, 30.195999999999998, 35.818, 36.5964, 33.132000000000005, 30.680799999999998, 33.593199999999996, 27.184399999999997, 27.0912, 29.4, 22.5, 31.9604, 28.214799999999997, 31.16, 38.8092, 35.4604, 34.528800000000004, 17.0304, 30.914, 16.5004, 30.5036, 26.818400000000004, 29.884, 37.2356, 33.3732, 33.5408, 32.135999999999996, 33.8656, 25.2564, 35.2144, 40.0976, 23.8808, 36.3748, 40.2588, 26.296799999999998, 32.4464, 39.8216, 29.650799999999997, 29.3944, 39.8924, 34.3264, 19.3868, 15.4212, 33.4216, 36.0972, 36.5392, 39.3044, 35.3072, 20.3492, 40.7528, 32.5788, 30.596799999999998, 27.376799999999996, 35.9392, 31.88, 39.67, 33.0548, 32.9768, 29.7, 32.562, 39.3216, 24.3048, 26.9324, 33.3604, 39.800799999999995, 32.5004, 27.968400000000003, 33.3828, 38.3448, 29.4528, 34.075199999999995, 35.07, 31.275999999999996, 39.6904, 32.1668, 31.419999999999998, 29.602, 36.4688, 27.211599999999997, 35.5928, 32.952799999999996, 30.9324, 34.9564, 39.745599999999996, 35.224, 34.6008, 35.662400000000005, 34.46, 35.3904, 34.018, 27.1432, 29.620799999999996, 34.6828, 36.358000000000004, 32.6908, 30.269599999999997, 36.2836, 30.123199999999997, 29.747199999999996, 37.0484, 36.047599999999996, 26.1, 32.8296, 36.434799999999996, 29.322000000000003, 29.6864, 37.904799999999994, 39.4116, 21.1632, 25.866799999999998, 30.5832, 29.662799999999997, 38.5356, 33.976, 36.955600000000004, 22.67, 31.7716, 35.604, 36.26, 30.7596, 21.3068, 32.3848, 22.449199999999998, 28.1064, 32.1356, 25.04, 39.1412, 33.7352, 32.685199999999995, 32.388, 32.4248, 33.8992, 25.148, 34.7856, 37.628, 33.8284, 21.9596, 34.6548, 32.526799999999994, 33.4152, 30.2872, 15.1, 35.9488, 30.9, 37.152, 34.3524, 26.287599999999998, 24.462, 33.536, 31.5668, 33.314, 30.966, 17.8128, 31.0072, 33.9136, 31.5668, 36.5048, 30.394, 38.2636, 26.668799999999997, 38.4324, 40.0144, 24.9272, 39.952799999999996, 28.6664, 29.7, 32.47, 33.552800000000005, 31.3308, 24.036800000000003, 32.983599999999996, 17.8104, 30.382400000000004, 38.4392, 35.748400000000004, 27.7536, 28.5704, 39.0048, 32.0252, 38.8964, 35.0312, 35.4268, 35.080799999999996, 28.5524, 30.246000000000002, 24.253999999999998, 17.3, 24.3492, 33.896, 32.5132, 38.955600000000004, 29.9452, 38.038799999999995, 29.232799999999997, 33.124399999999994, 30.676, 37.099599999999995, 35.9868, 35.9352, 24.1696, 30.813599999999997, 34.1092, 34.7448, 33.764399999999995, 31.1756, 33.386799999999994, 31.552, 32.0012, 38.2004, 26.8748, 29.7928, 33.186400000000006, 28.7, 36.3632, 31.5244, 27.876799999999996, 35.074, 20.4168, 29.9668, 31.608, 37.3752, 32.6428, 37.2136, 31.406, 38.1596, 33.2596, 37.489599999999996, 37.58, 32.3728, 24.821599999999997, 39.0792, 32.476, 25.3056, 35.68, 30.531200000000002, 32.800799999999995, 38.7, 26.0908, 42.2244, 31.574399999999997, 35.6908, 26.5, 32.434400000000004, 32.4392, 31.232799999999997, 36.544799999999995, 30.806, 37.3144, 26.4496, 40.5904, 29.020799999999998, 19.113599999999998, 13.2492, 40.194, 27.435599999999997, 14.5524, 14.656, 32.362, 31.5, 30.009999999999998, 36.794, 37.3416, 14.3352, 27.745199999999997, 25.0944, 28.7808, 22.1492, 30.772799999999997, 39.1388, 36.566, 22.884, 27.115199999999998, 39.5828, 22.082, 27.2944, 18.1184, 33.766, 26.3288, 37.67, 28.108399999999996, 35.774, 30.2352, 26.509999999999998, 26.2072, 24.6212, 32.004, 35.8912, 20.996, 39.27, 31.342, 30.0824, 40.4488, 39.6796, 32.6892, 34.332, 39.5972, 30.729200000000002, 27.744799999999998, 29.2136, 35.053200000000004, 27.791200000000003, 29.9444, 35.2584, 28.959200000000003, 33.844, 34.9444, 30.696799999999996, 25.4424, 33.040400000000005, 25.399599999999996, 30.6924, 36.687200000000004, 39.2764, 24.372799999999998, 23.4, 29.7248, 38.782799999999995, 22.637999999999998, 26.7972, 37.794, 32.838, 28.4892, 39.483999999999995, 27.5872, 33.8388, 29.6216, 32.5496, 38.7804, 35.0248, 30.4936, 40.0524, 36.1944, 37.211200000000005, 18.566, 23.3356, 33.983999999999995, 32.5456, 31.772799999999997, 40.9908, 33.965599999999995, 34.132000000000005, 32.57, 35.4732, 28.8112, 31.1064, 30.273599999999995, 26.0044, 23.0892, 35.5828, 28.466, 28.9912, 34.288799999999995, 34.9636, 31.531599999999997, 35.4964, 31.3532, 34.028800000000004, 26.874399999999998, 26.8, 34.8904, 39.5276, 28.432000000000002, 26.4496, 30.116799999999998, 26.659599999999998, 17.9, 38.3364, 38.9388, 37.4764, 34.395199999999996, 37.7076, 27.611600000000003, 29.5768, 37.4976, 31.5004, 21.1892, 28.9972, 33.162, 34.5124, 19.4664, 38.932, 13.0, 38.9284, 28.726, 34.831599999999995, 35.894400000000005, 27.714799999999997, 35.798, 26.5, 33.7792, 35.258, 32.3036, 39.2964, 20.3444, 29.5916, 31.593600000000002, 38.6736, 38.0312, 30.7516, 28.5644, 21.532, 37.8892, 27.240000000000002, 35.4704, 32.538399999999996, 29.891199999999998, 32.065200000000004, 30.5608, 32.307599999999994, 34.8804, 22.939999999999998, 25.152, 30.5076, 38.044799999999995, 38.9492, 36.3132, 27.0708, 32.626799999999996, 21.369999999999997, 35.332, 34.384, 17.000799999999998, 31.0084, 21.6, 37.7832, 33.6636, 36.234, 29.9016, 31.7656, 28.3208, 39.7756, 17.0864, 39.800399999999996, 19.2, 34.3588, 38.0768, 35.2692, 35.8596, 31.0392, 34.2284, 27.5, 39.6136, 19.3, 18.3552, 37.6868, 30.095599999999997, 31.3664, 37.3872, 35.376799999999996, 35.128, 29.1, 25.6892, 31.6004, 35.666399999999996, 38.2908, 31.873599999999996, 30.8152, 27.7828, 38.3756, 38.8844, 38.8464, 34.77119999999999, 33.4256, 33.5876, 34.729200000000006, 35.178399999999996, 27.5048, 39.36879999999999, 34.0072, 34.0836, 9.222399999999999, 31.2076, 36.1324, 38.3352, 38.29, 30.2576, 29.3652, 19.4284, 22.892799999999998, 37.1328, 37.4632, 23.5396, 39.3524, 27.2016, 39.7568, 37.294, 30.428400000000003, 37.010000000000005, 38.1044, 30.2716, 11.5, 32.2044, 35.3624, 27.2032, 28.0256, 34.4284, 39.668400000000005, 6.4, 30.023999999999997, 32.572, 31.1824, 28.548000000000002, 36.9456, 33.1036, 36.014799999999994, 36.3692, 31.1352, 30.828, 35.726, 32.6476, 37.41759999999999, 35.435599999999994, 18.293599999999998, 30.736, 37.916799999999995, 30.9576, 32.1864, 30.462400000000002, 39.8656, 28.5948, 39.641999999999996, 16.146, 27.348399999999998, 26.6488, 20.78, 25.461599999999997, 32.4072, 37.1824, 24.8052, 35.382400000000004, 22.053600000000003, 24.418400000000002, 23.8544, 37.258, 39.0152, 33.3804, 36.879999999999995, 24.6576, 37.5012, 31.089599999999997, 29.973999999999997, 41.5768, 39.6496, 29.936, 26.407200000000003, 29.6696, 35.824799999999996, 37.048, 32.1868, 19.4076, 36.674, 31.575599999999998, 36.318799999999996, 35.372, 18.6068, 28.0188, 32.2008, 32.2548, 25.6612, 24.313200000000002, 38.0436, 38.5768, 31.195999999999998, 31.349200000000003, 31.652, 32.584, 26.632399999999997, 27.363599999999998, 33.67, 29.304, 27.2668, 38.2008, 34.854, 34.718, 34.4868, 36.8132, 33.8456, 36.4876, 28.8596, 38.058400000000006, 28.712, 35.9004, 37.504, 36.5324, 34.0668, 25.5, 39.5492, 39.666, 35.1896, 26.918, 36.431200000000004, 11.9, 27.711199999999998, 32.6704, 31.0152, 26.129599999999996, 20.518, 25.6876, 37.3032, 36.111999999999995, 38.935599999999994, 24.2568, 34.983599999999996, 34.327600000000004, 18.823999999999998, 32.5048, 23.499599999999997, 33.544399999999996, 15.614799999999999, 37.5624, 34.325599999999994, 36.007999999999996, 20.6792, 26.256, 40.273599999999995, 20.598, 37.6216, 32.1972, 29.735599999999998, 25.6888, 32.770399999999995, 38.52719999999999, 39.6464, 31.281599999999997, 31.663600000000002, 37.873599999999996, 31.276400000000002, 29.8292, 38.754, 34.9308, 34.7288, 35.3988, 30.6828, 33.3972, 24.945999999999998, 36.7136, 37.1312, 35.2076, 36.032, 30.3876, 38.5036, 32.9736, 31.6256, 29.6464, 28.9084, 24.6024, 1.0, 27.8676, 31.6564, 28.3492, 31.1032, 31.190800000000003, 35.236000000000004, 28.4, 38.435599999999994, 23.2048, 31.3164, 30.022399999999998, 28.293599999999998, 28.3016, 31.2188, 35.1764, 32.538, 26.6684, 33.693599999999996, 28.0048, 34.1092, 27.5908, 35.77, 39.0548, 30.8444, 24.9608, 32.5796, 31.534799999999997, 34.362, 25.4, 32.47279999999999, 37.504, 30.5292, 35.5108, 26.794800000000002, 31.4932, 31.848, 16.3, 32.594, 38.687200000000004, 28.9284, 32.471599999999995, 28.131999999999998, 34.980000000000004, 30.1392, 19.3012, 28.3324, 33.768, 33.8172, 29.095199999999995, 35.7076, 33.9904, 19.8692, 31.9, 28.453200000000002, 28.543599999999998, 37.9332, 39.5112, 39.4484, 38.8324, 26.932000000000002, 31.648, 15.493599999999999, 19.6112, 28.7352, 28.1492, 19.877200000000002, 26.6836, 31.0276, 34.7008, 16.3624, 34.2452, 27.589199999999998, 37.58, 38.0312], \"z\": [26.6, 23.1, 18.3, 20.0, 19.9, 11.5, 23.4, 14.7, 18.2, 16.8, 13.8, 20.4, 19.3, 19.4, 21.2, 25.9, 27.9, 19.7, 26.9, 20.1, 19.0, 22.9, 24.9, 25.7, 26.5, 22.0, 20.7, 18.1, 27.9, 13.0, 15.6, 0.0, 21.4, 11.0, 19.3, 15.7, 18.2, 23.1, 25.1, 1.7, 16.5, 23.7, 25.7, 23.7, 15.6, 20.6, 18.1, 15.7, 22.8, 18.7, 0.0, 18.1, 22.2, 19.0, 21.1, 16.8, 15.6, 20.1, 19.6, 24.2, 30.1, 0.0, 28.1, 16.6, 16.1, 20.9, 20.6, 22.6, 20.8, 20.6, 26.0, 28.8, 28.4, 20.4, 24.4, 0.0, 23.3, 19.3, 16.2, 17.2, 21.0, 22.3, 16.7, 15.8, 15.7, 13.0, 25.3, 17.5, 20.2, 17.2, 27.9, 25.8, 21.9, 20.6, 23.5, 26.8, 21.6, 20.2, 22.6, 25.3, 22.5, 29.6, 24.3, 30.5, 11.8, 3.8, 19.7, 18.6, 16.2, 13.0, 19.0, 10.4, 17.6, 25.0, 21.6, 15.2, 22.5, 13.6, 28.9, 20.2, 11.7, 17.5, 23.7, 24.6, 19.2, 16.4, 16.7, 13.0, 23.5, 13.6, 24.1, 21.0, 16.7, 23.1, 17.8, 15.5, 21.8, 14.6, 11.3, 19.4, 27.1, 24.9, 18.1, 4.3, 25.2, 18.7, 22.4, 10.0, 33.6, 26.1, 32.8, 27.1, 12.3, 18.7, 20.8, 31.7, 19.9, 29.0, 22.2, 17.4, 27.0, 10.2, 19.0, 26.8, 26.7, 18.3, 19.8, 17.9, 19.8, 17.3, 15.0, 26.7, 20.1, 13.7, 22.5, 15.0, 20.3, 11.7, 14.5, 15.9, 20.4, 0.0, 15.1, 20.7, 18.2, 16.2, 13.5, 23.3, 19.6, 2.1, 18.6, 17.1, 13.6, 17.1, 26.6, 11.2, 14.3, 18.7, 16.2, 2.0, 19.6, 24.8, 12.9, 16.1, 24.4, 22.2, 23.5, 23.8, 11.8, 20.3, 0.0, 24.0, 13.6, 13.9, 27.4, 20.8, 26.2, 19.6, 19.3, 13.8, 16.6, 16.4, 20.2, 17.4, 29.0, 16.1, 19.8, 32.4, 27.6, 20.5, 35.9, 15.0, 28.6, 23.5, 30.4, 16.2, 14.0, 19.3, 16.4, 27.2, 0.0, 15.5, 14.1, 18.0, 28.4, 22.9, 26.5, 29.6, 19.4, 16.4, 28.1, 13.8, 27.6, 20.7, 33.0, 19.3, 16.4, 30.8, 17.3, 0.0, 20.7, 22.3, 24.4, 23.4, 28.4, 21.9, 20.3, 24.6, 30.0, 19.6, 24.2, 20.7, 20.1, 28.3, 15.0, 24.8, 19.2, 18.4, 23.8, 29.2, 25.3, 15.0, 17.2, 13.2, 23.8, 16.3, 17.1, 21.9, 17.5, 16.3, 13.9, 0.0, 17.1, 22.2, 24.9, 16.9, 21.3, 21.9, 0.0, 9.7, 20.2, 30.7, 0.0, 17.2, 20.5, 16.8, 27.0, 17.4, 30.6, 20.2, 18.1, 19.5, 17.6, 14.4, 16.9, 31.3, 28.6, 20.9, 24.4, 18.2, 0.0, 18.2, 18.4, 25.9, 19.3, 15.5, 23.6, 20.2, 18.7, 12.5, 17.1, 17.8, 14.7, 20.0, 26.3, 18.2, 25.3, 22.8, 0.0, 28.3, 23.4, 30.3, 19.5, 18.8, 23.0, 17.7, 26.9, 24.1, 0.0, 7.8, 17.0, 20.1, 4.5, 13.5, 14.9, 25.6, 7.8, 24.6, 14.6, 28.5, 15.3, 26.9, 17.9, 17.4, 28.5, 17.1, 22.7, 16.7, 11.5, 21.7, 1.9, 13.3, 34.3, 17.5, 16.0, 20.6, 28.6, 16.8, 25.7, 18.9, 16.3, 28.8, 4.4, 26.5, 27.2, 29.8, 26.3, 32.5, 12.0, 33.3, 17.3, 22.1, 32.2, 23.0, 13.8, 22.3, 17.9, 19.5, 26.5, 18.6, 14.6, 27.5, 21.6, 17.5, 19.8, 25.1, 22.5, 13.5, 11.9, 16.6, 18.4, 14.6, 16.4, 21.5, 14.1, 20.9, 0.0, 21.4, 19.1, 23.3, 23.7, 19.6, 20.0, 17.0, 31.7, 0.0, 23.6, 19.3, 18.1, 21.1, 30.4, 23.7, 29.3, 34.3, 13.8, 24.6, 23.4, 13.2, 18.2, 22.5, 22.1, 14.1, 21.9, 13.8, 26.6, 16.6, 20.2, 14.6, 2.1, 18.7, 20.7, 15.9, 18.5, 19.4, 18.8, 22.3, 21.4, 14.0, 24.2, 13.8, 25.9, 20.1, 19.6, 18.4, 16.4, 12.9, 15.5, 26.9, 17.8, 23.2, 13.6, 0.0, 26.1, 20.1, 17.9, 13.9, 25.3, 0.0, 19.5, 15.8, 0.0, 25.3, 0.0, 16.5, 28.5, 21.2, 16.0, 21.8, 17.2, 26.6, 14.7, 20.4, 14.6, 21.6, 13.4, 23.9, 16.9, 24.3, 21.1, 18.4, 18.6, 17.0, 0.0, 19.2, 28.1, 21.9, 13.2, 24.6, 18.0, 28.8, 16.9, 29.7, 18.9, 21.3, 28.0, 21.8, 32.8, 17.6, 16.9, 21.6, 13.6, 27.9, 8.9, 12.8, 17.8, 23.8, 20.2, 17.2, 25.4, 17.0, 30.2, 23.8, 13.7, 23.5, 0.0, 27.0, 22.5, 30.4, 0.0, 14.8, 24.9, 12.3, 19.6, 18.6, 22.4, 21.6, 15.3, 15.7, 27.5, 31.5, 0.0, 21.6, 24.1, 26.9, 23.2, 25.4, 12.4, 16.2, 14.5, 20.9, 16.0, 12.7, 15.0, 31.1, 30.7, 26.9, 18.7, 20.1, 26.3, 29.0, 19.5, 26.1, 18.0, 14.2, 24.3, 13.1, 13.8, 0.0, 0.0, 12.1, 17.7, 15.0, 33.3, 12.1, 16.2, 4.6, 23.5, 22.1, 23.9, 16.6, 16.0, 16.9, 19.3, 29.2, 14.0, 24.4, 16.1, 20.6, 17.4, 14.2, 32.7, 23.7, 23.2, 13.6, 18.4, 31.7, 15.6, 30.1, 33.6, 20.7, 21.3, 18.4, 20.3, 15.8, 18.1, 22.8, 18.3, 17.2, 28.7, 23.2, 18.2, 15.8, 20.0, 17.5, 27.7, 18.2, 0.0, 25.5, 18.4, 15.2, 15.1, 12.1, 19.2, 22.1, 29.1, 24.7, 25.2, 17.2, 29.8, 17.5, 24.0, 19.6, 15.7, 30.0, 10.5, 26.2, 15.9, 27.2, 17.2, 15.1, 16.1, 19.4, 26.0, 19.2, 22.6, 15.0, 19.6, 19.5, 11.8, 24.2, 24.7, 29.5, 16.7, 20.4, 18.9, 31.8, 32.8, 24.1, 29.9, 0.0, 10.4, 22.7, 15.5, 23.6, 15.2, 15.9, 16.8, 15.7, 21.8, 19.7, 16.9, 24.0, 21.9, 17.5, 30.9, 21.0, 15.0, 17.9, 25.7, 35.2, 18.3, 3.6, 16.9, 10.0, 26.3, 19.8, 32.3, 12.0, 20.2, 30.8, 2.0, 29.4, 22.0, 19.1, 17.9, 27.7, 30.7, 14.8, 17.8, 0.0, 21.2, 0.0, 23.0, 20.1, 14.9, 25.5, 14.0, 15.7, 23.5, 21.5, 7.2, 22.8, 26.4, 15.7, 15.2, 18.5, 13.9, 26.2, 15.1, 20.6, 27.8, 17.2, 18.6, 0.0, 17.5, 17.2, 26.7, 33.2, 18.9, 24.6, 27.6, 15.8, 24.1, 11.4, 14.6, 15.2, 17.3, 26.1, 23.8, 30.7, 14.2, 20.1, 16.5, 33.5, 0.0, 18.3, 29.0, 29.3, 21.9, 22.3, 18.7, 12.2, 23.1, 24.0, 27.9, 20.7, 19.8, 20.4, 26.4, 33.3, 25.2, 8.1, 1.9, 20.7, 23.0, 16.3, 22.1, 32.7, 27.2, 23.6, 0.0, 16.8, 23.1, 18.2, 13.5, 28.2, 15.7, 17.0, 29.8, 14.7, 26.4, 31.5, 17.9, 17.9, 25.4, 20.0, 22.2, 18.4, 25.8, 24.0, 34.4, 20.0, 23.8, 19.2, 25.0, 16.7, 23.1, 10.6, 16.7, 0.0, 25.6, 15.8, 12.2, 25.2, 31.5, 20.6, 15.4, 19.6, 24.2, 26.4, 18.3, 18.5, 16.9, 20.1, 19.0, 25.5, 0.0, 27.5, 18.5, 23.4, 19.8, 22.3, 15.6, 14.2, 18.3, 22.2, 18.7, 21.5, 16.0, 14.8, 24.7, 30.5, 15.6, 16.6, 21.5, 16.2, 17.5, 14.1, 13.5, 19.8, 27.5, 22.8, 21.3, 21.0, 13.8, 29.0, 17.5, 20.5, 27.6, 21.2, 22.9, 28.3, 18.0, 20.3, 13.3, 25.2, 26.4, 14.3, 13.8, 28.1, 26.6, 20.8, 31.0, 28.1, 23.2, 17.6, 32.1, 27.9, 30.1, 17.8, 21.1, 22.2, 0.0, 20.2, 24.7, 24.5, 20.3, 18.5, 24.5, 28.3, 16.0, 17.8, 18.7, 18.4, 15.4, 17.1, 20.2, 21.4, 20.1, 15.6, 18.8, 21.5, 16.9, 16.0, 19.4, 22.2, 16.7, 24.4, 18.0, 17.5, 19.3, 18.8, 28.6, 16.4, 18.1, 28.3, 24.7, 21.5, 13.8, 31.2, 13.9, 20.9, 26.1, 14.3, 16.2, 10.6, 0.0, 19.6, 24.9, 18.0, 15.4, 28.2, 17.9, 0.0, 11.1, 18.7, 21.1, 34.8, 19.9, 15.9, 18.2, 17.4, 22.1, 28.3, 20.3, 25.5, 35.1, 18.6, 18.0, 0.0, 19.1, 11.5, 20.9, 15.6, 17.7, 14.5, 0.0, 25.8, 29.5, 23.9, 26.1, 28.1, 10.9, 21.4, 16.4, 23.8, 25.9, 33.1, 18.0, 28.3, 10.0, 14.6, 21.6, 13.8, 27.3, 34.2, 19.9, 17.1, 10.0, 23.0, 19.9, 25.2, 18.3, 29.3, 11.7, 30.7, 17.5, 18.0, 16.0, 19.2, 14.1, 0.0, 21.8, 13.9, 28.5, 13.4, 24.4, 24.2, 26.9, 23.6, 22.1, 0.0, 23.7, 18.2, 23.3, 17.9, 15.8, 19.1, 0.0, 26.4, 0.0, 24.8, 20.7, 31.9, 18.6, 17.8, 18.2, 22.0, 0.0, 28.3, 22.1, 18.6, 16.7, 16.4, 14.8, 24.7, 26.9, 13.1, 13.6, 33.8, 14.4, 14.9, 13.3, 31.6, 15.2, 26.2, 22.8, 18.9, 12.6, 19.9, 15.1, 19.8, 22.5, 32.4, 27.3, 19.1, 27.2, 12.2, 16.8, 12.9, 20.1, 13.4, 13.2, 18.5, 19.1, 27.5, 18.1, 30.9, 0.0, 18.1, 22.6, 26.8, 14.4, 19.1, 29.1, 0.0, 26.0, 28.0, 27.6, 2.0, 19.4, 23.9, 17.7, 23.3, 19.8, 22.0, 11.5, 29.9, 22.4, 16.9, 21.4, 14.0, 28.2, 32.4, 23.6, 22.6, 24.4, 12.7, 20.5, 16.5, 24.1, 21.2, 20.0, 28.4, 22.8, 27.6, 12.3, 27.6, 11.4, 16.6, 30.6, 29.5, 14.8, 17.1, 20.0, 32.4, 16.3, 25.4, 13.5, 18.2, 15.4, 14.0, 22.8, 20.4, 20.2, 27.0, 20.7, 19.9, 13.5, 1.9, 13.7, 28.0, 25.7, 13.7, 19.2, 27.7, 31.3, 29.3, 8.9, 18.2, 29.0, 18.3, 23.0, 16.0, 15.1, 13.9, 17.5, 21.0, 15.7, 19.2, 33.5, 19.5, 20.7, 29.3, 19.4, 14.9, 17.9, 26.6, 13.0, 22.1, 21.0, 15.1, 15.7, 0.0, 18.3, 21.5, 25.4, 19.5, 23.8, 0.0, 18.8, 14.6, 14.8, 35.4, 19.5, 14.9, 26.8, 13.0, 16.9, 13.2, 18.9, 24.9, 26.0, 15.2, 27.9, 28.1, 17.7, 22.6, 14.4, 17.0, 25.8, 19.0, 16.4, 14.5, 18.4, 20.3, 16.9, 31.2, 14.6, 27.8, 13.6, 8.4, 13.9, 16.4, 21.1, 13.3, 33.5, 26.7, 16.2, 8.7, 24.7, 20.3, 16.5, 26.4, 23.8, 19.9, 18.0, 14.9, 23.9, 16.4, 14.4, 13.6, 14.1, 32.6, 0.0, 34.9, 16.1, 18.3, 1.8, 16.7, 14.0, 0.0, 16.9, 15.2, 31.1, 12.6, 21.4, 13.4, 13.7, 21.1, 24.5, 29.1, 21.4, 15.2, 33.3, 16.7, 17.5, 27.7, 28.1, 9.2, 22.9, 22.7, 25.5, 25.0, 22.2, 21.0, 13.3, 21.7, 12.7, 24.3, 27.0, 0.0, 18.5, 17.8, 19.1, 30.9, 18.0, 20.0, 15.8, 16.3, 15.1, 32.0, 25.3, 34.8, 19.9, 19.6, 23.3, 0.0, 14.3, 33.9, 9.3, 18.8, 24.1, 15.1, 18.0, 2.0, 21.4, 18.8, 19.8, 18.3, 15.3, 18.9, 24.9, 19.2, 22.6, 22.3, 28.3, 20.0, 23.8]}],\n",
              "                        {\"height\": 800, \"margin\": {\"b\": 65, \"l\": 65, \"r\": 50, \"t\": 90}, \"scene\": {\"xaxis\": {\"title\": {\"text\": \"Calidad esperada\"}}, \"yaxis\": {\"title\": {\"text\": \"Costo Calculado\"}}, \"zaxis\": {\"title\": {\"text\": \"Energ\\u00eda Cal\\u00f3rica\"}}}, \"template\": {\"data\": {\"bar\": [{\"error_x\": {\"color\": \"#2a3f5f\"}, \"error_y\": {\"color\": \"#2a3f5f\"}, \"marker\": {\"line\": {\"color\": \"#E5ECF6\", \"width\": 0.5}}, \"type\": \"bar\"}], \"barpolar\": [{\"marker\": {\"line\": {\"color\": \"#E5ECF6\", \"width\": 0.5}}, \"type\": \"barpolar\"}], \"carpet\": [{\"aaxis\": {\"endlinecolor\": \"#2a3f5f\", \"gridcolor\": \"white\", \"linecolor\": \"white\", \"minorgridcolor\": \"white\", \"startlinecolor\": \"#2a3f5f\"}, \"baxis\": {\"endlinecolor\": \"#2a3f5f\", \"gridcolor\": \"white\", \"linecolor\": \"white\", \"minorgridcolor\": \"white\", \"startlinecolor\": \"#2a3f5f\"}, \"type\": \"carpet\"}], \"choropleth\": [{\"colorbar\": {\"outlinewidth\": 0, \"ticks\": \"\"}, \"type\": \"choropleth\"}], \"contour\": [{\"colorbar\": {\"outlinewidth\": 0, \"ticks\": \"\"}, \"colorscale\": [[0.0, \"#0d0887\"], [0.1111111111111111, \"#46039f\"], [0.2222222222222222, \"#7201a8\"], [0.3333333333333333, \"#9c179e\"], [0.4444444444444444, \"#bd3786\"], [0.5555555555555556, \"#d8576b\"], [0.6666666666666666, \"#ed7953\"], [0.7777777777777778, \"#fb9f3a\"], [0.8888888888888888, \"#fdca26\"], [1.0, \"#f0f921\"]], \"type\": \"contour\"}], \"contourcarpet\": [{\"colorbar\": {\"outlinewidth\": 0, \"ticks\": \"\"}, \"type\": \"contourcarpet\"}], \"heatmap\": [{\"colorbar\": {\"outlinewidth\": 0, \"ticks\": \"\"}, \"colorscale\": [[0.0, \"#0d0887\"], [0.1111111111111111, \"#46039f\"], [0.2222222222222222, \"#7201a8\"], [0.3333333333333333, \"#9c179e\"], [0.4444444444444444, \"#bd3786\"], [0.5555555555555556, \"#d8576b\"], [0.6666666666666666, \"#ed7953\"], [0.7777777777777778, \"#fb9f3a\"], [0.8888888888888888, \"#fdca26\"], [1.0, \"#f0f921\"]], \"type\": \"heatmap\"}], \"heatmapgl\": [{\"colorbar\": {\"outlinewidth\": 0, \"ticks\": \"\"}, \"colorscale\": [[0.0, \"#0d0887\"], [0.1111111111111111, \"#46039f\"], [0.2222222222222222, \"#7201a8\"], [0.3333333333333333, \"#9c179e\"], [0.4444444444444444, \"#bd3786\"], [0.5555555555555556, \"#d8576b\"], [0.6666666666666666, \"#ed7953\"], [0.7777777777777778, \"#fb9f3a\"], [0.8888888888888888, \"#fdca26\"], [1.0, \"#f0f921\"]], \"type\": \"heatmapgl\"}], \"histogram\": [{\"marker\": {\"colorbar\": {\"outlinewidth\": 0, \"ticks\": \"\"}}, \"type\": \"histogram\"}], \"histogram2d\": [{\"colorbar\": {\"outlinewidth\": 0, \"ticks\": \"\"}, \"colorscale\": [[0.0, \"#0d0887\"], [0.1111111111111111, \"#46039f\"], [0.2222222222222222, \"#7201a8\"], [0.3333333333333333, \"#9c179e\"], [0.4444444444444444, \"#bd3786\"], [0.5555555555555556, \"#d8576b\"], [0.6666666666666666, \"#ed7953\"], [0.7777777777777778, \"#fb9f3a\"], [0.8888888888888888, \"#fdca26\"], [1.0, \"#f0f921\"]], \"type\": \"histogram2d\"}], \"histogram2dcontour\": [{\"colorbar\": {\"outlinewidth\": 0, \"ticks\": \"\"}, \"colorscale\": [[0.0, \"#0d0887\"], [0.1111111111111111, \"#46039f\"], [0.2222222222222222, \"#7201a8\"], [0.3333333333333333, \"#9c179e\"], [0.4444444444444444, \"#bd3786\"], [0.5555555555555556, \"#d8576b\"], [0.6666666666666666, \"#ed7953\"], [0.7777777777777778, \"#fb9f3a\"], [0.8888888888888888, \"#fdca26\"], [1.0, \"#f0f921\"]], \"type\": \"histogram2dcontour\"}], \"mesh3d\": [{\"colorbar\": {\"outlinewidth\": 0, \"ticks\": \"\"}, \"type\": \"mesh3d\"}], \"parcoords\": [{\"line\": {\"colorbar\": {\"outlinewidth\": 0, \"ticks\": \"\"}}, \"type\": \"parcoords\"}], \"pie\": [{\"automargin\": true, \"type\": \"pie\"}], \"scatter\": [{\"marker\": {\"colorbar\": {\"outlinewidth\": 0, \"ticks\": \"\"}}, \"type\": \"scatter\"}], \"scatter3d\": [{\"line\": {\"colorbar\": {\"outlinewidth\": 0, \"ticks\": \"\"}}, \"marker\": {\"colorbar\": {\"outlinewidth\": 0, \"ticks\": \"\"}}, \"type\": \"scatter3d\"}], \"scattercarpet\": [{\"marker\": {\"colorbar\": {\"outlinewidth\": 0, \"ticks\": \"\"}}, \"type\": \"scattercarpet\"}], \"scattergeo\": [{\"marker\": {\"colorbar\": {\"outlinewidth\": 0, \"ticks\": \"\"}}, \"type\": \"scattergeo\"}], \"scattergl\": [{\"marker\": {\"colorbar\": {\"outlinewidth\": 0, \"ticks\": \"\"}}, \"type\": \"scattergl\"}], \"scattermapbox\": [{\"marker\": {\"colorbar\": {\"outlinewidth\": 0, \"ticks\": \"\"}}, \"type\": \"scattermapbox\"}], \"scatterpolar\": [{\"marker\": {\"colorbar\": {\"outlinewidth\": 0, \"ticks\": \"\"}}, \"type\": \"scatterpolar\"}], \"scatterpolargl\": [{\"marker\": {\"colorbar\": {\"outlinewidth\": 0, \"ticks\": \"\"}}, \"type\": \"scatterpolargl\"}], \"scatterternary\": [{\"marker\": {\"colorbar\": {\"outlinewidth\": 0, \"ticks\": \"\"}}, \"type\": \"scatterternary\"}], \"surface\": [{\"colorbar\": {\"outlinewidth\": 0, \"ticks\": \"\"}, \"colorscale\": [[0.0, \"#0d0887\"], [0.1111111111111111, \"#46039f\"], [0.2222222222222222, \"#7201a8\"], [0.3333333333333333, \"#9c179e\"], [0.4444444444444444, \"#bd3786\"], [0.5555555555555556, \"#d8576b\"], [0.6666666666666666, \"#ed7953\"], [0.7777777777777778, \"#fb9f3a\"], [0.8888888888888888, \"#fdca26\"], [1.0, \"#f0f921\"]], \"type\": \"surface\"}], \"table\": [{\"cells\": {\"fill\": {\"color\": \"#EBF0F8\"}, \"line\": {\"color\": \"white\"}}, \"header\": {\"fill\": {\"color\": \"#C8D4E3\"}, \"line\": {\"color\": \"white\"}}, \"type\": \"table\"}]}, \"layout\": {\"annotationdefaults\": {\"arrowcolor\": \"#2a3f5f\", \"arrowhead\": 0, \"arrowwidth\": 1}, \"coloraxis\": {\"colorbar\": {\"outlinewidth\": 0, \"ticks\": \"\"}}, \"colorscale\": {\"diverging\": [[0, \"#8e0152\"], [0.1, \"#c51b7d\"], [0.2, \"#de77ae\"], [0.3, \"#f1b6da\"], [0.4, \"#fde0ef\"], [0.5, \"#f7f7f7\"], [0.6, \"#e6f5d0\"], [0.7, \"#b8e186\"], [0.8, \"#7fbc41\"], [0.9, \"#4d9221\"], [1, \"#276419\"]], \"sequential\": [[0.0, \"#0d0887\"], [0.1111111111111111, \"#46039f\"], [0.2222222222222222, \"#7201a8\"], [0.3333333333333333, \"#9c179e\"], [0.4444444444444444, \"#bd3786\"], [0.5555555555555556, \"#d8576b\"], [0.6666666666666666, \"#ed7953\"], [0.7777777777777778, \"#fb9f3a\"], [0.8888888888888888, \"#fdca26\"], [1.0, \"#f0f921\"]], \"sequentialminus\": [[0.0, \"#0d0887\"], [0.1111111111111111, \"#46039f\"], [0.2222222222222222, \"#7201a8\"], [0.3333333333333333, \"#9c179e\"], [0.4444444444444444, \"#bd3786\"], [0.5555555555555556, \"#d8576b\"], [0.6666666666666666, \"#ed7953\"], [0.7777777777777778, \"#fb9f3a\"], [0.8888888888888888, \"#fdca26\"], [1.0, \"#f0f921\"]]}, \"colorway\": [\"#636efa\", \"#EF553B\", \"#00cc96\", \"#ab63fa\", \"#FFA15A\", \"#19d3f3\", \"#FF6692\", \"#B6E880\", \"#FF97FF\", \"#FECB52\"], \"font\": {\"color\": \"#2a3f5f\"}, \"geo\": {\"bgcolor\": \"white\", \"lakecolor\": \"white\", \"landcolor\": \"#E5ECF6\", \"showlakes\": true, \"showland\": true, \"subunitcolor\": \"white\"}, \"hoverlabel\": {\"align\": \"left\"}, \"hovermode\": \"closest\", \"mapbox\": {\"style\": \"light\"}, \"paper_bgcolor\": \"white\", \"plot_bgcolor\": \"#E5ECF6\", \"polar\": {\"angularaxis\": {\"gridcolor\": \"white\", \"linecolor\": \"white\", \"ticks\": \"\"}, \"bgcolor\": \"#E5ECF6\", \"radialaxis\": {\"gridcolor\": \"white\", \"linecolor\": \"white\", \"ticks\": \"\"}}, \"scene\": {\"xaxis\": {\"backgroundcolor\": \"#E5ECF6\", \"gridcolor\": \"white\", \"gridwidth\": 2, \"linecolor\": \"white\", \"showbackground\": true, \"ticks\": \"\", \"zerolinecolor\": \"white\"}, \"yaxis\": {\"backgroundcolor\": \"#E5ECF6\", \"gridcolor\": \"white\", \"gridwidth\": 2, \"linecolor\": \"white\", \"showbackground\": true, \"ticks\": \"\", \"zerolinecolor\": \"white\"}, \"zaxis\": {\"backgroundcolor\": \"#E5ECF6\", \"gridcolor\": \"white\", \"gridwidth\": 2, \"linecolor\": \"white\", \"showbackground\": true, \"ticks\": \"\", \"zerolinecolor\": \"white\"}}, \"shapedefaults\": {\"line\": {\"color\": \"#2a3f5f\"}}, \"ternary\": {\"aaxis\": {\"gridcolor\": \"white\", \"linecolor\": \"white\", \"ticks\": \"\"}, \"baxis\": {\"gridcolor\": \"white\", \"linecolor\": \"white\", \"ticks\": \"\"}, \"bgcolor\": \"#E5ECF6\", \"caxis\": {\"gridcolor\": \"white\", \"linecolor\": \"white\", \"ticks\": \"\"}}, \"title\": {\"x\": 0.05}, \"xaxis\": {\"automargin\": true, \"gridcolor\": \"white\", \"linecolor\": \"white\", \"ticks\": \"\", \"title\": {\"standoff\": 15}, \"zerolinecolor\": \"white\", \"zerolinewidth\": 2}, \"yaxis\": {\"automargin\": true, \"gridcolor\": \"white\", \"linecolor\": \"white\", \"ticks\": \"\", \"title\": {\"standoff\": 15}, \"zerolinecolor\": \"white\", \"zerolinewidth\": 2}}}, \"title\": {\"text\": \"Calidad y Costo vs Energ\\u00eda Cal\\u00f3rica\"}, \"width\": 800},\n",
              "                        {\"responsive\": true}\n",
              "                    ).then(function(){\n",
              "                            \n",
              "var gd = document.getElementById('5ab969a8-7796-406a-906d-4641a7712c11');\n",
              "var x = new MutationObserver(function (mutations, observer) {{\n",
              "        var display = window.getComputedStyle(gd).display;\n",
              "        if (!display || display === 'none') {{\n",
              "            console.log([gd, 'removed!']);\n",
              "            Plotly.purge(gd);\n",
              "            observer.disconnect();\n",
              "        }}\n",
              "}});\n",
              "\n",
              "// Listen for the removal of the full notebook cells\n",
              "var notebookContainer = gd.closest('#notebook-container');\n",
              "if (notebookContainer) {{\n",
              "    x.observe(notebookContainer, {childList: true});\n",
              "}}\n",
              "\n",
              "// Listen for the clearing of the current output cell\n",
              "var outputEl = gd.closest('.output');\n",
              "if (outputEl) {{\n",
              "    x.observe(outputEl, {childList: true});\n",
              "}}\n",
              "\n",
              "                        })\n",
              "                };\n",
              "                \n",
              "            </script>\n",
              "        </div>\n",
              "</body>\n",
              "</html>"
            ]
          },
          "metadata": {
            "tags": []
          }
        }
      ]
    },
    {
      "cell_type": "code",
      "metadata": {
        "id": "cR5SLhMKHAal"
      },
      "source": [
        "figT.write_html(\"images/EC.html\")"
      ],
      "execution_count": 57,
      "outputs": []
    },
    {
      "cell_type": "code",
      "metadata": {
        "id": "aWjW62A6E8IA",
        "colab": {
          "base_uri": "https://localhost:8080/",
          "height": 817
        },
        "outputId": "94d17e5e-346e-4657-b7fc-0679cd4f470e"
      },
      "source": [
        "import plotly.graph_objects as go\n",
        "import plotly.express as px\n",
        "\n",
        "figT = go.Figure(data=go.Scatter3d(\n",
        "    x=new_X_val['Calidad'],\n",
        "    y=new_X_val['Costo'],\n",
        "    z=new_X_val['EE'],\n",
        "    mode='markers',\n",
        "    marker=dict(\n",
        "        size=5,\n",
        "        sizemode='diameter',\n",
        "        sizeref=1500,\n",
        "        color = new_X_val['Costo'],\n",
        "        colorscale =[[0,'lime'],[0.5,'red']],\n",
        "        line_color='rgb(140, 140, 170)')))\n",
        "\n",
        "figT.select_xaxes(['Aceptable','Regular','Bueno','Excelente'])\n",
        "\n",
        "figT.update_layout(height=800, width=800,\n",
        "                  title='Calidad y Costo vs Energía Eléctrica',\n",
        "                  margin=dict(l=65, r=50, b=65, t=90),\n",
        "                  scene = dict( xaxis = dict(title='Calidad esperada'),\n",
        "                                yaxis = dict(title='Costo Calculado'),\n",
        "                                zaxis = dict(title='Energía Eléctrica'),),)"
      ],
      "execution_count": 58,
      "outputs": [
        {
          "output_type": "display_data",
          "data": {
            "text/html": [
              "<html>\n",
              "<head><meta charset=\"utf-8\" /></head>\n",
              "<body>\n",
              "    <div>\n",
              "            <script src=\"https://cdnjs.cloudflare.com/ajax/libs/mathjax/2.7.5/MathJax.js?config=TeX-AMS-MML_SVG\"></script><script type=\"text/javascript\">if (window.MathJax) {MathJax.Hub.Config({SVG: {font: \"STIX-Web\"}});}</script>\n",
              "                <script type=\"text/javascript\">window.PlotlyConfig = {MathJaxConfig: 'local'};</script>\n",
              "        <script src=\"https://cdn.plot.ly/plotly-latest.min.js\"></script>    \n",
              "            <div id=\"19054a27-9dad-4dad-b714-7dee05f7ae13\" class=\"plotly-graph-div\" style=\"height:800px; width:800px;\"></div>\n",
              "            <script type=\"text/javascript\">\n",
              "                \n",
              "                    window.PLOTLYENV=window.PLOTLYENV || {};\n",
              "                    \n",
              "                if (document.getElementById(\"19054a27-9dad-4dad-b714-7dee05f7ae13\")) {\n",
              "                    Plotly.newPlot(\n",
              "                        '19054a27-9dad-4dad-b714-7dee05f7ae13',\n",
              "                        [{\"marker\": {\"color\": [39.8584, 34.9244, 32.9492, 38.28, 38.6076, 22.626, 28.441599999999998, 24.5428, 25.1768, 37.8632, 36.6912, 30.4696, 39.3732, 34.0456, 36.3488, 41.251599999999996, 37.599599999999995, 33.4628, 29.0756, 27.852400000000003, 32.456, 31.2796, 32.0276, 32.6068, 19.186, 35.428, 34.9868, 40.3044, 32.2996, 29.712, 24.2944, 24.7, 35.8936, 27.764, 26.9732, 31.4668, 36.4768, 33.624399999999994, 29.772399999999998, 31.8308, 32.146, 37.1588, 39.0068, 32.3588, 31.5944, 28.1144, 34.7044, 35.766799999999996, 36.9072, 38.9388, 11.0, 38.9044, 30.672799999999995, 32.756, 34.4764, 36.9632, 33.894400000000005, 34.4524, 39.9904, 34.7208, 39.5924, 13.0, 31.3444, 36.6184, 26.056400000000004, 33.1316, 34.7144, 37.162400000000005, 38.7592, 33.2144, 33.824, 22.8512, 35.9616, 37.0696, 37.065599999999996, 28.5, 37.2692, 19.7732, 38.8288, 34.052800000000005, 39.403999999999996, 33.9452, 19.2908, 31.6392, 21.2668, 22.811999999999998, 18.3172, 26.77, 34.6248, 26.352800000000002, 34.099599999999995, 36.0792, 29.1556, 35.5144, 30.414, 36.4032, 33.7384, 32.2248, 33.7624, 30.8172, 36.29, 21.4304, 33.1932, 35.282, 25.5432, 30.5512, 25.5628, 13.4664, 37.028800000000004, 38.111999999999995, 37.856, 25.3296, 35.142399999999995, 35.4, 33.138400000000004, 34.8048, 37.89, 27.3464, 30.8236, 35.2248, 39.2708, 37.47, 31.4588, 32.010400000000004, 28.8008, 35.6736, 26.9908, 39.512, 35.214, 28.746399999999998, 32.5484, 31.503999999999998, 36.4908, 25.824399999999997, 28.0872, 37.322, 24.7832, 31.3704, 31.6812, 16.345599999999997, 37.3204, 37.5276, 37.3044, 22.6132, 28.144799999999996, 28.8388, 33.117599999999996, 23.64, 24.4264, 37.7964, 23.747199999999996, 35.0204, 26.8052, 29.938799999999997, 27.6592, 34.8508, 30.607599999999998, 31.796, 36.0728, 36.0976, 37.147999999999996, 31.584799999999998, 35.856, 32.703199999999995, 34.5308, 38.1492, 37.7352, 26.4596, 26.8352, 38.6252, 28.259999999999998, 36.430800000000005, 39.8524, 38.6188, 36.19, 33.46, 34.8972, 38.1708, 32.998, 20.5116, 34.7696, 30.3, 32.8324, 35.2868, 40.7768, 23.4288, 18.073999999999998, 16.8692, 34.290400000000005, 24.8204, 25.1664, 18.5804, 33.1464, 25.4804, 19.2584, 29.008799999999997, 27.8532, 33.7388, 36.028800000000004, 30.048000000000002, 33.790400000000005, 34.2552, 36.239599999999996, 26.7564, 33.2656, 34.672799999999995, 22.214, 28.2312, 33.3432, 28.397199999999998, 9.5, 30.676, 36.9464, 31.263599999999997, 36.0376, 34.6592, 18.968799999999998, 27.9904, 31.4732, 24.691200000000002, 36.2184, 38.1736, 40.4248, 32.4976, 29.095999999999997, 29.756400000000003, 33.2352, 32.1576, 28.282400000000003, 34.042, 25.9916, 38.76, 32.306400000000004, 32.013999999999996, 30.7096, 37.2288, 27.035999999999998, 34.0732, 38.873599999999996, 38.7928, 17.0, 24.522, 36.4084, 28.131999999999998, 33.2616, 31.6796, 39.586, 37.4304, 34.9456, 38.373599999999996, 30.9444, 31.4912, 28.6824, 37.9868, 30.491999999999997, 33.8732, 37.1736, 22.3992, 34.4252, 29.4, 39.7868, 32.3452, 31.865599999999997, 32.2416, 25.761599999999998, 38.955600000000004, 25.5972, 34.7104, 37.42, 32.4904, 34.6208, 27.086799999999997, 32.6524, 33.5892, 39.16, 33.2552, 37.1008, 35.5216, 29.331200000000003, 28.4408, 34.7172, 28.86, 33.8528, 28.456799999999998, 34.1312, 34.3012, 27.580399999999997, 29.955599999999997, 37.97, 36.1012, 29.363599999999998, 17.7, 33.5804, 23.172799999999995, 18.0276, 33.6356, 39.6212, 39.455600000000004, 6.4, 24.9228, 31.1248, 36.2268, 26.8, 38.1528, 34.842, 37.4632, 36.147999999999996, 33.3976, 22.1544, 40.824799999999996, 33.8044, 25.918, 35.642399999999995, 29.825599999999998, 37.6356, 26.0612, 34.806400000000004, 36.7316, 35.065599999999996, 34.376799999999996, 20.6, 37.6768, 36.5216, 41.5516, 18.9732, 37.622, 30.7864, 40.9248, 33.038799999999995, 38.05, 37.3804, 37.587199999999996, 37.3428, 39.480000000000004, 35.8412, 32.1768, 27.3172, 34.5072, 29.9, 29.389200000000002, 34.2416, 35.437200000000004, 39.618, 37.1112, 34.352000000000004, 39.2148, 38.1756, 32.648399999999995, 6.8, 35.9472, 28.608, 36.5524, 19.258, 34.674, 26.9876, 18.5344, 14.6472, 32.9104, 36.6704, 36.334, 34.6772, 39.6756, 35.3596, 39.6976, 27.334, 36.6804, 32.6348, 35.0908, 36.126000000000005, 33.2108, 31.575599999999998, 26.6292, 28.6332, 26.27, 33.684, 37.2144, 28.1064, 33.063199999999995, 18.6068, 39.0836, 31.401200000000003, 30.8512, 20.1856, 19.186, 38.1928, 34.1752, 40.2412, 39.33, 30.387999999999998, 34.209199999999996, 23.1252, 36.4004, 30.412800000000004, 34.752, 30.291200000000003, 36.1452, 38.0596, 34.118, 35.885999999999996, 25.4664, 38.0704, 33.41, 31.4384, 25.67, 36.2352, 23.9724, 30.99, 36.874, 32.9156, 29.6184, 35.8216, 29.2704, 35.5736, 37.566, 35.3084, 37.5316, 15.9, 36.3936, 40.0284, 31.9692, 33.3588, 34.790400000000005, 33.980000000000004, 35.007999999999996, 34.8508, 12.4, 32.1864, 17.9732, 28.2044, 32.876400000000004, 37.5096, 34.7588, 34.2132, 35.7332, 39.6912, 34.6104, 32.3416, 26.8568, 35.376799999999996, 34.989999999999995, 30.3004, 38.7084, 36.855599999999995, 30.0912, 31.7584, 31.6184, 38.7248, 18.470399999999998, 26.1204, 39.6388, 39.886799999999994, 38.7116, 27.294, 39.8456, 20.3112, 32.3452, 26.4936, 34.736000000000004, 37.8208, 31.4912, 34.851600000000005, 17.8524, 33.9904, 38.4216, 37.1736, 25.939600000000002, 36.422, 31.9756, 34.087199999999996, 30.196799999999996, 30.746399999999998, 19.6, 22.0964, 35.6524, 35.459599999999995, 36.9636, 38.1172, 27.5, 38.118, 32.5392, 14.1, 33.4172, 0.0, 31.945999999999998, 37.334, 38.6488, 30.983999999999998, 38.2832, 36.3528, 25.9584, 32.6428, 34.9696, 27.6704, 37.2384, 26.101599999999998, 31.3036, 27.235599999999998, 32.2932, 37.876400000000004, 33.721599999999995, 30.9664, 38.408, 28.7, 29.1008, 30.4444, 27.1556, 32.7568, 17.8104, 34.832, 38.051199999999994, 28.8356, 21.502799999999997, 33.483599999999996, 36.3212, 36.372, 27.5832, 29.747199999999996, 29.7424, 36.6356, 28.8384, 30.0464, 35.9996, 29.1436, 28.5672, 37.9872, 29.1312, 32.324799999999996, 27.352800000000002, 39.3896, 27.208, 35.8648, 37.5312, 31.0188, 34.314, 13.2, 38.44799999999999, 25.29, 37.3096, 28.5, 33.9152, 18.0276, 36.8052, 39.8904, 39.8664, 31.117599999999996, 36.538399999999996, 32.7772, 38.1668, 33.41, 36.906, 28.8, 36.2384, 34.0484, 28.4756, 33.0968, 33.5896, 36.7776, 39.8288, 27.497999999999998, 34.331599999999995, 36.384, 25.994799999999998, 29.56, 30.5164, 26.026799999999998, 27.0756, 41.3388, 37.0524, 30.641199999999998, 30.195999999999998, 35.818, 36.5964, 33.132000000000005, 30.680799999999998, 33.593199999999996, 27.184399999999997, 27.0912, 29.4, 22.5, 31.9604, 28.214799999999997, 31.16, 38.8092, 35.4604, 34.528800000000004, 17.0304, 30.914, 16.5004, 30.5036, 26.818400000000004, 29.884, 37.2356, 33.3732, 33.5408, 32.135999999999996, 33.8656, 25.2564, 35.2144, 40.0976, 23.8808, 36.3748, 40.2588, 26.296799999999998, 32.4464, 39.8216, 29.650799999999997, 29.3944, 39.8924, 34.3264, 19.3868, 15.4212, 33.4216, 36.0972, 36.5392, 39.3044, 35.3072, 20.3492, 40.7528, 32.5788, 30.596799999999998, 27.376799999999996, 35.9392, 31.88, 39.67, 33.0548, 32.9768, 29.7, 32.562, 39.3216, 24.3048, 26.9324, 33.3604, 39.800799999999995, 32.5004, 27.968400000000003, 33.3828, 38.3448, 29.4528, 34.075199999999995, 35.07, 31.275999999999996, 39.6904, 32.1668, 31.419999999999998, 29.602, 36.4688, 27.211599999999997, 35.5928, 32.952799999999996, 30.9324, 34.9564, 39.745599999999996, 35.224, 34.6008, 35.662400000000005, 34.46, 35.3904, 34.018, 27.1432, 29.620799999999996, 34.6828, 36.358000000000004, 32.6908, 30.269599999999997, 36.2836, 30.123199999999997, 29.747199999999996, 37.0484, 36.047599999999996, 26.1, 32.8296, 36.434799999999996, 29.322000000000003, 29.6864, 37.904799999999994, 39.4116, 21.1632, 25.866799999999998, 30.5832, 29.662799999999997, 38.5356, 33.976, 36.955600000000004, 22.67, 31.7716, 35.604, 36.26, 30.7596, 21.3068, 32.3848, 22.449199999999998, 28.1064, 32.1356, 25.04, 39.1412, 33.7352, 32.685199999999995, 32.388, 32.4248, 33.8992, 25.148, 34.7856, 37.628, 33.8284, 21.9596, 34.6548, 32.526799999999994, 33.4152, 30.2872, 15.1, 35.9488, 30.9, 37.152, 34.3524, 26.287599999999998, 24.462, 33.536, 31.5668, 33.314, 30.966, 17.8128, 31.0072, 33.9136, 31.5668, 36.5048, 30.394, 38.2636, 26.668799999999997, 38.4324, 40.0144, 24.9272, 39.952799999999996, 28.6664, 29.7, 32.47, 33.552800000000005, 31.3308, 24.036800000000003, 32.983599999999996, 17.8104, 30.382400000000004, 38.4392, 35.748400000000004, 27.7536, 28.5704, 39.0048, 32.0252, 38.8964, 35.0312, 35.4268, 35.080799999999996, 28.5524, 30.246000000000002, 24.253999999999998, 17.3, 24.3492, 33.896, 32.5132, 38.955600000000004, 29.9452, 38.038799999999995, 29.232799999999997, 33.124399999999994, 30.676, 37.099599999999995, 35.9868, 35.9352, 24.1696, 30.813599999999997, 34.1092, 34.7448, 33.764399999999995, 31.1756, 33.386799999999994, 31.552, 32.0012, 38.2004, 26.8748, 29.7928, 33.186400000000006, 28.7, 36.3632, 31.5244, 27.876799999999996, 35.074, 20.4168, 29.9668, 31.608, 37.3752, 32.6428, 37.2136, 31.406, 38.1596, 33.2596, 37.489599999999996, 37.58, 32.3728, 24.821599999999997, 39.0792, 32.476, 25.3056, 35.68, 30.531200000000002, 32.800799999999995, 38.7, 26.0908, 42.2244, 31.574399999999997, 35.6908, 26.5, 32.434400000000004, 32.4392, 31.232799999999997, 36.544799999999995, 30.806, 37.3144, 26.4496, 40.5904, 29.020799999999998, 19.113599999999998, 13.2492, 40.194, 27.435599999999997, 14.5524, 14.656, 32.362, 31.5, 30.009999999999998, 36.794, 37.3416, 14.3352, 27.745199999999997, 25.0944, 28.7808, 22.1492, 30.772799999999997, 39.1388, 36.566, 22.884, 27.115199999999998, 39.5828, 22.082, 27.2944, 18.1184, 33.766, 26.3288, 37.67, 28.108399999999996, 35.774, 30.2352, 26.509999999999998, 26.2072, 24.6212, 32.004, 35.8912, 20.996, 39.27, 31.342, 30.0824, 40.4488, 39.6796, 32.6892, 34.332, 39.5972, 30.729200000000002, 27.744799999999998, 29.2136, 35.053200000000004, 27.791200000000003, 29.9444, 35.2584, 28.959200000000003, 33.844, 34.9444, 30.696799999999996, 25.4424, 33.040400000000005, 25.399599999999996, 30.6924, 36.687200000000004, 39.2764, 24.372799999999998, 23.4, 29.7248, 38.782799999999995, 22.637999999999998, 26.7972, 37.794, 32.838, 28.4892, 39.483999999999995, 27.5872, 33.8388, 29.6216, 32.5496, 38.7804, 35.0248, 30.4936, 40.0524, 36.1944, 37.211200000000005, 18.566, 23.3356, 33.983999999999995, 32.5456, 31.772799999999997, 40.9908, 33.965599999999995, 34.132000000000005, 32.57, 35.4732, 28.8112, 31.1064, 30.273599999999995, 26.0044, 23.0892, 35.5828, 28.466, 28.9912, 34.288799999999995, 34.9636, 31.531599999999997, 35.4964, 31.3532, 34.028800000000004, 26.874399999999998, 26.8, 34.8904, 39.5276, 28.432000000000002, 26.4496, 30.116799999999998, 26.659599999999998, 17.9, 38.3364, 38.9388, 37.4764, 34.395199999999996, 37.7076, 27.611600000000003, 29.5768, 37.4976, 31.5004, 21.1892, 28.9972, 33.162, 34.5124, 19.4664, 38.932, 13.0, 38.9284, 28.726, 34.831599999999995, 35.894400000000005, 27.714799999999997, 35.798, 26.5, 33.7792, 35.258, 32.3036, 39.2964, 20.3444, 29.5916, 31.593600000000002, 38.6736, 38.0312, 30.7516, 28.5644, 21.532, 37.8892, 27.240000000000002, 35.4704, 32.538399999999996, 29.891199999999998, 32.065200000000004, 30.5608, 32.307599999999994, 34.8804, 22.939999999999998, 25.152, 30.5076, 38.044799999999995, 38.9492, 36.3132, 27.0708, 32.626799999999996, 21.369999999999997, 35.332, 34.384, 17.000799999999998, 31.0084, 21.6, 37.7832, 33.6636, 36.234, 29.9016, 31.7656, 28.3208, 39.7756, 17.0864, 39.800399999999996, 19.2, 34.3588, 38.0768, 35.2692, 35.8596, 31.0392, 34.2284, 27.5, 39.6136, 19.3, 18.3552, 37.6868, 30.095599999999997, 31.3664, 37.3872, 35.376799999999996, 35.128, 29.1, 25.6892, 31.6004, 35.666399999999996, 38.2908, 31.873599999999996, 30.8152, 27.7828, 38.3756, 38.8844, 38.8464, 34.77119999999999, 33.4256, 33.5876, 34.729200000000006, 35.178399999999996, 27.5048, 39.36879999999999, 34.0072, 34.0836, 9.222399999999999, 31.2076, 36.1324, 38.3352, 38.29, 30.2576, 29.3652, 19.4284, 22.892799999999998, 37.1328, 37.4632, 23.5396, 39.3524, 27.2016, 39.7568, 37.294, 30.428400000000003, 37.010000000000005, 38.1044, 30.2716, 11.5, 32.2044, 35.3624, 27.2032, 28.0256, 34.4284, 39.668400000000005, 6.4, 30.023999999999997, 32.572, 31.1824, 28.548000000000002, 36.9456, 33.1036, 36.014799999999994, 36.3692, 31.1352, 30.828, 35.726, 32.6476, 37.41759999999999, 35.435599999999994, 18.293599999999998, 30.736, 37.916799999999995, 30.9576, 32.1864, 30.462400000000002, 39.8656, 28.5948, 39.641999999999996, 16.146, 27.348399999999998, 26.6488, 20.78, 25.461599999999997, 32.4072, 37.1824, 24.8052, 35.382400000000004, 22.053600000000003, 24.418400000000002, 23.8544, 37.258, 39.0152, 33.3804, 36.879999999999995, 24.6576, 37.5012, 31.089599999999997, 29.973999999999997, 41.5768, 39.6496, 29.936, 26.407200000000003, 29.6696, 35.824799999999996, 37.048, 32.1868, 19.4076, 36.674, 31.575599999999998, 36.318799999999996, 35.372, 18.6068, 28.0188, 32.2008, 32.2548, 25.6612, 24.313200000000002, 38.0436, 38.5768, 31.195999999999998, 31.349200000000003, 31.652, 32.584, 26.632399999999997, 27.363599999999998, 33.67, 29.304, 27.2668, 38.2008, 34.854, 34.718, 34.4868, 36.8132, 33.8456, 36.4876, 28.8596, 38.058400000000006, 28.712, 35.9004, 37.504, 36.5324, 34.0668, 25.5, 39.5492, 39.666, 35.1896, 26.918, 36.431200000000004, 11.9, 27.711199999999998, 32.6704, 31.0152, 26.129599999999996, 20.518, 25.6876, 37.3032, 36.111999999999995, 38.935599999999994, 24.2568, 34.983599999999996, 34.327600000000004, 18.823999999999998, 32.5048, 23.499599999999997, 33.544399999999996, 15.614799999999999, 37.5624, 34.325599999999994, 36.007999999999996, 20.6792, 26.256, 40.273599999999995, 20.598, 37.6216, 32.1972, 29.735599999999998, 25.6888, 32.770399999999995, 38.52719999999999, 39.6464, 31.281599999999997, 31.663600000000002, 37.873599999999996, 31.276400000000002, 29.8292, 38.754, 34.9308, 34.7288, 35.3988, 30.6828, 33.3972, 24.945999999999998, 36.7136, 37.1312, 35.2076, 36.032, 30.3876, 38.5036, 32.9736, 31.6256, 29.6464, 28.9084, 24.6024, 1.0, 27.8676, 31.6564, 28.3492, 31.1032, 31.190800000000003, 35.236000000000004, 28.4, 38.435599999999994, 23.2048, 31.3164, 30.022399999999998, 28.293599999999998, 28.3016, 31.2188, 35.1764, 32.538, 26.6684, 33.693599999999996, 28.0048, 34.1092, 27.5908, 35.77, 39.0548, 30.8444, 24.9608, 32.5796, 31.534799999999997, 34.362, 25.4, 32.47279999999999, 37.504, 30.5292, 35.5108, 26.794800000000002, 31.4932, 31.848, 16.3, 32.594, 38.687200000000004, 28.9284, 32.471599999999995, 28.131999999999998, 34.980000000000004, 30.1392, 19.3012, 28.3324, 33.768, 33.8172, 29.095199999999995, 35.7076, 33.9904, 19.8692, 31.9, 28.453200000000002, 28.543599999999998, 37.9332, 39.5112, 39.4484, 38.8324, 26.932000000000002, 31.648, 15.493599999999999, 19.6112, 28.7352, 28.1492, 19.877200000000002, 26.6836, 31.0276, 34.7008, 16.3624, 34.2452, 27.589199999999998, 37.58, 38.0312], \"colorscale\": [[0, \"lime\"], [0.5, \"red\"]], \"line\": {\"color\": \"rgb(140, 140, 170)\"}, \"size\": 5, \"sizemode\": \"diameter\", \"sizeref\": 1500}, \"mode\": \"markers\", \"type\": \"scatter3d\", \"x\": [\"Aceptable\", \"Aceptable\", \"Aceptable\", \"Aceptable\", \"Aceptable\", \"Aceptable\", \"Aceptable\", \"Aceptable\", \"Aceptable\", \"Aceptable\", \"Aceptable\", \"Aceptable\", \"Aceptable\", \"Aceptable\", \"Aceptable\", \"Aceptable\", \"Aceptable\", \"Aceptable\", \"Aceptable\", \"Aceptable\", \"Aceptable\", \"Aceptable\", \"Aceptable\", \"Aceptable\", \"Aceptable\", \"Aceptable\", \"Aceptable\", \"Aceptable\", \"Aceptable\", \"Aceptable\", \"Aceptable\", \"Aceptable\", \"Aceptable\", \"Aceptable\", \"Aceptable\", \"Aceptable\", \"Aceptable\", \"Aceptable\", \"Aceptable\", \"Aceptable\", \"Aceptable\", \"Aceptable\", \"Aceptable\", \"Aceptable\", \"Aceptable\", \"Aceptable\", \"Aceptable\", \"Aceptable\", \"Aceptable\", \"Aceptable\", \"Aceptable\", \"Aceptable\", \"Aceptable\", \"Aceptable\", \"Aceptable\", \"Aceptable\", \"Aceptable\", \"Aceptable\", \"Aceptable\", \"Aceptable\", \"Aceptable\", \"Aceptable\", \"Aceptable\", \"Aceptable\", \"Aceptable\", \"Aceptable\", \"Aceptable\", \"Aceptable\", \"Aceptable\", \"Aceptable\", \"Aceptable\", \"Aceptable\", \"Aceptable\", \"Aceptable\", \"Aceptable\", \"Aceptable\", \"Aceptable\", \"Aceptable\", \"Aceptable\", \"Aceptable\", \"Aceptable\", \"Aceptable\", \"Aceptable\", \"Aceptable\", \"Aceptable\", \"Aceptable\", \"Aceptable\", \"Aceptable\", \"Aceptable\", \"Aceptable\", \"Aceptable\", \"Aceptable\", \"Aceptable\", \"Aceptable\", \"Aceptable\", \"Aceptable\", \"Aceptable\", \"Aceptable\", \"Aceptable\", \"Aceptable\", \"Aceptable\", \"Aceptable\", \"Aceptable\", \"Aceptable\", \"Aceptable\", \"Aceptable\", \"Aceptable\", \"Aceptable\", \"Aceptable\", \"Aceptable\", \"Aceptable\", \"Aceptable\", \"Aceptable\", \"Aceptable\", \"Aceptable\", \"Aceptable\", \"Aceptable\", \"Aceptable\", \"Aceptable\", \"Aceptable\", \"Aceptable\", \"Aceptable\", \"Aceptable\", \"Aceptable\", \"Aceptable\", \"Aceptable\", \"Aceptable\", \"Aceptable\", \"Aceptable\", \"Aceptable\", \"Aceptable\", \"Aceptable\", \"Aceptable\", \"Aceptable\", \"Aceptable\", \"Aceptable\", \"Aceptable\", \"Aceptable\", \"Aceptable\", \"Aceptable\", \"Aceptable\", \"Aceptable\", \"Aceptable\", \"Aceptable\", \"Aceptable\", \"Aceptable\", \"Aceptable\", \"Aceptable\", \"Excelente\", \"Aceptable\", \"Aceptable\", \"Aceptable\", \"Aceptable\", \"Aceptable\", \"Aceptable\", \"Aceptable\", \"Aceptable\", \"Aceptable\", \"Aceptable\", \"Aceptable\", \"Aceptable\", \"Aceptable\", \"Aceptable\", \"Aceptable\", \"Aceptable\", \"Aceptable\", \"Aceptable\", \"Aceptable\", \"Aceptable\", \"Aceptable\", \"Aceptable\", \"Aceptable\", \"Aceptable\", \"Aceptable\", \"Aceptable\", \"Aceptable\", \"Aceptable\", \"Aceptable\", \"Aceptable\", \"Aceptable\", \"Aceptable\", \"Aceptable\", \"Aceptable\", \"Aceptable\", \"Aceptable\", \"Aceptable\", \"Aceptable\", \"Aceptable\", \"Aceptable\", \"Aceptable\", \"Aceptable\", \"Aceptable\", \"Aceptable\", \"Aceptable\", \"Aceptable\", \"Aceptable\", \"Aceptable\", \"Aceptable\", \"Aceptable\", \"Aceptable\", \"Aceptable\", \"Aceptable\", \"Aceptable\", \"Aceptable\", \"Aceptable\", \"Aceptable\", \"Aceptable\", \"Aceptable\", \"Aceptable\", \"Aceptable\", \"Aceptable\", \"Aceptable\", \"Aceptable\", \"Aceptable\", \"Aceptable\", \"Aceptable\", \"Aceptable\", \"Aceptable\", \"Aceptable\", \"Aceptable\", \"Aceptable\", \"Aceptable\", \"Aceptable\", \"Aceptable\", \"Aceptable\", \"Aceptable\", \"Aceptable\", \"Aceptable\", \"Aceptable\", \"Aceptable\", \"Aceptable\", \"Aceptable\", \"Aceptable\", \"Aceptable\", \"Aceptable\", \"Aceptable\", \"Aceptable\", \"Aceptable\", \"Aceptable\", \"Aceptable\", \"Aceptable\", \"Aceptable\", \"Aceptable\", \"Aceptable\", \"Aceptable\", \"Aceptable\", \"Aceptable\", \"Aceptable\", \"Aceptable\", \"Aceptable\", \"Aceptable\", \"Aceptable\", \"Aceptable\", \"Aceptable\", \"Aceptable\", \"Aceptable\", \"Aceptable\", \"Aceptable\", \"Aceptable\", \"Aceptable\", \"Aceptable\", \"Aceptable\", \"Aceptable\", \"Aceptable\", \"Aceptable\", \"Aceptable\", \"Aceptable\", \"Aceptable\", \"Aceptable\", \"Aceptable\", \"Aceptable\", \"Aceptable\", \"Aceptable\", \"Aceptable\", \"Aceptable\", \"Aceptable\", \"Aceptable\", \"Aceptable\", \"Aceptable\", \"Aceptable\", \"Aceptable\", \"Aceptable\", \"Aceptable\", \"Aceptable\", \"Aceptable\", \"Aceptable\", \"Aceptable\", \"Aceptable\", \"Aceptable\", \"Aceptable\", \"Aceptable\", \"Aceptable\", \"Aceptable\", \"Aceptable\", \"Aceptable\", \"Aceptable\", \"Aceptable\", \"Aceptable\", \"Aceptable\", \"Aceptable\", \"Aceptable\", \"Aceptable\", \"Aceptable\", \"Aceptable\", \"Aceptable\", \"Aceptable\", \"Aceptable\", \"Aceptable\", \"Aceptable\", \"Aceptable\", \"Aceptable\", \"Aceptable\", \"Aceptable\", \"Aceptable\", \"Aceptable\", \"Aceptable\", \"Aceptable\", \"Regular\", \"Aceptable\", \"Aceptable\", \"Aceptable\", \"Aceptable\", \"Aceptable\", \"Aceptable\", \"Aceptable\", \"Aceptable\", \"Aceptable\", \"Aceptable\", \"Aceptable\", \"Aceptable\", \"Aceptable\", \"Aceptable\", \"Aceptable\", \"Aceptable\", \"Aceptable\", \"Aceptable\", \"Aceptable\", \"Aceptable\", \"Aceptable\", \"Aceptable\", \"Aceptable\", \"Aceptable\", \"Aceptable\", \"Aceptable\", \"Aceptable\", \"Aceptable\", \"Aceptable\", \"Aceptable\", \"Aceptable\", \"Aceptable\", \"Aceptable\", \"Aceptable\", \"Aceptable\", \"Aceptable\", \"Aceptable\", \"Aceptable\", \"Aceptable\", \"Aceptable\", \"Aceptable\", \"Aceptable\", \"Aceptable\", \"Aceptable\", \"Aceptable\", \"Aceptable\", \"Aceptable\", \"Aceptable\", \"Aceptable\", \"Aceptable\", \"Aceptable\", \"Aceptable\", \"Excelente\", \"Aceptable\", \"Aceptable\", \"Aceptable\", \"Aceptable\", \"Aceptable\", \"Aceptable\", \"Aceptable\", \"Aceptable\", \"Aceptable\", \"Aceptable\", \"Aceptable\", \"Aceptable\", \"Aceptable\", \"Aceptable\", \"Aceptable\", \"Aceptable\", \"Aceptable\", \"Aceptable\", \"Bueno\", \"Aceptable\", \"Aceptable\", \"Aceptable\", \"Aceptable\", \"Aceptable\", \"Aceptable\", \"Aceptable\", \"Aceptable\", \"Aceptable\", \"Aceptable\", \"Aceptable\", \"Aceptable\", \"Aceptable\", \"Aceptable\", \"Aceptable\", \"Aceptable\", \"Aceptable\", \"Aceptable\", \"Aceptable\", \"Aceptable\", \"Aceptable\", \"Aceptable\", \"Aceptable\", \"Aceptable\", \"Aceptable\", \"Aceptable\", \"Aceptable\", \"Aceptable\", \"Aceptable\", \"Aceptable\", \"Aceptable\", \"Aceptable\", \"Aceptable\", \"Aceptable\", \"Aceptable\", \"Aceptable\", \"Aceptable\", \"Aceptable\", \"Aceptable\", \"Aceptable\", \"Aceptable\", \"Aceptable\", \"Aceptable\", \"Aceptable\", \"Aceptable\", \"Aceptable\", \"Aceptable\", \"Aceptable\", \"Aceptable\", \"Aceptable\", \"Aceptable\", \"Aceptable\", \"Aceptable\", \"Aceptable\", \"Aceptable\", \"Aceptable\", \"Aceptable\", \"Aceptable\", \"Aceptable\", \"Aceptable\", \"Aceptable\", \"Aceptable\", \"Aceptable\", \"Aceptable\", \"Aceptable\", \"Aceptable\", \"Aceptable\", \"Aceptable\", \"Aceptable\", \"Aceptable\", \"Aceptable\", \"Aceptable\", \"Aceptable\", \"Aceptable\", \"Aceptable\", \"Aceptable\", \"Aceptable\", \"Aceptable\", \"Aceptable\", \"Aceptable\", \"Aceptable\", \"Aceptable\", \"Aceptable\", \"Aceptable\", \"Aceptable\", \"Aceptable\", \"Aceptable\", \"Aceptable\", \"Aceptable\", \"Aceptable\", \"Aceptable\", \"Aceptable\", \"Aceptable\", \"Aceptable\", \"Aceptable\", \"Aceptable\", \"Aceptable\", \"Aceptable\", \"Aceptable\", \"Aceptable\", \"Aceptable\", \"Aceptable\", \"Aceptable\", \"Aceptable\", \"Aceptable\", \"Aceptable\", \"Aceptable\", \"Aceptable\", \"Aceptable\", \"Aceptable\", \"Aceptable\", \"Aceptable\", \"Aceptable\", \"Aceptable\", \"Aceptable\", \"Aceptable\", \"Aceptable\", \"Aceptable\", \"Aceptable\", \"Aceptable\", \"Aceptable\", \"Aceptable\", \"Aceptable\", \"Aceptable\", \"Aceptable\", \"Aceptable\", \"Aceptable\", \"Aceptable\", \"Aceptable\", \"Aceptable\", \"Aceptable\", \"Aceptable\", \"Aceptable\", \"Aceptable\", \"Aceptable\", \"Aceptable\", \"Aceptable\", \"Aceptable\", \"Aceptable\", \"Aceptable\", \"Aceptable\", \"Aceptable\", \"Aceptable\", \"Aceptable\", \"Aceptable\", \"Aceptable\", \"Aceptable\", \"Aceptable\", \"Aceptable\", \"Aceptable\", \"Aceptable\", \"Aceptable\", \"Aceptable\", \"Aceptable\", \"Aceptable\", \"Aceptable\", \"Aceptable\", \"Aceptable\", \"Aceptable\", \"Aceptable\", \"Aceptable\", \"Aceptable\", \"Aceptable\", \"Aceptable\", \"Aceptable\", \"Aceptable\", \"Aceptable\", \"Aceptable\", \"Aceptable\", \"Aceptable\", \"Aceptable\", \"Aceptable\", \"Aceptable\", \"Aceptable\", \"Aceptable\", \"Aceptable\", \"Aceptable\", \"Aceptable\", \"Aceptable\", \"Aceptable\", \"Aceptable\", \"Aceptable\", \"Aceptable\", \"Aceptable\", \"Aceptable\", \"Aceptable\", \"Aceptable\", \"Aceptable\", \"Aceptable\", \"Aceptable\", \"Aceptable\", \"Aceptable\", \"Aceptable\", \"Aceptable\", \"Aceptable\", \"Aceptable\", \"Aceptable\", \"Aceptable\", \"Aceptable\", \"Aceptable\", \"Aceptable\", \"Aceptable\", \"Aceptable\", \"Aceptable\", \"Aceptable\", \"Aceptable\", \"Aceptable\", \"Aceptable\", \"Aceptable\", \"Aceptable\", \"Aceptable\", \"Aceptable\", \"Aceptable\", \"Aceptable\", \"Aceptable\", \"Aceptable\", \"Aceptable\", \"Aceptable\", \"Bueno\", \"Aceptable\", \"Aceptable\", \"Aceptable\", \"Aceptable\", \"Aceptable\", \"Aceptable\", \"Aceptable\", \"Aceptable\", \"Aceptable\", \"Aceptable\", \"Aceptable\", \"Aceptable\", \"Aceptable\", \"Aceptable\", \"Aceptable\", \"Aceptable\", \"Aceptable\", \"Aceptable\", \"Aceptable\", \"Aceptable\", \"Aceptable\", \"Aceptable\", \"Aceptable\", \"Aceptable\", \"Aceptable\", \"Aceptable\", \"Aceptable\", \"Aceptable\", \"Aceptable\", \"Aceptable\", \"Aceptable\", \"Aceptable\", \"Aceptable\", \"Aceptable\", \"Aceptable\", \"Aceptable\", \"Aceptable\", \"Aceptable\", \"Aceptable\", \"Aceptable\", \"Aceptable\", \"Aceptable\", \"Aceptable\", \"Aceptable\", \"Aceptable\", \"Aceptable\", \"Aceptable\", \"Aceptable\", \"Aceptable\", \"Aceptable\", \"Aceptable\", \"Aceptable\", \"Aceptable\", \"Aceptable\", \"Aceptable\", \"Aceptable\", \"Aceptable\", \"Aceptable\", \"Aceptable\", \"Aceptable\", \"Aceptable\", \"Aceptable\", \"Aceptable\", \"Aceptable\", \"Aceptable\", \"Aceptable\", \"Aceptable\", \"Aceptable\", \"Aceptable\", \"Aceptable\", \"Aceptable\", \"Aceptable\", \"Aceptable\", \"Aceptable\", \"Aceptable\", \"Aceptable\", \"Aceptable\", \"Aceptable\", \"Aceptable\", \"Aceptable\", \"Aceptable\", \"Aceptable\", \"Aceptable\", \"Aceptable\", \"Aceptable\", \"Aceptable\", \"Aceptable\", \"Aceptable\", \"Aceptable\", \"Aceptable\", \"Aceptable\", \"Aceptable\", \"Aceptable\", \"Aceptable\", \"Aceptable\", \"Aceptable\", \"Aceptable\", \"Aceptable\", \"Aceptable\", \"Aceptable\", \"Aceptable\", \"Aceptable\", \"Aceptable\", \"Aceptable\", \"Aceptable\", \"Aceptable\", \"Aceptable\", \"Aceptable\", \"Aceptable\", \"Aceptable\", \"Aceptable\", \"Aceptable\", \"Aceptable\", \"Aceptable\", \"Aceptable\", \"Aceptable\", \"Aceptable\", \"Aceptable\", \"Aceptable\", \"Aceptable\", \"Aceptable\", \"Aceptable\", \"Aceptable\", \"Aceptable\", \"Aceptable\", \"Aceptable\", \"Aceptable\", \"Aceptable\", \"Aceptable\", \"Aceptable\", \"Aceptable\", \"Aceptable\", \"Aceptable\", \"Aceptable\", \"Aceptable\", \"Aceptable\", \"Aceptable\", \"Aceptable\", \"Aceptable\", \"Aceptable\", \"Aceptable\", \"Aceptable\", \"Aceptable\", \"Aceptable\", \"Aceptable\", \"Aceptable\", \"Aceptable\", \"Aceptable\", \"Aceptable\", \"Aceptable\", \"Aceptable\", \"Aceptable\", \"Aceptable\", \"Aceptable\", \"Aceptable\", \"Aceptable\", \"Aceptable\", \"Aceptable\", \"Aceptable\", \"Aceptable\", \"Aceptable\", \"Aceptable\", \"Aceptable\", \"Bueno\", \"Aceptable\", \"Aceptable\", \"Aceptable\", \"Aceptable\", \"Aceptable\", \"Aceptable\", \"Aceptable\", \"Aceptable\", \"Aceptable\", \"Aceptable\", \"Aceptable\", \"Aceptable\", \"Aceptable\", \"Aceptable\", \"Aceptable\", \"Aceptable\", \"Aceptable\", \"Aceptable\", \"Aceptable\", \"Aceptable\", \"Aceptable\", \"Aceptable\", \"Aceptable\", \"Aceptable\", \"Aceptable\", \"Aceptable\", \"Aceptable\", \"Aceptable\", \"Aceptable\", \"Aceptable\", \"Aceptable\", \"Aceptable\", \"Aceptable\", \"Aceptable\", \"Aceptable\", \"Aceptable\", \"Aceptable\", \"Aceptable\", \"Aceptable\", \"Aceptable\", \"Aceptable\", \"Aceptable\", \"Aceptable\", \"Aceptable\", \"Aceptable\", \"Aceptable\", \"Aceptable\", \"Aceptable\", \"Aceptable\", \"Aceptable\", \"Aceptable\", \"Aceptable\", \"Aceptable\", \"Aceptable\", \"Aceptable\", \"Aceptable\", \"Aceptable\", \"Aceptable\", \"Aceptable\", \"Aceptable\", \"Aceptable\", \"Aceptable\", \"Aceptable\", \"Aceptable\", \"Aceptable\", \"Aceptable\", \"Aceptable\", \"Aceptable\", \"Aceptable\", \"Aceptable\", \"Aceptable\", \"Aceptable\", \"Aceptable\", \"Aceptable\", \"Aceptable\", \"Aceptable\", \"Aceptable\", \"Aceptable\", \"Aceptable\", \"Aceptable\", \"Aceptable\", \"Aceptable\", \"Aceptable\", \"Aceptable\", \"Aceptable\", \"Aceptable\", \"Aceptable\", \"Aceptable\", \"Aceptable\", \"Aceptable\", \"Aceptable\", \"Aceptable\", \"Aceptable\", \"Aceptable\", \"Aceptable\", \"Aceptable\", \"Aceptable\", \"Aceptable\", \"Aceptable\", \"Aceptable\", \"Aceptable\", \"Aceptable\", \"Aceptable\", \"Aceptable\", \"Aceptable\", \"Aceptable\", \"Aceptable\", \"Aceptable\", \"Aceptable\", \"Aceptable\", \"Aceptable\", \"Aceptable\", \"Aceptable\", \"Aceptable\", \"Aceptable\", \"Aceptable\", \"Aceptable\", \"Aceptable\", \"Aceptable\", \"Aceptable\", \"Aceptable\", \"Aceptable\", \"Aceptable\", \"Aceptable\", \"Aceptable\", \"Aceptable\", \"Aceptable\", \"Aceptable\", \"Aceptable\", \"Aceptable\", \"Aceptable\", \"Aceptable\", \"Aceptable\", \"Aceptable\", \"Aceptable\", \"Aceptable\", \"Aceptable\", \"Aceptable\", \"Aceptable\", \"Aceptable\", \"Aceptable\", \"Aceptable\", \"Aceptable\", \"Aceptable\", \"Aceptable\", \"Aceptable\", \"Aceptable\", \"Aceptable\", \"Aceptable\", \"Aceptable\", \"Aceptable\", \"Aceptable\", \"Aceptable\", \"Aceptable\", \"Aceptable\", \"Aceptable\", \"Aceptable\", \"Aceptable\", \"Aceptable\", \"Aceptable\", \"Aceptable\", \"Aceptable\", \"Aceptable\", \"Aceptable\", \"Aceptable\", \"Aceptable\", \"Aceptable\", \"Aceptable\", \"Aceptable\", \"Aceptable\", \"Aceptable\", \"Aceptable\", \"Aceptable\", \"Aceptable\", \"Aceptable\", \"Aceptable\", \"Aceptable\", \"Aceptable\", \"Aceptable\", \"Aceptable\", \"Aceptable\", \"Aceptable\", \"Aceptable\", \"Aceptable\", \"Aceptable\", \"Aceptable\", \"Aceptable\", \"Aceptable\", \"Aceptable\", \"Aceptable\", \"Aceptable\", \"Aceptable\", \"Aceptable\", \"Aceptable\", \"Aceptable\", \"Aceptable\", \"Aceptable\", \"Aceptable\", \"Aceptable\", \"Aceptable\", \"Aceptable\", \"Aceptable\", \"Aceptable\", \"Aceptable\", \"Aceptable\", \"Aceptable\", \"Aceptable\", \"Aceptable\", \"Aceptable\", \"Aceptable\", \"Aceptable\", \"Aceptable\", \"Aceptable\", \"Aceptable\", \"Aceptable\", \"Aceptable\", \"Aceptable\", \"Aceptable\", \"Aceptable\", \"Aceptable\", \"Aceptable\", \"Aceptable\", \"Aceptable\", \"Aceptable\", \"Aceptable\", \"Aceptable\", \"Aceptable\", \"Aceptable\", \"Aceptable\", \"Aceptable\", \"Aceptable\", \"Aceptable\", \"Aceptable\", \"Aceptable\", \"Aceptable\", \"Aceptable\", \"Aceptable\", \"Aceptable\", \"Aceptable\", \"Aceptable\", \"Aceptable\", \"Aceptable\", \"Aceptable\", \"Aceptable\", \"Aceptable\", \"Aceptable\", \"Aceptable\", \"Aceptable\", \"Aceptable\", \"Aceptable\", \"Aceptable\", \"Aceptable\", \"Aceptable\", \"Aceptable\", \"Aceptable\", \"Aceptable\", \"Aceptable\", \"Aceptable\", \"Aceptable\", \"Aceptable\", \"Aceptable\", \"Aceptable\", \"Aceptable\", \"Aceptable\", \"Aceptable\", \"Aceptable\", \"Aceptable\", \"Regular\", \"Aceptable\", \"Aceptable\", \"Aceptable\", \"Aceptable\", \"Aceptable\", \"Aceptable\", \"Aceptable\", \"Aceptable\", \"Aceptable\", \"Aceptable\", \"Aceptable\", \"Aceptable\", \"Aceptable\", \"Aceptable\", \"Aceptable\", \"Aceptable\", \"Aceptable\", \"Aceptable\", \"Aceptable\", \"Aceptable\", \"Aceptable\", \"Aceptable\", \"Aceptable\", \"Aceptable\", \"Aceptable\", \"Aceptable\", \"Aceptable\", \"Aceptable\", \"Aceptable\", \"Aceptable\", \"Aceptable\", \"Aceptable\", \"Aceptable\", \"Aceptable\", \"Aceptable\", \"Aceptable\", \"Aceptable\", \"Aceptable\", \"Aceptable\", \"Aceptable\", \"Aceptable\", \"Aceptable\", \"Aceptable\", \"Aceptable\", \"Aceptable\", \"Aceptable\", \"Aceptable\", \"Aceptable\", \"Aceptable\", \"Aceptable\", \"Aceptable\", \"Aceptable\", \"Aceptable\", \"Aceptable\", \"Aceptable\", \"Aceptable\", \"Aceptable\", \"Aceptable\", \"Aceptable\", \"Aceptable\", \"Aceptable\", \"Aceptable\", \"Aceptable\", \"Aceptable\", \"Aceptable\", \"Aceptable\", \"Aceptable\", \"Aceptable\", \"Aceptable\", \"Regular\", \"Aceptable\", \"Aceptable\", \"Aceptable\", \"Aceptable\", \"Aceptable\", \"Aceptable\", \"Aceptable\", \"Aceptable\", \"Excelente\", \"Aceptable\", \"Aceptable\", \"Aceptable\", \"Aceptable\", \"Aceptable\", \"Aceptable\", \"Aceptable\", \"Aceptable\", \"Aceptable\", \"Aceptable\", \"Aceptable\", \"Aceptable\", \"Aceptable\", \"Aceptable\", \"Aceptable\", \"Aceptable\", \"Aceptable\", \"Aceptable\", \"Aceptable\", \"Aceptable\", \"Aceptable\", \"Aceptable\", \"Aceptable\", \"Aceptable\", \"Aceptable\", \"Aceptable\", \"Aceptable\", \"Aceptable\", \"Aceptable\", \"Aceptable\", \"Aceptable\", \"Aceptable\", \"Aceptable\", \"Aceptable\", \"Aceptable\", \"Aceptable\", \"Aceptable\", \"Aceptable\", \"Aceptable\", \"Aceptable\", \"Aceptable\", \"Aceptable\", \"Aceptable\", \"Aceptable\", \"Aceptable\", \"Aceptable\", \"Aceptable\", \"Aceptable\", \"Aceptable\", \"Aceptable\", \"Aceptable\", \"Aceptable\", \"Aceptable\", \"Aceptable\", \"Aceptable\", \"Aceptable\", \"Aceptable\", \"Aceptable\", \"Aceptable\", \"Aceptable\", \"Aceptable\", \"Aceptable\", \"Aceptable\", \"Aceptable\", \"Aceptable\", \"Aceptable\", \"Aceptable\", \"Aceptable\", \"Aceptable\", \"Aceptable\", \"Aceptable\", \"Aceptable\", \"Aceptable\", \"Aceptable\", \"Aceptable\", \"Aceptable\", \"Aceptable\", \"Aceptable\", \"Aceptable\", \"Aceptable\", \"Aceptable\", \"Aceptable\", \"Aceptable\", \"Aceptable\", \"Aceptable\", \"Aceptable\", \"Aceptable\", \"Aceptable\", \"Aceptable\", \"Aceptable\", \"Aceptable\", \"Aceptable\", \"Aceptable\", \"Aceptable\", \"Aceptable\", \"Aceptable\", \"Aceptable\", \"Aceptable\", \"Excelente\", \"Aceptable\", \"Aceptable\", \"Aceptable\", \"Aceptable\", \"Aceptable\", \"Aceptable\", \"Aceptable\", \"Aceptable\", \"Aceptable\", \"Aceptable\", \"Aceptable\", \"Aceptable\", \"Aceptable\", \"Aceptable\", \"Aceptable\", \"Aceptable\", \"Aceptable\", \"Aceptable\", \"Aceptable\", \"Aceptable\", \"Aceptable\", \"Aceptable\", \"Aceptable\", \"Aceptable\", \"Aceptable\", \"Aceptable\", \"Aceptable\", \"Aceptable\", \"Aceptable\", \"Aceptable\", \"Aceptable\", \"Aceptable\", \"Aceptable\", \"Aceptable\", \"Aceptable\", \"Aceptable\", \"Aceptable\", \"Aceptable\", \"Aceptable\", \"Aceptable\", \"Aceptable\", \"Aceptable\", \"Aceptable\", \"Aceptable\", \"Aceptable\", \"Aceptable\", \"Aceptable\", \"Aceptable\", \"Aceptable\", \"Aceptable\", \"Aceptable\", \"Aceptable\", \"Aceptable\", \"Aceptable\", \"Aceptable\", \"Aceptable\", \"Excelente\", \"Aceptable\", \"Aceptable\", \"Aceptable\", \"Aceptable\", \"Aceptable\", \"Aceptable\", \"Aceptable\", \"Aceptable\", \"Aceptable\", \"Aceptable\", \"Aceptable\", \"Regular\", \"Aceptable\"], \"y\": [39.8584, 34.9244, 32.9492, 38.28, 38.6076, 22.626, 28.441599999999998, 24.5428, 25.1768, 37.8632, 36.6912, 30.4696, 39.3732, 34.0456, 36.3488, 41.251599999999996, 37.599599999999995, 33.4628, 29.0756, 27.852400000000003, 32.456, 31.2796, 32.0276, 32.6068, 19.186, 35.428, 34.9868, 40.3044, 32.2996, 29.712, 24.2944, 24.7, 35.8936, 27.764, 26.9732, 31.4668, 36.4768, 33.624399999999994, 29.772399999999998, 31.8308, 32.146, 37.1588, 39.0068, 32.3588, 31.5944, 28.1144, 34.7044, 35.766799999999996, 36.9072, 38.9388, 11.0, 38.9044, 30.672799999999995, 32.756, 34.4764, 36.9632, 33.894400000000005, 34.4524, 39.9904, 34.7208, 39.5924, 13.0, 31.3444, 36.6184, 26.056400000000004, 33.1316, 34.7144, 37.162400000000005, 38.7592, 33.2144, 33.824, 22.8512, 35.9616, 37.0696, 37.065599999999996, 28.5, 37.2692, 19.7732, 38.8288, 34.052800000000005, 39.403999999999996, 33.9452, 19.2908, 31.6392, 21.2668, 22.811999999999998, 18.3172, 26.77, 34.6248, 26.352800000000002, 34.099599999999995, 36.0792, 29.1556, 35.5144, 30.414, 36.4032, 33.7384, 32.2248, 33.7624, 30.8172, 36.29, 21.4304, 33.1932, 35.282, 25.5432, 30.5512, 25.5628, 13.4664, 37.028800000000004, 38.111999999999995, 37.856, 25.3296, 35.142399999999995, 35.4, 33.138400000000004, 34.8048, 37.89, 27.3464, 30.8236, 35.2248, 39.2708, 37.47, 31.4588, 32.010400000000004, 28.8008, 35.6736, 26.9908, 39.512, 35.214, 28.746399999999998, 32.5484, 31.503999999999998, 36.4908, 25.824399999999997, 28.0872, 37.322, 24.7832, 31.3704, 31.6812, 16.345599999999997, 37.3204, 37.5276, 37.3044, 22.6132, 28.144799999999996, 28.8388, 33.117599999999996, 23.64, 24.4264, 37.7964, 23.747199999999996, 35.0204, 26.8052, 29.938799999999997, 27.6592, 34.8508, 30.607599999999998, 31.796, 36.0728, 36.0976, 37.147999999999996, 31.584799999999998, 35.856, 32.703199999999995, 34.5308, 38.1492, 37.7352, 26.4596, 26.8352, 38.6252, 28.259999999999998, 36.430800000000005, 39.8524, 38.6188, 36.19, 33.46, 34.8972, 38.1708, 32.998, 20.5116, 34.7696, 30.3, 32.8324, 35.2868, 40.7768, 23.4288, 18.073999999999998, 16.8692, 34.290400000000005, 24.8204, 25.1664, 18.5804, 33.1464, 25.4804, 19.2584, 29.008799999999997, 27.8532, 33.7388, 36.028800000000004, 30.048000000000002, 33.790400000000005, 34.2552, 36.239599999999996, 26.7564, 33.2656, 34.672799999999995, 22.214, 28.2312, 33.3432, 28.397199999999998, 9.5, 30.676, 36.9464, 31.263599999999997, 36.0376, 34.6592, 18.968799999999998, 27.9904, 31.4732, 24.691200000000002, 36.2184, 38.1736, 40.4248, 32.4976, 29.095999999999997, 29.756400000000003, 33.2352, 32.1576, 28.282400000000003, 34.042, 25.9916, 38.76, 32.306400000000004, 32.013999999999996, 30.7096, 37.2288, 27.035999999999998, 34.0732, 38.873599999999996, 38.7928, 17.0, 24.522, 36.4084, 28.131999999999998, 33.2616, 31.6796, 39.586, 37.4304, 34.9456, 38.373599999999996, 30.9444, 31.4912, 28.6824, 37.9868, 30.491999999999997, 33.8732, 37.1736, 22.3992, 34.4252, 29.4, 39.7868, 32.3452, 31.865599999999997, 32.2416, 25.761599999999998, 38.955600000000004, 25.5972, 34.7104, 37.42, 32.4904, 34.6208, 27.086799999999997, 32.6524, 33.5892, 39.16, 33.2552, 37.1008, 35.5216, 29.331200000000003, 28.4408, 34.7172, 28.86, 33.8528, 28.456799999999998, 34.1312, 34.3012, 27.580399999999997, 29.955599999999997, 37.97, 36.1012, 29.363599999999998, 17.7, 33.5804, 23.172799999999995, 18.0276, 33.6356, 39.6212, 39.455600000000004, 6.4, 24.9228, 31.1248, 36.2268, 26.8, 38.1528, 34.842, 37.4632, 36.147999999999996, 33.3976, 22.1544, 40.824799999999996, 33.8044, 25.918, 35.642399999999995, 29.825599999999998, 37.6356, 26.0612, 34.806400000000004, 36.7316, 35.065599999999996, 34.376799999999996, 20.6, 37.6768, 36.5216, 41.5516, 18.9732, 37.622, 30.7864, 40.9248, 33.038799999999995, 38.05, 37.3804, 37.587199999999996, 37.3428, 39.480000000000004, 35.8412, 32.1768, 27.3172, 34.5072, 29.9, 29.389200000000002, 34.2416, 35.437200000000004, 39.618, 37.1112, 34.352000000000004, 39.2148, 38.1756, 32.648399999999995, 6.8, 35.9472, 28.608, 36.5524, 19.258, 34.674, 26.9876, 18.5344, 14.6472, 32.9104, 36.6704, 36.334, 34.6772, 39.6756, 35.3596, 39.6976, 27.334, 36.6804, 32.6348, 35.0908, 36.126000000000005, 33.2108, 31.575599999999998, 26.6292, 28.6332, 26.27, 33.684, 37.2144, 28.1064, 33.063199999999995, 18.6068, 39.0836, 31.401200000000003, 30.8512, 20.1856, 19.186, 38.1928, 34.1752, 40.2412, 39.33, 30.387999999999998, 34.209199999999996, 23.1252, 36.4004, 30.412800000000004, 34.752, 30.291200000000003, 36.1452, 38.0596, 34.118, 35.885999999999996, 25.4664, 38.0704, 33.41, 31.4384, 25.67, 36.2352, 23.9724, 30.99, 36.874, 32.9156, 29.6184, 35.8216, 29.2704, 35.5736, 37.566, 35.3084, 37.5316, 15.9, 36.3936, 40.0284, 31.9692, 33.3588, 34.790400000000005, 33.980000000000004, 35.007999999999996, 34.8508, 12.4, 32.1864, 17.9732, 28.2044, 32.876400000000004, 37.5096, 34.7588, 34.2132, 35.7332, 39.6912, 34.6104, 32.3416, 26.8568, 35.376799999999996, 34.989999999999995, 30.3004, 38.7084, 36.855599999999995, 30.0912, 31.7584, 31.6184, 38.7248, 18.470399999999998, 26.1204, 39.6388, 39.886799999999994, 38.7116, 27.294, 39.8456, 20.3112, 32.3452, 26.4936, 34.736000000000004, 37.8208, 31.4912, 34.851600000000005, 17.8524, 33.9904, 38.4216, 37.1736, 25.939600000000002, 36.422, 31.9756, 34.087199999999996, 30.196799999999996, 30.746399999999998, 19.6, 22.0964, 35.6524, 35.459599999999995, 36.9636, 38.1172, 27.5, 38.118, 32.5392, 14.1, 33.4172, 0.0, 31.945999999999998, 37.334, 38.6488, 30.983999999999998, 38.2832, 36.3528, 25.9584, 32.6428, 34.9696, 27.6704, 37.2384, 26.101599999999998, 31.3036, 27.235599999999998, 32.2932, 37.876400000000004, 33.721599999999995, 30.9664, 38.408, 28.7, 29.1008, 30.4444, 27.1556, 32.7568, 17.8104, 34.832, 38.051199999999994, 28.8356, 21.502799999999997, 33.483599999999996, 36.3212, 36.372, 27.5832, 29.747199999999996, 29.7424, 36.6356, 28.8384, 30.0464, 35.9996, 29.1436, 28.5672, 37.9872, 29.1312, 32.324799999999996, 27.352800000000002, 39.3896, 27.208, 35.8648, 37.5312, 31.0188, 34.314, 13.2, 38.44799999999999, 25.29, 37.3096, 28.5, 33.9152, 18.0276, 36.8052, 39.8904, 39.8664, 31.117599999999996, 36.538399999999996, 32.7772, 38.1668, 33.41, 36.906, 28.8, 36.2384, 34.0484, 28.4756, 33.0968, 33.5896, 36.7776, 39.8288, 27.497999999999998, 34.331599999999995, 36.384, 25.994799999999998, 29.56, 30.5164, 26.026799999999998, 27.0756, 41.3388, 37.0524, 30.641199999999998, 30.195999999999998, 35.818, 36.5964, 33.132000000000005, 30.680799999999998, 33.593199999999996, 27.184399999999997, 27.0912, 29.4, 22.5, 31.9604, 28.214799999999997, 31.16, 38.8092, 35.4604, 34.528800000000004, 17.0304, 30.914, 16.5004, 30.5036, 26.818400000000004, 29.884, 37.2356, 33.3732, 33.5408, 32.135999999999996, 33.8656, 25.2564, 35.2144, 40.0976, 23.8808, 36.3748, 40.2588, 26.296799999999998, 32.4464, 39.8216, 29.650799999999997, 29.3944, 39.8924, 34.3264, 19.3868, 15.4212, 33.4216, 36.0972, 36.5392, 39.3044, 35.3072, 20.3492, 40.7528, 32.5788, 30.596799999999998, 27.376799999999996, 35.9392, 31.88, 39.67, 33.0548, 32.9768, 29.7, 32.562, 39.3216, 24.3048, 26.9324, 33.3604, 39.800799999999995, 32.5004, 27.968400000000003, 33.3828, 38.3448, 29.4528, 34.075199999999995, 35.07, 31.275999999999996, 39.6904, 32.1668, 31.419999999999998, 29.602, 36.4688, 27.211599999999997, 35.5928, 32.952799999999996, 30.9324, 34.9564, 39.745599999999996, 35.224, 34.6008, 35.662400000000005, 34.46, 35.3904, 34.018, 27.1432, 29.620799999999996, 34.6828, 36.358000000000004, 32.6908, 30.269599999999997, 36.2836, 30.123199999999997, 29.747199999999996, 37.0484, 36.047599999999996, 26.1, 32.8296, 36.434799999999996, 29.322000000000003, 29.6864, 37.904799999999994, 39.4116, 21.1632, 25.866799999999998, 30.5832, 29.662799999999997, 38.5356, 33.976, 36.955600000000004, 22.67, 31.7716, 35.604, 36.26, 30.7596, 21.3068, 32.3848, 22.449199999999998, 28.1064, 32.1356, 25.04, 39.1412, 33.7352, 32.685199999999995, 32.388, 32.4248, 33.8992, 25.148, 34.7856, 37.628, 33.8284, 21.9596, 34.6548, 32.526799999999994, 33.4152, 30.2872, 15.1, 35.9488, 30.9, 37.152, 34.3524, 26.287599999999998, 24.462, 33.536, 31.5668, 33.314, 30.966, 17.8128, 31.0072, 33.9136, 31.5668, 36.5048, 30.394, 38.2636, 26.668799999999997, 38.4324, 40.0144, 24.9272, 39.952799999999996, 28.6664, 29.7, 32.47, 33.552800000000005, 31.3308, 24.036800000000003, 32.983599999999996, 17.8104, 30.382400000000004, 38.4392, 35.748400000000004, 27.7536, 28.5704, 39.0048, 32.0252, 38.8964, 35.0312, 35.4268, 35.080799999999996, 28.5524, 30.246000000000002, 24.253999999999998, 17.3, 24.3492, 33.896, 32.5132, 38.955600000000004, 29.9452, 38.038799999999995, 29.232799999999997, 33.124399999999994, 30.676, 37.099599999999995, 35.9868, 35.9352, 24.1696, 30.813599999999997, 34.1092, 34.7448, 33.764399999999995, 31.1756, 33.386799999999994, 31.552, 32.0012, 38.2004, 26.8748, 29.7928, 33.186400000000006, 28.7, 36.3632, 31.5244, 27.876799999999996, 35.074, 20.4168, 29.9668, 31.608, 37.3752, 32.6428, 37.2136, 31.406, 38.1596, 33.2596, 37.489599999999996, 37.58, 32.3728, 24.821599999999997, 39.0792, 32.476, 25.3056, 35.68, 30.531200000000002, 32.800799999999995, 38.7, 26.0908, 42.2244, 31.574399999999997, 35.6908, 26.5, 32.434400000000004, 32.4392, 31.232799999999997, 36.544799999999995, 30.806, 37.3144, 26.4496, 40.5904, 29.020799999999998, 19.113599999999998, 13.2492, 40.194, 27.435599999999997, 14.5524, 14.656, 32.362, 31.5, 30.009999999999998, 36.794, 37.3416, 14.3352, 27.745199999999997, 25.0944, 28.7808, 22.1492, 30.772799999999997, 39.1388, 36.566, 22.884, 27.115199999999998, 39.5828, 22.082, 27.2944, 18.1184, 33.766, 26.3288, 37.67, 28.108399999999996, 35.774, 30.2352, 26.509999999999998, 26.2072, 24.6212, 32.004, 35.8912, 20.996, 39.27, 31.342, 30.0824, 40.4488, 39.6796, 32.6892, 34.332, 39.5972, 30.729200000000002, 27.744799999999998, 29.2136, 35.053200000000004, 27.791200000000003, 29.9444, 35.2584, 28.959200000000003, 33.844, 34.9444, 30.696799999999996, 25.4424, 33.040400000000005, 25.399599999999996, 30.6924, 36.687200000000004, 39.2764, 24.372799999999998, 23.4, 29.7248, 38.782799999999995, 22.637999999999998, 26.7972, 37.794, 32.838, 28.4892, 39.483999999999995, 27.5872, 33.8388, 29.6216, 32.5496, 38.7804, 35.0248, 30.4936, 40.0524, 36.1944, 37.211200000000005, 18.566, 23.3356, 33.983999999999995, 32.5456, 31.772799999999997, 40.9908, 33.965599999999995, 34.132000000000005, 32.57, 35.4732, 28.8112, 31.1064, 30.273599999999995, 26.0044, 23.0892, 35.5828, 28.466, 28.9912, 34.288799999999995, 34.9636, 31.531599999999997, 35.4964, 31.3532, 34.028800000000004, 26.874399999999998, 26.8, 34.8904, 39.5276, 28.432000000000002, 26.4496, 30.116799999999998, 26.659599999999998, 17.9, 38.3364, 38.9388, 37.4764, 34.395199999999996, 37.7076, 27.611600000000003, 29.5768, 37.4976, 31.5004, 21.1892, 28.9972, 33.162, 34.5124, 19.4664, 38.932, 13.0, 38.9284, 28.726, 34.831599999999995, 35.894400000000005, 27.714799999999997, 35.798, 26.5, 33.7792, 35.258, 32.3036, 39.2964, 20.3444, 29.5916, 31.593600000000002, 38.6736, 38.0312, 30.7516, 28.5644, 21.532, 37.8892, 27.240000000000002, 35.4704, 32.538399999999996, 29.891199999999998, 32.065200000000004, 30.5608, 32.307599999999994, 34.8804, 22.939999999999998, 25.152, 30.5076, 38.044799999999995, 38.9492, 36.3132, 27.0708, 32.626799999999996, 21.369999999999997, 35.332, 34.384, 17.000799999999998, 31.0084, 21.6, 37.7832, 33.6636, 36.234, 29.9016, 31.7656, 28.3208, 39.7756, 17.0864, 39.800399999999996, 19.2, 34.3588, 38.0768, 35.2692, 35.8596, 31.0392, 34.2284, 27.5, 39.6136, 19.3, 18.3552, 37.6868, 30.095599999999997, 31.3664, 37.3872, 35.376799999999996, 35.128, 29.1, 25.6892, 31.6004, 35.666399999999996, 38.2908, 31.873599999999996, 30.8152, 27.7828, 38.3756, 38.8844, 38.8464, 34.77119999999999, 33.4256, 33.5876, 34.729200000000006, 35.178399999999996, 27.5048, 39.36879999999999, 34.0072, 34.0836, 9.222399999999999, 31.2076, 36.1324, 38.3352, 38.29, 30.2576, 29.3652, 19.4284, 22.892799999999998, 37.1328, 37.4632, 23.5396, 39.3524, 27.2016, 39.7568, 37.294, 30.428400000000003, 37.010000000000005, 38.1044, 30.2716, 11.5, 32.2044, 35.3624, 27.2032, 28.0256, 34.4284, 39.668400000000005, 6.4, 30.023999999999997, 32.572, 31.1824, 28.548000000000002, 36.9456, 33.1036, 36.014799999999994, 36.3692, 31.1352, 30.828, 35.726, 32.6476, 37.41759999999999, 35.435599999999994, 18.293599999999998, 30.736, 37.916799999999995, 30.9576, 32.1864, 30.462400000000002, 39.8656, 28.5948, 39.641999999999996, 16.146, 27.348399999999998, 26.6488, 20.78, 25.461599999999997, 32.4072, 37.1824, 24.8052, 35.382400000000004, 22.053600000000003, 24.418400000000002, 23.8544, 37.258, 39.0152, 33.3804, 36.879999999999995, 24.6576, 37.5012, 31.089599999999997, 29.973999999999997, 41.5768, 39.6496, 29.936, 26.407200000000003, 29.6696, 35.824799999999996, 37.048, 32.1868, 19.4076, 36.674, 31.575599999999998, 36.318799999999996, 35.372, 18.6068, 28.0188, 32.2008, 32.2548, 25.6612, 24.313200000000002, 38.0436, 38.5768, 31.195999999999998, 31.349200000000003, 31.652, 32.584, 26.632399999999997, 27.363599999999998, 33.67, 29.304, 27.2668, 38.2008, 34.854, 34.718, 34.4868, 36.8132, 33.8456, 36.4876, 28.8596, 38.058400000000006, 28.712, 35.9004, 37.504, 36.5324, 34.0668, 25.5, 39.5492, 39.666, 35.1896, 26.918, 36.431200000000004, 11.9, 27.711199999999998, 32.6704, 31.0152, 26.129599999999996, 20.518, 25.6876, 37.3032, 36.111999999999995, 38.935599999999994, 24.2568, 34.983599999999996, 34.327600000000004, 18.823999999999998, 32.5048, 23.499599999999997, 33.544399999999996, 15.614799999999999, 37.5624, 34.325599999999994, 36.007999999999996, 20.6792, 26.256, 40.273599999999995, 20.598, 37.6216, 32.1972, 29.735599999999998, 25.6888, 32.770399999999995, 38.52719999999999, 39.6464, 31.281599999999997, 31.663600000000002, 37.873599999999996, 31.276400000000002, 29.8292, 38.754, 34.9308, 34.7288, 35.3988, 30.6828, 33.3972, 24.945999999999998, 36.7136, 37.1312, 35.2076, 36.032, 30.3876, 38.5036, 32.9736, 31.6256, 29.6464, 28.9084, 24.6024, 1.0, 27.8676, 31.6564, 28.3492, 31.1032, 31.190800000000003, 35.236000000000004, 28.4, 38.435599999999994, 23.2048, 31.3164, 30.022399999999998, 28.293599999999998, 28.3016, 31.2188, 35.1764, 32.538, 26.6684, 33.693599999999996, 28.0048, 34.1092, 27.5908, 35.77, 39.0548, 30.8444, 24.9608, 32.5796, 31.534799999999997, 34.362, 25.4, 32.47279999999999, 37.504, 30.5292, 35.5108, 26.794800000000002, 31.4932, 31.848, 16.3, 32.594, 38.687200000000004, 28.9284, 32.471599999999995, 28.131999999999998, 34.980000000000004, 30.1392, 19.3012, 28.3324, 33.768, 33.8172, 29.095199999999995, 35.7076, 33.9904, 19.8692, 31.9, 28.453200000000002, 28.543599999999998, 37.9332, 39.5112, 39.4484, 38.8324, 26.932000000000002, 31.648, 15.493599999999999, 19.6112, 28.7352, 28.1492, 19.877200000000002, 26.6836, 31.0276, 34.7008, 16.3624, 34.2452, 27.589199999999998, 37.58, 38.0312], \"z\": [20.6, 18.2, 19.7, 23.8, 24.2, 14.3, 11.5, 13.9, 12.0, 25.7, 26.7, 15.7, 25.4, 20.0, 21.0, 22.5, 17.4, 19.2, 9.6, 13.3, 18.7, 14.7, 14.0, 14.0, 0.0, 19.5, 20.0, 27.2, 12.1, 20.3, 13.0, 24.7, 20.4, 19.8, 13.0, 20.1, 23.3, 16.9, 11.6, 30.6, 20.2, 20.0, 20.4, 15.2, 20.3, 13.2, 21.6, 24.4, 20.4, 25.4, 11.0, 25.8, 14.6, 19.0, 19.2, 24.8, 22.6, 19.9, 25.8, 17.2, 17.8, 13.0, 11.0, 24.6, 14.4, 18.0, 19.8, 20.8, 23.7, 18.3, 15.0, 2.0, 15.4, 22.3, 19.4, 28.5, 20.4, 5.8, 27.1, 21.6, 24.2, 17.8, 7.2, 20.2, 9.9, 13.4, 0.0, 14.1, 20.0, 13.9, 13.9, 17.4, 13.3, 20.6, 13.4, 17.0, 18.1, 17.6, 17.4, 12.5, 20.0, 0.0, 15.6, 13.2, 17.0, 27.8, 11.3, 0.0, 25.3, 28.7, 24.1, 17.8, 22.4, 17.3, 17.5, 23.8, 21.6, 17.5, 9.9, 20.6, 30.8, 24.8, 14.3, 14.2, 14.9, 23.8, 14.9, 30.1, 18.2, 18.9, 15.1, 16.3, 24.4, 9.1, 15.2, 26.1, 9.0, 20.8, 23.5, 2.3, 17.7, 19.5, 24.2, 19.5, 9.9, 15.3, 16.9, 16.4, 0.1, 18.9, 0.0, 15.4, 17.9, 16.4, 12.6, 11.9, 16.2, 10.8, 20.0, 23.5, 17.6, 24.2, 22.1, 13.3, 15.2, 24.9, 23.4, 13.5, 12.5, 26.1, 17.4, 17.1, 25.3, 28.7, 19.9, 22.6, 20.2, 29.7, 22.5, 9.0, 20.0, 30.3, 21.9, 20.3, 27.6, 11.7, 8.3, 0.0, 20.1, 23.3, 11.7, 6.2, 23.3, 13.1, 0.0, 20.9, 17.5, 20.2, 24.3, 28.6, 19.6, 16.3, 26.9, 15.1, 15.6, 18.6, 5.2, 11.0, 24.8, 13.7, 9.5, 13.3, 27.1, 21.2, 16.2, 19.6, 0.0, 13.8, 17.5, 14.7, 24.2, 26.3, 25.8, 19.9, 8.1, 18.1, 18.9, 8.7, 8.3, 19.2, 0.0, 27.9, 11.6, 15.0, 8.7, 25.5, 16.9, 20.1, 27.0, 19.1, 17.0, 13.3, 26.2, 15.1, 12.7, 15.1, 20.4, 16.0, 20.9, 26.5, 10.6, 21.5, 8.7, 23.0, 6.6, 19.9, 25.3, 0.1, 21.9, 29.4, 24.8, 16.2, 14.2, 15.3, 5.2, 23.1, 10.9, 16.9, 15.7, 18.3, 17.1, 12.1, 18.1, 13.1, 28.3, 15.3, 23.2, 22.2, 12.1, 7.3, 16.4, 18.0, 21.4, 18.9, 16.9, 22.5, 15.2, 14.1, 25.3, 24.3, 19.3, 17.7, 21.2, 7.1, 0.0, 21.4, 24.2, 23.6, 6.4, 17.9, 16.5, 14.0, 26.8, 25.7, 20.0, 25.3, 16.6, 20.8, 0.0, 26.2, 20.7, 11.8, 22.9, 19.4, 25.4, 3.4, 14.1, 21.6, 17.4, 21.2, 20.6, 24.5, 23.2, 22.8, 5.0, 26.4, 13.7, 26.3, 19.5, 29.0, 25.0, 24.7, 26.7, 25.0, 16.8, 19.0, 9.0, 18.0, 29.9, 8.9, 17.3, 13.5, 25.5, 23.5, 17.7, 26.4, 18.7, 15.2, 6.8, 30.3, 16.3, 22.0, 16.0, 24.9, 16.2, 0.0, 9.0, 15.1, 26.1, 15.7, 23.6, 20.2, 22.4, 27.1, 6.7, 24.3, 16.2, 23.0, 27.8, 17.5, 30.2, 17.0, 3.8, 13.6, 22.1, 22.3, 7.4, 20.9, 0.0, 25.4, 19.6, 10.0, 17.0, 0.0, 18.5, 12.6, 21.2, 15.8, 21.7, 10.1, 10.6, 20.4, 7.1, 18.1, 20.3, 20.0, 25.1, 20.0, 16.7, 12.0, 27.5, 13.5, 15.8, 13.0, 21.9, 5.8, 14.7, 27.1, 24.3, 17.6, 22.5, 18.7, 23.7, 22.0, 25.1, 22.4, 15.9, 20.9, 26.2, 15.1, 16.2, 20.6, 19.5, 22.7, 11.9, 12.4, 15.1, 4.0, 15.1, 17.6, 15.5, 17.6, 13.0, 10.9, 29.7, 16.8, 15.4, 17.3, 22.2, 18.7, 14.3, 28.5, 21.0, 20.1, 12.5, 19.6, 24.1, 7.9, 24.6, 26.1, 24.9, 27.2, 13.9, 25.8, 6.7, 16.2, 11.0, 24.6, 20.3, 21.5, 16.1, 3.3, 19.8, 25.1, 25.3, 16.6, 25.2, 12.5, 21.2, 13.4, 20.9, 19.6, 3.2, 21.1, 22.5, 26.9, 19.8, 27.5, 24.0, 21.1, 14.1, 15.1, 0.0, 20.0, 16.7, 23.3, 19.4, 22.5, 23.9, 6.7, 22.0, 20.2, 17.1, 21.6, 16.4, 14.0, 15.0, 14.7, 22.6, 20.4, 17.5, 26.1, 28.7, 15.2, 10.1, 11.3, 23.2, 0.0, 21.8, 17.2, 16.6, 0.0, 19.8, 20.9, 16.1, 11.8, 6.0, 17.0, 24.4, 13.2, 20.2, 15.8, 22.7, 19.3, 25.1, 11.9, 17.7, 14.9, 21.0, 14.9, 14.0, 20.3, 21.1, 17.3, 13.2, 18.9, 9.0, 15.3, 28.5, 23.2, 0.0, 27.9, 25.7, 26.4, 14.9, 20.9, 21.7, 26.8, 13.5, 14.1, 28.8, 20.6, 16.6, 9.0, 16.3, 15.2, 27.8, 28.1, 17.0, 19.2, 24.8, 16.8, 18.7, 8.0, 3.8, 7.6, 27.8, 22.5, 11.6, 9.2, 21.7, 17.7, 20.1, 20.4, 16.0, 17.7, 17.1, 29.4, 22.5, 23.2, 15.4, 20.3, 14.7, 26.7, 22.8, 13.7, 13.9, 0.5, 13.2, 14.8, 18.3, 25.0, 19.4, 12.4, 22.0, 16.2, 13.6, 20.3, 27.5, 13.6, 12.7, 23.1, 9.5, 22.6, 26.5, 6.7, 18.1, 18.1, 10.0, 4.4, 0.0, 20.1, 21.4, 25.1, 26.2, 18.8, 7.1, 28.3, 11.8, 13.8, 14.2, 24.5, 17.4, 27.0, 13.0, 19.8, 29.7, 14.1, 26.0, 13.3, 16.0, 24.6, 25.9, 16.5, 6.9, 15.5, 20.1, 17.0, 12.5, 22.4, 13.9, 25.5, 20.8, 9.7, 22.0, 17.5, 15.7, 15.9, 20.5, 20.0, 23.3, 25.7, 16.4, 20.7, 19.3, 23.6, 21.2, 19.9, 18.6, 12.1, 16.8, 15.0, 20.6, 15.5, 22.6, 7.1, 6.0, 19.6, 14.4, 26.1, 25.3, 20.0, 18.1, 12.6, 26.9, 27.9, 9.0, 14.5, 14.8, 15.4, 26.3, 16.6, 21.1, 10.0, 9.4, 20.4, 25.4, 17.8, 2.7, 6.9, 9.2, 25.5, 19.9, 17.8, 20.1, 19.4, 9.3, 23.7, 17.8, 11.6, 23.7, 13.5, 21.7, 20.0, 9.0, 14.6, 10.3, 22.7, 17.4, 15.1, 20.6, 30.9, 20.5, 19.8, 15.5, 6.0, 23.4, 20.2, 16.3, 15.4, 12.6, 14.5, 14.8, 20.2, 25.5, 17.0, 28.2, 7.7, 27.5, 25.1, 4.8, 27.5, 15.2, 29.7, 19.8, 21.1, 12.0, 0.0, 19.3, 0.0, 10.4, 27.0, 18.3, 19.5, 18.0, 28.0, 19.5, 20.0, 17.8, 13.2, 24.8, 14.0, 18.3, 0.0, 17.3, 11.1, 12.9, 11.3, 23.1, 13.8, 24.5, 20.4, 16.4, 13.3, 16.9, 21.0, 21.6, 9.4, 11.7, 10.0, 16.5, 27.9, 29.8, 18.4, 14.9, 20.2, 22.2, 3.2, 10.1, 16.1, 28.7, 24.2, 14.8, 14.7, 25.3, 0.0, 18.6, 19.3, 15.8, 22.0, 18.1, 8.6, 25.2, 20.3, 19.1, 23.1, 16.3, 11.5, 20.4, 15.1, 0.4, 21.2, 13.3, 18.9, 20.6, 14.0, 25.5, 23.9, 23.6, 26.5, 13.9, 21.0, 22.4, 18.3, 8.0, 22.4, 15.3, 26.4, 11.5, 0.0, 0.0, 26.8, 15.2, 0.0, 0.9, 13.9, 31.5, 10.1, 23.4, 20.4, 0.0, 11.6, 13.8, 18.5, 8.9, 14.7, 25.6, 21.0, 11.3, 16.4, 21.7, 0.0, 16.0, 6.1, 18.2, 14.6, 25.0, 17.9, 26.0, 15.9, 6.6, 9.7, 9.2, 16.8, 25.9, 0.0, 26.6, 16.5, 10.1, 25.1, 23.1, 12.2, 21.3, 24.9, 21.1, 9.5, 10.1, 24.7, 17.8, 9.6, 16.0, 13.9, 11.4, 14.6, 13.9, 12.7, 9.8, 5.2, 8.9, 23.8, 24.0, 8.3, 23.4, 15.1, 20.9, 4.9, 12.1, 24.4, 15.1, 8.0, 27.9, 14.7, 20.3, 16.3, 21.4, 26.4, 20.4, 15.0, 25.5, 24.9, 23.6, 3.0, 11.1, 22.4, 18.5, 15.7, 28.9, 16.3, 21.1, 19.9, 21.5, 15.2, 10.4, 18.4, 12.9, 2.6, 17.7, 12.9, 19.0, 11.7, 24.9, 16.4, 16.6, 21.0, 22.3, 19.2, 26.8, 20.7, 21.5, 15.4, 15.3, 9.7, 13.7, 17.9, 30.3, 25.4, 22.2, 9.2, 23.3, 16.1, 16.4, 24.9, 15.5, 0.7, 14.3, 14.7, 9.1, 6.0, 25.9, 13.0, 25.1, 20.4, 19.7, 24.6, 14.9, 25.3, 26.5, 15.1, 13.9, 15.0, 20.4, 0.0, 21.7, 16.1, 26.8, 20.8, 12.0, 4.6, 8.5, 17.4, 20.0, 24.9, 16.9, 19.9, 12.3, 5.8, 17.9, 22.5, 15.7, 8.5, 16.1, 19.8, 25.7, 15.1, 18.6, 10.4, 8.7, 22.3, 22.8, 3.1, 20.8, 21.6, 22.0, 23.6, 15.6, 20.2, 14.1, 10.8, 20.3, 0.0, 23.8, 19.2, 17.2, 24.9, 18.4, 22.9, 19.6, 20.4, 27.5, 20.5, 19.3, 0.4, 22.7, 7.0, 17.9, 24.5, 22.2, 19.2, 29.1, 5.2, 15.6, 22.2, 26.2, 20.0, 20.1, 9.9, 18.9, 29.4, 29.0, 10.3, 23.0, 22.8, 25.1, 12.3, 16.5, 20.4, 17.5, 20.4, 0.1, 16.8, 25.2, 24.0, 22.0, 6.8, 9.6, 5.6, 3.2, 28.3, 25.3, 14.2, 24.8, 17.5, 30.2, 23.9, 16.6, 17.1, 25.0, 7.9, 11.5, 19.1, 19.0, 7.8, 17.6, 20.6, 18.6, 6.4, 11.2, 12.3, 11.2, 27.1, 22.9, 15.8, 23.2, 19.5, 16.8, 14.9, 27.4, 11.0, 21.2, 23.2, 2.8, 20.6, 17.5, 7.5, 15.1, 14.1, 22.2, 19.4, 24.8, 4.2, 9.9, 11.3, 6.3, 4.9, 15.9, 17.2, 15.9, 15.4, 13.8, 12.4, 1.7, 15.9, 28.3, 21.0, 22.4, 1.2, 25.7, 12.7, 20.2, 28.4, 28.5, 19.8, 9.9, 14.9, 21.2, 17.5, 17.2, 5.0, 26.9, 30.2, 26.4, 15.1, 0.0, 18.1, 18.3, 12.2, 3.0, 3.1, 31.6, 25.4, 10.2, 18.1, 15.0, 21.0, 15.7, 17.3, 21.0, 14.1, 15.9, 24.3, 10.6, 20.6, 19.5, 15.6, 19.8, 25.7, 15.9, 18.8, 19.3, 19.9, 22.3, 25.6, 22.7, 25.5, 26.3, 24.1, 16.8, 12.8, 19.2, 11.9, 14.1, 22.1, 20.3, 0.5, 6.4, 14.9, 17.9, 26.7, 26.7, 14.7, 21.3, 16.3, 0.0, 21.5, 3.3, 13.2, 2.8, 21.2, 23.9, 23.7, 2.0, 12.5, 28.4, 10.1, 24.3, 17.5, 17.5, 3.1, 22.2, 18.4, 29.8, 25.2, 21.6, 26.0, 16.0, 20.2, 14.5, 15.6, 23.0, 29.1, 12.8, 18.7, 13.0, 17.6, 19.9, 20.8, 23.0, 19.6, 21.2, 21.1, 21.2, 19.8, 18.7, 1.0, 1.0, 2.6, 20.0, 15.1, 29.8, 19.1, 25.1, 28.4, 26.2, 12.2, 8.8, 20.9, 12.8, 18.6, 21.3, 19.9, 14.8, 5.6, 18.2, 17.0, 10.0, 15.5, 23.1, 19.0, 10.5, 18.3, 16.0, 15.1, 15.9, 7.3, 16.4, 22.3, 20.9, 19.8, 17.6, 13.9, 12.3, 16.3, 19.2, 25.8, 15.1, 10.1, 15.1, 20.5, 18.7, 7.5, 17.4, 10.6, 15.5, 3.9, 21.3, 19.8, 3.0, 31.9, 18.1, 4.0, 31.2, 25.9, 22.0, 27.9, 13.9, 30.2, 0.0, 6.0, 14.4, 14.9, 8.8, 13.0, 13.0, 20.8, 0.0, 18.1, 7.1, 23.1, 20.8]}],\n",
              "                        {\"height\": 800, \"margin\": {\"b\": 65, \"l\": 65, \"r\": 50, \"t\": 90}, \"scene\": {\"xaxis\": {\"title\": {\"text\": \"Calidad esperada\"}}, \"yaxis\": {\"title\": {\"text\": \"Costo Calculado\"}}, \"zaxis\": {\"title\": {\"text\": \"Energ\\u00eda El\\u00e9ctrica\"}}}, \"template\": {\"data\": {\"bar\": [{\"error_x\": {\"color\": \"#2a3f5f\"}, \"error_y\": {\"color\": \"#2a3f5f\"}, \"marker\": {\"line\": {\"color\": \"#E5ECF6\", \"width\": 0.5}}, \"type\": \"bar\"}], \"barpolar\": [{\"marker\": {\"line\": {\"color\": \"#E5ECF6\", \"width\": 0.5}}, \"type\": \"barpolar\"}], \"carpet\": [{\"aaxis\": {\"endlinecolor\": \"#2a3f5f\", \"gridcolor\": \"white\", \"linecolor\": \"white\", \"minorgridcolor\": \"white\", \"startlinecolor\": \"#2a3f5f\"}, \"baxis\": {\"endlinecolor\": \"#2a3f5f\", \"gridcolor\": \"white\", \"linecolor\": \"white\", \"minorgridcolor\": \"white\", \"startlinecolor\": \"#2a3f5f\"}, \"type\": \"carpet\"}], \"choropleth\": [{\"colorbar\": {\"outlinewidth\": 0, \"ticks\": \"\"}, \"type\": \"choropleth\"}], \"contour\": [{\"colorbar\": {\"outlinewidth\": 0, \"ticks\": \"\"}, \"colorscale\": [[0.0, \"#0d0887\"], [0.1111111111111111, \"#46039f\"], [0.2222222222222222, \"#7201a8\"], [0.3333333333333333, \"#9c179e\"], [0.4444444444444444, \"#bd3786\"], [0.5555555555555556, \"#d8576b\"], [0.6666666666666666, \"#ed7953\"], [0.7777777777777778, \"#fb9f3a\"], [0.8888888888888888, \"#fdca26\"], [1.0, \"#f0f921\"]], \"type\": \"contour\"}], \"contourcarpet\": [{\"colorbar\": {\"outlinewidth\": 0, \"ticks\": \"\"}, \"type\": \"contourcarpet\"}], \"heatmap\": [{\"colorbar\": {\"outlinewidth\": 0, \"ticks\": \"\"}, \"colorscale\": [[0.0, \"#0d0887\"], [0.1111111111111111, \"#46039f\"], [0.2222222222222222, \"#7201a8\"], [0.3333333333333333, \"#9c179e\"], [0.4444444444444444, \"#bd3786\"], [0.5555555555555556, \"#d8576b\"], [0.6666666666666666, \"#ed7953\"], [0.7777777777777778, \"#fb9f3a\"], [0.8888888888888888, \"#fdca26\"], [1.0, \"#f0f921\"]], \"type\": \"heatmap\"}], \"heatmapgl\": [{\"colorbar\": {\"outlinewidth\": 0, \"ticks\": \"\"}, \"colorscale\": [[0.0, \"#0d0887\"], [0.1111111111111111, \"#46039f\"], [0.2222222222222222, \"#7201a8\"], [0.3333333333333333, \"#9c179e\"], [0.4444444444444444, \"#bd3786\"], [0.5555555555555556, \"#d8576b\"], [0.6666666666666666, \"#ed7953\"], [0.7777777777777778, \"#fb9f3a\"], [0.8888888888888888, \"#fdca26\"], [1.0, \"#f0f921\"]], \"type\": \"heatmapgl\"}], \"histogram\": [{\"marker\": {\"colorbar\": {\"outlinewidth\": 0, \"ticks\": \"\"}}, \"type\": \"histogram\"}], \"histogram2d\": [{\"colorbar\": {\"outlinewidth\": 0, \"ticks\": \"\"}, \"colorscale\": [[0.0, \"#0d0887\"], [0.1111111111111111, \"#46039f\"], [0.2222222222222222, \"#7201a8\"], [0.3333333333333333, \"#9c179e\"], [0.4444444444444444, \"#bd3786\"], [0.5555555555555556, \"#d8576b\"], [0.6666666666666666, \"#ed7953\"], [0.7777777777777778, \"#fb9f3a\"], [0.8888888888888888, \"#fdca26\"], [1.0, \"#f0f921\"]], \"type\": \"histogram2d\"}], \"histogram2dcontour\": [{\"colorbar\": {\"outlinewidth\": 0, \"ticks\": \"\"}, \"colorscale\": [[0.0, \"#0d0887\"], [0.1111111111111111, \"#46039f\"], [0.2222222222222222, \"#7201a8\"], [0.3333333333333333, \"#9c179e\"], [0.4444444444444444, \"#bd3786\"], [0.5555555555555556, \"#d8576b\"], [0.6666666666666666, \"#ed7953\"], [0.7777777777777778, \"#fb9f3a\"], [0.8888888888888888, \"#fdca26\"], [1.0, \"#f0f921\"]], \"type\": \"histogram2dcontour\"}], \"mesh3d\": [{\"colorbar\": {\"outlinewidth\": 0, \"ticks\": \"\"}, \"type\": \"mesh3d\"}], \"parcoords\": [{\"line\": {\"colorbar\": {\"outlinewidth\": 0, \"ticks\": \"\"}}, \"type\": \"parcoords\"}], \"pie\": [{\"automargin\": true, \"type\": \"pie\"}], \"scatter\": [{\"marker\": {\"colorbar\": {\"outlinewidth\": 0, \"ticks\": \"\"}}, \"type\": \"scatter\"}], \"scatter3d\": [{\"line\": {\"colorbar\": {\"outlinewidth\": 0, \"ticks\": \"\"}}, \"marker\": {\"colorbar\": {\"outlinewidth\": 0, \"ticks\": \"\"}}, \"type\": \"scatter3d\"}], \"scattercarpet\": [{\"marker\": {\"colorbar\": {\"outlinewidth\": 0, \"ticks\": \"\"}}, \"type\": \"scattercarpet\"}], \"scattergeo\": [{\"marker\": {\"colorbar\": {\"outlinewidth\": 0, \"ticks\": \"\"}}, \"type\": \"scattergeo\"}], \"scattergl\": [{\"marker\": {\"colorbar\": {\"outlinewidth\": 0, \"ticks\": \"\"}}, \"type\": \"scattergl\"}], \"scattermapbox\": [{\"marker\": {\"colorbar\": {\"outlinewidth\": 0, \"ticks\": \"\"}}, \"type\": \"scattermapbox\"}], \"scatterpolar\": [{\"marker\": {\"colorbar\": {\"outlinewidth\": 0, \"ticks\": \"\"}}, \"type\": \"scatterpolar\"}], \"scatterpolargl\": [{\"marker\": {\"colorbar\": {\"outlinewidth\": 0, \"ticks\": \"\"}}, \"type\": \"scatterpolargl\"}], \"scatterternary\": [{\"marker\": {\"colorbar\": {\"outlinewidth\": 0, \"ticks\": \"\"}}, \"type\": \"scatterternary\"}], \"surface\": [{\"colorbar\": {\"outlinewidth\": 0, \"ticks\": \"\"}, \"colorscale\": [[0.0, \"#0d0887\"], [0.1111111111111111, \"#46039f\"], [0.2222222222222222, \"#7201a8\"], [0.3333333333333333, \"#9c179e\"], [0.4444444444444444, \"#bd3786\"], [0.5555555555555556, \"#d8576b\"], [0.6666666666666666, \"#ed7953\"], [0.7777777777777778, \"#fb9f3a\"], [0.8888888888888888, \"#fdca26\"], [1.0, \"#f0f921\"]], \"type\": \"surface\"}], \"table\": [{\"cells\": {\"fill\": {\"color\": \"#EBF0F8\"}, \"line\": {\"color\": \"white\"}}, \"header\": {\"fill\": {\"color\": \"#C8D4E3\"}, \"line\": {\"color\": \"white\"}}, \"type\": \"table\"}]}, \"layout\": {\"annotationdefaults\": {\"arrowcolor\": \"#2a3f5f\", \"arrowhead\": 0, \"arrowwidth\": 1}, \"coloraxis\": {\"colorbar\": {\"outlinewidth\": 0, \"ticks\": \"\"}}, \"colorscale\": {\"diverging\": [[0, \"#8e0152\"], [0.1, \"#c51b7d\"], [0.2, \"#de77ae\"], [0.3, \"#f1b6da\"], [0.4, \"#fde0ef\"], [0.5, \"#f7f7f7\"], [0.6, \"#e6f5d0\"], [0.7, \"#b8e186\"], [0.8, \"#7fbc41\"], [0.9, \"#4d9221\"], [1, \"#276419\"]], \"sequential\": [[0.0, \"#0d0887\"], [0.1111111111111111, \"#46039f\"], [0.2222222222222222, \"#7201a8\"], [0.3333333333333333, \"#9c179e\"], [0.4444444444444444, \"#bd3786\"], [0.5555555555555556, \"#d8576b\"], [0.6666666666666666, \"#ed7953\"], [0.7777777777777778, \"#fb9f3a\"], [0.8888888888888888, \"#fdca26\"], [1.0, \"#f0f921\"]], \"sequentialminus\": [[0.0, \"#0d0887\"], [0.1111111111111111, \"#46039f\"], [0.2222222222222222, \"#7201a8\"], [0.3333333333333333, \"#9c179e\"], [0.4444444444444444, \"#bd3786\"], [0.5555555555555556, \"#d8576b\"], [0.6666666666666666, \"#ed7953\"], [0.7777777777777778, \"#fb9f3a\"], [0.8888888888888888, \"#fdca26\"], [1.0, \"#f0f921\"]]}, \"colorway\": [\"#636efa\", \"#EF553B\", \"#00cc96\", \"#ab63fa\", \"#FFA15A\", \"#19d3f3\", \"#FF6692\", \"#B6E880\", \"#FF97FF\", \"#FECB52\"], \"font\": {\"color\": \"#2a3f5f\"}, \"geo\": {\"bgcolor\": \"white\", \"lakecolor\": \"white\", \"landcolor\": \"#E5ECF6\", \"showlakes\": true, \"showland\": true, \"subunitcolor\": \"white\"}, \"hoverlabel\": {\"align\": \"left\"}, \"hovermode\": \"closest\", \"mapbox\": {\"style\": \"light\"}, \"paper_bgcolor\": \"white\", \"plot_bgcolor\": \"#E5ECF6\", \"polar\": {\"angularaxis\": {\"gridcolor\": \"white\", \"linecolor\": \"white\", \"ticks\": \"\"}, \"bgcolor\": \"#E5ECF6\", \"radialaxis\": {\"gridcolor\": \"white\", \"linecolor\": \"white\", \"ticks\": \"\"}}, \"scene\": {\"xaxis\": {\"backgroundcolor\": \"#E5ECF6\", \"gridcolor\": \"white\", \"gridwidth\": 2, \"linecolor\": \"white\", \"showbackground\": true, \"ticks\": \"\", \"zerolinecolor\": \"white\"}, \"yaxis\": {\"backgroundcolor\": \"#E5ECF6\", \"gridcolor\": \"white\", \"gridwidth\": 2, \"linecolor\": \"white\", \"showbackground\": true, \"ticks\": \"\", \"zerolinecolor\": \"white\"}, \"zaxis\": {\"backgroundcolor\": \"#E5ECF6\", \"gridcolor\": \"white\", \"gridwidth\": 2, \"linecolor\": \"white\", \"showbackground\": true, \"ticks\": \"\", \"zerolinecolor\": \"white\"}}, \"shapedefaults\": {\"line\": {\"color\": \"#2a3f5f\"}}, \"ternary\": {\"aaxis\": {\"gridcolor\": \"white\", \"linecolor\": \"white\", \"ticks\": \"\"}, \"baxis\": {\"gridcolor\": \"white\", \"linecolor\": \"white\", \"ticks\": \"\"}, \"bgcolor\": \"#E5ECF6\", \"caxis\": {\"gridcolor\": \"white\", \"linecolor\": \"white\", \"ticks\": \"\"}}, \"title\": {\"x\": 0.05}, \"xaxis\": {\"automargin\": true, \"gridcolor\": \"white\", \"linecolor\": \"white\", \"ticks\": \"\", \"title\": {\"standoff\": 15}, \"zerolinecolor\": \"white\", \"zerolinewidth\": 2}, \"yaxis\": {\"automargin\": true, \"gridcolor\": \"white\", \"linecolor\": \"white\", \"ticks\": \"\", \"title\": {\"standoff\": 15}, \"zerolinecolor\": \"white\", \"zerolinewidth\": 2}}}, \"title\": {\"text\": \"Calidad y Costo vs Energ\\u00eda El\\u00e9ctrica\"}, \"width\": 800},\n",
              "                        {\"responsive\": true}\n",
              "                    ).then(function(){\n",
              "                            \n",
              "var gd = document.getElementById('19054a27-9dad-4dad-b714-7dee05f7ae13');\n",
              "var x = new MutationObserver(function (mutations, observer) {{\n",
              "        var display = window.getComputedStyle(gd).display;\n",
              "        if (!display || display === 'none') {{\n",
              "            console.log([gd, 'removed!']);\n",
              "            Plotly.purge(gd);\n",
              "            observer.disconnect();\n",
              "        }}\n",
              "}});\n",
              "\n",
              "// Listen for the removal of the full notebook cells\n",
              "var notebookContainer = gd.closest('#notebook-container');\n",
              "if (notebookContainer) {{\n",
              "    x.observe(notebookContainer, {childList: true});\n",
              "}}\n",
              "\n",
              "// Listen for the clearing of the current output cell\n",
              "var outputEl = gd.closest('.output');\n",
              "if (outputEl) {{\n",
              "    x.observe(outputEl, {childList: true});\n",
              "}}\n",
              "\n",
              "                        })\n",
              "                };\n",
              "                \n",
              "            </script>\n",
              "        </div>\n",
              "</body>\n",
              "</html>"
            ]
          },
          "metadata": {
            "tags": []
          }
        }
      ]
    },
    {
      "cell_type": "code",
      "metadata": {
        "id": "64Uem1Y5HCe6"
      },
      "source": [
        "figT.write_html(\"images/EE.html\")"
      ],
      "execution_count": 59,
      "outputs": []
    },
    {
      "cell_type": "code",
      "metadata": {
        "id": "gr6brv_yWtI7",
        "colab": {
          "base_uri": "https://localhost:8080/",
          "height": 420
        },
        "outputId": "7a293154-b127-48e5-b858-64b14d269b3b"
      },
      "source": [
        "calidadAceptable = new_X_val[new_X_val.Calidad == 'Aceptable'].sort_values(by = ['Costo'])\n",
        "calidadAceptable "
      ],
      "execution_count": 60,
      "outputs": [
        {
          "output_type": "execute_result",
          "data": {
            "text/html": [
              "<div>\n",
              "<style scoped>\n",
              "    .dataframe tbody tr th:only-of-type {\n",
              "        vertical-align: middle;\n",
              "    }\n",
              "\n",
              "    .dataframe tbody tr th {\n",
              "        vertical-align: top;\n",
              "    }\n",
              "\n",
              "    .dataframe thead th {\n",
              "        text-align: right;\n",
              "    }\n",
              "</style>\n",
              "<table border=\"1\" class=\"dataframe\">\n",
              "  <thead>\n",
              "    <tr style=\"text-align: right;\">\n",
              "      <th></th>\n",
              "      <th>Dureza</th>\n",
              "      <th>Tasa_Prod</th>\n",
              "      <th>Asp</th>\n",
              "      <th>EC</th>\n",
              "      <th>EE</th>\n",
              "      <th>Costo</th>\n",
              "      <th>Calidad</th>\n",
              "    </tr>\n",
              "    <tr>\n",
              "      <th>TIME</th>\n",
              "      <th></th>\n",
              "      <th></th>\n",
              "      <th></th>\n",
              "      <th></th>\n",
              "      <th></th>\n",
              "      <th></th>\n",
              "      <th></th>\n",
              "    </tr>\n",
              "  </thead>\n",
              "  <tbody>\n",
              "    <tr>\n",
              "      <th>19/11/2016 0:00</th>\n",
              "      <td>101.0</td>\n",
              "      <td>403</td>\n",
              "      <td>3.34</td>\n",
              "      <td>0.0</td>\n",
              "      <td>0.0</td>\n",
              "      <td>0.0000</td>\n",
              "      <td>Aceptable</td>\n",
              "    </tr>\n",
              "    <tr>\n",
              "      <th>19/03/2017 0:00</th>\n",
              "      <td>102.0</td>\n",
              "      <td>404</td>\n",
              "      <td>3.34</td>\n",
              "      <td>0.0</td>\n",
              "      <td>1.0</td>\n",
              "      <td>1.0000</td>\n",
              "      <td>Aceptable</td>\n",
              "    </tr>\n",
              "    <tr>\n",
              "      <th>10/04/2020 0:00</th>\n",
              "      <td>102.0</td>\n",
              "      <td>399</td>\n",
              "      <td>3.52</td>\n",
              "      <td>0.0</td>\n",
              "      <td>6.4</td>\n",
              "      <td>6.4000</td>\n",
              "      <td>Aceptable</td>\n",
              "    </tr>\n",
              "    <tr>\n",
              "      <th>08/04/2020 0:00</th>\n",
              "      <td>102.0</td>\n",
              "      <td>409</td>\n",
              "      <td>3.30</td>\n",
              "      <td>0.0</td>\n",
              "      <td>6.4</td>\n",
              "      <td>6.4000</td>\n",
              "      <td>Aceptable</td>\n",
              "    </tr>\n",
              "    <tr>\n",
              "      <th>13/04/2020 0:00</th>\n",
              "      <td>104.0</td>\n",
              "      <td>408</td>\n",
              "      <td>3.40</td>\n",
              "      <td>0.0</td>\n",
              "      <td>6.8</td>\n",
              "      <td>6.8000</td>\n",
              "      <td>Aceptable</td>\n",
              "    </tr>\n",
              "    <tr>\n",
              "      <th>...</th>\n",
              "      <td>...</td>\n",
              "      <td>...</td>\n",
              "      <td>...</td>\n",
              "      <td>...</td>\n",
              "      <td>...</td>\n",
              "      <td>...</td>\n",
              "      <td>...</td>\n",
              "    </tr>\n",
              "    <tr>\n",
              "      <th>18/08/1999 0:00</th>\n",
              "      <td>106.0</td>\n",
              "      <td>409</td>\n",
              "      <td>2.95</td>\n",
              "      <td>25.9</td>\n",
              "      <td>22.5</td>\n",
              "      <td>41.2516</td>\n",
              "      <td>Aceptable</td>\n",
              "    </tr>\n",
              "    <tr>\n",
              "      <th>13/06/2020 0:00</th>\n",
              "      <td>105.0</td>\n",
              "      <td>413</td>\n",
              "      <td>3.52</td>\n",
              "      <td>18.7</td>\n",
              "      <td>27.8</td>\n",
              "      <td>41.3388</td>\n",
              "      <td>Aceptable</td>\n",
              "    </tr>\n",
              "    <tr>\n",
              "      <th>13/11/1999 0:00</th>\n",
              "      <td>102.0</td>\n",
              "      <td>413</td>\n",
              "      <td>2.64</td>\n",
              "      <td>25.9</td>\n",
              "      <td>22.8</td>\n",
              "      <td>41.5516</td>\n",
              "      <td>Aceptable</td>\n",
              "    </tr>\n",
              "    <tr>\n",
              "      <th>20/08/2019 0:00</th>\n",
              "      <td>103.0</td>\n",
              "      <td>415</td>\n",
              "      <td>3.41</td>\n",
              "      <td>18.2</td>\n",
              "      <td>28.4</td>\n",
              "      <td>41.5768</td>\n",
              "      <td>Aceptable</td>\n",
              "    </tr>\n",
              "    <tr>\n",
              "      <th>09/04/2009 0:00</th>\n",
              "      <td>108.0</td>\n",
              "      <td>425</td>\n",
              "      <td>3.48</td>\n",
              "      <td>23.1</td>\n",
              "      <td>25.5</td>\n",
              "      <td>42.2244</td>\n",
              "      <td>Aceptable</td>\n",
              "    </tr>\n",
              "  </tbody>\n",
              "</table>\n",
              "<p>1277 rows × 7 columns</p>\n",
              "</div>"
            ],
            "text/plain": [
              "                 Dureza  Tasa_Prod   Asp    EC    EE    Costo    Calidad\n",
              "TIME                                                                    \n",
              "19/11/2016 0:00   101.0        403  3.34   0.0   0.0   0.0000  Aceptable\n",
              "19/03/2017 0:00   102.0        404  3.34   0.0   1.0   1.0000  Aceptable\n",
              "10/04/2020 0:00   102.0        399  3.52   0.0   6.4   6.4000  Aceptable\n",
              "08/04/2020 0:00   102.0        409  3.30   0.0   6.4   6.4000  Aceptable\n",
              "13/04/2020 0:00   104.0        408  3.40   0.0   6.8   6.8000  Aceptable\n",
              "...                 ...        ...   ...   ...   ...      ...        ...\n",
              "18/08/1999 0:00   106.0        409  2.95  25.9  22.5  41.2516  Aceptable\n",
              "13/06/2020 0:00   105.0        413  3.52  18.7  27.8  41.3388  Aceptable\n",
              "13/11/1999 0:00   102.0        413  2.64  25.9  22.8  41.5516  Aceptable\n",
              "20/08/2019 0:00   103.0        415  3.41  18.2  28.4  41.5768  Aceptable\n",
              "09/04/2009 0:00   108.0        425  3.48  23.1  25.5  42.2244  Aceptable\n",
              "\n",
              "[1277 rows x 7 columns]"
            ]
          },
          "metadata": {
            "tags": []
          },
          "execution_count": 60
        }
      ]
    },
    {
      "cell_type": "code",
      "metadata": {
        "id": "Pi3CQgT1Ds5C",
        "colab": {
          "base_uri": "https://localhost:8080/",
          "height": 191
        },
        "outputId": "8c7451a5-0d24-4672-b290-1d7fd76e8cb4"
      },
      "source": [
        "calidadRegular = new_X_val[new_X_val.Calidad == 'Regular'].sort_values(by = ['Costo'])\n",
        "calidadRegular"
      ],
      "execution_count": 61,
      "outputs": [
        {
          "output_type": "execute_result",
          "data": {
            "text/html": [
              "<div>\n",
              "<style scoped>\n",
              "    .dataframe tbody tr th:only-of-type {\n",
              "        vertical-align: middle;\n",
              "    }\n",
              "\n",
              "    .dataframe tbody tr th {\n",
              "        vertical-align: top;\n",
              "    }\n",
              "\n",
              "    .dataframe thead th {\n",
              "        text-align: right;\n",
              "    }\n",
              "</style>\n",
              "<table border=\"1\" class=\"dataframe\">\n",
              "  <thead>\n",
              "    <tr style=\"text-align: right;\">\n",
              "      <th></th>\n",
              "      <th>Dureza</th>\n",
              "      <th>Tasa_Prod</th>\n",
              "      <th>Asp</th>\n",
              "      <th>EC</th>\n",
              "      <th>EE</th>\n",
              "      <th>Costo</th>\n",
              "      <th>Calidad</th>\n",
              "    </tr>\n",
              "    <tr>\n",
              "      <th>TIME</th>\n",
              "      <th></th>\n",
              "      <th></th>\n",
              "      <th></th>\n",
              "      <th></th>\n",
              "      <th></th>\n",
              "      <th></th>\n",
              "      <th></th>\n",
              "    </tr>\n",
              "  </thead>\n",
              "  <tbody>\n",
              "    <tr>\n",
              "      <th>29/01/2016 0:00</th>\n",
              "      <td>110.0</td>\n",
              "      <td>375</td>\n",
              "      <td>3.16</td>\n",
              "      <td>15.1</td>\n",
              "      <td>25.2</td>\n",
              "      <td>36.1324</td>\n",
              "      <td>Regular</td>\n",
              "    </tr>\n",
              "    <tr>\n",
              "      <th>12/05/2016 0:00</th>\n",
              "      <td>110.0</td>\n",
              "      <td>397</td>\n",
              "      <td>3.44</td>\n",
              "      <td>20.9</td>\n",
              "      <td>21.6</td>\n",
              "      <td>36.7316</td>\n",
              "      <td>Regular</td>\n",
              "    </tr>\n",
              "    <tr>\n",
              "      <th>07/05/2014 0:00</th>\n",
              "      <td>111.0</td>\n",
              "      <td>390</td>\n",
              "      <td>3.34</td>\n",
              "      <td>20.0</td>\n",
              "      <td>23.1</td>\n",
              "      <td>37.5800</td>\n",
              "      <td>Regular</td>\n",
              "    </tr>\n",
              "    <tr>\n",
              "      <th>01/05/2016 0:00</th>\n",
              "      <td>110.0</td>\n",
              "      <td>400</td>\n",
              "      <td>3.42</td>\n",
              "      <td>15.4</td>\n",
              "      <td>28.5</td>\n",
              "      <td>39.6496</td>\n",
              "      <td>Regular</td>\n",
              "    </tr>\n",
              "  </tbody>\n",
              "</table>\n",
              "</div>"
            ],
            "text/plain": [
              "                 Dureza  Tasa_Prod   Asp    EC    EE    Costo  Calidad\n",
              "TIME                                                                  \n",
              "29/01/2016 0:00   110.0        375  3.16  15.1  25.2  36.1324  Regular\n",
              "12/05/2016 0:00   110.0        397  3.44  20.9  21.6  36.7316  Regular\n",
              "07/05/2014 0:00   111.0        390  3.34  20.0  23.1  37.5800  Regular\n",
              "01/05/2016 0:00   110.0        400  3.42  15.4  28.5  39.6496  Regular"
            ]
          },
          "metadata": {
            "tags": []
          },
          "execution_count": 61
        }
      ]
    },
    {
      "cell_type": "code",
      "metadata": {
        "id": "TsdMqqBLXHKx",
        "colab": {
          "base_uri": "https://localhost:8080/",
          "height": 162
        },
        "outputId": "24ba2f18-71d1-4ef1-ae8b-575bcc9c7139"
      },
      "source": [
        "calidadBueno = new_X_val[new_X_val.Calidad == 'Bueno'].sort_values(by = ['Costo'])\n",
        "calidadBueno"
      ],
      "execution_count": 62,
      "outputs": [
        {
          "output_type": "execute_result",
          "data": {
            "text/html": [
              "<div>\n",
              "<style scoped>\n",
              "    .dataframe tbody tr th:only-of-type {\n",
              "        vertical-align: middle;\n",
              "    }\n",
              "\n",
              "    .dataframe tbody tr th {\n",
              "        vertical-align: top;\n",
              "    }\n",
              "\n",
              "    .dataframe thead th {\n",
              "        text-align: right;\n",
              "    }\n",
              "</style>\n",
              "<table border=\"1\" class=\"dataframe\">\n",
              "  <thead>\n",
              "    <tr style=\"text-align: right;\">\n",
              "      <th></th>\n",
              "      <th>Dureza</th>\n",
              "      <th>Tasa_Prod</th>\n",
              "      <th>Asp</th>\n",
              "      <th>EC</th>\n",
              "      <th>EE</th>\n",
              "      <th>Costo</th>\n",
              "      <th>Calidad</th>\n",
              "    </tr>\n",
              "    <tr>\n",
              "      <th>TIME</th>\n",
              "      <th></th>\n",
              "      <th></th>\n",
              "      <th></th>\n",
              "      <th></th>\n",
              "      <th></th>\n",
              "      <th></th>\n",
              "      <th></th>\n",
              "    </tr>\n",
              "  </thead>\n",
              "  <tbody>\n",
              "    <tr>\n",
              "      <th>19/11/2014 0:00</th>\n",
              "      <td>99.0</td>\n",
              "      <td>391</td>\n",
              "      <td>3.52</td>\n",
              "      <td>1.9</td>\n",
              "      <td>29.8</td>\n",
              "      <td>31.1756</td>\n",
              "      <td>Bueno</td>\n",
              "    </tr>\n",
              "    <tr>\n",
              "      <th>25/07/1998 0:00</th>\n",
              "      <td>106.0</td>\n",
              "      <td>424</td>\n",
              "      <td>3.40</td>\n",
              "      <td>33.3</td>\n",
              "      <td>10.1</td>\n",
              "      <td>34.2092</td>\n",
              "      <td>Bueno</td>\n",
              "    </tr>\n",
              "    <tr>\n",
              "      <th>27/11/1998 0:00</th>\n",
              "      <td>107.0</td>\n",
              "      <td>419</td>\n",
              "      <td>3.44</td>\n",
              "      <td>33.6</td>\n",
              "      <td>10.0</td>\n",
              "      <td>34.3264</td>\n",
              "      <td>Bueno</td>\n",
              "    </tr>\n",
              "  </tbody>\n",
              "</table>\n",
              "</div>"
            ],
            "text/plain": [
              "                 Dureza  Tasa_Prod   Asp    EC    EE    Costo Calidad\n",
              "TIME                                                                 \n",
              "19/11/2014 0:00    99.0        391  3.52   1.9  29.8  31.1756   Bueno\n",
              "25/07/1998 0:00   106.0        424  3.40  33.3  10.1  34.2092   Bueno\n",
              "27/11/1998 0:00   107.0        419  3.44  33.6  10.0  34.3264   Bueno"
            ]
          },
          "metadata": {
            "tags": []
          },
          "execution_count": 62
        }
      ]
    },
    {
      "cell_type": "code",
      "metadata": {
        "id": "NNwdJAPbYtsM",
        "colab": {
          "base_uri": "https://localhost:8080/",
          "height": 220
        },
        "outputId": "42ece6c4-008d-466a-85c1-50557e2eba23"
      },
      "source": [
        "calidadExcelente = new_X_val[new_X_val.Calidad == 'Excelente'].sort_values(by = ['Costo'])\n",
        "calidadExcelente"
      ],
      "execution_count": 63,
      "outputs": [
        {
          "output_type": "execute_result",
          "data": {
            "text/html": [
              "<div>\n",
              "<style scoped>\n",
              "    .dataframe tbody tr th:only-of-type {\n",
              "        vertical-align: middle;\n",
              "    }\n",
              "\n",
              "    .dataframe tbody tr th {\n",
              "        vertical-align: top;\n",
              "    }\n",
              "\n",
              "    .dataframe thead th {\n",
              "        text-align: right;\n",
              "    }\n",
              "</style>\n",
              "<table border=\"1\" class=\"dataframe\">\n",
              "  <thead>\n",
              "    <tr style=\"text-align: right;\">\n",
              "      <th></th>\n",
              "      <th>Dureza</th>\n",
              "      <th>Tasa_Prod</th>\n",
              "      <th>Asp</th>\n",
              "      <th>EC</th>\n",
              "      <th>EE</th>\n",
              "      <th>Costo</th>\n",
              "      <th>Calidad</th>\n",
              "    </tr>\n",
              "    <tr>\n",
              "      <th>TIME</th>\n",
              "      <th></th>\n",
              "      <th></th>\n",
              "      <th></th>\n",
              "      <th></th>\n",
              "      <th></th>\n",
              "      <th></th>\n",
              "      <th></th>\n",
              "    </tr>\n",
              "  </thead>\n",
              "  <tbody>\n",
              "    <tr>\n",
              "      <th>17/03/1999 0:00</th>\n",
              "      <td>106.0</td>\n",
              "      <td>386</td>\n",
              "      <td>2.92</td>\n",
              "      <td>33.6</td>\n",
              "      <td>0.1</td>\n",
              "      <td>24.4264</td>\n",
              "      <td>Excelente</td>\n",
              "    </tr>\n",
              "    <tr>\n",
              "      <th>18/11/2014 0:00</th>\n",
              "      <td>98.0</td>\n",
              "      <td>396</td>\n",
              "      <td>3.52</td>\n",
              "      <td>1.8</td>\n",
              "      <td>29.8</td>\n",
              "      <td>31.1032</td>\n",
              "      <td>Excelente</td>\n",
              "    </tr>\n",
              "    <tr>\n",
              "      <th>17/11/2014 0:00</th>\n",
              "      <td>95.0</td>\n",
              "      <td>396</td>\n",
              "      <td>3.52</td>\n",
              "      <td>1.9</td>\n",
              "      <td>30.2</td>\n",
              "      <td>31.5756</td>\n",
              "      <td>Excelente</td>\n",
              "    </tr>\n",
              "    <tr>\n",
              "      <th>21/11/2014 0:00</th>\n",
              "      <td>97.0</td>\n",
              "      <td>396</td>\n",
              "      <td>3.52</td>\n",
              "      <td>1.9</td>\n",
              "      <td>30.2</td>\n",
              "      <td>31.5756</td>\n",
              "      <td>Excelente</td>\n",
              "    </tr>\n",
              "    <tr>\n",
              "      <th>23/11/2014 0:00</th>\n",
              "      <td>97.0</td>\n",
              "      <td>396</td>\n",
              "      <td>3.52</td>\n",
              "      <td>2.0</td>\n",
              "      <td>30.2</td>\n",
              "      <td>31.6480</td>\n",
              "      <td>Excelente</td>\n",
              "    </tr>\n",
              "  </tbody>\n",
              "</table>\n",
              "</div>"
            ],
            "text/plain": [
              "                 Dureza  Tasa_Prod   Asp    EC    EE    Costo    Calidad\n",
              "TIME                                                                    \n",
              "17/03/1999 0:00   106.0        386  2.92  33.6   0.1  24.4264  Excelente\n",
              "18/11/2014 0:00    98.0        396  3.52   1.8  29.8  31.1032  Excelente\n",
              "17/11/2014 0:00    95.0        396  3.52   1.9  30.2  31.5756  Excelente\n",
              "21/11/2014 0:00    97.0        396  3.52   1.9  30.2  31.5756  Excelente\n",
              "23/11/2014 0:00    97.0        396  3.52   2.0  30.2  31.6480  Excelente"
            ]
          },
          "metadata": {
            "tags": []
          },
          "execution_count": 63
        }
      ]
    },
    {
      "cell_type": "markdown",
      "metadata": {
        "id": "3VpBgciCFmQ4"
      },
      "source": [
        "# Página web"
      ]
    },
    {
      "cell_type": "code",
      "metadata": {
        "id": "K82xdtaHFoHz"
      },
      "source": [
        "import pickle  \n",
        "filename = 'classifier.pkl'  \n",
        "outfile = open(filename, 'wb') \n",
        "\n",
        "#Guardar datos\n",
        "pickle.dump(fits[0], outfile, 2)\n",
        "\n",
        "outfile.close()"
      ],
      "execution_count": 64,
      "outputs": []
    },
    {
      "cell_type": "code",
      "metadata": {
        "id": "SRV7ML1PFuOO",
        "colab": {
          "base_uri": "https://localhost:8080/"
        },
        "outputId": "7121c17c-2a6e-4a1c-ebdc-ed4a078b54d2"
      },
      "source": [
        "r = fits[0].predict(([[106, 383, 2.94, 33, 0]]))\n",
        "r"
      ],
      "execution_count": 65,
      "outputs": [
        {
          "output_type": "execute_result",
          "data": {
            "text/plain": [
              "array(['Excelente'], dtype=object)"
            ]
          },
          "metadata": {
            "tags": []
          },
          "execution_count": 65
        }
      ]
    }
  ]
}